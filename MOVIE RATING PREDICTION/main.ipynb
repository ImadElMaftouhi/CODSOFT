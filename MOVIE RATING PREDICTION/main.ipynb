{
 "cells": [
  {
   "cell_type": "markdown",
   "id": "e37c531b-4846-424d-a128-09c668e80f27",
   "metadata": {},
   "source": [
    "<h1 style = \"text-align: center; font-size: 48px;\">MOVIE RATING PREDICTION WITH PYTHON<h1>"
   ]
  },
  {
   "cell_type": "markdown",
   "id": "d80259e0-9b65-4ef0-8a11-6efdb920677b",
   "metadata": {},
   "source": [
    "<h2>Introduction</h2>"
   ]
  },
  {
   "cell_type": "markdown",
   "id": "ae49b08e-cbb6-4278-82ea-48390817be22",
   "metadata": {},
   "source": [
    "<p>\n",
    "Movies are without a doubt, an essential part of the modern age. Each Movie has a story to tell, an idea to share, or a case to defend.\n",
    "This dataset is pulled from IMDb.com of all the Indian movies on the platform. <br>\n",
    "Our task today will be to clean this data by different method, and to provide some usefull insight into how to the dataset is partitioned, accompagned by studying the relationship between different Features.\n",
    "All of this will be assembled into what we call, A Data Preprocessing Pipeline. More on that later on.\n",
    "</p>"
   ]
  },
  {
   "cell_type": "markdown",
   "id": "fc0b10f4-1fbe-45b0-af58-a1fd50c2bfe0",
   "metadata": {},
   "source": [
    "<h2>Page Index</h2>\n",
    "<ol>\n",
    "    <li>Data collection</li>\n",
    "    <li>Data visualization</li>\n",
    "    <li>Data processing</li>\n",
    "    <li>Model initialisation</li>\n",
    "    <li>Valuation and optimization of the prediciton module</li>\n",
    "</ol>"
   ]
  },
  {
   "cell_type": "markdown",
   "id": "f3156808-87e8-49ec-9bf6-82c92f6c40df",
   "metadata": {},
   "source": [
    "<h2>Data Collection</h2>"
   ]
  },
  {
   "cell_type": "markdown",
   "id": "bb663435-2a1d-49b0-8c95-24b3449816a2",
   "metadata": {},
   "source": [
    "<h3>Source</h3>"
   ]
  },
  {
   "cell_type": "markdown",
   "id": "5021da09-db18-430a-853f-5df4c6dd13ac",
   "metadata": {},
   "source": [
    "The data has been collected from the famous website <i>Kaggle</i> which contains many usefull data set and informations.<br>\n",
    "Link : <a href=\"https://www.kaggle.com/datasets/adrianmcmahon/imdb-india-movies\">IMDb India Movies</a>"
   ]
  },
  {
   "cell_type": "markdown",
   "id": "c016f172-5021-4938-8564-876e003d18ea",
   "metadata": {},
   "source": [
    "<h3>Libraries</h3>"
   ]
  },
  {
   "cell_type": "code",
   "execution_count": 1,
   "id": "406b0d4e-5b90-4c6e-95fc-f4f74d7c21b0",
   "metadata": {
    "tags": []
   },
   "outputs": [],
   "source": [
    "import pandas as pd\n",
    "import seaborn as sns\n",
    "import numpy as np\n",
    "import matplotlib.pyplot as plt\n",
    "import sklearn as skl"
   ]
  },
  {
   "cell_type": "code",
   "execution_count": 2,
   "id": "a915011d-0d2d-4a83-99b5-d702014ade58",
   "metadata": {
    "tags": []
   },
   "outputs": [
    {
     "name": "stdout",
     "output_type": "stream",
     "text": [
      "Pandas version is :  2.0.3\n",
      "NumPy version is :  1.24.3\n",
      "Seaborn version is :  0.12.2\n",
      "matplotlib version is :  3.7.2\n",
      "sklearn version is :  1.3.0\n"
     ]
    }
   ],
   "source": [
    "print('Pandas version is : ', pd.__version__)\n",
    "print('NumPy version is : ', np.__version__)\n",
    "print('Seaborn version is : ', sns.__version__)\n",
    "print('matplotlib version is : ', plt.matplotlib.__version__)\n",
    "print('sklearn version is : ', skl.__version__)\n"
   ]
  },
  {
   "cell_type": "markdown",
   "id": "a1fa4010-2a69-4e6c-964a-a6d662bbb2c3",
   "metadata": {},
   "source": [
    "<h3>Importing the dataset</h3>"
   ]
  },
  {
   "cell_type": "code",
   "execution_count": 3,
   "id": "b9b8503d-60da-450a-a184-89ba360f7ae5",
   "metadata": {
    "tags": []
   },
   "outputs": [],
   "source": [
    "df = pd.read_csv('IMDb Movies India.csv')"
   ]
  },
  {
   "cell_type": "code",
   "execution_count": 4,
   "id": "412184c1-fb4a-41d8-b55c-492ecf583970",
   "metadata": {},
   "outputs": [
    {
     "data": {
      "text/html": [
       "<div>\n",
       "<style scoped>\n",
       "    .dataframe tbody tr th:only-of-type {\n",
       "        vertical-align: middle;\n",
       "    }\n",
       "\n",
       "    .dataframe tbody tr th {\n",
       "        vertical-align: top;\n",
       "    }\n",
       "\n",
       "    .dataframe thead th {\n",
       "        text-align: right;\n",
       "    }\n",
       "</style>\n",
       "<table border=\"1\" class=\"dataframe\">\n",
       "  <thead>\n",
       "    <tr style=\"text-align: right;\">\n",
       "      <th></th>\n",
       "      <th>Name</th>\n",
       "      <th>Year</th>\n",
       "      <th>Duration</th>\n",
       "      <th>Genre</th>\n",
       "      <th>Rating</th>\n",
       "      <th>Votes</th>\n",
       "      <th>Director</th>\n",
       "      <th>Actor 1</th>\n",
       "      <th>Actor 2</th>\n",
       "      <th>Actor 3</th>\n",
       "    </tr>\n",
       "  </thead>\n",
       "  <tbody>\n",
       "    <tr>\n",
       "      <th>0</th>\n",
       "      <td></td>\n",
       "      <td>NaN</td>\n",
       "      <td>NaN</td>\n",
       "      <td>Drama</td>\n",
       "      <td>NaN</td>\n",
       "      <td>NaN</td>\n",
       "      <td>J.S. Randhawa</td>\n",
       "      <td>Manmauji</td>\n",
       "      <td>Birbal</td>\n",
       "      <td>Rajendra Bhatia</td>\n",
       "    </tr>\n",
       "    <tr>\n",
       "      <th>1</th>\n",
       "      <td>#Gadhvi (He thought he was Gandhi)</td>\n",
       "      <td>(2019)</td>\n",
       "      <td>109 min</td>\n",
       "      <td>Drama</td>\n",
       "      <td>7.0</td>\n",
       "      <td>8</td>\n",
       "      <td>Gaurav Bakshi</td>\n",
       "      <td>Rasika Dugal</td>\n",
       "      <td>Vivek Ghamande</td>\n",
       "      <td>Arvind Jangid</td>\n",
       "    </tr>\n",
       "    <tr>\n",
       "      <th>2</th>\n",
       "      <td>#Homecoming</td>\n",
       "      <td>(2021)</td>\n",
       "      <td>90 min</td>\n",
       "      <td>Drama, Musical</td>\n",
       "      <td>NaN</td>\n",
       "      <td>NaN</td>\n",
       "      <td>Soumyajit Majumdar</td>\n",
       "      <td>Sayani Gupta</td>\n",
       "      <td>Plabita Borthakur</td>\n",
       "      <td>Roy Angana</td>\n",
       "    </tr>\n",
       "    <tr>\n",
       "      <th>3</th>\n",
       "      <td>#Yaaram</td>\n",
       "      <td>(2019)</td>\n",
       "      <td>110 min</td>\n",
       "      <td>Comedy, Romance</td>\n",
       "      <td>4.4</td>\n",
       "      <td>35</td>\n",
       "      <td>Ovais Khan</td>\n",
       "      <td>Prateik</td>\n",
       "      <td>Ishita Raj</td>\n",
       "      <td>Siddhant Kapoor</td>\n",
       "    </tr>\n",
       "    <tr>\n",
       "      <th>4</th>\n",
       "      <td>...And Once Again</td>\n",
       "      <td>(2010)</td>\n",
       "      <td>105 min</td>\n",
       "      <td>Drama</td>\n",
       "      <td>NaN</td>\n",
       "      <td>NaN</td>\n",
       "      <td>Amol Palekar</td>\n",
       "      <td>Rajat Kapoor</td>\n",
       "      <td>Rituparna Sengupta</td>\n",
       "      <td>Antara Mali</td>\n",
       "    </tr>\n",
       "  </tbody>\n",
       "</table>\n",
       "</div>"
      ],
      "text/plain": [
       "                                 Name    Year Duration            Genre  \\\n",
       "0                                         NaN      NaN            Drama   \n",
       "1  #Gadhvi (He thought he was Gandhi)  (2019)  109 min            Drama   \n",
       "2                         #Homecoming  (2021)   90 min   Drama, Musical   \n",
       "3                             #Yaaram  (2019)  110 min  Comedy, Romance   \n",
       "4                   ...And Once Again  (2010)  105 min            Drama   \n",
       "\n",
       "   Rating Votes            Director       Actor 1             Actor 2  \\\n",
       "0     NaN   NaN       J.S. Randhawa      Manmauji              Birbal   \n",
       "1     7.0     8       Gaurav Bakshi  Rasika Dugal      Vivek Ghamande   \n",
       "2     NaN   NaN  Soumyajit Majumdar  Sayani Gupta   Plabita Borthakur   \n",
       "3     4.4    35          Ovais Khan       Prateik          Ishita Raj   \n",
       "4     NaN   NaN        Amol Palekar  Rajat Kapoor  Rituparna Sengupta   \n",
       "\n",
       "           Actor 3  \n",
       "0  Rajendra Bhatia  \n",
       "1    Arvind Jangid  \n",
       "2       Roy Angana  \n",
       "3  Siddhant Kapoor  \n",
       "4      Antara Mali  "
      ]
     },
     "execution_count": 4,
     "metadata": {},
     "output_type": "execute_result"
    }
   ],
   "source": [
    "df.head()"
   ]
  },
  {
   "cell_type": "markdown",
   "id": "055c4553-9746-4085-b8f0-adf847023352",
   "metadata": {},
   "source": [
    "<h3>Understanding the dataset</h3>"
   ]
  },
  {
   "cell_type": "code",
   "execution_count": 5,
   "id": "b680e183-1d04-4f30-a32b-bdd3a5c855e7",
   "metadata": {
    "tags": []
   },
   "outputs": [
    {
     "name": "stdout",
     "output_type": "stream",
     "text": [
      "<class 'pandas.core.frame.DataFrame'>\n",
      "RangeIndex: 15509 entries, 0 to 15508\n",
      "Data columns (total 10 columns):\n",
      " #   Column    Non-Null Count  Dtype  \n",
      "---  ------    --------------  -----  \n",
      " 0   Name      15509 non-null  object \n",
      " 1   Year      14981 non-null  object \n",
      " 2   Duration  7240 non-null   object \n",
      " 3   Genre     13632 non-null  object \n",
      " 4   Rating    7919 non-null   float64\n",
      " 5   Votes     7920 non-null   object \n",
      " 6   Director  14984 non-null  object \n",
      " 7   Actor 1   13892 non-null  object \n",
      " 8   Actor 2   13125 non-null  object \n",
      " 9   Actor 3   12365 non-null  object \n",
      "dtypes: float64(1), object(9)\n",
      "memory usage: 1.2+ MB\n"
     ]
    }
   ],
   "source": [
    "df.info()"
   ]
  },
  {
   "cell_type": "markdown",
   "id": "c20f1097-aaa4-4c54-990c-5d75647233d2",
   "metadata": {},
   "source": [
    "<h3>Data description</h3>"
   ]
  },
  {
   "cell_type": "markdown",
   "id": "8d538626-d2c9-4190-94ab-f291c04e33c9",
   "metadata": {},
   "source": [
    "<div style=\"width: 90%;margin:auto; background-color: #fff; padding: 20px; border-radius: 8px; box-shadow: 0 0 5px rgba(0, 0, 0, 0.1);\">\n",
    "    <h1 style=\"text-align: center; color: #333;\">Movie Rating Dataset Description</h1>\n",
    "    <p>In our dataset, we observe the following:</p>\n",
    "    <ol>\n",
    "        <li>There are a total of <span style=\"font-weight: bold; color: #555;\">15,509</span> entries/rows.</li>\n",
    "        <li>Each movie entry includes <span style=\"font-weight: bold; color: #555;\">10</span> different features:</li>\n",
    "    </ol>\n",
    "    <ul>\n",
    "        <li><span style=\"font-weight: bold; color: #555;\">Name</span>: The title of the movie (string value).</li>\n",
    "        <li><span style=\"font-weight: bold; color: #555;\">Year</span>: The year in which the movie was released (integer).</li>\n",
    "        <li><span style=\"font-weight: bold; color: #555;\">Duration</span>: The length of the movie in minutes (float).</li>\n",
    "        <li><span style=\"font-weight: bold; color: #555;\">Genre</span>: The genre of the movie (string).</li>\n",
    "        <li><span style=\"font-weight: bold; color: #555;\">Rating</span>: A rating on a scale from 0 to 10, indicating viewer satisfaction (float).</li>\n",
    "        <li><span style=\"font-weight: bold; color: #555;\">Votes</span>: The number of people who have rated the movie.</li>\n",
    "        <li><span style=\"font-weight: bold; color: #555;\">Director</span>: The director of the movie.</li>\n",
    "        <li><span style=\"font-weight: bold; color: #555;\">Actor 1</span>: The main actor of the movie.</li>\n",
    "        <li><span style=\"font-weight: bold; color: #555;\">Actor 2</span>: The second main actor of the movie.</li>\n",
    "        <li><span style=\"font-weight: bold; color: #555;\">Actor 3</span>: The third main actor of the movie.</li>\n",
    "    </ul>\n",
    "</div>\n"
   ]
  },
  {
   "cell_type": "markdown",
   "id": "b1f4162f-ce30-4d1c-a151-3636b0d756de",
   "metadata": {},
   "source": [
    "<h3>Data Preprocessing</h3>"
   ]
  },
  {
   "cell_type": "markdown",
   "id": "e98343a3-8c8d-4cee-85a3-8e3eccedd8ac",
   "metadata": {},
   "source": [
    "<p>\n",
    "One of the most common way to handle any dataset in order to feed it to a prediction model or any sort of models, is to build what we call a 'Data Pipeline'.<br>\n",
    "This will guide us into building a much cleaner and more presentable study case, and to ensure our models are as efficient and noise free as possible. <br>\n",
    "    First, let's analyse in depth our dataset:\n",
    "</p>"
   ]
  },
  {
   "cell_type": "code",
   "execution_count": 6,
   "id": "a988b3ae-1c61-4773-bbff-2b8e051b26be",
   "metadata": {
    "tags": []
   },
   "outputs": [
    {
     "data": {
      "text/plain": [
       "Name           0\n",
       "Year         528\n",
       "Duration    8269\n",
       "Genre       1877\n",
       "Rating      7590\n",
       "Votes       7589\n",
       "Director     525\n",
       "Actor 1     1617\n",
       "Actor 2     2384\n",
       "Actor 3     3144\n",
       "dtype: int64"
      ]
     },
     "execution_count": 6,
     "metadata": {},
     "output_type": "execute_result"
    }
   ],
   "source": [
    "df.isna().sum()"
   ]
  },
  {
   "cell_type": "markdown",
   "id": "4a585520-91ed-4abe-b5fe-6e8cb55f02bd",
   "metadata": {},
   "source": [
    "Here we notice some intresting stuffs:<br>\n",
    "    + 528 movies don't have their year of publishement.<br>\n",
    "    + We are missing the duration for 8269 movies!.<br>\n",
    "    + 1877 Movies are missing their genre.<br>\n",
    "        .<br>\n",
    "        .<br>\n",
    "        .<br>\n",
    "    <br>"
   ]
  },
  {
   "cell_type": "markdown",
   "id": "d72d6591-059c-4e09-b573-8d194cc342a2",
   "metadata": {},
   "source": [
    "We also notice that the Feature 'Genre' contains entries which consist of multiple genre, it's better to decompose each indivduals Genre into a Feature and reporesent the abscence of existance of a Genre by binary data: 1 for yes and 0 for no."
   ]
  },
  {
   "cell_type": "markdown",
   "id": "f05325c2-dd93-4bc4-9b43-604a04b25848",
   "metadata": {},
   "source": [
    "## Genres list"
   ]
  },
  {
   "cell_type": "code",
   "execution_count": 7,
   "id": "168c1c8f-cb33-4a5b-87e0-84ebe1a25d2a",
   "metadata": {
    "tags": []
   },
   "outputs": [
    {
     "name": "stdout",
     "output_type": "stream",
     "text": [
      "{' Romance', 'Animation', ' Crime', 'War', ' Sport', 'Mystery', 'Reality-TV', ' Action', 'Comedy', ' Music', 'Fantasy', 'Romance', 'Music', ' Biography', ' News', 'Thriller', 'Horror', 'Biography', 'Action', 'History', ' Reality-TV', 'Drama', ' Musical', ' Horror', ' Adventure', ' War', ' Mystery', 'Sci-Fi', 'Sport', ' Family', 'Adventure', ' Sci-Fi', 'Documentary', ' Western', ' Comedy', ' Short', 'Musical', 'Family', 'Crime', ' Fantasy', ' History', ' Drama', ' Thriller'}\n"
     ]
    }
   ],
   "source": [
    "df_genre = df.copy()\n",
    "df_genre.dropna(subset = 'Genre', axis = 0, inplace = True)\n",
    "genres = []\n",
    "genres = set(genre for genre_list in df_genre['Genre'].str.split(',') for genre in genre_list)\n",
    "print(genres)"
   ]
  },
  {
   "cell_type": "markdown",
   "id": "1d82acce-ffcf-45fc-aae8-0be1d769464b",
   "metadata": {
    "tags": []
   },
   "source": [
    "## Pipeline "
   ]
  },
  {
   "cell_type": "code",
   "execution_count": 8,
   "id": "bb10f556-49bf-47c1-a913-27acae0659d9",
   "metadata": {
    "tags": []
   },
   "outputs": [],
   "source": [
    "def imputate(dataset):\n",
    "    '''Since we are looking to predict the rating of a movie, it's better to keep only rows with valid 'Rating' entries\n",
    "    instead of just filling in with some variable.\n",
    "    For the genre, we'll keep only the main genre of the film, suppossing that the first one in order is the main one.\n",
    "    '''\n",
    "    \n",
    "    dataset.dropna(subset= ['Rating', 'Votes'], axis = 0, inplace = True)\n",
    "\n",
    "    dataset.dropna(subset = 'Year', axis = 0 , inplace = True)\n",
    "\n",
    "    df['Genre'] = df['Genre'].str.split(',', expand=True)[0]\n",
    "    return dataset\n",
    "\n",
    "\n",
    "def format_dataset(dataset):\n",
    "    # Remove parentheses from the 'Year' column and convert to integer\n",
    "    dataset['Year'] = dataset['Year'].str.strip('()').astype(int)\n",
    "    dataset['Duration'] = dataset['Duration'].str.rstrip(' min').astype(float)\n",
    "    dataset['Rating'] = dataset['Rating'].astype(float)\n",
    "    dataset['Votes'] = dataset['Votes'].astype(float)\n",
    "    dataset['Name'] = dataset['Name'].str.extract('([A-Za-z\\s\\'\\-]+)')\n",
    "    return dataset\n",
    "\n",
    "\n",
    "\n",
    "def preprocessing(dataset):\n",
    "    \n",
    "    imputate(dataset)\n",
    "    format_dataset(dataset)\n",
    "    \n",
    "    X = dataset.drop('Rating', axis = 1)\n",
    "    Y = dataset['Rating']\n",
    "    return X, Y\n"
   ]
  },
  {
   "cell_type": "code",
   "execution_count": 9,
   "id": "515f2a99-7e80-4996-a6a7-c0a73809ce23",
   "metadata": {},
   "outputs": [
    {
     "data": {
      "text/html": [
       "<div>\n",
       "<style scoped>\n",
       "    .dataframe tbody tr th:only-of-type {\n",
       "        vertical-align: middle;\n",
       "    }\n",
       "\n",
       "    .dataframe tbody tr th {\n",
       "        vertical-align: top;\n",
       "    }\n",
       "\n",
       "    .dataframe thead th {\n",
       "        text-align: right;\n",
       "    }\n",
       "</style>\n",
       "<table border=\"1\" class=\"dataframe\">\n",
       "  <thead>\n",
       "    <tr style=\"text-align: right;\">\n",
       "      <th></th>\n",
       "      <th>Name</th>\n",
       "      <th>Year</th>\n",
       "      <th>Duration</th>\n",
       "      <th>Genre</th>\n",
       "      <th>Rating</th>\n",
       "      <th>Votes</th>\n",
       "      <th>Director</th>\n",
       "      <th>Actor 1</th>\n",
       "      <th>Actor 2</th>\n",
       "      <th>Actor 3</th>\n",
       "    </tr>\n",
       "  </thead>\n",
       "  <tbody>\n",
       "    <tr>\n",
       "      <th>1</th>\n",
       "      <td>Gadhvi</td>\n",
       "      <td>2019</td>\n",
       "      <td>109.0</td>\n",
       "      <td>Drama</td>\n",
       "      <td>7.0</td>\n",
       "      <td>8.0</td>\n",
       "      <td>Gaurav Bakshi</td>\n",
       "      <td>Rasika Dugal</td>\n",
       "      <td>Vivek Ghamande</td>\n",
       "      <td>Arvind Jangid</td>\n",
       "    </tr>\n",
       "    <tr>\n",
       "      <th>3</th>\n",
       "      <td>Yaaram</td>\n",
       "      <td>2019</td>\n",
       "      <td>110.0</td>\n",
       "      <td>Comedy</td>\n",
       "      <td>4.4</td>\n",
       "      <td>35.0</td>\n",
       "      <td>Ovais Khan</td>\n",
       "      <td>Prateik</td>\n",
       "      <td>Ishita Raj</td>\n",
       "      <td>Siddhant Kapoor</td>\n",
       "    </tr>\n",
       "    <tr>\n",
       "      <th>5</th>\n",
       "      <td>Aur Pyaar Ho Gaya</td>\n",
       "      <td>1997</td>\n",
       "      <td>147.0</td>\n",
       "      <td>Comedy</td>\n",
       "      <td>4.7</td>\n",
       "      <td>827.0</td>\n",
       "      <td>Rahul Rawail</td>\n",
       "      <td>Bobby Deol</td>\n",
       "      <td>Aishwarya Rai Bachchan</td>\n",
       "      <td>Shammi Kapoor</td>\n",
       "    </tr>\n",
       "    <tr>\n",
       "      <th>6</th>\n",
       "      <td>Yahaan</td>\n",
       "      <td>2005</td>\n",
       "      <td>142.0</td>\n",
       "      <td>Drama</td>\n",
       "      <td>7.4</td>\n",
       "      <td>1086.0</td>\n",
       "      <td>Shoojit Sircar</td>\n",
       "      <td>Jimmy Sheirgill</td>\n",
       "      <td>Minissha Lamba</td>\n",
       "      <td>Yashpal Sharma</td>\n",
       "    </tr>\n",
       "    <tr>\n",
       "      <th>8</th>\n",
       "      <td>A Question Mark</td>\n",
       "      <td>2012</td>\n",
       "      <td>82.0</td>\n",
       "      <td>Horror</td>\n",
       "      <td>5.6</td>\n",
       "      <td>326.0</td>\n",
       "      <td>Allyson Patel</td>\n",
       "      <td>Yash Dave</td>\n",
       "      <td>Muntazir Ahmad</td>\n",
       "      <td>Kiran Bhatia</td>\n",
       "    </tr>\n",
       "    <tr>\n",
       "      <th>...</th>\n",
       "      <td>...</td>\n",
       "      <td>...</td>\n",
       "      <td>...</td>\n",
       "      <td>...</td>\n",
       "      <td>...</td>\n",
       "      <td>...</td>\n",
       "      <td>...</td>\n",
       "      <td>...</td>\n",
       "      <td>...</td>\n",
       "      <td>...</td>\n",
       "    </tr>\n",
       "    <tr>\n",
       "      <th>15501</th>\n",
       "      <td>Zulm Ki Hukumat</td>\n",
       "      <td>1992</td>\n",
       "      <td>NaN</td>\n",
       "      <td>Action</td>\n",
       "      <td>5.3</td>\n",
       "      <td>135.0</td>\n",
       "      <td>Bharat Rangachary</td>\n",
       "      <td>Dharmendra</td>\n",
       "      <td>Moushumi Chatterjee</td>\n",
       "      <td>Govinda</td>\n",
       "    </tr>\n",
       "    <tr>\n",
       "      <th>15503</th>\n",
       "      <td>Zulm Ki Zanjeer</td>\n",
       "      <td>1989</td>\n",
       "      <td>125.0</td>\n",
       "      <td>Action</td>\n",
       "      <td>5.8</td>\n",
       "      <td>44.0</td>\n",
       "      <td>S.P. Muthuraman</td>\n",
       "      <td>Chiranjeevi</td>\n",
       "      <td>Jayamalini</td>\n",
       "      <td>Rajinikanth</td>\n",
       "    </tr>\n",
       "    <tr>\n",
       "      <th>15504</th>\n",
       "      <td>Zulm Ko Jala Doonga</td>\n",
       "      <td>1988</td>\n",
       "      <td>NaN</td>\n",
       "      <td>Action</td>\n",
       "      <td>4.6</td>\n",
       "      <td>11.0</td>\n",
       "      <td>Mahendra Shah</td>\n",
       "      <td>Naseeruddin Shah</td>\n",
       "      <td>Sumeet Saigal</td>\n",
       "      <td>Suparna Anand</td>\n",
       "    </tr>\n",
       "    <tr>\n",
       "      <th>15505</th>\n",
       "      <td>Zulmi</td>\n",
       "      <td>1999</td>\n",
       "      <td>129.0</td>\n",
       "      <td>Action</td>\n",
       "      <td>4.5</td>\n",
       "      <td>655.0</td>\n",
       "      <td>Kuku Kohli</td>\n",
       "      <td>Akshay Kumar</td>\n",
       "      <td>Twinkle Khanna</td>\n",
       "      <td>Aruna Irani</td>\n",
       "    </tr>\n",
       "    <tr>\n",
       "      <th>15508</th>\n",
       "      <td>Zulm-O-Sitam</td>\n",
       "      <td>1998</td>\n",
       "      <td>130.0</td>\n",
       "      <td>Action</td>\n",
       "      <td>6.2</td>\n",
       "      <td>20.0</td>\n",
       "      <td>K.C. Bokadia</td>\n",
       "      <td>Dharmendra</td>\n",
       "      <td>Jaya Prada</td>\n",
       "      <td>Arjun Sarja</td>\n",
       "    </tr>\n",
       "  </tbody>\n",
       "</table>\n",
       "<p>7919 rows × 10 columns</p>\n",
       "</div>"
      ],
      "text/plain": [
       "                      Name  Year  Duration   Genre  Rating   Votes  \\\n",
       "1                  Gadhvi   2019     109.0   Drama     7.0     8.0   \n",
       "3                   Yaaram  2019     110.0  Comedy     4.4    35.0   \n",
       "5        Aur Pyaar Ho Gaya  1997     147.0  Comedy     4.7   827.0   \n",
       "6                   Yahaan  2005     142.0   Drama     7.4  1086.0   \n",
       "8          A Question Mark  2012      82.0  Horror     5.6   326.0   \n",
       "...                    ...   ...       ...     ...     ...     ...   \n",
       "15501      Zulm Ki Hukumat  1992       NaN  Action     5.3   135.0   \n",
       "15503      Zulm Ki Zanjeer  1989     125.0  Action     5.8    44.0   \n",
       "15504  Zulm Ko Jala Doonga  1988       NaN  Action     4.6    11.0   \n",
       "15505                Zulmi  1999     129.0  Action     4.5   655.0   \n",
       "15508         Zulm-O-Sitam  1998     130.0  Action     6.2    20.0   \n",
       "\n",
       "                Director           Actor 1                 Actor 2  \\\n",
       "1          Gaurav Bakshi      Rasika Dugal          Vivek Ghamande   \n",
       "3             Ovais Khan           Prateik              Ishita Raj   \n",
       "5           Rahul Rawail        Bobby Deol  Aishwarya Rai Bachchan   \n",
       "6         Shoojit Sircar   Jimmy Sheirgill          Minissha Lamba   \n",
       "8          Allyson Patel         Yash Dave          Muntazir Ahmad   \n",
       "...                  ...               ...                     ...   \n",
       "15501  Bharat Rangachary        Dharmendra     Moushumi Chatterjee   \n",
       "15503    S.P. Muthuraman       Chiranjeevi              Jayamalini   \n",
       "15504      Mahendra Shah  Naseeruddin Shah           Sumeet Saigal   \n",
       "15505         Kuku Kohli      Akshay Kumar          Twinkle Khanna   \n",
       "15508       K.C. Bokadia        Dharmendra              Jaya Prada   \n",
       "\n",
       "               Actor 3  \n",
       "1        Arvind Jangid  \n",
       "3      Siddhant Kapoor  \n",
       "5        Shammi Kapoor  \n",
       "6       Yashpal Sharma  \n",
       "8         Kiran Bhatia  \n",
       "...                ...  \n",
       "15501          Govinda  \n",
       "15503      Rajinikanth  \n",
       "15504    Suparna Anand  \n",
       "15505      Aruna Irani  \n",
       "15508      Arjun Sarja  \n",
       "\n",
       "[7919 rows x 10 columns]"
      ]
     },
     "execution_count": 9,
     "metadata": {},
     "output_type": "execute_result"
    }
   ],
   "source": [
    "preprocessing(df)\n",
    "df"
   ]
  },
  {
   "cell_type": "code",
   "execution_count": null,
   "id": "cd7cb0c8-ed15-4b6b-9f11-c36e67f2f979",
   "metadata": {},
   "outputs": [],
   "source": []
  },
  {
   "cell_type": "code",
   "execution_count": null,
   "id": "71c305f8-15f8-4333-8a58-0245f5575980",
   "metadata": {},
   "outputs": [],
   "source": [
    "\n"
   ]
  },
  {
   "cell_type": "code",
   "execution_count": null,
   "id": "5cbe3cd7-d9f8-4797-a5ba-5e9efa6177f3",
   "metadata": {},
   "outputs": [],
   "source": []
  },
  {
   "cell_type": "code",
   "execution_count": null,
   "id": "bbe973c1-c723-4c1b-82dc-217cf2cf5b01",
   "metadata": {},
   "outputs": [],
   "source": []
  },
  {
   "cell_type": "code",
   "execution_count": null,
   "id": "973498a4-0bec-4539-8cfa-68ab50df135b",
   "metadata": {},
   "outputs": [],
   "source": []
  },
  {
   "cell_type": "code",
   "execution_count": null,
   "id": "d470f636-52a6-4d4b-9ab9-6fcabd4461cf",
   "metadata": {},
   "outputs": [],
   "source": []
  },
  {
   "cell_type": "code",
   "execution_count": null,
   "id": "64bb3292-0060-44a1-aed0-29c17aa727e3",
   "metadata": {},
   "outputs": [],
   "source": []
  },
  {
   "cell_type": "code",
   "execution_count": null,
   "id": "f058345b-e218-4e66-9ef4-c387b50d1397",
   "metadata": {},
   "outputs": [],
   "source": []
  },
  {
   "cell_type": "code",
   "execution_count": null,
   "id": "56153851-c1f3-4c31-aa6e-00f5f7146570",
   "metadata": {},
   "outputs": [],
   "source": []
  },
  {
   "cell_type": "code",
   "execution_count": null,
   "id": "c66b4cfe-5f69-4f44-bde3-c7a79da6dbf5",
   "metadata": {
    "tags": []
   },
   "outputs": [],
   "source": [
    "\n",
    "    \n"
   ]
  },
  {
   "cell_type": "markdown",
   "id": "085352e0-05d8-484e-9b39-5a67398f6af4",
   "metadata": {},
   "source": [
    "<h3>Data's Format</h3>"
   ]
  },
  {
   "cell_type": "code",
   "execution_count": 10,
   "id": "a6165341-20c9-4ec4-a2c3-de04ca5eb9f5",
   "metadata": {
    "tags": []
   },
   "outputs": [],
   "source": [
    "# for a in df.columns:\n",
    "#     column_format = df1[a].apply(lambda x: type(x)).unique()\n",
    "\n",
    "#     if len(column_format) == 1:\n",
    "#         print(f\"All values in the '{a}' column have the same format: {column_format[0]}\")\n",
    "#     else:\n",
    "#         print(f\"Values in the '{a}' column have different formats: {column_format}\")"
   ]
  },
  {
   "cell_type": "code",
   "execution_count": null,
   "id": "23cf6d2d-e416-4261-adee-946b34524df3",
   "metadata": {},
   "outputs": [],
   "source": []
  }
 ],
 "metadata": {
  "kernelspec": {
   "display_name": "Python 3 (ipykernel)",
   "language": "python",
   "name": "python3"
  },
  "language_info": {
   "codemirror_mode": {
    "name": "ipython",
    "version": 3
   },
   "file_extension": ".py",
   "mimetype": "text/x-python",
   "name": "python",
   "nbconvert_exporter": "python",
   "pygments_lexer": "ipython3",
   "version": "3.11.5"
  }
 },
 "nbformat": 4,
 "nbformat_minor": 5
}
