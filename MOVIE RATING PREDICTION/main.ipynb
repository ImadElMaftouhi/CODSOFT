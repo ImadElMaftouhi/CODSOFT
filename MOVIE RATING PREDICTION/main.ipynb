{
 "cells": [
  {
   "cell_type": "markdown",
   "id": "e37c531b-4846-424d-a128-09c668e80f27",
   "metadata": {},
   "source": [
    "<h1 style = \"text-align: center; font-size: 48px;\">MOVIE RATING PREDICTION WITH PYTHON<h1>"
   ]
  },
  {
   "cell_type": "markdown",
   "id": "d80259e0-9b65-4ef0-8a11-6efdb920677b",
   "metadata": {},
   "source": [
    "<h2>Introduction</h2>"
   ]
  },
  {
   "cell_type": "markdown",
   "id": "ae49b08e-cbb6-4278-82ea-48390817be22",
   "metadata": {},
   "source": [
    "<p>\n",
    "Movies are without a doubt, an essential part of the modern age. Each Movie has a story to tell, an idea to share, or a case to defend.\n",
    "This dataset is pulled from IMDb.com of all the Indian movies on the platform. <br>\n",
    "Our task today will be to clean this data by different method, and to provide some usefull insight into how to the dataset is partitioned, accompagned by studying the relationship between different Features.\n",
    "All of this will be assembled into what we call, A Data Preprocessing Pipeline. More on that later on.\n",
    "</p>"
   ]
  },
  {
   "cell_type": "markdown",
   "id": "fc0b10f4-1fbe-45b0-af58-a1fd50c2bfe0",
   "metadata": {},
   "source": [
    "<h2>Page Index</h2>\n",
    "<ol>\n",
    "    <li>Data collection</li>\n",
    "    <li>Data processing</li>\n",
    "    <li>Data visualization</li>\n",
    "    <li>Model initialisation</li>\n",
    "    <li>Valuation and optimization of the prediciton module</li>\n",
    "</ol>"
   ]
  },
  {
   "cell_type": "markdown",
   "id": "f3156808-87e8-49ec-9bf6-82c92f6c40df",
   "metadata": {
    "tags": []
   },
   "source": [
    "<h2>Data Collection</h2>"
   ]
  },
  {
   "cell_type": "markdown",
   "id": "bb663435-2a1d-49b0-8c95-24b3449816a2",
   "metadata": {},
   "source": [
    "<h3>Source</h3>"
   ]
  },
  {
   "cell_type": "markdown",
   "id": "5021da09-db18-430a-853f-5df4c6dd13ac",
   "metadata": {},
   "source": [
    "The data has been collected from the famous website <i>Kaggle</i> which contains many usefull data set and informations.<br>\n",
    "Link : <a href=\"https://www.kaggle.com/datasets/adrianmcmahon/imdb-india-movies\">IMDb India Movies</a>"
   ]
  },
  {
   "cell_type": "markdown",
   "id": "c016f172-5021-4938-8564-876e003d18ea",
   "metadata": {},
   "source": [
    "<h3>Libraries</h3>"
   ]
  },
  {
   "cell_type": "code",
   "execution_count": 1,
   "id": "406b0d4e-5b90-4c6e-95fc-f4f74d7c21b0",
   "metadata": {
    "tags": []
   },
   "outputs": [],
   "source": [
    "import pandas as pd\n",
    "import seaborn as sns\n",
    "import numpy as np\n",
    "import matplotlib.pyplot as plt\n",
    "import sklearn as skl"
   ]
  },
  {
   "cell_type": "code",
   "execution_count": 2,
   "id": "a915011d-0d2d-4a83-99b5-d702014ade58",
   "metadata": {
    "tags": []
   },
   "outputs": [
    {
     "name": "stdout",
     "output_type": "stream",
     "text": [
      "Pandas version is :  2.0.3\n",
      "NumPy version is :  1.24.3\n",
      "Seaborn version is :  0.12.2\n",
      "matplotlib version is :  3.7.2\n",
      "sklearn version is :  1.3.0\n"
     ]
    }
   ],
   "source": [
    "print('Pandas version is : ', pd.__version__)\n",
    "print('NumPy version is : ', np.__version__)\n",
    "print('Seaborn version is : ', sns.__version__)\n",
    "print('matplotlib version is : ', plt.matplotlib.__version__)\n",
    "print('sklearn version is : ', skl.__version__)\n"
   ]
  },
  {
   "cell_type": "markdown",
   "id": "a1fa4010-2a69-4e6c-964a-a6d662bbb2c3",
   "metadata": {
    "jp-MarkdownHeadingCollapsed": true,
    "tags": []
   },
   "source": [
    "<h3>Importing the dataset</h3>"
   ]
  },
  {
   "cell_type": "code",
   "execution_count": 3,
   "id": "b9b8503d-60da-450a-a184-89ba360f7ae5",
   "metadata": {
    "tags": []
   },
   "outputs": [],
   "source": [
    "df = pd.read_csv('IMDb Movies India.csv')\n",
    "pd.set_option('display.max_rows', 150)  # The maximum number of rows/entries allowed to display for each function.\n",
    "pd.set_option('display.max_columns', 150)  # The maximum number of features/columns to display for each function."
   ]
  },
  {
   "cell_type": "code",
   "execution_count": 4,
   "id": "412184c1-fb4a-41d8-b55c-492ecf583970",
   "metadata": {},
   "outputs": [
    {
     "data": {
      "text/html": [
       "<div>\n",
       "<style scoped>\n",
       "    .dataframe tbody tr th:only-of-type {\n",
       "        vertical-align: middle;\n",
       "    }\n",
       "\n",
       "    .dataframe tbody tr th {\n",
       "        vertical-align: top;\n",
       "    }\n",
       "\n",
       "    .dataframe thead th {\n",
       "        text-align: right;\n",
       "    }\n",
       "</style>\n",
       "<table border=\"1\" class=\"dataframe\">\n",
       "  <thead>\n",
       "    <tr style=\"text-align: right;\">\n",
       "      <th></th>\n",
       "      <th>Name</th>\n",
       "      <th>Year</th>\n",
       "      <th>Duration</th>\n",
       "      <th>Genre</th>\n",
       "      <th>Rating</th>\n",
       "      <th>Votes</th>\n",
       "      <th>Director</th>\n",
       "      <th>Actor 1</th>\n",
       "      <th>Actor 2</th>\n",
       "      <th>Actor 3</th>\n",
       "    </tr>\n",
       "  </thead>\n",
       "  <tbody>\n",
       "    <tr>\n",
       "      <th>0</th>\n",
       "      <td></td>\n",
       "      <td>NaN</td>\n",
       "      <td>NaN</td>\n",
       "      <td>Drama</td>\n",
       "      <td>NaN</td>\n",
       "      <td>NaN</td>\n",
       "      <td>J.S. Randhawa</td>\n",
       "      <td>Manmauji</td>\n",
       "      <td>Birbal</td>\n",
       "      <td>Rajendra Bhatia</td>\n",
       "    </tr>\n",
       "    <tr>\n",
       "      <th>1</th>\n",
       "      <td>#Gadhvi (He thought he was Gandhi)</td>\n",
       "      <td>(2019)</td>\n",
       "      <td>109 min</td>\n",
       "      <td>Drama</td>\n",
       "      <td>7.0</td>\n",
       "      <td>8</td>\n",
       "      <td>Gaurav Bakshi</td>\n",
       "      <td>Rasika Dugal</td>\n",
       "      <td>Vivek Ghamande</td>\n",
       "      <td>Arvind Jangid</td>\n",
       "    </tr>\n",
       "    <tr>\n",
       "      <th>2</th>\n",
       "      <td>#Homecoming</td>\n",
       "      <td>(2021)</td>\n",
       "      <td>90 min</td>\n",
       "      <td>Drama, Musical</td>\n",
       "      <td>NaN</td>\n",
       "      <td>NaN</td>\n",
       "      <td>Soumyajit Majumdar</td>\n",
       "      <td>Sayani Gupta</td>\n",
       "      <td>Plabita Borthakur</td>\n",
       "      <td>Roy Angana</td>\n",
       "    </tr>\n",
       "    <tr>\n",
       "      <th>3</th>\n",
       "      <td>#Yaaram</td>\n",
       "      <td>(2019)</td>\n",
       "      <td>110 min</td>\n",
       "      <td>Comedy, Romance</td>\n",
       "      <td>4.4</td>\n",
       "      <td>35</td>\n",
       "      <td>Ovais Khan</td>\n",
       "      <td>Prateik</td>\n",
       "      <td>Ishita Raj</td>\n",
       "      <td>Siddhant Kapoor</td>\n",
       "    </tr>\n",
       "    <tr>\n",
       "      <th>4</th>\n",
       "      <td>...And Once Again</td>\n",
       "      <td>(2010)</td>\n",
       "      <td>105 min</td>\n",
       "      <td>Drama</td>\n",
       "      <td>NaN</td>\n",
       "      <td>NaN</td>\n",
       "      <td>Amol Palekar</td>\n",
       "      <td>Rajat Kapoor</td>\n",
       "      <td>Rituparna Sengupta</td>\n",
       "      <td>Antara Mali</td>\n",
       "    </tr>\n",
       "  </tbody>\n",
       "</table>\n",
       "</div>"
      ],
      "text/plain": [
       "                                 Name    Year Duration            Genre  \\\n",
       "0                                         NaN      NaN            Drama   \n",
       "1  #Gadhvi (He thought he was Gandhi)  (2019)  109 min            Drama   \n",
       "2                         #Homecoming  (2021)   90 min   Drama, Musical   \n",
       "3                             #Yaaram  (2019)  110 min  Comedy, Romance   \n",
       "4                   ...And Once Again  (2010)  105 min            Drama   \n",
       "\n",
       "   Rating Votes            Director       Actor 1             Actor 2  \\\n",
       "0     NaN   NaN       J.S. Randhawa      Manmauji              Birbal   \n",
       "1     7.0     8       Gaurav Bakshi  Rasika Dugal      Vivek Ghamande   \n",
       "2     NaN   NaN  Soumyajit Majumdar  Sayani Gupta   Plabita Borthakur   \n",
       "3     4.4    35          Ovais Khan       Prateik          Ishita Raj   \n",
       "4     NaN   NaN        Amol Palekar  Rajat Kapoor  Rituparna Sengupta   \n",
       "\n",
       "           Actor 3  \n",
       "0  Rajendra Bhatia  \n",
       "1    Arvind Jangid  \n",
       "2       Roy Angana  \n",
       "3  Siddhant Kapoor  \n",
       "4      Antara Mali  "
      ]
     },
     "execution_count": 4,
     "metadata": {},
     "output_type": "execute_result"
    }
   ],
   "source": [
    "df.head()"
   ]
  },
  {
   "cell_type": "markdown",
   "id": "055c4553-9746-4085-b8f0-adf847023352",
   "metadata": {
    "tags": []
   },
   "source": [
    "<h3>Understanding the dataset</h3>"
   ]
  },
  {
   "cell_type": "code",
   "execution_count": 5,
   "id": "b680e183-1d04-4f30-a32b-bdd3a5c855e7",
   "metadata": {
    "tags": []
   },
   "outputs": [
    {
     "name": "stdout",
     "output_type": "stream",
     "text": [
      "<class 'pandas.core.frame.DataFrame'>\n",
      "RangeIndex: 15509 entries, 0 to 15508\n",
      "Data columns (total 10 columns):\n",
      " #   Column    Non-Null Count  Dtype  \n",
      "---  ------    --------------  -----  \n",
      " 0   Name      15509 non-null  object \n",
      " 1   Year      14981 non-null  object \n",
      " 2   Duration  7240 non-null   object \n",
      " 3   Genre     13632 non-null  object \n",
      " 4   Rating    7919 non-null   float64\n",
      " 5   Votes     7920 non-null   object \n",
      " 6   Director  14984 non-null  object \n",
      " 7   Actor 1   13892 non-null  object \n",
      " 8   Actor 2   13125 non-null  object \n",
      " 9   Actor 3   12365 non-null  object \n",
      "dtypes: float64(1), object(9)\n",
      "memory usage: 1.2+ MB\n"
     ]
    }
   ],
   "source": [
    "df.info()"
   ]
  },
  {
   "cell_type": "markdown",
   "id": "8d538626-d2c9-4190-94ab-f291c04e33c9",
   "metadata": {
    "tags": []
   },
   "source": [
    "<div style=\"width: 90%;margin:auto; background-color: #fff; padding: 20px; border-radius: 8px; box-shadow: 0 0 5px rgba(0, 0, 0, 0.1);\">\n",
    "    <h1 style=\"text-align: left; color: #333;\">Movie Rating Dataset Description</h1>\n",
    "    <p>In our dataset, we observe the following:</p>\n",
    "    <ol>\n",
    "        <li>There are a total of <span style=\"font-weight: bold; color: #555;\">15,509</span> entries/rows.</li>\n",
    "        <li>Each movie entry includes <span style=\"font-weight: bold; color: #555;\">10</span> different features:</li>\n",
    "    </ol>\n",
    "    <ul>\n",
    "        <li><span style=\"font-weight: bold; color: #555;\">Name</span>: The title of the movie (string value).</li>\n",
    "        <li><span style=\"font-weight: bold; color: #555;\">Year</span>: The year in which the movie was released (integer).</li>\n",
    "        <li><span style=\"font-weight: bold; color: #555;\">Duration</span>: The length of the movie in minutes (float).</li>\n",
    "        <li><span style=\"font-weight: bold; color: #555;\">Genre</span>: The genre of the movie (string).</li>\n",
    "        <li><span style=\"font-weight: bold; color: #555;\">Rating</span>: A rating on a scale from 0 to 10, indicating viewer satisfaction (float).</li>\n",
    "        <li><span style=\"font-weight: bold; color: #555;\">Votes</span>: The number of people who have rated the movie.</li>\n",
    "        <li><span style=\"font-weight: bold; color: #555;\">Director</span>: The director of the movie.</li>\n",
    "        <li><span style=\"font-weight: bold; color: #555;\">Actor 1</span>: The main actor of the movie.</li>\n",
    "        <li><span style=\"font-weight: bold; color: #555;\">Actor 2</span>: The second main actor of the movie.</li>\n",
    "        <li><span style=\"font-weight: bold; color: #555;\">Actor 3</span>: The third main actor of the movie.</li>\n",
    "    </ul>\n",
    "</div>\n"
   ]
  },
  {
   "cell_type": "markdown",
   "id": "b1f4162f-ce30-4d1c-a151-3636b0d756de",
   "metadata": {
    "tags": []
   },
   "source": [
    "<h2>Data Preprocessing</h2>"
   ]
  },
  {
   "cell_type": "markdown",
   "id": "e98343a3-8c8d-4cee-85a3-8e3eccedd8ac",
   "metadata": {},
   "source": [
    "<p>\n",
    "One of the most common way to handle any dataset in order to feed it to a prediction model or any sort of models, is to build what we call a 'Data Pipeline'.<br>\n",
    "This will guide us into building a much cleaner and more presentable study case, and to ensure our models are as efficient and noise free as possible. <br>\n",
    "    First, let's analyse in depth our dataset:\n",
    "</p>"
   ]
  },
  {
   "cell_type": "code",
   "execution_count": 6,
   "id": "a988b3ae-1c61-4773-bbff-2b8e051b26be",
   "metadata": {
    "tags": []
   },
   "outputs": [
    {
     "data": {
      "text/plain": [
       "Name           0\n",
       "Year         528\n",
       "Duration    8269\n",
       "Genre       1877\n",
       "Rating      7590\n",
       "Votes       7589\n",
       "Director     525\n",
       "Actor 1     1617\n",
       "Actor 2     2384\n",
       "Actor 3     3144\n",
       "dtype: int64"
      ]
     },
     "execution_count": 6,
     "metadata": {},
     "output_type": "execute_result"
    }
   ],
   "source": [
    "df.isna().sum()"
   ]
  },
  {
   "cell_type": "markdown",
   "id": "4a585520-91ed-4abe-b5fe-6e8cb55f02bd",
   "metadata": {},
   "source": [
    "Here we notice some intresting stuffs:<br>\n",
    "    + 528 movies don't have their year of publishement.<br>\n",
    "    + We are missing the duration for 8269 movies!.<br>\n",
    "    + 1877 Movies are missing their genre.<br>\n",
    "        .<br>\n",
    "        .<br>\n",
    "        .<br>\n",
    "    <br>"
   ]
  },
  {
   "cell_type": "markdown",
   "id": "d72d6591-059c-4e09-b573-8d194cc342a2",
   "metadata": {},
   "source": [
    "We also notice that the Feature 'Genre' contains entries which consist of multiple genre, it's better to decompose each indivduals Genre into a Feature and reporesent the abscence of existance of a Genre by binary data: 1 for yes and 0 for no."
   ]
  },
  {
   "cell_type": "markdown",
   "id": "f05325c2-dd93-4bc4-9b43-604a04b25848",
   "metadata": {},
   "source": [
    "### Genres list"
   ]
  },
  {
   "cell_type": "code",
   "execution_count": 7,
   "id": "168c1c8f-cb33-4a5b-87e0-84ebe1a25d2a",
   "metadata": {
    "tags": []
   },
   "outputs": [
    {
     "name": "stdout",
     "output_type": "stream",
     "text": [
      "{'Adventure', 'Sci-Fi', 'Romance', ' Mystery', ' Adventure', ' Thriller', ' Biography', 'History', ' Reality-TV', ' News', ' Music', ' War', 'Music', ' Western', 'Documentary', 'Reality-TV', 'Fantasy', 'Family', ' Family', ' Horror', 'War', 'Action', ' Musical', 'Thriller', ' Sci-Fi', 'Comedy', ' Romance', ' Action', 'Animation', ' Short', ' Drama', ' Fantasy', ' Crime', 'Sport', ' History', ' Comedy', ' Sport', 'Biography', 'Musical', 'Crime', 'Mystery', 'Drama', 'Horror'}\n"
     ]
    }
   ],
   "source": [
    "df_genre = df.copy()\n",
    "df_genre.dropna(subset = 'Genre', axis = 0, inplace = True)\n",
    "genres = []\n",
    "genres = set(genre for genre_list in df_genre['Genre'].str.split(',') for genre in genre_list)\n",
    "print(genres)"
   ]
  },
  {
   "cell_type": "markdown",
   "id": "1d82acce-ffcf-45fc-aae8-0be1d769464b",
   "metadata": {
    "tags": []
   },
   "source": [
    "### Preprocessing pipeline "
   ]
  },
  {
   "cell_type": "code",
   "execution_count": 8,
   "id": "bb10f556-49bf-47c1-a913-27acae0659d9",
   "metadata": {
    "tags": []
   },
   "outputs": [],
   "source": [
    "def imputate(dataset):\n",
    "    '''Since we are looking to predict the rating of a movie, it's better to keep only rows with valid 'Rating' entries\n",
    "    instead of just filling in with some variable.\n",
    "    For the genre, we'll keep only the main genre of the film, suppossing that the first one in order is the main one.\n",
    "    '''\n",
    "    \n",
    "    dataset.dropna(subset= ['Rating', 'Votes', 'Year', 'Director', 'Actor 1'], axis = 0, inplace = True)\n",
    "    \n",
    "    \n",
    "\n",
    "    # Here we are only keeping the main genre of the movie to ensure a proper training set.\n",
    "    df['Genre'] = df['Genre'].str.split(',', expand=True)[0]\n",
    "\n",
    "    dataset.dropna(subset = 'Genre', axis = 0 , inplace = True)\n",
    "    return dataset\n",
    "\n",
    "\n",
    "def reformat(dataset):\n",
    "    # Remove parentheses from the 'Year' column and convert to integer\n",
    "    dataset['Year'] = dataset['Year'].str.strip('()').astype(int)\n",
    "    dataset['Duration'] = dataset['Duration'].str.rstrip(' min').astype(float)\n",
    "    dataset['Rating'] = dataset['Rating'].astype(float)\n",
    "    dataset['Votes'] = dataset['Votes'].astype(float)\n",
    "    \n",
    "    # Missing values\n",
    "    columns = ['Year', 'Duration', 'Rating', 'Votes']\n",
    "    \n",
    "    for a in columns:\n",
    "        dataset[a].fillna(dataset[a].mean(), inplace = True)\n",
    "        \n",
    "    return dataset\n",
    "\n",
    "\n",
    "def preprocessing(dataset):\n",
    "    \n",
    "    imputate(dataset)\n",
    "    reformat(dataset)\n",
    "    \n",
    "    X = dataset.drop('Rating', axis = 1)\n",
    "    Y = dataset['Rating']\n",
    "    return X, Y\n"
   ]
  },
  {
   "cell_type": "code",
   "execution_count": 9,
   "id": "515f2a99-7e80-4996-a6a7-c0a73809ce23",
   "metadata": {},
   "outputs": [
    {
     "data": {
      "text/plain": [
       "(                                     Name  Year    Duration   Genre   Votes  \\\n",
       " 1      #Gadhvi (He thought he was Gandhi)  2019  109.000000   Drama     8.0   \n",
       " 3                                 #Yaaram  2019  110.000000  Comedy    35.0   \n",
       " 5                    ...Aur Pyaar Ho Gaya  1997  147.000000  Comedy   827.0   \n",
       " 6                               ...Yahaan  2005  142.000000   Drama  1086.0   \n",
       " 8                      ?: A Question Mark  2012   82.000000  Horror   326.0   \n",
       " ...                                   ...   ...         ...     ...     ...   \n",
       " 15501                     Zulm Ki Hukumat  1992  132.796554  Action   135.0   \n",
       " 15503                     Zulm Ki Zanjeer  1989  125.000000  Action    44.0   \n",
       " 15504                 Zulm Ko Jala Doonga  1988  132.796554  Action    11.0   \n",
       " 15505                               Zulmi  1999  129.000000  Action   655.0   \n",
       " 15508                        Zulm-O-Sitam  1998  130.000000  Action    20.0   \n",
       " \n",
       "                 Director           Actor 1                 Actor 2  \\\n",
       " 1          Gaurav Bakshi      Rasika Dugal          Vivek Ghamande   \n",
       " 3             Ovais Khan           Prateik              Ishita Raj   \n",
       " 5           Rahul Rawail        Bobby Deol  Aishwarya Rai Bachchan   \n",
       " 6         Shoojit Sircar   Jimmy Sheirgill          Minissha Lamba   \n",
       " 8          Allyson Patel         Yash Dave          Muntazir Ahmad   \n",
       " ...                  ...               ...                     ...   \n",
       " 15501  Bharat Rangachary        Dharmendra     Moushumi Chatterjee   \n",
       " 15503    S.P. Muthuraman       Chiranjeevi              Jayamalini   \n",
       " 15504      Mahendra Shah  Naseeruddin Shah           Sumeet Saigal   \n",
       " 15505         Kuku Kohli      Akshay Kumar          Twinkle Khanna   \n",
       " 15508       K.C. Bokadia        Dharmendra              Jaya Prada   \n",
       " \n",
       "                Actor 3  \n",
       " 1        Arvind Jangid  \n",
       " 3      Siddhant Kapoor  \n",
       " 5        Shammi Kapoor  \n",
       " 6       Yashpal Sharma  \n",
       " 8         Kiran Bhatia  \n",
       " ...                ...  \n",
       " 15501          Govinda  \n",
       " 15503      Rajinikanth  \n",
       " 15504    Suparna Anand  \n",
       " 15505      Aruna Irani  \n",
       " 15508      Arjun Sarja  \n",
       " \n",
       " [7707 rows x 9 columns],\n",
       " 1        7.0\n",
       " 3        4.4\n",
       " 5        4.7\n",
       " 6        7.4\n",
       " 8        5.6\n",
       "         ... \n",
       " 15501    5.3\n",
       " 15503    5.8\n",
       " 15504    4.6\n",
       " 15505    4.5\n",
       " 15508    6.2\n",
       " Name: Rating, Length: 7707, dtype: float64)"
      ]
     },
     "execution_count": 9,
     "metadata": {},
     "output_type": "execute_result"
    }
   ],
   "source": [
    "preprocessing(df)"
   ]
  },
  {
   "cell_type": "code",
   "execution_count": 10,
   "id": "2604d066-1b1e-4423-a36a-124e7c19bf18",
   "metadata": {},
   "outputs": [
    {
     "name": "stdout",
     "output_type": "stream",
     "text": [
      "<class 'pandas.core.frame.DataFrame'>\n",
      "Index: 7707 entries, 1 to 15508\n",
      "Data columns (total 10 columns):\n",
      " #   Column    Non-Null Count  Dtype  \n",
      "---  ------    --------------  -----  \n",
      " 0   Name      7707 non-null   object \n",
      " 1   Year      7707 non-null   int64  \n",
      " 2   Duration  7707 non-null   float64\n",
      " 3   Genre     7707 non-null   object \n",
      " 4   Rating    7707 non-null   float64\n",
      " 5   Votes     7707 non-null   float64\n",
      " 6   Director  7707 non-null   object \n",
      " 7   Actor 1   7707 non-null   object \n",
      " 8   Actor 2   7641 non-null   object \n",
      " 9   Actor 3   7558 non-null   object \n",
      "dtypes: float64(3), int64(1), object(6)\n",
      "memory usage: 662.3+ KB\n"
     ]
    }
   ],
   "source": [
    "df.info()"
   ]
  },
  {
   "cell_type": "markdown",
   "id": "085352e0-05d8-484e-9b39-5a67398f6af4",
   "metadata": {},
   "source": [
    "### Data's Format"
   ]
  },
  {
   "cell_type": "code",
   "execution_count": 11,
   "id": "a6165341-20c9-4ec4-a2c3-de04ca5eb9f5",
   "metadata": {
    "tags": []
   },
   "outputs": [
    {
     "name": "stdout",
     "output_type": "stream",
     "text": [
      "All values in the 'Name' column have the same format: <class 'str'>\n",
      "All values in the 'Year' column have the same format: <class 'int'>\n",
      "All values in the 'Duration' column have the same format: <class 'float'>\n",
      "All values in the 'Genre' column have the same format: <class 'str'>\n",
      "All values in the 'Rating' column have the same format: <class 'float'>\n",
      "All values in the 'Votes' column have the same format: <class 'float'>\n",
      "All values in the 'Director' column have the same format: <class 'str'>\n",
      "All values in the 'Actor 1' column have the same format: <class 'str'>\n",
      "Values in the 'Actor 2' column have different formats: [<class 'str'> <class 'float'>]\n",
      "Values in the 'Actor 3' column have different formats: [<class 'str'> <class 'float'>]\n"
     ]
    }
   ],
   "source": [
    "for a in df.columns:\n",
    "    column_format = df[a].apply(lambda x: type(x)).unique()\n",
    "\n",
    "    if len(column_format) == 1:\n",
    "        print(f\"All values in the '{a}' column have the same format: {column_format[0]}\")\n",
    "    else:\n",
    "        print(f\"Values in the '{a}' column have different formats: {column_format}\")"
   ]
  },
  {
   "cell_type": "markdown",
   "id": "bf0eb7df-a3d6-4557-ad18-bbcb74d67aa0",
   "metadata": {},
   "source": [
    "<br>\n",
    "<p>Here we notice that some entries for Feature `Actor 2` and `Actor 3` have different formats, that is because some entries are missing and the missing values `NaN` is considered as a `float` variable.</p>\n",
    "To verify this, we can use the following command :"
   ]
  },
  {
   "cell_type": "code",
   "execution_count": 20,
   "id": "990191e9-e102-41ea-b0ba-da9f7b5cb9c7",
   "metadata": {
    "tags": []
   },
   "outputs": [
    {
     "name": "stdout",
     "output_type": "stream",
     "text": [
      "String entries in `Actor 2` : \n",
      "                                       Name  Year    Duration        Genre  \\\n",
      "609                          Adam Ka Janam  1989  132.796554        Drama   \n",
      "1245                             AquaTales  2012   74.000000    Animation   \n",
      "2002                   Belly of the Tantra  2012   90.000000  Documentary   \n",
      "2055                 Beyond All Boundaries  2013   97.000000  Documentary   \n",
      "2454                        Blood Relation  2015  132.796554        Drama   \n",
      "2931                           Cheer Haran  2021   98.000000  Documentary   \n",
      "3134                      Chudail Ka Badla  2005  132.796554       Horror   \n",
      "3180                            Coal India  2015   48.000000  Documentary   \n",
      "3272                Daag: The Burning Fire  2002  132.796554       Action   \n",
      "3774                             Dhoomketu  1985  113.000000        Drama   \n",
      "3879                      Dil Lagake Dekho  1989  132.796554        Drama   \n",
      "4193                    Drying for Freedom  2011   60.000000  Documentary   \n",
      "4681        Fearless: The Hunterwali Story  1994   62.000000  Documentary   \n",
      "4743                  Flying on One Engine  2008   51.000000  Documentary   \n",
      "4947         Gaurav Gupta: Market Down Hai  2021   50.000000       Comedy   \n",
      "5307                 Gunehgar the Criminal  1982  132.796554       Action   \n",
      "5484                Hanuman vs. Mahiravana  2018   91.000000    Animation   \n",
      "5737                       History of Yoga  2015  132.796554  Documentary   \n",
      "6285                Jaan Likhu Janam Likhu  2001  132.796554        Music   \n",
      "7137                                 Kajri  2013   84.000000        Drama   \n",
      "7245                              Kamlabai  1992   46.000000  Documentary   \n",
      "7726   Kings of The Wind & Electric Queens  2014   56.000000  Documentary   \n",
      "7882                          Kuch Alag Sa  2014  132.796554        Drama   \n",
      "7970                                Laadli  2001   97.000000       Family   \n",
      "8107           Lal Bhi Udhaas Ho Sakta Hai  2015   60.000000  Documentary   \n",
      "8499                         Made in India  2010   95.000000  Documentary   \n",
      "8790               Man On Mission Jaanbaaz  2005  125.000000       Action   \n",
      "9065                          Meena Bazaar  1950  132.796554        Drama   \n",
      "9139                         Menstrual Man  2013   63.000000  Documentary   \n",
      "9312               Mighty Raju Rio Calling  2014   99.000000    Animation   \n",
      "9425                              MMS Kand  2014   99.000000      Romance   \n",
      "9588               Much Ado About Knotting  2012  132.796554  Documentary   \n",
      "9725       Musings of an Uninspired Artist  2020   74.000000        Drama   \n",
      "9868                 Naga the Eternal Yogi  2016   73.000000  Documentary   \n",
      "9953                                Nandan  1998   82.000000        Drama   \n",
      "10941                               Praana  2019  107.000000        Crime   \n",
      "10944                        Prabhat pheri  2014   89.000000  Documentary   \n",
      "11017                           Prem Jyoti  1985  132.796554      Romance   \n",
      "11078                         Prince Vaali  2011  175.000000       Action   \n",
      "11358                     Qatilon Ka Qatil  2004  132.796554       Action   \n",
      "11704                             Ram-Path  2017  132.796554  Documentary   \n",
      "12178                                Sadhu  2012   90.000000  Documentary   \n",
      "12392                           Sanjeevani  2018  132.796554        Drama   \n",
      "12996                     Sherdil Ladkiyan  1985  132.796554       Action   \n",
      "13011                              Shikaar  1996  132.796554       Action   \n",
      "13178             SHUDRA: The Untouchables  2011  116.000000        Drama   \n",
      "13228                        Sinbad Jahazi  1952  132.796554    Adventure   \n",
      "13300                              Siyasat  1988  132.796554       Action   \n",
      "13414        Spirit of Moksha - Kumbh Mela  2010   61.000000  Documentary   \n",
      "13461                     Strawberry Point  2020  132.796554     Thriller   \n",
      "13493                          Subah Subah  1983  132.796554      Romance   \n",
      "13592          Super Bheem Hawa Mein Halla  2016  132.796554    Animation   \n",
      "13642                       Swami Ayyappan  2012   90.000000    Animation   \n",
      "14017                         The Chalbaaz  1997  137.000000       Action   \n",
      "14023                The Cinema Travellers  2016   96.000000  Documentary   \n",
      "14089     The Great Indian Marriage Bazaar  2011   60.000000  Documentary   \n",
      "14132                   The Karma Killings  2016   83.000000  Documentary   \n",
      "14190          The Nincompoops Hindi Movie  2013  107.000000       Comedy   \n",
      "14363                          Tipu Sultan  1959  132.796554       Action   \n",
      "14381                Tomorrow We Disappear  2014   80.000000  Documentary   \n",
      "14720                Vaibhav Sethia: Don't  2018   61.000000       Comedy   \n",
      "14820                            Veergatha  2016  132.796554      History   \n",
      "14832                              Verdict  2019   78.000000      Mystery   \n",
      "14999                        War and Peace  2002  148.000000  Documentary   \n",
      "15052                When Hari Got Married  2013   75.000000  Documentary   \n",
      "15304                    Yodha the Warrior  2002  132.796554       Action   \n",
      "\n",
      "       Rating  Votes                Director                      Actor 1  \\\n",
      "609       5.5    6.0                  Sanjay                      Supriya   \n",
      "1245      3.1   75.0              Ivan Oneka                Gorka V�zquez   \n",
      "2002      7.6   11.0          Pankaj Purohit               Pankaj Purohit   \n",
      "2055      8.0  158.0            Sushrut Jain                 Kunal Nayyar   \n",
      "2454      6.3    6.0    Sanjeev Kumar Rajput                 Sunny Thakur   \n",
      "2931      9.1  123.0           Kuldeep Ruhil                Kuldeep Ruhil   \n",
      "3134      7.8   25.0               Raj Mohan                  Ponnambalam   \n",
      "3180      8.0    6.0               Ajay Koli                 Felix Roeben   \n",
      "3272      7.0   25.0          Aarthi Agarwal                  Mahesh Babu   \n",
      "3774      6.4    8.0       K. Gopal Krishnan              Manohar Mahajan   \n",
      "3879      4.4   10.0    Krishna Ghattamaneni                      Sridevi   \n",
      "4193      7.3   22.0             Steven Lake                     Alex Lee   \n",
      "4681      7.6    7.0       Riyad Vinci Wadia               Fearless Nadia   \n",
      "4743      7.9   25.0      Joshua Z Weinstein        Sharadkumar Dicksheet   \n",
      "4947      7.5  226.0            Neville Shah                 Gaurav Gupta   \n",
      "5307      4.4    5.0            Kamal Haasan                     Sripriya   \n",
      "5484      6.9  103.0            Ezhil Vendan                 Rajesh Jolly   \n",
      "5737      7.5    6.0         Deepika Kothari                        Ramji   \n",
      "6285      3.3    9.0           Shahid Kapoor                 Ayesha Takia   \n",
      "7137      6.0   48.0             Hyder Kazmi                 Arpita Singh   \n",
      "7245      7.6    8.0             Reena Mohan             Kamlabai Gokhale   \n",
      "7726      6.2   16.0           C�dric Dupire               Gaspard Kuentz   \n",
      "7882      6.6    8.0   Sanghamitra Chaudhuri               Samiksha Bhatt   \n",
      "7970      8.8    5.0           Mazahir Rahim               Kireet Khurana   \n",
      "8107      6.6    5.0              Amit Dutta                    Ram Kumar   \n",
      "8499      7.1   33.0       Rebecca Haimowitz               Vaishali Sinha   \n",
      "8790      4.7  137.0              Mohan Babu                   Raghu Babu   \n",
      "9065      7.9   13.0           Ravindra Dave                       Nargis   \n",
      "9139      8.2   78.0            Amit Virmani                 Aditi Mittal   \n",
      "9312      4.5   35.0           Rajiv Chilaka             Anirban Majumder   \n",
      "9425      7.8   11.0              Kanti Shah                  Sapna Sappu   \n",
      "9588      5.9    8.0   Geetika Narang Abbasi               Anandana Kapur   \n",
      "9725      7.5    8.0            Ronit Jadhav                 Ronit Jadhav   \n",
      "9868      7.2   86.0          Krishna Agazzi             Filippo Gastaldi   \n",
      "9953      6.0   10.0      Apurba Kishore Bir  Soubhagya Chandan Satapathy   \n",
      "10941     8.3  793.0            V.K. Prakash                 Nithya Menen   \n",
      "10944     6.6    7.0           Samarth Dixit               Jessica Sadana   \n",
      "11017     4.9    8.0    Krishna Ghattamaneni                      Sridevi   \n",
      "11078     5.8   11.0            Shiva Thejus               Daiana Menezes   \n",
      "11358     4.2    6.0           Chitra Shenoy           Darshan Thoogudeep   \n",
      "11704     9.4    5.0            Ashish Dubey                  Ishan Jacob   \n",
      "12178     6.8   59.0             Ga�l M�troz                   Suraj Baba   \n",
      "12392     2.8   23.0               Ravi Vide                Manoj Chandra   \n",
      "12996     8.1   17.0              Mohan Babu                       Swapna   \n",
      "13011     5.3   20.0        Urmila Matondkar                Jackie Shroff   \n",
      "13178     7.8   23.0          Sanjiv Jaiswal                Sridhar Dubey   \n",
      "13228     4.0    8.0          Nanabhai Bhatt                   Nirupa Roy   \n",
      "13300     3.1   15.0            Mahesh Bhatt               Neelam Kothari   \n",
      "13414     5.8    6.0           Rajeev Gautam                  Maya Sharma   \n",
      "13461     7.8    5.0           Prabal Baruah                 Karan Oberoi   \n",
      "13493     8.0   83.0  Indrajeet Singh Bansal                   Aamir Khan   \n",
      "13592     5.5   11.0           Rajiv Chilaka    Krishna Mohan Chintapatla   \n",
      "13642     7.6   37.0           Chetan Sharma              Mahesh Vettiyar   \n",
      "14017     8.3   49.0              Mohan Babu         Shilpa Shetty Kundra   \n",
      "14023     7.7   98.0         Shirley Abraham              Amit Madheshiya   \n",
      "14089     6.5   14.0        Ruchika Muchhala             Faiza Ahmad Khan   \n",
      "14132     6.9  169.0            Ram Devineni               Tushar Prakash   \n",
      "14190     6.8   21.0           Satish Torani               Abhishek Patel   \n",
      "14363     3.2   12.0              Anita Guha                 Paidi Jairaj   \n",
      "14381     8.0   80.0            Jim Goldblum                Adam M. Weber   \n",
      "14720     6.9  187.0      Manu Prakash Singh               Vaibhav Sethia   \n",
      "14820     4.7   10.0   Sanjeev Sharma Ronkel             Amitabh Bachchan   \n",
      "14832     4.7   11.0             Utkarsh Dev              Piyush Wankhede   \n",
      "14999     8.0  129.0        Anand Patwardhan             Anand Patwardhan   \n",
      "15052     7.0  168.0              Ritu Sarin                Tenzing Sonam   \n",
      "15304     6.6    8.0             Kirti Reddy                      Upendra   \n",
      "\n",
      "      Actor 2 Actor 3  \n",
      "609       NaN     NaN  \n",
      "1245      NaN     NaN  \n",
      "2002      NaN     NaN  \n",
      "2055      NaN     NaN  \n",
      "2454      NaN     NaN  \n",
      "2931      NaN     NaN  \n",
      "3134      NaN     NaN  \n",
      "3180      NaN     NaN  \n",
      "3272      NaN     NaN  \n",
      "3774      NaN     NaN  \n",
      "3879      NaN     NaN  \n",
      "4193      NaN     NaN  \n",
      "4681      NaN     NaN  \n",
      "4743      NaN     NaN  \n",
      "4947      NaN     NaN  \n",
      "5307      NaN     NaN  \n",
      "5484      NaN     NaN  \n",
      "5737      NaN     NaN  \n",
      "6285      NaN     NaN  \n",
      "7137      NaN     NaN  \n",
      "7245      NaN     NaN  \n",
      "7726      NaN     NaN  \n",
      "7882      NaN     NaN  \n",
      "7970      NaN     NaN  \n",
      "8107      NaN     NaN  \n",
      "8499      NaN     NaN  \n",
      "8790      NaN     NaN  \n",
      "9065      NaN     NaN  \n",
      "9139      NaN     NaN  \n",
      "9312      NaN     NaN  \n",
      "9425      NaN     NaN  \n",
      "9588      NaN     NaN  \n",
      "9725      NaN     NaN  \n",
      "9868      NaN     NaN  \n",
      "9953      NaN     NaN  \n",
      "10941     NaN     NaN  \n",
      "10944     NaN     NaN  \n",
      "11017     NaN     NaN  \n",
      "11078     NaN     NaN  \n",
      "11358     NaN     NaN  \n",
      "11704     NaN     NaN  \n",
      "12178     NaN     NaN  \n",
      "12392     NaN     NaN  \n",
      "12996     NaN     NaN  \n",
      "13011     NaN     NaN  \n",
      "13178     NaN     NaN  \n",
      "13228     NaN     NaN  \n",
      "13300     NaN     NaN  \n",
      "13414     NaN     NaN  \n",
      "13461     NaN     NaN  \n",
      "13493     NaN     NaN  \n",
      "13592     NaN     NaN  \n",
      "13642     NaN     NaN  \n",
      "14017     NaN     NaN  \n",
      "14023     NaN     NaN  \n",
      "14089     NaN     NaN  \n",
      "14132     NaN     NaN  \n",
      "14190     NaN     NaN  \n",
      "14363     NaN     NaN  \n",
      "14381     NaN     NaN  \n",
      "14720     NaN     NaN  \n",
      "14820     NaN     NaN  \n",
      "14832     NaN     NaN  \n",
      "14999     NaN     NaN  \n",
      "15052     NaN     NaN  \n",
      "15304     NaN     NaN  \n"
     ]
    }
   ],
   "source": [
    "print('String entries in `Actor 2` : \\n', df[df['Actor 2'].apply(lambda x: isinstance(x, float))])"
   ]
  },
  {
   "cell_type": "markdown",
   "id": "c4c7f0e1-52a2-4f01-baf0-74ed35960e96",
   "metadata": {},
   "source": [
    "<h2 style=\"padding : 10px; text-align: center;\"> Quick summary of preprocessing:</h2>"
   ]
  },
  {
   "cell_type": "markdown",
   "id": "e3afa6d0-5187-432f-a6c9-27dd20f79fa9",
   "metadata": {},
   "source": [
    "We performed many steps, here's a quick recap:\n",
    " - **Dealing with missing values**: We detected many missing values from the dataset, that's why we decided to drop some and fill the other. Since we are looking to predict the Rating of movies, we decided to only keep the valid rows to secure the integrity of our dataset. Next, we modified the Genre Feature such that we only maintain one main genre of the movie, and not three.\n",
    " - **Data format**: We made sure that each value for the 'Duration' and 'Year' Feature were formatted correctly.\n",
    " - **Artist**: we dropped rows in which the first artist or the main actor is missing."
   ]
  },
  {
   "cell_type": "markdown",
   "id": "20712765-5cf5-466c-9a42-0a26ecb198b2",
   "metadata": {
    "tags": []
   },
   "source": [
    "<h2 style =\"\">Statistics</h2>"
   ]
  },
  {
   "cell_type": "code",
   "execution_count": null,
   "id": "f9e1f26a-7008-41ff-9432-634b477a17c8",
   "metadata": {},
   "outputs": [],
   "source": []
  }
 ],
 "metadata": {
  "kernelspec": {
   "display_name": "Python 3 (ipykernel)",
   "language": "python",
   "name": "python3"
  },
  "language_info": {
   "codemirror_mode": {
    "name": "ipython",
    "version": 3
   },
   "file_extension": ".py",
   "mimetype": "text/x-python",
   "name": "python",
   "nbconvert_exporter": "python",
   "pygments_lexer": "ipython3",
   "version": "3.11.5"
  }
 },
 "nbformat": 4,
 "nbformat_minor": 5
}
