{
 "cells": [
  {
   "cell_type": "markdown",
   "id": "e37c531b-4846-424d-a128-09c668e80f27",
   "metadata": {},
   "source": [
    "<h1 style = \"text-align: center; font-size: 48px;\">MOVIE RATING PREDICTION WITH PYTHON<h1>"
   ]
  },
  {
   "cell_type": "markdown",
   "id": "d80259e0-9b65-4ef0-8a11-6efdb920677b",
   "metadata": {},
   "source": [
    "<h2>Introduction</h2>"
   ]
  },
  {
   "cell_type": "markdown",
   "id": "ae49b08e-cbb6-4278-82ea-48390817be22",
   "metadata": {},
   "source": [
    "<p>\n",
    "Movies are without a doubt, an essential part of the modern age. Each Movie has a story to tell, an idea to share, or a case to defend.\n",
    "This dataset is pulled from IMDb.com of all the Indian movies on the platform. <br>\n",
    "Our task today will be to clean this data by different method, and to provide some usefull insight into how to the dataset is partitioned, accompagned by studying the relationship between different Features.\n",
    "All of this will be assembled into what we call, A Data Preprocessing Pipeline. More on that later on.\n",
    "</p>"
   ]
  },
  {
   "cell_type": "markdown",
   "id": "fc0b10f4-1fbe-45b0-af58-a1fd50c2bfe0",
   "metadata": {},
   "source": [
    "<h2>Page Index</h2>\n",
    "<ol>\n",
    "    <li>Data collection</li>\n",
    "    <li>Data processing</li>\n",
    "    <li>Data visualization</li>\n",
    "    <li>Model initialisation</li>\n",
    "    <li>Valuation and optimization of the prediciton module</li>\n",
    "</ol>"
   ]
  },
  {
   "cell_type": "markdown",
   "id": "f3156808-87e8-49ec-9bf6-82c92f6c40df",
   "metadata": {
    "tags": []
   },
   "source": [
    "<h2>Data Collection</h2>"
   ]
  },
  {
   "cell_type": "markdown",
   "id": "bb663435-2a1d-49b0-8c95-24b3449816a2",
   "metadata": {},
   "source": [
    "<h3>Source</h3>"
   ]
  },
  {
   "cell_type": "markdown",
   "id": "5021da09-db18-430a-853f-5df4c6dd13ac",
   "metadata": {},
   "source": [
    "The data has been collected from the famous website <i>Kaggle</i> which contains many usefull data set and informations.<br>\n",
    "Link : <a href=\"https://www.kaggle.com/datasets/adrianmcmahon/imdb-india-movies\">IMDb India Movies</a>"
   ]
  },
  {
   "cell_type": "markdown",
   "id": "c016f172-5021-4938-8564-876e003d18ea",
   "metadata": {},
   "source": [
    "<h3>Libraries</h3>"
   ]
  },
  {
   "cell_type": "code",
   "execution_count": 1,
   "id": "406b0d4e-5b90-4c6e-95fc-f4f74d7c21b0",
   "metadata": {
    "tags": []
   },
   "outputs": [],
   "source": [
    "import pandas as pd\n",
    "import seaborn as sns\n",
    "import numpy as np\n",
    "import matplotlib.pyplot as plt\n",
    "import sklearn as skl"
   ]
  },
  {
   "cell_type": "code",
   "execution_count": 2,
   "id": "a915011d-0d2d-4a83-99b5-d702014ade58",
   "metadata": {
    "tags": []
   },
   "outputs": [
    {
     "name": "stdout",
     "output_type": "stream",
     "text": [
      "Pandas version is :  2.0.3\n",
      "NumPy version is :  1.24.3\n",
      "Seaborn version is :  0.12.2\n",
      "matplotlib version is :  3.7.2\n",
      "sklearn version is :  1.3.0\n"
     ]
    }
   ],
   "source": [
    "print('Pandas version is : ', pd.__version__)\n",
    "print('NumPy version is : ', np.__version__)\n",
    "print('Seaborn version is : ', sns.__version__)\n",
    "print('matplotlib version is : ', plt.matplotlib.__version__)\n",
    "print('sklearn version is : ', skl.__version__)\n"
   ]
  },
  {
   "cell_type": "markdown",
   "id": "a1fa4010-2a69-4e6c-964a-a6d662bbb2c3",
   "metadata": {
    "jp-MarkdownHeadingCollapsed": true,
    "tags": []
   },
   "source": [
    "<h3>Importing the dataset</h3>"
   ]
  },
  {
   "cell_type": "code",
   "execution_count": 3,
   "id": "b9b8503d-60da-450a-a184-89ba360f7ae5",
   "metadata": {
    "tags": []
   },
   "outputs": [],
   "source": [
    "df = pd.read_csv('IMDb Movies India.csv')\n",
    "pd.set_option('display.max_rows', 150)  # The maximum number of rows/entries allowed to display for each function.\n",
    "pd.set_option('display.max_columns', 150)  # The maximum number of features/columns to display for each function."
   ]
  },
  {
   "cell_type": "code",
   "execution_count": 4,
   "id": "412184c1-fb4a-41d8-b55c-492ecf583970",
   "metadata": {},
   "outputs": [
    {
     "data": {
      "text/html": [
       "<div>\n",
       "<style scoped>\n",
       "    .dataframe tbody tr th:only-of-type {\n",
       "        vertical-align: middle;\n",
       "    }\n",
       "\n",
       "    .dataframe tbody tr th {\n",
       "        vertical-align: top;\n",
       "    }\n",
       "\n",
       "    .dataframe thead th {\n",
       "        text-align: right;\n",
       "    }\n",
       "</style>\n",
       "<table border=\"1\" class=\"dataframe\">\n",
       "  <thead>\n",
       "    <tr style=\"text-align: right;\">\n",
       "      <th></th>\n",
       "      <th>Name</th>\n",
       "      <th>Year</th>\n",
       "      <th>Duration</th>\n",
       "      <th>Genre</th>\n",
       "      <th>Rating</th>\n",
       "      <th>Votes</th>\n",
       "      <th>Director</th>\n",
       "      <th>Actor 1</th>\n",
       "      <th>Actor 2</th>\n",
       "      <th>Actor 3</th>\n",
       "    </tr>\n",
       "  </thead>\n",
       "  <tbody>\n",
       "    <tr>\n",
       "      <th>0</th>\n",
       "      <td></td>\n",
       "      <td>NaN</td>\n",
       "      <td>NaN</td>\n",
       "      <td>Drama</td>\n",
       "      <td>NaN</td>\n",
       "      <td>NaN</td>\n",
       "      <td>J.S. Randhawa</td>\n",
       "      <td>Manmauji</td>\n",
       "      <td>Birbal</td>\n",
       "      <td>Rajendra Bhatia</td>\n",
       "    </tr>\n",
       "    <tr>\n",
       "      <th>1</th>\n",
       "      <td>#Gadhvi (He thought he was Gandhi)</td>\n",
       "      <td>(2019)</td>\n",
       "      <td>109 min</td>\n",
       "      <td>Drama</td>\n",
       "      <td>7.0</td>\n",
       "      <td>8</td>\n",
       "      <td>Gaurav Bakshi</td>\n",
       "      <td>Rasika Dugal</td>\n",
       "      <td>Vivek Ghamande</td>\n",
       "      <td>Arvind Jangid</td>\n",
       "    </tr>\n",
       "    <tr>\n",
       "      <th>2</th>\n",
       "      <td>#Homecoming</td>\n",
       "      <td>(2021)</td>\n",
       "      <td>90 min</td>\n",
       "      <td>Drama, Musical</td>\n",
       "      <td>NaN</td>\n",
       "      <td>NaN</td>\n",
       "      <td>Soumyajit Majumdar</td>\n",
       "      <td>Sayani Gupta</td>\n",
       "      <td>Plabita Borthakur</td>\n",
       "      <td>Roy Angana</td>\n",
       "    </tr>\n",
       "    <tr>\n",
       "      <th>3</th>\n",
       "      <td>#Yaaram</td>\n",
       "      <td>(2019)</td>\n",
       "      <td>110 min</td>\n",
       "      <td>Comedy, Romance</td>\n",
       "      <td>4.4</td>\n",
       "      <td>35</td>\n",
       "      <td>Ovais Khan</td>\n",
       "      <td>Prateik</td>\n",
       "      <td>Ishita Raj</td>\n",
       "      <td>Siddhant Kapoor</td>\n",
       "    </tr>\n",
       "    <tr>\n",
       "      <th>4</th>\n",
       "      <td>...And Once Again</td>\n",
       "      <td>(2010)</td>\n",
       "      <td>105 min</td>\n",
       "      <td>Drama</td>\n",
       "      <td>NaN</td>\n",
       "      <td>NaN</td>\n",
       "      <td>Amol Palekar</td>\n",
       "      <td>Rajat Kapoor</td>\n",
       "      <td>Rituparna Sengupta</td>\n",
       "      <td>Antara Mali</td>\n",
       "    </tr>\n",
       "  </tbody>\n",
       "</table>\n",
       "</div>"
      ],
      "text/plain": [
       "                                 Name    Year Duration            Genre  \\\n",
       "0                                         NaN      NaN            Drama   \n",
       "1  #Gadhvi (He thought he was Gandhi)  (2019)  109 min            Drama   \n",
       "2                         #Homecoming  (2021)   90 min   Drama, Musical   \n",
       "3                             #Yaaram  (2019)  110 min  Comedy, Romance   \n",
       "4                   ...And Once Again  (2010)  105 min            Drama   \n",
       "\n",
       "   Rating Votes            Director       Actor 1             Actor 2  \\\n",
       "0     NaN   NaN       J.S. Randhawa      Manmauji              Birbal   \n",
       "1     7.0     8       Gaurav Bakshi  Rasika Dugal      Vivek Ghamande   \n",
       "2     NaN   NaN  Soumyajit Majumdar  Sayani Gupta   Plabita Borthakur   \n",
       "3     4.4    35          Ovais Khan       Prateik          Ishita Raj   \n",
       "4     NaN   NaN        Amol Palekar  Rajat Kapoor  Rituparna Sengupta   \n",
       "\n",
       "           Actor 3  \n",
       "0  Rajendra Bhatia  \n",
       "1    Arvind Jangid  \n",
       "2       Roy Angana  \n",
       "3  Siddhant Kapoor  \n",
       "4      Antara Mali  "
      ]
     },
     "execution_count": 4,
     "metadata": {},
     "output_type": "execute_result"
    }
   ],
   "source": [
    "df.head()"
   ]
  },
  {
   "cell_type": "markdown",
   "id": "055c4553-9746-4085-b8f0-adf847023352",
   "metadata": {
    "tags": []
   },
   "source": [
    "<h3>Understanding the dataset</h3>"
   ]
  },
  {
   "cell_type": "code",
   "execution_count": 5,
   "id": "b680e183-1d04-4f30-a32b-bdd3a5c855e7",
   "metadata": {
    "tags": []
   },
   "outputs": [
    {
     "name": "stdout",
     "output_type": "stream",
     "text": [
      "<class 'pandas.core.frame.DataFrame'>\n",
      "RangeIndex: 15509 entries, 0 to 15508\n",
      "Data columns (total 10 columns):\n",
      " #   Column    Non-Null Count  Dtype  \n",
      "---  ------    --------------  -----  \n",
      " 0   Name      15509 non-null  object \n",
      " 1   Year      14981 non-null  object \n",
      " 2   Duration  7240 non-null   object \n",
      " 3   Genre     13632 non-null  object \n",
      " 4   Rating    7919 non-null   float64\n",
      " 5   Votes     7920 non-null   object \n",
      " 6   Director  14984 non-null  object \n",
      " 7   Actor 1   13892 non-null  object \n",
      " 8   Actor 2   13125 non-null  object \n",
      " 9   Actor 3   12365 non-null  object \n",
      "dtypes: float64(1), object(9)\n",
      "memory usage: 1.2+ MB\n"
     ]
    }
   ],
   "source": [
    "df.info()"
   ]
  },
  {
   "cell_type": "markdown",
   "id": "8d538626-d2c9-4190-94ab-f291c04e33c9",
   "metadata": {
    "tags": []
   },
   "source": [
    "<div style=\"width: 90%;margin:auto; background-color: #fff; padding: 20px; border-radius: 8px; box-shadow: 0 0 5px rgba(0, 0, 0, 0.1);\">\n",
    "    <h1 style=\"text-align: left; color: #333;\">Movie Rating Dataset Description</h1>\n",
    "    <p>In our dataset, we observe the following:</p>\n",
    "    <ol>\n",
    "        <li>There are a total of <span style=\"font-weight: bold; color: #555;\">15,509</span> entries/rows.</li>\n",
    "        <li>Each movie entry includes <span style=\"font-weight: bold; color: #555;\">10</span> different features:</li>\n",
    "    </ol>\n",
    "    <ul>\n",
    "        <li><span style=\"font-weight: bold; color: #555;\">Name</span>: The title of the movie (string value).</li>\n",
    "        <li><span style=\"font-weight: bold; color: #555;\">Year</span>: The year in which the movie was released (integer).</li>\n",
    "        <li><span style=\"font-weight: bold; color: #555;\">Duration</span>: The length of the movie in minutes (float).</li>\n",
    "        <li><span style=\"font-weight: bold; color: #555;\">Genre</span>: The genre of the movie (string).</li>\n",
    "        <li><span style=\"font-weight: bold; color: #555;\">Rating</span>: A rating on a scale from 0 to 10, indicating viewer satisfaction (float).</li>\n",
    "        <li><span style=\"font-weight: bold; color: #555;\">Votes</span>: The number of people who have rated the movie.</li>\n",
    "        <li><span style=\"font-weight: bold; color: #555;\">Director</span>: The director of the movie.</li>\n",
    "        <li><span style=\"font-weight: bold; color: #555;\">Actor 1</span>: The main actor of the movie.</li>\n",
    "        <li><span style=\"font-weight: bold; color: #555;\">Actor 2</span>: The second main actor of the movie.</li>\n",
    "        <li><span style=\"font-weight: bold; color: #555;\">Actor 3</span>: The third main actor of the movie.</li>\n",
    "    </ul>\n",
    "</div>\n"
   ]
  },
  {
   "cell_type": "markdown",
   "id": "b1f4162f-ce30-4d1c-a151-3636b0d756de",
   "metadata": {
    "tags": []
   },
   "source": [
    "<h2>Data Preprocessing</h2>"
   ]
  },
  {
   "cell_type": "markdown",
   "id": "e98343a3-8c8d-4cee-85a3-8e3eccedd8ac",
   "metadata": {},
   "source": [
    "<p>\n",
    "One of the most common way to handle any dataset in order to feed it to a prediction model or any sort of models, is to build what we call a 'Data Pipeline'.<br>\n",
    "This will guide us into building a much cleaner and more presentable study case, and to ensure our models are as efficient and noise free as possible. <br>\n",
    "    First, let's analyse in depth our dataset:\n",
    "</p>"
   ]
  },
  {
   "cell_type": "code",
   "execution_count": 6,
   "id": "a988b3ae-1c61-4773-bbff-2b8e051b26be",
   "metadata": {
    "tags": []
   },
   "outputs": [
    {
     "data": {
      "text/plain": [
       "Name           0\n",
       "Year         528\n",
       "Duration    8269\n",
       "Genre       1877\n",
       "Rating      7590\n",
       "Votes       7589\n",
       "Director     525\n",
       "Actor 1     1617\n",
       "Actor 2     2384\n",
       "Actor 3     3144\n",
       "dtype: int64"
      ]
     },
     "execution_count": 6,
     "metadata": {},
     "output_type": "execute_result"
    }
   ],
   "source": [
    "df.isna().sum()"
   ]
  },
  {
   "cell_type": "markdown",
   "id": "4a585520-91ed-4abe-b5fe-6e8cb55f02bd",
   "metadata": {},
   "source": [
    "Here we notice some intresting stuffs:<br>\n",
    "    + 528 movies don't have their year of publishement.<br>\n",
    "    + We are missing the duration for 8269 movies!.<br>\n",
    "    + 1877 Movies are missing their genre.<br>\n",
    "        .<br>\n",
    "        .<br>\n",
    "        .<br>\n",
    "    <br>"
   ]
  },
  {
   "cell_type": "markdown",
   "id": "d72d6591-059c-4e09-b573-8d194cc342a2",
   "metadata": {},
   "source": [
    "We also notice that the Feature 'Genre' contains entries which consist of multiple genre, it's better to decompose each indivduals Genre into a Feature and reporesent the abscence of existance of a Genre by binary data: 1 for yes and 0 for no."
   ]
  },
  {
   "cell_type": "markdown",
   "id": "f05325c2-dd93-4bc4-9b43-604a04b25848",
   "metadata": {},
   "source": [
    "### Genres list"
   ]
  },
  {
   "cell_type": "code",
   "execution_count": 7,
   "id": "168c1c8f-cb33-4a5b-87e0-84ebe1a25d2a",
   "metadata": {
    "tags": []
   },
   "outputs": [
    {
     "name": "stdout",
     "output_type": "stream",
     "text": [
      "{'Adventure', 'Sci-Fi', 'Romance', ' Mystery', ' Adventure', ' Thriller', ' Biography', 'History', ' Reality-TV', ' News', ' Music', ' War', 'Music', ' Western', 'Documentary', 'Reality-TV', 'Fantasy', 'Family', ' Family', ' Horror', 'War', 'Action', ' Musical', 'Thriller', ' Sci-Fi', 'Comedy', ' Romance', ' Action', 'Animation', ' Short', ' Drama', ' Fantasy', ' Crime', 'Sport', ' History', ' Comedy', ' Sport', 'Biography', 'Musical', 'Crime', 'Mystery', 'Drama', 'Horror'}\n"
     ]
    }
   ],
   "source": [
    "df_genre = df.copy()\n",
    "df_genre.dropna(subset = 'Genre', axis = 0, inplace = True)\n",
    "genres = []\n",
    "genres = set(genre for genre_list in df_genre['Genre'].str.split(',') for genre in genre_list)\n",
    "print(genres)"
   ]
  },
  {
   "cell_type": "markdown",
   "id": "1d82acce-ffcf-45fc-aae8-0be1d769464b",
   "metadata": {
    "tags": []
   },
   "source": [
    "### Preprocessing pipeline "
   ]
  },
  {
   "cell_type": "code",
   "execution_count": 8,
   "id": "bb10f556-49bf-47c1-a913-27acae0659d9",
   "metadata": {
    "tags": []
   },
   "outputs": [],
   "source": [
    "def imputate(dataset):\n",
    "    '''Since we are looking to predict the rating of a movie, it's better to keep only rows with valid 'Rating' entries\n",
    "    instead of just filling in with some variable.\n",
    "    For the genre, we'll keep only the main genre of the film, suppossing that the first one in order is the main one.\n",
    "    '''\n",
    "    \n",
    "    dataset.dropna(subset= ['Rating', 'Votes', 'Year', 'Director', 'Actor 1'], axis = 0, inplace = True)\n",
    "    \n",
    "    \n",
    "\n",
    "    # Here we are only keeping the main genre of the movie to ensure a proper training set.\n",
    "    df['Genre'] = df['Genre'].str.split(',', expand=True)[0]\n",
    "\n",
    "    dataset.dropna(subset = 'Genre', axis = 0 , inplace = True)\n",
    "    return dataset\n",
    "\n",
    "\n",
    "def reformat(dataset):\n",
    "    # Remove parentheses from the 'Year' column and convert to integer\n",
    "    dataset['Year'] = dataset['Year'].str.strip('()').astype(int)\n",
    "    dataset['Duration'] = dataset['Duration'].str.rstrip(' min').astype(float)\n",
    "    dataset['Rating'] = dataset['Rating'].astype(float)\n",
    "    dataset['Votes'] = dataset['Votes'].astype(float)\n",
    "    \n",
    "    # Missing values\n",
    "    columns = ['Year', 'Duration', 'Rating', 'Votes']\n",
    "    \n",
    "    for a in columns:\n",
    "        dataset[a].fillna(dataset[a].mean(), inplace = True)\n",
    "        \n",
    "    return dataset\n",
    "\n",
    "\n",
    "def preprocessing(dataset):\n",
    "    \n",
    "    imputate(dataset)\n",
    "    reformat(dataset)\n",
    "    \n",
    "    X = dataset.drop('Rating', axis = 1)\n",
    "    Y = dataset['Rating']\n",
    "    return X, Y\n"
   ]
  },
  {
   "cell_type": "code",
   "execution_count": 9,
   "id": "515f2a99-7e80-4996-a6a7-c0a73809ce23",
   "metadata": {},
   "outputs": [
    {
     "data": {
      "text/plain": [
       "(                                     Name  Year    Duration   Genre   Votes  \\\n",
       " 1      #Gadhvi (He thought he was Gandhi)  2019  109.000000   Drama     8.0   \n",
       " 3                                 #Yaaram  2019  110.000000  Comedy    35.0   \n",
       " 5                    ...Aur Pyaar Ho Gaya  1997  147.000000  Comedy   827.0   \n",
       " 6                               ...Yahaan  2005  142.000000   Drama  1086.0   \n",
       " 8                      ?: A Question Mark  2012   82.000000  Horror   326.0   \n",
       " ...                                   ...   ...         ...     ...     ...   \n",
       " 15501                     Zulm Ki Hukumat  1992  132.796554  Action   135.0   \n",
       " 15503                     Zulm Ki Zanjeer  1989  125.000000  Action    44.0   \n",
       " 15504                 Zulm Ko Jala Doonga  1988  132.796554  Action    11.0   \n",
       " 15505                               Zulmi  1999  129.000000  Action   655.0   \n",
       " 15508                        Zulm-O-Sitam  1998  130.000000  Action    20.0   \n",
       " \n",
       "                 Director           Actor 1                 Actor 2  \\\n",
       " 1          Gaurav Bakshi      Rasika Dugal          Vivek Ghamande   \n",
       " 3             Ovais Khan           Prateik              Ishita Raj   \n",
       " 5           Rahul Rawail        Bobby Deol  Aishwarya Rai Bachchan   \n",
       " 6         Shoojit Sircar   Jimmy Sheirgill          Minissha Lamba   \n",
       " 8          Allyson Patel         Yash Dave          Muntazir Ahmad   \n",
       " ...                  ...               ...                     ...   \n",
       " 15501  Bharat Rangachary        Dharmendra     Moushumi Chatterjee   \n",
       " 15503    S.P. Muthuraman       Chiranjeevi              Jayamalini   \n",
       " 15504      Mahendra Shah  Naseeruddin Shah           Sumeet Saigal   \n",
       " 15505         Kuku Kohli      Akshay Kumar          Twinkle Khanna   \n",
       " 15508       K.C. Bokadia        Dharmendra              Jaya Prada   \n",
       " \n",
       "                Actor 3  \n",
       " 1        Arvind Jangid  \n",
       " 3      Siddhant Kapoor  \n",
       " 5        Shammi Kapoor  \n",
       " 6       Yashpal Sharma  \n",
       " 8         Kiran Bhatia  \n",
       " ...                ...  \n",
       " 15501          Govinda  \n",
       " 15503      Rajinikanth  \n",
       " 15504    Suparna Anand  \n",
       " 15505      Aruna Irani  \n",
       " 15508      Arjun Sarja  \n",
       " \n",
       " [7707 rows x 9 columns],\n",
       " 1        7.0\n",
       " 3        4.4\n",
       " 5        4.7\n",
       " 6        7.4\n",
       " 8        5.6\n",
       "         ... \n",
       " 15501    5.3\n",
       " 15503    5.8\n",
       " 15504    4.6\n",
       " 15505    4.5\n",
       " 15508    6.2\n",
       " Name: Rating, Length: 7707, dtype: float64)"
      ]
     },
     "execution_count": 9,
     "metadata": {},
     "output_type": "execute_result"
    }
   ],
   "source": [
    "preprocessing(df)"
   ]
  },
  {
   "cell_type": "code",
   "execution_count": 10,
   "id": "2604d066-1b1e-4423-a36a-124e7c19bf18",
   "metadata": {},
   "outputs": [
    {
     "name": "stdout",
     "output_type": "stream",
     "text": [
      "<class 'pandas.core.frame.DataFrame'>\n",
      "Index: 7707 entries, 1 to 15508\n",
      "Data columns (total 10 columns):\n",
      " #   Column    Non-Null Count  Dtype  \n",
      "---  ------    --------------  -----  \n",
      " 0   Name      7707 non-null   object \n",
      " 1   Year      7707 non-null   int64  \n",
      " 2   Duration  7707 non-null   float64\n",
      " 3   Genre     7707 non-null   object \n",
      " 4   Rating    7707 non-null   float64\n",
      " 5   Votes     7707 non-null   float64\n",
      " 6   Director  7707 non-null   object \n",
      " 7   Actor 1   7707 non-null   object \n",
      " 8   Actor 2   7641 non-null   object \n",
      " 9   Actor 3   7558 non-null   object \n",
      "dtypes: float64(3), int64(1), object(6)\n",
      "memory usage: 662.3+ KB\n"
     ]
    }
   ],
   "source": [
    "df.info()"
   ]
  },
  {
   "cell_type": "markdown",
   "id": "085352e0-05d8-484e-9b39-5a67398f6af4",
   "metadata": {},
   "source": [
    "### Data's Format"
   ]
  },
  {
   "cell_type": "code",
   "execution_count": 11,
   "id": "a6165341-20c9-4ec4-a2c3-de04ca5eb9f5",
   "metadata": {
    "tags": []
   },
   "outputs": [
    {
     "name": "stdout",
     "output_type": "stream",
     "text": [
      "All values in the 'Name' column have the same format: <class 'str'>\n",
      "All values in the 'Year' column have the same format: <class 'int'>\n",
      "All values in the 'Duration' column have the same format: <class 'float'>\n",
      "All values in the 'Genre' column have the same format: <class 'str'>\n",
      "All values in the 'Rating' column have the same format: <class 'float'>\n",
      "All values in the 'Votes' column have the same format: <class 'float'>\n",
      "All values in the 'Director' column have the same format: <class 'str'>\n",
      "All values in the 'Actor 1' column have the same format: <class 'str'>\n",
      "Values in the 'Actor 2' column have different formats: [<class 'str'> <class 'float'>]\n",
      "Values in the 'Actor 3' column have different formats: [<class 'str'> <class 'float'>]\n"
     ]
    }
   ],
   "source": [
    "for a in df.columns:\n",
    "    column_format = df[a].apply(lambda x: type(x)).unique()\n",
    "\n",
    "    if len(column_format) == 1:\n",
    "        print(f\"All values in the '{a}' column have the same format: {column_format[0]}\")\n",
    "    else:\n",
    "        print(f\"Values in the '{a}' column have different formats: {column_format}\")"
   ]
  },
  {
   "cell_type": "markdown",
   "id": "bf0eb7df-a3d6-4557-ad18-bbcb74d67aa0",
   "metadata": {},
   "source": [
    "<br>\n",
    "<p>Here we notice that some entries for Feature `Actor 2` and `Actor 3` have different formats, that is because some entries are missing and the missing values `NaN` is considered as a `float` variable.</p>\n",
    "To verify this, we can use the following command :"
   ]
  },
  {
   "cell_type": "code",
   "execution_count": 24,
   "id": "990191e9-e102-41ea-b0ba-da9f7b5cb9c7",
   "metadata": {
    "tags": []
   },
   "outputs": [
    {
     "name": "stdout",
     "output_type": "stream",
     "text": [
      "String entries in `Actor 2` : \n",
      "                                      Name  Year    Duration   Genre  Rating  \\\n",
      "1      #Gadhvi (He thought he was Gandhi)  2019  109.000000   Drama     7.0   \n",
      "3                                 #Yaaram  2019  110.000000  Comedy     4.4   \n",
      "5                    ...Aur Pyaar Ho Gaya  1997  147.000000  Comedy     4.7   \n",
      "6                               ...Yahaan  2005  142.000000   Drama     7.4   \n",
      "8                      ?: A Question Mark  2012   82.000000  Horror     5.6   \n",
      "...                                   ...   ...         ...     ...     ...   \n",
      "15501                     Zulm Ki Hukumat  1992  132.796554  Action     5.3   \n",
      "15503                     Zulm Ki Zanjeer  1989  125.000000  Action     5.8   \n",
      "15504                 Zulm Ko Jala Doonga  1988  132.796554  Action     4.6   \n",
      "15505                               Zulmi  1999  129.000000  Action     4.5   \n",
      "15508                        Zulm-O-Sitam  1998  130.000000  Action     6.2   \n",
      "\n",
      "        Votes           Director           Actor 1                 Actor 2  \\\n",
      "1         8.0      Gaurav Bakshi      Rasika Dugal          Vivek Ghamande   \n",
      "3        35.0         Ovais Khan           Prateik              Ishita Raj   \n",
      "5       827.0       Rahul Rawail        Bobby Deol  Aishwarya Rai Bachchan   \n",
      "6      1086.0     Shoojit Sircar   Jimmy Sheirgill          Minissha Lamba   \n",
      "8       326.0      Allyson Patel         Yash Dave          Muntazir Ahmad   \n",
      "...       ...                ...               ...                     ...   \n",
      "15501   135.0  Bharat Rangachary        Dharmendra     Moushumi Chatterjee   \n",
      "15503    44.0    S.P. Muthuraman       Chiranjeevi              Jayamalini   \n",
      "15504    11.0      Mahendra Shah  Naseeruddin Shah           Sumeet Saigal   \n",
      "15505   655.0         Kuku Kohli      Akshay Kumar          Twinkle Khanna   \n",
      "15508    20.0       K.C. Bokadia        Dharmendra              Jaya Prada   \n",
      "\n",
      "               Actor 3  \n",
      "1        Arvind Jangid  \n",
      "3      Siddhant Kapoor  \n",
      "5        Shammi Kapoor  \n",
      "6       Yashpal Sharma  \n",
      "8         Kiran Bhatia  \n",
      "...                ...  \n",
      "15501          Govinda  \n",
      "15503      Rajinikanth  \n",
      "15504    Suparna Anand  \n",
      "15505      Aruna Irani  \n",
      "15508      Arjun Sarja  \n",
      "\n",
      "[7641 rows x 10 columns]\n"
     ]
    }
   ],
   "source": [
    "print('String entries in `Actor 2` : \\n', df[df['Actor 2'].apply(lambda x: isinstance(x, str))])"
   ]
  },
  {
   "cell_type": "markdown",
   "id": "d73c961e-844d-46fb-a847-8e6b6e7eb1fa",
   "metadata": {},
   "source": [
    "## Check for duplicate"
   ]
  },
  {
   "cell_type": "code",
   "execution_count": 33,
   "id": "6a4700d0-1e63-407d-842c-6e3c68fbcc2d",
   "metadata": {
    "tags": []
   },
   "outputs": [
    {
     "name": "stdout",
     "output_type": "stream",
     "text": [
      "Number for duplicated entries is :  0\n"
     ]
    }
   ],
   "source": [
    "print('Number for duplicated entries is : ', df.duplicated().sum())"
   ]
  },
  {
   "cell_type": "markdown",
   "id": "c4c7f0e1-52a2-4f01-baf0-74ed35960e96",
   "metadata": {},
   "source": [
    "<h2 style=\"padding : 10px; text-align: center;\"> Quick summary of preprocessing:</h2>"
   ]
  },
  {
   "cell_type": "markdown",
   "id": "e3afa6d0-5187-432f-a6c9-27dd20f79fa9",
   "metadata": {},
   "source": [
    "We performed many steps, here's a quick recap:\n",
    " - **Dealing with missing values**: We detected many missing values from the dataset, that's why we decided to drop some and fill the other. Since we are looking to predict the Rating of movies, we decided to only keep the valid rows to secure the integrity of our dataset. Next, we modified the Genre Feature such that we only maintain one main genre of the movie, and not three.\n",
    " - **Data format**: We made sure that each value for the 'Duration' and 'Year' Feature were formatted correctly.\n",
    " - **Artist**: we dropped rows in which the first artist or the main actor is missing."
   ]
  },
  {
   "cell_type": "markdown",
   "id": "20712765-5cf5-466c-9a42-0a26ecb198b2",
   "metadata": {
    "tags": []
   },
   "source": [
    "<h2 style =\"\">Statistics</h2>"
   ]
  },
  {
   "cell_type": "markdown",
   "id": "945445e9-1034-4275-95c8-d1a0093668e9",
   "metadata": {},
   "source": [
    "### Univariant analyse:"
   ]
  },
  {
   "cell_type": "code",
   "execution_count": 25,
   "id": "36fcadb4-13b7-4c57-a271-3e3e753a190b",
   "metadata": {
    "tags": []
   },
   "outputs": [
    {
     "data": {
      "text/html": [
       "<div>\n",
       "<style scoped>\n",
       "    .dataframe tbody tr th:only-of-type {\n",
       "        vertical-align: middle;\n",
       "    }\n",
       "\n",
       "    .dataframe tbody tr th {\n",
       "        vertical-align: top;\n",
       "    }\n",
       "\n",
       "    .dataframe thead th {\n",
       "        text-align: right;\n",
       "    }\n",
       "</style>\n",
       "<table border=\"1\" class=\"dataframe\">\n",
       "  <thead>\n",
       "    <tr style=\"text-align: right;\">\n",
       "      <th></th>\n",
       "      <th>Name</th>\n",
       "      <th>Year</th>\n",
       "      <th>Duration</th>\n",
       "      <th>Genre</th>\n",
       "      <th>Rating</th>\n",
       "      <th>Votes</th>\n",
       "      <th>Director</th>\n",
       "      <th>Actor 1</th>\n",
       "      <th>Actor 2</th>\n",
       "      <th>Actor 3</th>\n",
       "    </tr>\n",
       "  </thead>\n",
       "  <tbody>\n",
       "    <tr>\n",
       "      <th>1</th>\n",
       "      <td>#Gadhvi (He thought he was Gandhi)</td>\n",
       "      <td>2019</td>\n",
       "      <td>109.000000</td>\n",
       "      <td>Drama</td>\n",
       "      <td>7.0</td>\n",
       "      <td>8.0</td>\n",
       "      <td>Gaurav Bakshi</td>\n",
       "      <td>Rasika Dugal</td>\n",
       "      <td>Vivek Ghamande</td>\n",
       "      <td>Arvind Jangid</td>\n",
       "    </tr>\n",
       "    <tr>\n",
       "      <th>3</th>\n",
       "      <td>#Yaaram</td>\n",
       "      <td>2019</td>\n",
       "      <td>110.000000</td>\n",
       "      <td>Comedy</td>\n",
       "      <td>4.4</td>\n",
       "      <td>35.0</td>\n",
       "      <td>Ovais Khan</td>\n",
       "      <td>Prateik</td>\n",
       "      <td>Ishita Raj</td>\n",
       "      <td>Siddhant Kapoor</td>\n",
       "    </tr>\n",
       "    <tr>\n",
       "      <th>5</th>\n",
       "      <td>...Aur Pyaar Ho Gaya</td>\n",
       "      <td>1997</td>\n",
       "      <td>147.000000</td>\n",
       "      <td>Comedy</td>\n",
       "      <td>4.7</td>\n",
       "      <td>827.0</td>\n",
       "      <td>Rahul Rawail</td>\n",
       "      <td>Bobby Deol</td>\n",
       "      <td>Aishwarya Rai Bachchan</td>\n",
       "      <td>Shammi Kapoor</td>\n",
       "    </tr>\n",
       "    <tr>\n",
       "      <th>6</th>\n",
       "      <td>...Yahaan</td>\n",
       "      <td>2005</td>\n",
       "      <td>142.000000</td>\n",
       "      <td>Drama</td>\n",
       "      <td>7.4</td>\n",
       "      <td>1086.0</td>\n",
       "      <td>Shoojit Sircar</td>\n",
       "      <td>Jimmy Sheirgill</td>\n",
       "      <td>Minissha Lamba</td>\n",
       "      <td>Yashpal Sharma</td>\n",
       "    </tr>\n",
       "    <tr>\n",
       "      <th>8</th>\n",
       "      <td>?: A Question Mark</td>\n",
       "      <td>2012</td>\n",
       "      <td>82.000000</td>\n",
       "      <td>Horror</td>\n",
       "      <td>5.6</td>\n",
       "      <td>326.0</td>\n",
       "      <td>Allyson Patel</td>\n",
       "      <td>Yash Dave</td>\n",
       "      <td>Muntazir Ahmad</td>\n",
       "      <td>Kiran Bhatia</td>\n",
       "    </tr>\n",
       "    <tr>\n",
       "      <th>...</th>\n",
       "      <td>...</td>\n",
       "      <td>...</td>\n",
       "      <td>...</td>\n",
       "      <td>...</td>\n",
       "      <td>...</td>\n",
       "      <td>...</td>\n",
       "      <td>...</td>\n",
       "      <td>...</td>\n",
       "      <td>...</td>\n",
       "      <td>...</td>\n",
       "    </tr>\n",
       "    <tr>\n",
       "      <th>15501</th>\n",
       "      <td>Zulm Ki Hukumat</td>\n",
       "      <td>1992</td>\n",
       "      <td>132.796554</td>\n",
       "      <td>Action</td>\n",
       "      <td>5.3</td>\n",
       "      <td>135.0</td>\n",
       "      <td>Bharat Rangachary</td>\n",
       "      <td>Dharmendra</td>\n",
       "      <td>Moushumi Chatterjee</td>\n",
       "      <td>Govinda</td>\n",
       "    </tr>\n",
       "    <tr>\n",
       "      <th>15503</th>\n",
       "      <td>Zulm Ki Zanjeer</td>\n",
       "      <td>1989</td>\n",
       "      <td>125.000000</td>\n",
       "      <td>Action</td>\n",
       "      <td>5.8</td>\n",
       "      <td>44.0</td>\n",
       "      <td>S.P. Muthuraman</td>\n",
       "      <td>Chiranjeevi</td>\n",
       "      <td>Jayamalini</td>\n",
       "      <td>Rajinikanth</td>\n",
       "    </tr>\n",
       "    <tr>\n",
       "      <th>15504</th>\n",
       "      <td>Zulm Ko Jala Doonga</td>\n",
       "      <td>1988</td>\n",
       "      <td>132.796554</td>\n",
       "      <td>Action</td>\n",
       "      <td>4.6</td>\n",
       "      <td>11.0</td>\n",
       "      <td>Mahendra Shah</td>\n",
       "      <td>Naseeruddin Shah</td>\n",
       "      <td>Sumeet Saigal</td>\n",
       "      <td>Suparna Anand</td>\n",
       "    </tr>\n",
       "    <tr>\n",
       "      <th>15505</th>\n",
       "      <td>Zulmi</td>\n",
       "      <td>1999</td>\n",
       "      <td>129.000000</td>\n",
       "      <td>Action</td>\n",
       "      <td>4.5</td>\n",
       "      <td>655.0</td>\n",
       "      <td>Kuku Kohli</td>\n",
       "      <td>Akshay Kumar</td>\n",
       "      <td>Twinkle Khanna</td>\n",
       "      <td>Aruna Irani</td>\n",
       "    </tr>\n",
       "    <tr>\n",
       "      <th>15508</th>\n",
       "      <td>Zulm-O-Sitam</td>\n",
       "      <td>1998</td>\n",
       "      <td>130.000000</td>\n",
       "      <td>Action</td>\n",
       "      <td>6.2</td>\n",
       "      <td>20.0</td>\n",
       "      <td>K.C. Bokadia</td>\n",
       "      <td>Dharmendra</td>\n",
       "      <td>Jaya Prada</td>\n",
       "      <td>Arjun Sarja</td>\n",
       "    </tr>\n",
       "  </tbody>\n",
       "</table>\n",
       "<p>7707 rows × 10 columns</p>\n",
       "</div>"
      ],
      "text/plain": [
       "                                     Name  Year    Duration   Genre  Rating  \\\n",
       "1      #Gadhvi (He thought he was Gandhi)  2019  109.000000   Drama     7.0   \n",
       "3                                 #Yaaram  2019  110.000000  Comedy     4.4   \n",
       "5                    ...Aur Pyaar Ho Gaya  1997  147.000000  Comedy     4.7   \n",
       "6                               ...Yahaan  2005  142.000000   Drama     7.4   \n",
       "8                      ?: A Question Mark  2012   82.000000  Horror     5.6   \n",
       "...                                   ...   ...         ...     ...     ...   \n",
       "15501                     Zulm Ki Hukumat  1992  132.796554  Action     5.3   \n",
       "15503                     Zulm Ki Zanjeer  1989  125.000000  Action     5.8   \n",
       "15504                 Zulm Ko Jala Doonga  1988  132.796554  Action     4.6   \n",
       "15505                               Zulmi  1999  129.000000  Action     4.5   \n",
       "15508                        Zulm-O-Sitam  1998  130.000000  Action     6.2   \n",
       "\n",
       "        Votes           Director           Actor 1                 Actor 2  \\\n",
       "1         8.0      Gaurav Bakshi      Rasika Dugal          Vivek Ghamande   \n",
       "3        35.0         Ovais Khan           Prateik              Ishita Raj   \n",
       "5       827.0       Rahul Rawail        Bobby Deol  Aishwarya Rai Bachchan   \n",
       "6      1086.0     Shoojit Sircar   Jimmy Sheirgill          Minissha Lamba   \n",
       "8       326.0      Allyson Patel         Yash Dave          Muntazir Ahmad   \n",
       "...       ...                ...               ...                     ...   \n",
       "15501   135.0  Bharat Rangachary        Dharmendra     Moushumi Chatterjee   \n",
       "15503    44.0    S.P. Muthuraman       Chiranjeevi              Jayamalini   \n",
       "15504    11.0      Mahendra Shah  Naseeruddin Shah           Sumeet Saigal   \n",
       "15505   655.0         Kuku Kohli      Akshay Kumar          Twinkle Khanna   \n",
       "15508    20.0       K.C. Bokadia        Dharmendra              Jaya Prada   \n",
       "\n",
       "               Actor 3  \n",
       "1        Arvind Jangid  \n",
       "3      Siddhant Kapoor  \n",
       "5        Shammi Kapoor  \n",
       "6       Yashpal Sharma  \n",
       "8         Kiran Bhatia  \n",
       "...                ...  \n",
       "15501          Govinda  \n",
       "15503      Rajinikanth  \n",
       "15504    Suparna Anand  \n",
       "15505      Aruna Irani  \n",
       "15508      Arjun Sarja  \n",
       "\n",
       "[7707 rows x 10 columns]"
      ]
     },
     "execution_count": 25,
     "metadata": {},
     "output_type": "execute_result"
    }
   ],
   "source": [
    "df"
   ]
  },
  {
   "cell_type": "markdown",
   "id": "cb531438-0e91-46bc-92e9-92ec448bf3be",
   "metadata": {},
   "source": [
    "#### Most frequent Actor in the dataset:"
   ]
  },
  {
   "cell_type": "code",
   "execution_count": 37,
   "id": "7ad0faed-1b2c-4284-8bae-c70a91594c2c",
   "metadata": {
    "tags": []
   },
   "outputs": [
    {
     "data": {
      "text/plain": [
       "count          7707\n",
       "unique         2517\n",
       "top       Jeetendra\n",
       "freq            140\n",
       "Name: Actor 1, dtype: object"
      ]
     },
     "execution_count": 37,
     "metadata": {},
     "output_type": "execute_result"
    }
   ],
   "source": [
    "df['Actor 1'].describe()"
   ]
  },
  {
   "cell_type": "code",
   "execution_count": 38,
   "id": "826a1e77-0b59-45b9-8ce7-f6bcb7b4fdd6",
   "metadata": {
    "tags": []
   },
   "outputs": [
    {
     "data": {
      "text/plain": [
       "count      7641\n",
       "unique     2833\n",
       "top       Rekha\n",
       "freq         79\n",
       "Name: Actor 2, dtype: object"
      ]
     },
     "execution_count": 38,
     "metadata": {},
     "output_type": "execute_result"
    }
   ],
   "source": [
    "df['Actor 2'].describe()"
   ]
  },
  {
   "cell_type": "code",
   "execution_count": 39,
   "id": "99f910cb-9916-4a97-a9c7-0058da0fa309",
   "metadata": {
    "tags": []
   },
   "outputs": [
    {
     "data": {
      "text/plain": [
       "count     7558\n",
       "unique    3031\n",
       "top       Pran\n",
       "freq        74\n",
       "Name: Actor 3, dtype: object"
      ]
     },
     "execution_count": 39,
     "metadata": {},
     "output_type": "execute_result"
    }
   ],
   "source": [
    "df['Actor 3'].describe()"
   ]
  },
  {
   "cell_type": "code",
   "execution_count": 42,
   "id": "d5e0fc96-cc37-4c0f-b9d2-66a76e40942e",
   "metadata": {
    "tags": []
   },
   "outputs": [
    {
     "ename": "TypeError",
     "evalue": "unhashable type: 'numpy.ndarray'",
     "output_type": "error",
     "traceback": [
      "\u001b[0;31m---------------------------------------------------------------------------\u001b[0m",
      "\u001b[0;31mTypeError\u001b[0m                                 Traceback (most recent call last)",
      "Cell \u001b[0;32mIn[42], line 2\u001b[0m\n\u001b[1;32m      1\u001b[0m plt\u001b[38;5;241m.\u001b[39mfigure(figsize\u001b[38;5;241m=\u001b[39m (\u001b[38;5;241m12\u001b[39m,\u001b[38;5;241m12\u001b[39m))\n\u001b[0;32m----> 2\u001b[0m plt\u001b[38;5;241m.\u001b[39mscatter(df[\u001b[38;5;124m'\u001b[39m\u001b[38;5;124mActor 1\u001b[39m\u001b[38;5;124m'\u001b[39m], df, s \u001b[38;5;241m=\u001b[39m df[\u001b[38;5;124m'\u001b[39m\u001b[38;5;124mRating\u001b[39m\u001b[38;5;124m'\u001b[39m])\n",
      "File \u001b[0;32m~/anaconda3/lib/python3.11/site-packages/matplotlib/pyplot.py:2862\u001b[0m, in \u001b[0;36mscatter\u001b[0;34m(x, y, s, c, marker, cmap, norm, vmin, vmax, alpha, linewidths, edgecolors, plotnonfinite, data, **kwargs)\u001b[0m\n\u001b[1;32m   2857\u001b[0m \u001b[38;5;129m@_copy_docstring_and_deprecators\u001b[39m(Axes\u001b[38;5;241m.\u001b[39mscatter)\n\u001b[1;32m   2858\u001b[0m \u001b[38;5;28;01mdef\u001b[39;00m \u001b[38;5;21mscatter\u001b[39m(\n\u001b[1;32m   2859\u001b[0m         x, y, s\u001b[38;5;241m=\u001b[39m\u001b[38;5;28;01mNone\u001b[39;00m, c\u001b[38;5;241m=\u001b[39m\u001b[38;5;28;01mNone\u001b[39;00m, marker\u001b[38;5;241m=\u001b[39m\u001b[38;5;28;01mNone\u001b[39;00m, cmap\u001b[38;5;241m=\u001b[39m\u001b[38;5;28;01mNone\u001b[39;00m, norm\u001b[38;5;241m=\u001b[39m\u001b[38;5;28;01mNone\u001b[39;00m,\n\u001b[1;32m   2860\u001b[0m         vmin\u001b[38;5;241m=\u001b[39m\u001b[38;5;28;01mNone\u001b[39;00m, vmax\u001b[38;5;241m=\u001b[39m\u001b[38;5;28;01mNone\u001b[39;00m, alpha\u001b[38;5;241m=\u001b[39m\u001b[38;5;28;01mNone\u001b[39;00m, linewidths\u001b[38;5;241m=\u001b[39m\u001b[38;5;28;01mNone\u001b[39;00m, \u001b[38;5;241m*\u001b[39m,\n\u001b[1;32m   2861\u001b[0m         edgecolors\u001b[38;5;241m=\u001b[39m\u001b[38;5;28;01mNone\u001b[39;00m, plotnonfinite\u001b[38;5;241m=\u001b[39m\u001b[38;5;28;01mFalse\u001b[39;00m, data\u001b[38;5;241m=\u001b[39m\u001b[38;5;28;01mNone\u001b[39;00m, \u001b[38;5;241m*\u001b[39m\u001b[38;5;241m*\u001b[39mkwargs):\n\u001b[0;32m-> 2862\u001b[0m     __ret \u001b[38;5;241m=\u001b[39m gca()\u001b[38;5;241m.\u001b[39mscatter(\n\u001b[1;32m   2863\u001b[0m         x, y, s\u001b[38;5;241m=\u001b[39ms, c\u001b[38;5;241m=\u001b[39mc, marker\u001b[38;5;241m=\u001b[39mmarker, cmap\u001b[38;5;241m=\u001b[39mcmap, norm\u001b[38;5;241m=\u001b[39mnorm,\n\u001b[1;32m   2864\u001b[0m         vmin\u001b[38;5;241m=\u001b[39mvmin, vmax\u001b[38;5;241m=\u001b[39mvmax, alpha\u001b[38;5;241m=\u001b[39malpha, linewidths\u001b[38;5;241m=\u001b[39mlinewidths,\n\u001b[1;32m   2865\u001b[0m         edgecolors\u001b[38;5;241m=\u001b[39medgecolors, plotnonfinite\u001b[38;5;241m=\u001b[39mplotnonfinite,\n\u001b[1;32m   2866\u001b[0m         \u001b[38;5;241m*\u001b[39m\u001b[38;5;241m*\u001b[39m({\u001b[38;5;124m\"\u001b[39m\u001b[38;5;124mdata\u001b[39m\u001b[38;5;124m\"\u001b[39m: data} \u001b[38;5;28;01mif\u001b[39;00m data \u001b[38;5;129;01mis\u001b[39;00m \u001b[38;5;129;01mnot\u001b[39;00m \u001b[38;5;28;01mNone\u001b[39;00m \u001b[38;5;28;01melse\u001b[39;00m {}), \u001b[38;5;241m*\u001b[39m\u001b[38;5;241m*\u001b[39mkwargs)\n\u001b[1;32m   2867\u001b[0m     sci(__ret)\n\u001b[1;32m   2868\u001b[0m     \u001b[38;5;28;01mreturn\u001b[39;00m __ret\n",
      "File \u001b[0;32m~/anaconda3/lib/python3.11/site-packages/matplotlib/__init__.py:1446\u001b[0m, in \u001b[0;36m_preprocess_data.<locals>.inner\u001b[0;34m(ax, data, *args, **kwargs)\u001b[0m\n\u001b[1;32m   1443\u001b[0m \u001b[38;5;129m@functools\u001b[39m\u001b[38;5;241m.\u001b[39mwraps(func)\n\u001b[1;32m   1444\u001b[0m \u001b[38;5;28;01mdef\u001b[39;00m \u001b[38;5;21minner\u001b[39m(ax, \u001b[38;5;241m*\u001b[39margs, data\u001b[38;5;241m=\u001b[39m\u001b[38;5;28;01mNone\u001b[39;00m, \u001b[38;5;241m*\u001b[39m\u001b[38;5;241m*\u001b[39mkwargs):\n\u001b[1;32m   1445\u001b[0m     \u001b[38;5;28;01mif\u001b[39;00m data \u001b[38;5;129;01mis\u001b[39;00m \u001b[38;5;28;01mNone\u001b[39;00m:\n\u001b[0;32m-> 1446\u001b[0m         \u001b[38;5;28;01mreturn\u001b[39;00m func(ax, \u001b[38;5;241m*\u001b[39m\u001b[38;5;28mmap\u001b[39m(sanitize_sequence, args), \u001b[38;5;241m*\u001b[39m\u001b[38;5;241m*\u001b[39mkwargs)\n\u001b[1;32m   1448\u001b[0m     bound \u001b[38;5;241m=\u001b[39m new_sig\u001b[38;5;241m.\u001b[39mbind(ax, \u001b[38;5;241m*\u001b[39margs, \u001b[38;5;241m*\u001b[39m\u001b[38;5;241m*\u001b[39mkwargs)\n\u001b[1;32m   1449\u001b[0m     auto_label \u001b[38;5;241m=\u001b[39m (bound\u001b[38;5;241m.\u001b[39marguments\u001b[38;5;241m.\u001b[39mget(label_namer)\n\u001b[1;32m   1450\u001b[0m                   \u001b[38;5;129;01mor\u001b[39;00m bound\u001b[38;5;241m.\u001b[39mkwargs\u001b[38;5;241m.\u001b[39mget(label_namer))\n",
      "File \u001b[0;32m~/anaconda3/lib/python3.11/site-packages/matplotlib/axes/_axes.py:4572\u001b[0m, in \u001b[0;36mAxes.scatter\u001b[0;34m(self, x, y, s, c, marker, cmap, norm, vmin, vmax, alpha, linewidths, edgecolors, plotnonfinite, **kwargs)\u001b[0m\n\u001b[1;32m   4462\u001b[0m \u001b[38;5;250m\u001b[39m\u001b[38;5;124;03m\"\"\"\u001b[39;00m\n\u001b[1;32m   4463\u001b[0m \u001b[38;5;124;03mA scatter plot of *y* vs. *x* with varying marker size and/or color.\u001b[39;00m\n\u001b[1;32m   4464\u001b[0m \n\u001b[0;32m   (...)\u001b[0m\n\u001b[1;32m   4569\u001b[0m \n\u001b[1;32m   4570\u001b[0m \u001b[38;5;124;03m\"\"\"\u001b[39;00m\n\u001b[1;32m   4571\u001b[0m \u001b[38;5;66;03m# Process **kwargs to handle aliases, conflicts with explicit kwargs:\u001b[39;00m\n\u001b[0;32m-> 4572\u001b[0m x, y \u001b[38;5;241m=\u001b[39m \u001b[38;5;28mself\u001b[39m\u001b[38;5;241m.\u001b[39m_process_unit_info([(\u001b[38;5;124m\"\u001b[39m\u001b[38;5;124mx\u001b[39m\u001b[38;5;124m\"\u001b[39m, x), (\u001b[38;5;124m\"\u001b[39m\u001b[38;5;124my\u001b[39m\u001b[38;5;124m\"\u001b[39m, y)], kwargs)\n\u001b[1;32m   4573\u001b[0m \u001b[38;5;66;03m# np.ma.ravel yields an ndarray, not a masked array,\u001b[39;00m\n\u001b[1;32m   4574\u001b[0m \u001b[38;5;66;03m# unless its argument is a masked array.\u001b[39;00m\n\u001b[1;32m   4575\u001b[0m x \u001b[38;5;241m=\u001b[39m np\u001b[38;5;241m.\u001b[39mma\u001b[38;5;241m.\u001b[39mravel(x)\n",
      "File \u001b[0;32m~/anaconda3/lib/python3.11/site-packages/matplotlib/axes/_base.py:2549\u001b[0m, in \u001b[0;36m_AxesBase._process_unit_info\u001b[0;34m(self, datasets, kwargs, convert)\u001b[0m\n\u001b[1;32m   2547\u001b[0m     \u001b[38;5;66;03m# Update from data if axis is already set but no unit is set yet.\u001b[39;00m\n\u001b[1;32m   2548\u001b[0m     \u001b[38;5;28;01mif\u001b[39;00m axis \u001b[38;5;129;01mis\u001b[39;00m \u001b[38;5;129;01mnot\u001b[39;00m \u001b[38;5;28;01mNone\u001b[39;00m \u001b[38;5;129;01mand\u001b[39;00m data \u001b[38;5;129;01mis\u001b[39;00m \u001b[38;5;129;01mnot\u001b[39;00m \u001b[38;5;28;01mNone\u001b[39;00m \u001b[38;5;129;01mand\u001b[39;00m \u001b[38;5;129;01mnot\u001b[39;00m axis\u001b[38;5;241m.\u001b[39mhave_units():\n\u001b[0;32m-> 2549\u001b[0m         axis\u001b[38;5;241m.\u001b[39mupdate_units(data)\n\u001b[1;32m   2550\u001b[0m \u001b[38;5;28;01mfor\u001b[39;00m axis_name, axis \u001b[38;5;129;01min\u001b[39;00m axis_map\u001b[38;5;241m.\u001b[39mitems():\n\u001b[1;32m   2551\u001b[0m     \u001b[38;5;66;03m# Return if no axis is set.\u001b[39;00m\n\u001b[1;32m   2552\u001b[0m     \u001b[38;5;28;01mif\u001b[39;00m axis \u001b[38;5;129;01mis\u001b[39;00m \u001b[38;5;28;01mNone\u001b[39;00m:\n",
      "File \u001b[0;32m~/anaconda3/lib/python3.11/site-packages/matplotlib/axis.py:1675\u001b[0m, in \u001b[0;36mAxis.update_units\u001b[0;34m(self, data)\u001b[0m\n\u001b[1;32m   1673\u001b[0m neednew \u001b[38;5;241m=\u001b[39m \u001b[38;5;28mself\u001b[39m\u001b[38;5;241m.\u001b[39mconverter \u001b[38;5;241m!=\u001b[39m converter\n\u001b[1;32m   1674\u001b[0m \u001b[38;5;28mself\u001b[39m\u001b[38;5;241m.\u001b[39mconverter \u001b[38;5;241m=\u001b[39m converter\n\u001b[0;32m-> 1675\u001b[0m default \u001b[38;5;241m=\u001b[39m \u001b[38;5;28mself\u001b[39m\u001b[38;5;241m.\u001b[39mconverter\u001b[38;5;241m.\u001b[39mdefault_units(data, \u001b[38;5;28mself\u001b[39m)\n\u001b[1;32m   1676\u001b[0m \u001b[38;5;28;01mif\u001b[39;00m default \u001b[38;5;129;01mis\u001b[39;00m \u001b[38;5;129;01mnot\u001b[39;00m \u001b[38;5;28;01mNone\u001b[39;00m \u001b[38;5;129;01mand\u001b[39;00m \u001b[38;5;28mself\u001b[39m\u001b[38;5;241m.\u001b[39munits \u001b[38;5;129;01mis\u001b[39;00m \u001b[38;5;28;01mNone\u001b[39;00m:\n\u001b[1;32m   1677\u001b[0m     \u001b[38;5;28mself\u001b[39m\u001b[38;5;241m.\u001b[39mset_units(default)\n",
      "File \u001b[0;32m~/anaconda3/lib/python3.11/site-packages/matplotlib/category.py:105\u001b[0m, in \u001b[0;36mStrCategoryConverter.default_units\u001b[0;34m(data, axis)\u001b[0m\n\u001b[1;32m    103\u001b[0m \u001b[38;5;66;03m# the conversion call stack is default_units -> axis_info -> convert\u001b[39;00m\n\u001b[1;32m    104\u001b[0m \u001b[38;5;28;01mif\u001b[39;00m axis\u001b[38;5;241m.\u001b[39munits \u001b[38;5;129;01mis\u001b[39;00m \u001b[38;5;28;01mNone\u001b[39;00m:\n\u001b[0;32m--> 105\u001b[0m     axis\u001b[38;5;241m.\u001b[39mset_units(UnitData(data))\n\u001b[1;32m    106\u001b[0m \u001b[38;5;28;01melse\u001b[39;00m:\n\u001b[1;32m    107\u001b[0m     axis\u001b[38;5;241m.\u001b[39munits\u001b[38;5;241m.\u001b[39mupdate(data)\n",
      "File \u001b[0;32m~/anaconda3/lib/python3.11/site-packages/matplotlib/category.py:181\u001b[0m, in \u001b[0;36mUnitData.__init__\u001b[0;34m(self, data)\u001b[0m\n\u001b[1;32m    179\u001b[0m \u001b[38;5;28mself\u001b[39m\u001b[38;5;241m.\u001b[39m_counter \u001b[38;5;241m=\u001b[39m itertools\u001b[38;5;241m.\u001b[39mcount()\n\u001b[1;32m    180\u001b[0m \u001b[38;5;28;01mif\u001b[39;00m data \u001b[38;5;129;01mis\u001b[39;00m \u001b[38;5;129;01mnot\u001b[39;00m \u001b[38;5;28;01mNone\u001b[39;00m:\n\u001b[0;32m--> 181\u001b[0m     \u001b[38;5;28mself\u001b[39m\u001b[38;5;241m.\u001b[39mupdate(data)\n",
      "File \u001b[0;32m~/anaconda3/lib/python3.11/site-packages/matplotlib/category.py:214\u001b[0m, in \u001b[0;36mUnitData.update\u001b[0;34m(self, data)\u001b[0m\n\u001b[1;32m    212\u001b[0m \u001b[38;5;66;03m# check if convertible to number:\u001b[39;00m\n\u001b[1;32m    213\u001b[0m convertible \u001b[38;5;241m=\u001b[39m \u001b[38;5;28;01mTrue\u001b[39;00m\n\u001b[0;32m--> 214\u001b[0m \u001b[38;5;28;01mfor\u001b[39;00m val \u001b[38;5;129;01min\u001b[39;00m OrderedDict\u001b[38;5;241m.\u001b[39mfromkeys(data):\n\u001b[1;32m    215\u001b[0m     \u001b[38;5;66;03m# OrderedDict just iterates over unique values in data.\u001b[39;00m\n\u001b[1;32m    216\u001b[0m     _api\u001b[38;5;241m.\u001b[39mcheck_isinstance((\u001b[38;5;28mstr\u001b[39m, \u001b[38;5;28mbytes\u001b[39m), value\u001b[38;5;241m=\u001b[39mval)\n\u001b[1;32m    217\u001b[0m     \u001b[38;5;28;01mif\u001b[39;00m convertible:\n\u001b[1;32m    218\u001b[0m         \u001b[38;5;66;03m# this will only be called so long as convertible is True.\u001b[39;00m\n",
      "\u001b[0;31mTypeError\u001b[0m: unhashable type: 'numpy.ndarray'"
     ]
    },
    {
     "data": {
      "image/png": "[encoded data removed]",
      "text/plain": [
       "<Figure size 1200x1200 with 1 Axes>"
      ]
     },
     "metadata": {},
     "output_type": "display_data"
    }
   ],
   "source": [
    "plt.scatter(df['Actor 1'], df['Duration'], s=df['Votes'], c=df['Rating'])\n",
    "plt.xlabel('Actor 1')\n",
    "plt.ylabel('Duration')\n",
    "plt.title('Scatter Plot of Duration vs. Actor 1 with Marker Size Based on Votes and Color Based on Rating')\n",
    "plt.colorbar(label='Rating')\n",
    "plt.show()"
   ]
  },
  {
   "cell_type": "code",
   "execution_count": null,
   "id": "28def633-210a-432b-8c37-c4714a70144f",
   "metadata": {},
   "outputs": [],
   "source": []
  }
 ],
 "metadata": {
  "kernelspec": {
   "display_name": "Python 3 (ipykernel)",
   "language": "python",
   "name": "python3"
  },
  "language_info": {
   "codemirror_mode": {
    "name": "ipython",
    "version": 3
   },
   "file_extension": ".py",
   "mimetype": "text/x-python",
   "name": "python",
   "nbconvert_exporter": "python",
   "pygments_lexer": "ipython3",
   "version": "3.11.5"
  }
 },
 "nbformat": 4,
 "nbformat_minor": 5
}
