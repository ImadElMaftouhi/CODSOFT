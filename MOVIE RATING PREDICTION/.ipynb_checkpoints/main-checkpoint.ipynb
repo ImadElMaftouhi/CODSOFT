{
 "cells": [
  {
   "cell_type": "markdown",
   "id": "e37c531b-4846-424d-a128-09c668e80f27",
   "metadata": {},
   "source": [
    "<h1 style = \"text-align: center; font-size: 48px;\">MOVIE RATING PREDICTION WITH PYTHON<h1>"
   ]
  },
  {
   "cell_type": "markdown",
   "id": "d80259e0-9b65-4ef0-8a11-6efdb920677b",
   "metadata": {},
   "source": [
    "<h2>Introduction</h2>"
   ]
  },
  {
   "cell_type": "markdown",
   "id": "ae49b08e-cbb6-4278-82ea-48390817be22",
   "metadata": {},
   "source": [
    "<p>\n",
    "Movies are without a doubt, an essential part of the modern age. Each Movie has a story to tell, an idea to share, or a case to defend.\n",
    "This dataset is pulled from IMDb.com of all the Indian movies on the platform. <br>\n",
    "Our task today will be to clean this data by different method, and to provide some usefull insight into how to the dataset is partitioned, accompagned by studying the relationship between different Features.\n",
    "All of this will be assembled into what we call, A Data Preprocessing Pipeline. More on that later on.\n",
    "</p>"
   ]
  },
  {
   "cell_type": "markdown",
   "id": "fc0b10f4-1fbe-45b0-af58-a1fd50c2bfe0",
   "metadata": {},
   "source": [
    "<h2>Page Index</h2>\n",
    "<ol>\n",
    "    <li>Data collection</li>\n",
    "    <li>Data visualization</li>\n",
    "    <li>Data processing</li>\n",
    "    <li>Model initialisation</li>\n",
    "    <li>Valuation and optimization of the prediciton module</li>\n",
    "</ol>"
   ]
  },
  {
   "cell_type": "markdown",
   "id": "f3156808-87e8-49ec-9bf6-82c92f6c40df",
   "metadata": {},
   "source": [
    "<h2>Data Collection</h2>"
   ]
  },
  {
   "cell_type": "markdown",
   "id": "bb663435-2a1d-49b0-8c95-24b3449816a2",
   "metadata": {},
   "source": [
    "<h3>Source</h3>"
   ]
  },
  {
   "cell_type": "markdown",
   "id": "5021da09-db18-430a-853f-5df4c6dd13ac",
   "metadata": {},
   "source": [
    "The data has been collected from the famous website <i>Kaggle</i> which contains many usefull data set and informations.<br>\n",
    "Link : <a href=\"https://www.kaggle.com/datasets/adrianmcmahon/imdb-india-movies\">IMDb India Movies</a>"
   ]
  },
  {
   "cell_type": "markdown",
   "id": "c016f172-5021-4938-8564-876e003d18ea",
   "metadata": {},
   "source": [
    "<h3>Libraries</h3>"
   ]
  },
  {
   "cell_type": "code",
   "execution_count": 1,
   "id": "406b0d4e-5b90-4c6e-95fc-f4f74d7c21b0",
   "metadata": {
    "tags": []
   },
   "outputs": [],
   "source": [
    "import pandas as pd\n",
    "import seaborn as sns\n",
    "import numpy as np\n",
    "import matplotlib.pyplot as plt\n",
    "import sklearn as skl"
   ]
  },
  {
   "cell_type": "code",
   "execution_count": 2,
   "id": "a915011d-0d2d-4a83-99b5-d702014ade58",
   "metadata": {
    "tags": []
   },
   "outputs": [
    {
     "name": "stdout",
     "output_type": "stream",
     "text": [
      "Pandas version is :  2.0.3\n",
      "NumPy version is :  1.24.3\n",
      "Seaborn version is :  0.12.2\n",
      "matplotlib version is :  3.7.2\n",
      "sklearn version is :  1.3.0\n"
     ]
    }
   ],
   "source": [
    "print('Pandas version is : ', pd.__version__)\n",
    "print('NumPy version is : ', np.__version__)\n",
    "print('Seaborn version is : ', sns.__version__)\n",
    "print('matplotlib version is : ', plt.matplotlib.__version__)\n",
    "print('sklearn version is : ', skl.__version__)\n"
   ]
  },
  {
   "cell_type": "markdown",
   "id": "a1fa4010-2a69-4e6c-964a-a6d662bbb2c3",
   "metadata": {},
   "source": [
    "<h3>Importing the dataset</h3>"
   ]
  },
  {
   "cell_type": "code",
   "execution_count": 3,
   "id": "b9b8503d-60da-450a-a184-89ba360f7ae5",
   "metadata": {
    "tags": []
   },
   "outputs": [],
   "source": [
    "df = pd.read_csv('IMDb Movies India.csv')"
   ]
  },
  {
   "cell_type": "code",
   "execution_count": 4,
   "id": "412184c1-fb4a-41d8-b55c-492ecf583970",
   "metadata": {},
   "outputs": [
    {
     "data": {
      "text/html": [
       "<div>\n",
       "<style scoped>\n",
       "    .dataframe tbody tr th:only-of-type {\n",
       "        vertical-align: middle;\n",
       "    }\n",
       "\n",
       "    .dataframe tbody tr th {\n",
       "        vertical-align: top;\n",
       "    }\n",
       "\n",
       "    .dataframe thead th {\n",
       "        text-align: right;\n",
       "    }\n",
       "</style>\n",
       "<table border=\"1\" class=\"dataframe\">\n",
       "  <thead>\n",
       "    <tr style=\"text-align: right;\">\n",
       "      <th></th>\n",
       "      <th>Name</th>\n",
       "      <th>Year</th>\n",
       "      <th>Duration</th>\n",
       "      <th>Genre</th>\n",
       "      <th>Rating</th>\n",
       "      <th>Votes</th>\n",
       "      <th>Director</th>\n",
       "      <th>Actor 1</th>\n",
       "      <th>Actor 2</th>\n",
       "      <th>Actor 3</th>\n",
       "    </tr>\n",
       "  </thead>\n",
       "  <tbody>\n",
       "    <tr>\n",
       "      <th>0</th>\n",
       "      <td></td>\n",
       "      <td>NaN</td>\n",
       "      <td>NaN</td>\n",
       "      <td>Drama</td>\n",
       "      <td>NaN</td>\n",
       "      <td>NaN</td>\n",
       "      <td>J.S. Randhawa</td>\n",
       "      <td>Manmauji</td>\n",
       "      <td>Birbal</td>\n",
       "      <td>Rajendra Bhatia</td>\n",
       "    </tr>\n",
       "    <tr>\n",
       "      <th>1</th>\n",
       "      <td>#Gadhvi (He thought he was Gandhi)</td>\n",
       "      <td>(2019)</td>\n",
       "      <td>109 min</td>\n",
       "      <td>Drama</td>\n",
       "      <td>7.0</td>\n",
       "      <td>8</td>\n",
       "      <td>Gaurav Bakshi</td>\n",
       "      <td>Rasika Dugal</td>\n",
       "      <td>Vivek Ghamande</td>\n",
       "      <td>Arvind Jangid</td>\n",
       "    </tr>\n",
       "    <tr>\n",
       "      <th>2</th>\n",
       "      <td>#Homecoming</td>\n",
       "      <td>(2021)</td>\n",
       "      <td>90 min</td>\n",
       "      <td>Drama, Musical</td>\n",
       "      <td>NaN</td>\n",
       "      <td>NaN</td>\n",
       "      <td>Soumyajit Majumdar</td>\n",
       "      <td>Sayani Gupta</td>\n",
       "      <td>Plabita Borthakur</td>\n",
       "      <td>Roy Angana</td>\n",
       "    </tr>\n",
       "    <tr>\n",
       "      <th>3</th>\n",
       "      <td>#Yaaram</td>\n",
       "      <td>(2019)</td>\n",
       "      <td>110 min</td>\n",
       "      <td>Comedy, Romance</td>\n",
       "      <td>4.4</td>\n",
       "      <td>35</td>\n",
       "      <td>Ovais Khan</td>\n",
       "      <td>Prateik</td>\n",
       "      <td>Ishita Raj</td>\n",
       "      <td>Siddhant Kapoor</td>\n",
       "    </tr>\n",
       "    <tr>\n",
       "      <th>4</th>\n",
       "      <td>...And Once Again</td>\n",
       "      <td>(2010)</td>\n",
       "      <td>105 min</td>\n",
       "      <td>Drama</td>\n",
       "      <td>NaN</td>\n",
       "      <td>NaN</td>\n",
       "      <td>Amol Palekar</td>\n",
       "      <td>Rajat Kapoor</td>\n",
       "      <td>Rituparna Sengupta</td>\n",
       "      <td>Antara Mali</td>\n",
       "    </tr>\n",
       "  </tbody>\n",
       "</table>\n",
       "</div>"
      ],
      "text/plain": [
       "                                 Name    Year Duration            Genre  \\\n",
       "0                                         NaN      NaN            Drama   \n",
       "1  #Gadhvi (He thought he was Gandhi)  (2019)  109 min            Drama   \n",
       "2                         #Homecoming  (2021)   90 min   Drama, Musical   \n",
       "3                             #Yaaram  (2019)  110 min  Comedy, Romance   \n",
       "4                   ...And Once Again  (2010)  105 min            Drama   \n",
       "\n",
       "   Rating Votes            Director       Actor 1             Actor 2  \\\n",
       "0     NaN   NaN       J.S. Randhawa      Manmauji              Birbal   \n",
       "1     7.0     8       Gaurav Bakshi  Rasika Dugal      Vivek Ghamande   \n",
       "2     NaN   NaN  Soumyajit Majumdar  Sayani Gupta   Plabita Borthakur   \n",
       "3     4.4    35          Ovais Khan       Prateik          Ishita Raj   \n",
       "4     NaN   NaN        Amol Palekar  Rajat Kapoor  Rituparna Sengupta   \n",
       "\n",
       "           Actor 3  \n",
       "0  Rajendra Bhatia  \n",
       "1    Arvind Jangid  \n",
       "2       Roy Angana  \n",
       "3  Siddhant Kapoor  \n",
       "4      Antara Mali  "
      ]
     },
     "execution_count": 4,
     "metadata": {},
     "output_type": "execute_result"
    }
   ],
   "source": [
    "df.head()"
   ]
  },
  {
   "cell_type": "markdown",
   "id": "055c4553-9746-4085-b8f0-adf847023352",
   "metadata": {},
   "source": [
    "<h3>Understanding the dataset</h3>"
   ]
  },
  {
   "cell_type": "code",
   "execution_count": 5,
   "id": "b680e183-1d04-4f30-a32b-bdd3a5c855e7",
   "metadata": {
    "tags": []
   },
   "outputs": [
    {
     "name": "stdout",
     "output_type": "stream",
     "text": [
      "<class 'pandas.core.frame.DataFrame'>\n",
      "RangeIndex: 15509 entries, 0 to 15508\n",
      "Data columns (total 10 columns):\n",
      " #   Column    Non-Null Count  Dtype  \n",
      "---  ------    --------------  -----  \n",
      " 0   Name      15509 non-null  object \n",
      " 1   Year      14981 non-null  object \n",
      " 2   Duration  7240 non-null   object \n",
      " 3   Genre     13632 non-null  object \n",
      " 4   Rating    7919 non-null   float64\n",
      " 5   Votes     7920 non-null   object \n",
      " 6   Director  14984 non-null  object \n",
      " 7   Actor 1   13892 non-null  object \n",
      " 8   Actor 2   13125 non-null  object \n",
      " 9   Actor 3   12365 non-null  object \n",
      "dtypes: float64(1), object(9)\n",
      "memory usage: 1.2+ MB\n"
     ]
    }
   ],
   "source": [
    "df.info()"
   ]
  },
  {
   "cell_type": "markdown",
   "id": "c20f1097-aaa4-4c54-990c-5d75647233d2",
   "metadata": {},
   "source": [
    "<h3>Data description</h3>"
   ]
  },
  {
   "cell_type": "markdown",
   "id": "8d538626-d2c9-4190-94ab-f291c04e33c9",
   "metadata": {},
   "source": [
    "<div style=\"width: 90%;margin:auto; background-color: #fff; padding: 20px; border-radius: 8px; box-shadow: 0 0 5px rgba(0, 0, 0, 0.1);\">\n",
    "    <h1 style=\"text-align: center; color: #333;\">Movie Rating Dataset Description</h1>\n",
    "    <p>In our dataset, we observe the following:</p>\n",
    "    <ol>\n",
    "        <li>There are a total of <span style=\"font-weight: bold; color: #555;\">15,509</span> entries/rows.</li>\n",
    "        <li>Each movie entry includes <span style=\"font-weight: bold; color: #555;\">10</span> different features:</li>\n",
    "    </ol>\n",
    "    <ul>\n",
    "        <li><span style=\"font-weight: bold; color: #555;\">Name</span>: The title of the movie (string value).</li>\n",
    "        <li><span style=\"font-weight: bold; color: #555;\">Year</span>: The year in which the movie was released (integer).</li>\n",
    "        <li><span style=\"font-weight: bold; color: #555;\">Duration</span>: The length of the movie in minutes (float).</li>\n",
    "        <li><span style=\"font-weight: bold; color: #555;\">Genre</span>: The genre of the movie (string).</li>\n",
    "        <li><span style=\"font-weight: bold; color: #555;\">Rating</span>: A rating on a scale from 0 to 10, indicating viewer satisfaction (float).</li>\n",
    "        <li><span style=\"font-weight: bold; color: #555;\">Votes</span>: The number of people who have rated the movie.</li>\n",
    "        <li><span style=\"font-weight: bold; color: #555;\">Director</span>: The director of the movie.</li>\n",
    "        <li><span style=\"font-weight: bold; color: #555;\">Actor 1</span>: The main actor of the movie.</li>\n",
    "        <li><span style=\"font-weight: bold; color: #555;\">Actor 2</span>: The second main actor of the movie.</li>\n",
    "        <li><span style=\"font-weight: bold; color: #555;\">Actor 3</span>: The third main actor of the movie.</li>\n",
    "    </ul>\n",
    "</div>\n"
   ]
  },
  {
   "cell_type": "markdown",
   "id": "b1f4162f-ce30-4d1c-a151-3636b0d756de",
   "metadata": {},
   "source": [
    "<h3>Data Preprocessing</h3>"
   ]
  },
  {
   "cell_type": "markdown",
   "id": "e98343a3-8c8d-4cee-85a3-8e3eccedd8ac",
   "metadata": {},
   "source": [
    "<p>\n",
    "One of the most common way to handle any dataset in order to feed it to a prediction model or any sort of models, is to build what we call a 'Data Pipeline'.<br>\n",
    "This will guide us into building a much cleaner and more presentable study case, and to ensure our models are as efficient and noise free as possible. <br>\n",
    "    First, let's analyse in depth our dataset:\n",
    "</p>"
   ]
  },
  {
   "cell_type": "code",
   "execution_count": 6,
   "id": "a988b3ae-1c61-4773-bbff-2b8e051b26be",
   "metadata": {
    "tags": []
   },
   "outputs": [
    {
     "data": {
      "text/plain": [
       "Name           0\n",
       "Year         528\n",
       "Duration    8269\n",
       "Genre       1877\n",
       "Rating      7590\n",
       "Votes       7589\n",
       "Director     525\n",
       "Actor 1     1617\n",
       "Actor 2     2384\n",
       "Actor 3     3144\n",
       "dtype: int64"
      ]
     },
     "execution_count": 6,
     "metadata": {},
     "output_type": "execute_result"
    }
   ],
   "source": [
    "df.isna().sum()"
   ]
  },
  {
   "cell_type": "markdown",
   "id": "4a585520-91ed-4abe-b5fe-6e8cb55f02bd",
   "metadata": {},
   "source": [
    "Here we notice some intresting stuffs:<br>\n",
    "    + 528 movies don't have their year of publishement.<br>\n",
    "    + We are missing the duration for 8269 movies!.<br>\n",
    "    + 1877 Movies are missing their genre.<br>\n",
    "        .<br>\n",
    "        .<br>\n",
    "        .<br>\n",
    "    <br>"
   ]
  },
  {
   "cell_type": "markdown",
   "id": "d72d6591-059c-4e09-b573-8d194cc342a2",
   "metadata": {},
   "source": [
    "We also notice that the Feature 'Genre' contains entries which consist of multiple genre, it's better to decompose each indivduals Genre into a Feature and reporesent the abscence of existance of a Genre by binary data: 1 for yes and 0 for no."
   ]
  },
  {
   "cell_type": "markdown",
   "id": "f05325c2-dd93-4bc4-9b43-604a04b25848",
   "metadata": {},
   "source": [
    "## Genres list"
   ]
  },
  {
   "cell_type": "code",
   "execution_count": 7,
   "id": "168c1c8f-cb33-4a5b-87e0-84ebe1a25d2a",
   "metadata": {
    "tags": []
   },
   "outputs": [
    {
     "name": "stdout",
     "output_type": "stream",
     "text": [
      "{'Horror', ' Mystery', 'Crime', 'Music', ' Adventure', 'History', 'Family', 'Animation', 'Documentary', ' War', ' Thriller', ' Reality-TV', 'War', 'Action', ' Fantasy', 'Reality-TV', ' History', ' Short', ' Horror', 'Biography', ' Biography', 'Sci-Fi', ' Comedy', 'Mystery', ' News', ' Western', ' Music', ' Action', 'Comedy', ' Sport', 'Adventure', 'Sport', ' Crime', ' Drama', ' Romance', ' Family', 'Drama', 'Romance', ' Sci-Fi', 'Musical', ' Musical', 'Thriller', 'Fantasy'}\n"
     ]
    }
   ],
   "source": [
    "df_genre = df.copy()\n",
    "df_genre.dropna(subset = 'Genre', axis = 0, inplace = True)\n",
    "genres = []\n",
    "genres = set(genre for genre_list in df_genre['Genre'].str.split(',') for genre in genre_list)\n",
    "print(genres)"
   ]
  },
  {
   "cell_type": "code",
   "execution_count": 8,
   "id": "ac990061-18ad-4468-854a-d8c79bc61dd5",
   "metadata": {
    "tags": []
   },
   "outputs": [],
   "source": []
  },
  {
   "cell_type": "code",
   "execution_count": 9,
   "id": "570960b8-4e89-4e90-a406-f851e4ed2214",
   "metadata": {},
   "outputs": [
    {
     "data": {
      "text/html": [
       "<div>\n",
       "<style scoped>\n",
       "    .dataframe tbody tr th:only-of-type {\n",
       "        vertical-align: middle;\n",
       "    }\n",
       "\n",
       "    .dataframe tbody tr th {\n",
       "        vertical-align: top;\n",
       "    }\n",
       "\n",
       "    .dataframe thead th {\n",
       "        text-align: right;\n",
       "    }\n",
       "</style>\n",
       "<table border=\"1\" class=\"dataframe\">\n",
       "  <thead>\n",
       "    <tr style=\"text-align: right;\">\n",
       "      <th></th>\n",
       "      <th>Name</th>\n",
       "      <th>Year</th>\n",
       "      <th>Duration</th>\n",
       "      <th>Rating</th>\n",
       "      <th>Votes</th>\n",
       "      <th>Director</th>\n",
       "      <th>Actor 1</th>\n",
       "      <th>Actor 2</th>\n",
       "      <th>Actor 3</th>\n",
       "      <th>Genre 1</th>\n",
       "      <th>Genre 2</th>\n",
       "      <th>Genre 3</th>\n",
       "    </tr>\n",
       "  </thead>\n",
       "  <tbody>\n",
       "    <tr>\n",
       "      <th>0</th>\n",
       "      <td></td>\n",
       "      <td>NaN</td>\n",
       "      <td>NaN</td>\n",
       "      <td>NaN</td>\n",
       "      <td>NaN</td>\n",
       "      <td>J.S. Randhawa</td>\n",
       "      <td>Manmauji</td>\n",
       "      <td>Birbal</td>\n",
       "      <td>Rajendra Bhatia</td>\n",
       "      <td>Drama</td>\n",
       "      <td>NaN</td>\n",
       "      <td>NaN</td>\n",
       "    </tr>\n",
       "    <tr>\n",
       "      <th>1</th>\n",
       "      <td>#Gadhvi (He thought he was Gandhi)</td>\n",
       "      <td>(2019)</td>\n",
       "      <td>109 min</td>\n",
       "      <td>7.0</td>\n",
       "      <td>8</td>\n",
       "      <td>Gaurav Bakshi</td>\n",
       "      <td>Rasika Dugal</td>\n",
       "      <td>Vivek Ghamande</td>\n",
       "      <td>Arvind Jangid</td>\n",
       "      <td>Drama</td>\n",
       "      <td>NaN</td>\n",
       "      <td>NaN</td>\n",
       "    </tr>\n",
       "    <tr>\n",
       "      <th>2</th>\n",
       "      <td>#Homecoming</td>\n",
       "      <td>(2021)</td>\n",
       "      <td>90 min</td>\n",
       "      <td>NaN</td>\n",
       "      <td>NaN</td>\n",
       "      <td>Soumyajit Majumdar</td>\n",
       "      <td>Sayani Gupta</td>\n",
       "      <td>Plabita Borthakur</td>\n",
       "      <td>Roy Angana</td>\n",
       "      <td>Drama</td>\n",
       "      <td>Musical</td>\n",
       "      <td>NaN</td>\n",
       "    </tr>\n",
       "    <tr>\n",
       "      <th>3</th>\n",
       "      <td>#Yaaram</td>\n",
       "      <td>(2019)</td>\n",
       "      <td>110 min</td>\n",
       "      <td>4.4</td>\n",
       "      <td>35</td>\n",
       "      <td>Ovais Khan</td>\n",
       "      <td>Prateik</td>\n",
       "      <td>Ishita Raj</td>\n",
       "      <td>Siddhant Kapoor</td>\n",
       "      <td>Comedy</td>\n",
       "      <td>Romance</td>\n",
       "      <td>NaN</td>\n",
       "    </tr>\n",
       "    <tr>\n",
       "      <th>4</th>\n",
       "      <td>...And Once Again</td>\n",
       "      <td>(2010)</td>\n",
       "      <td>105 min</td>\n",
       "      <td>NaN</td>\n",
       "      <td>NaN</td>\n",
       "      <td>Amol Palekar</td>\n",
       "      <td>Rajat Kapoor</td>\n",
       "      <td>Rituparna Sengupta</td>\n",
       "      <td>Antara Mali</td>\n",
       "      <td>Drama</td>\n",
       "      <td>NaN</td>\n",
       "      <td>NaN</td>\n",
       "    </tr>\n",
       "  </tbody>\n",
       "</table>\n",
       "</div>"
      ],
      "text/plain": [
       "                                 Name    Year Duration  Rating Votes  \\\n",
       "0                                         NaN      NaN     NaN   NaN   \n",
       "1  #Gadhvi (He thought he was Gandhi)  (2019)  109 min     7.0     8   \n",
       "2                         #Homecoming  (2021)   90 min     NaN   NaN   \n",
       "3                             #Yaaram  (2019)  110 min     4.4    35   \n",
       "4                   ...And Once Again  (2010)  105 min     NaN   NaN   \n",
       "\n",
       "             Director       Actor 1             Actor 2          Actor 3  \\\n",
       "0       J.S. Randhawa      Manmauji              Birbal  Rajendra Bhatia   \n",
       "1       Gaurav Bakshi  Rasika Dugal      Vivek Ghamande    Arvind Jangid   \n",
       "2  Soumyajit Majumdar  Sayani Gupta   Plabita Borthakur       Roy Angana   \n",
       "3          Ovais Khan       Prateik          Ishita Raj  Siddhant Kapoor   \n",
       "4        Amol Palekar  Rajat Kapoor  Rituparna Sengupta      Antara Mali   \n",
       "\n",
       "  Genre 1   Genre 2 Genre 3  \n",
       "0   Drama       NaN     NaN  \n",
       "1   Drama       NaN     NaN  \n",
       "2   Drama   Musical     NaN  \n",
       "3  Comedy   Romance     NaN  \n",
       "4   Drama       NaN     NaN  "
      ]
     },
     "execution_count": 9,
     "metadata": {},
     "output_type": "execute_result"
    }
   ],
   "source": [
    "df.head()"
   ]
  },
  {
   "cell_type": "code",
   "execution_count": 10,
   "id": "bb10f556-49bf-47c1-a913-27acae0659d9",
   "metadata": {
    "tags": []
   },
   "outputs": [],
   "source": [
    "# def imputate(dataset):\n",
    "#     # Remove non-numeric values from the 'Votes' column\n",
    "    \n",
    "#     dataset['Votes'] = dataset['Votes'].str.replace('[^\\d.]', '', regex=True)\n",
    "#     numeric_votes = pd.to_numeric(dataset['Votes'], errors='coerce')\n",
    "#     # Create a mask to identify rows with non-numeric values\n",
    "#     mask = numeric_votes.notnull()\n",
    "#     # Filter the DataFrame to keep only rows where 'Votes' is numeric\n",
    "#     dataset = dataset[mask]\n",
    "#     return dataset\n",
    "\n",
    "def imputate(dataset):\n",
    "    '''Since we are looking to predict the rating of a movie, it's better to keep only rows with valid 'Rating' entries\n",
    "    instead of just filling in with some variable.\n",
    "    For the genre, we'll keep only the main genre of the film, suppossing that the first one in order is the main one.\n",
    "    '''\n",
    "    \n",
    "    dataset.dropna(subset= ['Rating', 'Votes'], axis = 0, inplace = True)\n",
    "\n",
    "    df['Genre'] = df['Genre'].str.split(',', expand=True)[0]\n",
    "    return dataset\n",
    "\n",
    "\n",
    "def format_dataset(dataset):\n",
    "    dataset.dropna(subset = 'Year', axis = 0 , inplace = True)\n",
    "    # Remove parentheses from the 'Year' column and convert to integer\n",
    "    dataset['Year'] = dataset['Year'].str.strip('()').astype(int)\n",
    "    dataset['Duration'] = dataset['Duration'].str.rstrip(' min').astype(float)\n",
    "    dataset['Rating'] = dataset['Rating'].astype(float)\n",
    "    dataset['Votes'] = dataset['Votes'].astype(float)\n",
    "    return dataset\n",
    "\n",
    "\n",
    "def preprocessing(dataset):\n",
    "    pass\n"
   ]
  },
  {
   "cell_type": "code",
   "execution_count": 11,
   "id": "515f2a99-7e80-4996-a6a7-c0a73809ce23",
   "metadata": {},
   "outputs": [
    {
     "data": {
      "text/html": [
       "<div>\n",
       "<style scoped>\n",
       "    .dataframe tbody tr th:only-of-type {\n",
       "        vertical-align: middle;\n",
       "    }\n",
       "\n",
       "    .dataframe tbody tr th {\n",
       "        vertical-align: top;\n",
       "    }\n",
       "\n",
       "    .dataframe thead th {\n",
       "        text-align: right;\n",
       "    }\n",
       "</style>\n",
       "<table border=\"1\" class=\"dataframe\">\n",
       "  <thead>\n",
       "    <tr style=\"text-align: right;\">\n",
       "      <th></th>\n",
       "      <th>Name</th>\n",
       "      <th>Year</th>\n",
       "      <th>Duration</th>\n",
       "      <th>Rating</th>\n",
       "      <th>Votes</th>\n",
       "      <th>Director</th>\n",
       "      <th>Actor 1</th>\n",
       "      <th>Actor 2</th>\n",
       "      <th>Actor 3</th>\n",
       "      <th>Genre 1</th>\n",
       "    </tr>\n",
       "  </thead>\n",
       "  <tbody>\n",
       "    <tr>\n",
       "      <th>1</th>\n",
       "      <td>#Gadhvi (He thought he was Gandhi)</td>\n",
       "      <td>(2019)</td>\n",
       "      <td>109 min</td>\n",
       "      <td>7.0</td>\n",
       "      <td>8</td>\n",
       "      <td>Gaurav Bakshi</td>\n",
       "      <td>Rasika Dugal</td>\n",
       "      <td>Vivek Ghamande</td>\n",
       "      <td>Arvind Jangid</td>\n",
       "      <td>Drama</td>\n",
       "    </tr>\n",
       "    <tr>\n",
       "      <th>3</th>\n",
       "      <td>#Yaaram</td>\n",
       "      <td>(2019)</td>\n",
       "      <td>110 min</td>\n",
       "      <td>4.4</td>\n",
       "      <td>35</td>\n",
       "      <td>Ovais Khan</td>\n",
       "      <td>Prateik</td>\n",
       "      <td>Ishita Raj</td>\n",
       "      <td>Siddhant Kapoor</td>\n",
       "      <td>Comedy</td>\n",
       "    </tr>\n",
       "    <tr>\n",
       "      <th>5</th>\n",
       "      <td>...Aur Pyaar Ho Gaya</td>\n",
       "      <td>(1997)</td>\n",
       "      <td>147 min</td>\n",
       "      <td>4.7</td>\n",
       "      <td>827</td>\n",
       "      <td>Rahul Rawail</td>\n",
       "      <td>Bobby Deol</td>\n",
       "      <td>Aishwarya Rai Bachchan</td>\n",
       "      <td>Shammi Kapoor</td>\n",
       "      <td>Comedy</td>\n",
       "    </tr>\n",
       "    <tr>\n",
       "      <th>6</th>\n",
       "      <td>...Yahaan</td>\n",
       "      <td>(2005)</td>\n",
       "      <td>142 min</td>\n",
       "      <td>7.4</td>\n",
       "      <td>1086</td>\n",
       "      <td>Shoojit Sircar</td>\n",
       "      <td>Jimmy Sheirgill</td>\n",
       "      <td>Minissha Lamba</td>\n",
       "      <td>Yashpal Sharma</td>\n",
       "      <td>Drama</td>\n",
       "    </tr>\n",
       "    <tr>\n",
       "      <th>8</th>\n",
       "      <td>?: A Question Mark</td>\n",
       "      <td>(2012)</td>\n",
       "      <td>82 min</td>\n",
       "      <td>5.6</td>\n",
       "      <td>326</td>\n",
       "      <td>Allyson Patel</td>\n",
       "      <td>Yash Dave</td>\n",
       "      <td>Muntazir Ahmad</td>\n",
       "      <td>Kiran Bhatia</td>\n",
       "      <td>Horror</td>\n",
       "    </tr>\n",
       "    <tr>\n",
       "      <th>...</th>\n",
       "      <td>...</td>\n",
       "      <td>...</td>\n",
       "      <td>...</td>\n",
       "      <td>...</td>\n",
       "      <td>...</td>\n",
       "      <td>...</td>\n",
       "      <td>...</td>\n",
       "      <td>...</td>\n",
       "      <td>...</td>\n",
       "      <td>...</td>\n",
       "    </tr>\n",
       "    <tr>\n",
       "      <th>15501</th>\n",
       "      <td>Zulm Ki Hukumat</td>\n",
       "      <td>(1992)</td>\n",
       "      <td>NaN</td>\n",
       "      <td>5.3</td>\n",
       "      <td>135</td>\n",
       "      <td>Bharat Rangachary</td>\n",
       "      <td>Dharmendra</td>\n",
       "      <td>Moushumi Chatterjee</td>\n",
       "      <td>Govinda</td>\n",
       "      <td>Action</td>\n",
       "    </tr>\n",
       "    <tr>\n",
       "      <th>15503</th>\n",
       "      <td>Zulm Ki Zanjeer</td>\n",
       "      <td>(1989)</td>\n",
       "      <td>125 min</td>\n",
       "      <td>5.8</td>\n",
       "      <td>44</td>\n",
       "      <td>S.P. Muthuraman</td>\n",
       "      <td>Chiranjeevi</td>\n",
       "      <td>Jayamalini</td>\n",
       "      <td>Rajinikanth</td>\n",
       "      <td>Action</td>\n",
       "    </tr>\n",
       "    <tr>\n",
       "      <th>15504</th>\n",
       "      <td>Zulm Ko Jala Doonga</td>\n",
       "      <td>(1988)</td>\n",
       "      <td>NaN</td>\n",
       "      <td>4.6</td>\n",
       "      <td>11</td>\n",
       "      <td>Mahendra Shah</td>\n",
       "      <td>Naseeruddin Shah</td>\n",
       "      <td>Sumeet Saigal</td>\n",
       "      <td>Suparna Anand</td>\n",
       "      <td>Action</td>\n",
       "    </tr>\n",
       "    <tr>\n",
       "      <th>15505</th>\n",
       "      <td>Zulmi</td>\n",
       "      <td>(1999)</td>\n",
       "      <td>129 min</td>\n",
       "      <td>4.5</td>\n",
       "      <td>655</td>\n",
       "      <td>Kuku Kohli</td>\n",
       "      <td>Akshay Kumar</td>\n",
       "      <td>Twinkle Khanna</td>\n",
       "      <td>Aruna Irani</td>\n",
       "      <td>Action</td>\n",
       "    </tr>\n",
       "    <tr>\n",
       "      <th>15508</th>\n",
       "      <td>Zulm-O-Sitam</td>\n",
       "      <td>(1998)</td>\n",
       "      <td>130 min</td>\n",
       "      <td>6.2</td>\n",
       "      <td>20</td>\n",
       "      <td>K.C. Bokadia</td>\n",
       "      <td>Dharmendra</td>\n",
       "      <td>Jaya Prada</td>\n",
       "      <td>Arjun Sarja</td>\n",
       "      <td>Action</td>\n",
       "    </tr>\n",
       "  </tbody>\n",
       "</table>\n",
       "<p>7919 rows × 10 columns</p>\n",
       "</div>"
      ],
      "text/plain": [
       "                                     Name    Year Duration  Rating Votes  \\\n",
       "1      #Gadhvi (He thought he was Gandhi)  (2019)  109 min     7.0     8   \n",
       "3                                 #Yaaram  (2019)  110 min     4.4    35   \n",
       "5                    ...Aur Pyaar Ho Gaya  (1997)  147 min     4.7   827   \n",
       "6                               ...Yahaan  (2005)  142 min     7.4  1086   \n",
       "8                      ?: A Question Mark  (2012)   82 min     5.6   326   \n",
       "...                                   ...     ...      ...     ...   ...   \n",
       "15501                     Zulm Ki Hukumat  (1992)      NaN     5.3   135   \n",
       "15503                     Zulm Ki Zanjeer  (1989)  125 min     5.8    44   \n",
       "15504                 Zulm Ko Jala Doonga  (1988)      NaN     4.6    11   \n",
       "15505                               Zulmi  (1999)  129 min     4.5   655   \n",
       "15508                        Zulm-O-Sitam  (1998)  130 min     6.2    20   \n",
       "\n",
       "                Director           Actor 1                 Actor 2  \\\n",
       "1          Gaurav Bakshi      Rasika Dugal          Vivek Ghamande   \n",
       "3             Ovais Khan           Prateik              Ishita Raj   \n",
       "5           Rahul Rawail        Bobby Deol  Aishwarya Rai Bachchan   \n",
       "6         Shoojit Sircar   Jimmy Sheirgill          Minissha Lamba   \n",
       "8          Allyson Patel         Yash Dave          Muntazir Ahmad   \n",
       "...                  ...               ...                     ...   \n",
       "15501  Bharat Rangachary        Dharmendra     Moushumi Chatterjee   \n",
       "15503    S.P. Muthuraman       Chiranjeevi              Jayamalini   \n",
       "15504      Mahendra Shah  Naseeruddin Shah           Sumeet Saigal   \n",
       "15505         Kuku Kohli      Akshay Kumar          Twinkle Khanna   \n",
       "15508       K.C. Bokadia        Dharmendra              Jaya Prada   \n",
       "\n",
       "               Actor 3 Genre 1  \n",
       "1        Arvind Jangid   Drama  \n",
       "3      Siddhant Kapoor  Comedy  \n",
       "5        Shammi Kapoor  Comedy  \n",
       "6       Yashpal Sharma   Drama  \n",
       "8         Kiran Bhatia  Horror  \n",
       "...                ...     ...  \n",
       "15501          Govinda  Action  \n",
       "15503      Rajinikanth  Action  \n",
       "15504    Suparna Anand  Action  \n",
       "15505      Aruna Irani  Action  \n",
       "15508      Arjun Sarja  Action  \n",
       "\n",
       "[7919 rows x 10 columns]"
      ]
     },
     "execution_count": 11,
     "metadata": {},
     "output_type": "execute_result"
    }
   ],
   "source": [
    "imputate(df)\n",
    "# format_dataset(df)"
   ]
  },
  {
   "cell_type": "code",
   "execution_count": null,
   "id": "cd7cb0c8-ed15-4b6b-9f11-c36e67f2f979",
   "metadata": {},
   "outputs": [],
   "source": []
  },
  {
   "cell_type": "code",
   "execution_count": 12,
   "id": "71c305f8-15f8-4333-8a58-0245f5575980",
   "metadata": {},
   "outputs": [
    {
     "ename": "TypeError",
     "evalue": "Could not convert (2019)(2019)(1997)(2005)(2012)(2014)(2004)(2016)(1991)(2012)(2018)(2010)(1958)(2021)(2017)(2009)(2005)(1993)(2002)(2014)(1946)(2004)(2008)(2016)(2012)(2018)(1994)(2007)(2019)(2017)(2014)(2013)(2012)(2003)(2014)(2018)(1998)(2017)(2018)(1979)(2019)(2002)(1951)(1956)(2008)(1974)(2014)(2012)(2003)(2019)(2009)(2009)(2018)(2015)(2004)(2016)(2015)(2009)(2006)(1981)(1974)(2020)(2019)(1985)(2013)(2019)(2011)(2016)(2009)(2012)(2012)(1974)(2007)(2011)(1967)(2014)(2007)(2005)(1988)(1995)(2016)(2006)(2011)(1987)(2019)(2019)(2009)(2021)(2003)(2017)(2009)(2019)(2005)(2016)(2017)(2016)(2015)(2005)(2010)(2016)(2020)(2017)(2019)(2013)(1996)(2013)(2020)(2016)(2011)(2005)(2017)(2019)(2002)(2008)(1999)(2018)(2009)(1973)(1994)(2017)(2016)(1999)(2004)(1968)(1943)(1953)(1943)(1986)(2018)(1982)(1977)(2019)(1982)(2013)(1991)(1950)(1968)(1993)(1991)(1969)(1993)(2009)(1977)(2016)(1977)(1948)(1967)(1994)(1994)(1994)(1970)(1986)(1987)(1990)(1990)(1993)(1988)(1991)(1989)(2011)(1947)(1988)(2001)(2009)(2000)(1982)(1953)(1971)(1978)(1993)(1977)(1944)(1987)(1947)(1963)(1935)(2003)(1990)(1985)(1993)(1992)(2001)(2006)(2006)(1976)(2000)(2000)(1991)(1976)(1984)(1988)(1990)(1985)(1984)(1973)(1993)(1993)(2007)(1968)(1994)(2000)(1985)(1986)(1988)(1989)(1989)(1991)(1975)(1978)(1958)(1989)(1977)(1980)(2002)(1979)(1966)(1990)(1997)(1975)(1980)(2010)(1998)(2012)(2001)(2007)(2018)(2001)(2008)(1967)(1982)(2009)(1984)(1972)(1956)(1970)(2004)(2003)(1980)(1960)(1968)(1975)(1964)(1985)(1952)(1990)(1959)(1979)(2019)(1972)(2004)(1993)(1950)(2002)(1972)(1970)(1964)(1994)(2009)(1971)(1976)(1980)(1986)(1974)(1977)(2006)(1964)(2002)(1980)(2009)(1981)(2003)(1992)(1985)(1997)(2011)(1951)(1957)(1974)(1954)(1962)(2007)(1999)(1953)(1961)(1981)(1957)(1980)(2010)(1986)(1993)(1962)(2001)(2005)(1977)(1995)(1990)(2013)(2011)(1968)(2014)(2018)(2009)(1984)(1965)(1992)(1993)(1966)(1997)(1996)(1995)(2006)(1979)(1994)(2006)(2013)(1998)(1974)(1956)(1990)(1964)(1999)(1966)(2011)(1995)(1984)(1957)(2012)(1995)(2002)(1977)(1989)(2004)(2015)(1994)(2004)(2004)(2013)(1980)(1933)(1955)(1995)(1977)(1968)(1957)(1973)(1980)(1991)(1989)(1970)(1986)(2011)(1984)(1943)(2010)(1973)(1998)(1983)(1936)(2009)(2019)(2014)(2010)(1948)(2010)(1958)(1976)(1989)(1992)(2006)(1965)(1954)(1986)(1971)(2001)(2007)(2010)(1983)(1955)(1990)(2010)(2017)(1983)(2019)(1978)(1980)(1985)(2011)(2016)(2004)(1997)(1986)(1966)(1951)(2001)(1991)(1950)(2014)(1983)(1977)(1972)(1977)(2012)(2007)(1985)(1988)(1997)(1990)(1990)(2012)(1997)(2004)(1981)(1973)(1996)(1997)(2000)(2002)(1957)(1980)(2009)(2019)(1995)(1979)(1981)(2006)(1979)(2016)(2006)(1986)(2015)(2003)(2010)(1996)(2009)(1985)(2004)(2018)(2012)(2012)(2009)(2017)(1974)(1996)(2021)(1992)(1989)(1958)(2017)(2001)(1998)(1991)(1991)(2004)(2020)(2013)(1984)(1966)(1988)(1965)(1991)(1979)(2014)(1995)(1999)(1963)(2002)(1989)(2001)(2006)(2017)(1977)(1952)(2009)(1985)(2006)(2019)(1975)(1973)(1979)(2001)(1951)(1971)(1980)(2019)(2019)(1966)(1940)(1954)(2004)(1932)(1977)(2017)(1933)(1953)(2015)(2015)(2020)(1984)(2009)(2010)(1997)(1986)(2015)(2009)(2011)(1977)(1994)(1967)(2016)(1955)(1975)(1954)(1958)(1979)(2005)(1936)(1948)(1960)(1972)(2020)(1961)(1978)(1977)(2019)(1990)(1990)(1980)(1952)(1985)(2013)(1985)(2001)(1974)(2016)(1990)(2014)(2002)(1986)(2001)(2021)(2001)(1966)(1986)(2005)(2018)(1967)(1968)(2016)(1992)(2017)(1973)(2008)(1971)(1984)(1952)(1977)(1985)(1959)(1993)(1975)(1999)(1953)(2016)(2003)(1984)(1949)(1971)(1994)(1994)(1990)(1993)(1985)(1983)(1987)(2018)(1990)(1975)(1994)(1986)(1984)(1995)(1992)(2002)(1996)(1998)(1986)(1954)(2011)(1982)(2005)(1995)(2020)(2015)(2014)(1960)(1952)(1973)(1967)(1968)(1978)(1987)(1994)(2007)(2005)(1974)(1969)(2010)(2000)(2005)(1969)(1978)(2003)(2009)(1985)(2006)(1962)(1968)(2013)(1997)(2013)(1974)(1986)(1993)(1946)(1969)(1982)(1978)(2016)(2016)(1972)(1971)(1992)(2002)(1975)(1995)(1989)(1982)(1972)(1972)(2000)(1948)(1986)(2006)(1948)(1973)(1972)(1968)(1962)(1978)(2002)(1969)(2008)(1991)(2021)(1994)(2006)(1993)(1971)(1986)(2009)(2003)(1966)(1972)(1960)(2006)(1977)(2007)(2015)(1985)(1993)(2005)(2010)(1982)(1990)(2007)(2001)(1982)(1962)(1972)(1989)(1960)(1960)(1978)(2006)(1977)(2007)(1987)(1996)(1975)(1964)(1980)(1975)(1972)(1992)(1949)(1974)(2000)(1957)(1982)(1964)(2012)(1946)(1969)(1994)(2004)(1974)(1983)(1959)(1985)(2001)(1976)(1999)(2019)(2012)(1953)(2003)(1981)(1996)(2010)(1967)(1983)(1957)(1982)(2019)(1978)(1988)(2006)(1950)(1965)(2004)(1984)(2012)(2018)(2009)(1984)(1993)(1982)(1952)(1943)(2017)(2010)(2018)(2001)(2011)(1993)(1991)(1986)(1962)(1989)(2000)(2020)(1992)(2009)(2012)(2018)(2020)(2005)(2007)(1990)(1978)(2020)(2010)(2020)(1979)(2013)(1990)(2012)(1987)(1968)(1993)(1998)(1991)(1996)(1979)(2007)(2013)(1940)(1953)(1967)(1996)(1984)(1988)(1998)(2016)(2010)(1997)(1978)(1987)(2011)(2001)(1986)(2017)(1983)(1951)(1990)(1984)(1985)(1964)(2002)(1990)(2007)(2020)(2016)(2019)(1969)(1982)(1964)(1991)(2000)(2001)(1991)(1955)(1978)(1990)(1940)(1974)(2016)(2017)(2012)(2017)(2021)(2018)(2009)(2006)(1985)(1954)(1999)(2017)(2000)(2016)(2018)(2020)(1993)(1990)(2001)(2017)(2019)(1973)(1994)(2015)(1954)(2003)(1990)(1955)(2016)(2017)(1957)(1993)(2018)(2012)(1986)(2013)(1962)(1982)(1953)(1992)(2003)(2018)(1951)(1968)(1984)(1995)(1993)(1972)(2017)(1960)(1951)(2014)(1985)(1950)(1986)(1972)(1985)(2017)(2015)(2008)(2010)(2009)(2005)(2008)(1970)(1963)(2017)(1984)(2003)(2009)(1961)(1957)(1998)(1973)(1951)(1966)(2000)(1978)(1983)(1999)(1989)(1998)(2018)(2002)(1974)(1987)(1993)(1969)(1945)(1986)(1974)(2019)(1980)(2015)(2014)(1982)(2010)(1998)(2002)(2016)(2015)(2020)(2019)(1991)(1971)(1971)(2017)(1954)(2013)(1989)(1982)(1938)(2003)(1952)(1956)(2019)(1979)(1990)(1951)(1966)(1967)(1968)(2019)(1941)(1955)(1967)(1965)(1985)(1964)(1989)(1954)(2020)(1952)(2021)(1976)(2013)(2015)(1956)(1976)(2015)(1996)(2009)(2015)(2017)(1956)(1982)(2019)(1975)(1985)(1971)(1976)(2012)(2017)(1993)(1968)(1992)(2014)(1996)(1980)(1968)(2020)(2006)(2009)(1997)(1973)(1962)(2010)(1990)(1956)(1998)(1969)(1985)(1983)(1973)(1992)(1957)(1978)(1963)(1996)(1955)(1980)(1994)(2013)(2014)(2015)(1991)(2016)(2017)(1971)(1972)(2021)(1950)(1960)(1955)(2009)(2005)(2004)(2015)(2012)(1949)(1959)(1973)(2015)(1976)(1998)(2019)(1949)(1995)(1981)(1960)(1998)(2006)(2001)(2000)(2003)(1942)(1960)(1956)(1992)(1981)(2003)(2019)(1979)(2019)(2018)(1989)(1961)(2000)(1972)(1950)(2021)(1985)(1949)(1982)(2014)(2004)(1954)(1983)(2020)(1979)(2011)(1993)(1965)(1959)(1993)(2019)(2013)(1962)(1989)(1972)(2016)(1963)(2017)(1991)(2017)(2005)(1946)(1971)(2016)(1972)(1983)(1992)(2002)(2012)(1982)(1974)(1999)(1991)(1964)(2001)(2010)(2010)(1985)(1996)(1950)(1980)(1980)(1981)(1978)(2013)(1992)(1994)(1983)(1997)(1994)(1969)(1964)(2000)(2014)(1952)(1995)(2005)(1985)(1992)(2017)(2014)(1960)(2013)(2015)(2013)(2017)(1982)(2015)(2015)(2013)(2018)(2014)(1991)(1957)(1961)(2018)(1938)(2013)(1956)(2006)(1978)(2002)(2001)(2005)(2005)(1985)(2001)(1986)(1970)(1985)(1994)(1997)(1969)(1970)(1997)(1972)(2000)(1959)(1956)(2001)(1994)(1996)(1961)(1947)(1932)(1980)(1979)(1976)(1989)(2001)(2017)(2017)(2017)(2020)(1976)(2017)(2019)(2002)(1942)(1932)(1963)(1981)(2017)(1985)(2018)(1984)(2010)(1981)(2018)(1998)(1988)(2003)(2000)(1982)(1965)(1973)(2007)(2011)(2017)(1935)(2011)(1996)(2016)(2012)(1978)(2004)(2018)(1984)(2001)(1958)(1993)(1978)(1984)(2007)(1933)(2017)(2003)(2010)(1997)(1965)(1999)(2003)(2000)(2012)(2020)(2014)(2008)(1963)(2000)(1999)(2014)(2011)(2018)(2016)(2008)(1989)(2011)(1977)(1969)(2000)(1974)(1937)(2007)(1987)(2012)(1971)(2008)(1989)(2000)(1982)(1989)(2009)(2018)(1963)(2011)(1980)(2013)(1979)(1999)(1972)(1984)(2001)(1960)(2017)(1966)(1954)(2010)(1950)(1983)(2017)(2019)(2012)(1966)(1988)(1999)(2000)(1981)(2005)(2008)(1959)(1981)(2004)(2015)(1971)(2021)(2020)(2019)(1973)(2005)(2018)(2019)(2012)(2015)(2013)(2009)(2017)(2009)(2013)(1963)(2005)(1973)(2014)(2005)(2011)(2010)(2017)(2012)(1992)(2006)(2016)(2016)(2014)(2011)(2009)(2011)(1993)(1960)(2019)(1980)(1998)(1981)(1962)(1992)(2019)(2013)(2008)(1972)(2015)(1985)(2001)(2003)(2001)(1967)(1954)(1997)(2003)(2002)(2021)(2013)(2021)(1965)(1984)(1961)(1993)(2018)(2013)(1994)(1968)(1991)(2010)(2011)(2015)(2020)(2004)(2016)(2018)(2015)(2001)(2011)(2017)(2016)(2007)(1971)(2017)(2016)(1966)(2000)(2020)(2018)(2014)(2013)(1976)(2005)(2013)(1993)(1981)(2012)(2010)(2015)(1976)(1972)(2020)(2005)(1962)(1951)(2005)(2020)(2019)(2008)(2005)(1956)(1990)(1967)(2019)(2013)(2003)(2015)(2000)(2017)(1974)(2007)(1984)(1986)(1991)(2020)(1986)(1971)(2009)(2019)(2011)(2007)(2009)(2015)(2012)(2001)(1964)(1996)(2005)(1989)(2003)(2012)(1977)(1989)(1994)(1977)(2012)(1985)(2016)(2014)(1977)(1959)(1997)(1971)(1993)(2019)(2004)(2007)(1975)(2007)(2005)(1977)(1981)(2013)(2012)(2012)(1978)(1958)(2014)(2009)(2009)(2015)(2000)(2012)(1977)(2011)(1973)(1969)(2003)(2016)(2012)(2011)(2002)(2011)(2005)(1977)(2003)(1976)(1940)(1958)(1982)(2020)(1992)(1982)(1980)(1979)(2003)(1986)(2008)(1957)(2000)(2000)(2019)(2005)(2010)(2008)(1959)(1965)(2005)(2006)(1967)(2005)(1969)(1998)(1999)(1967)(1975)(1977)(1934)(1989)(2001)(1954)(1948)(1993)(2007)(1935)(1947)(1984)(2002)(1957)(1980)(2016)(1964)(1961)(1955)(1977)(1975)(1988)(1976)(2004)(2011)(1973)(1974)(2015)(2010)(2013)(1981)(1983)(1988)(1961)(1974)(2011)(2017)(1994)(2014)(2018)(2007)(2008)(2021)(1994)(2017)(2015)(1999)(2005)(1981)(1992)(2013)(1965)(2013)(1970)(2005)(1981)(1977)(1987)(2002)(2020)(1960)(1973)(2020)(2019)(1952)(1961)(1943)(2019)(2012)(2007)(1956)(2019)(1966)(2012)(2013)(2016)(2013)(2019)(2015)(1998)(1996)(1961)(1974)(1996)(1959)(1994)(1971)(1965)(1976)(1967)(1973)(2001)(2016)(2019)(2005)(2018)(2016)(2008)(2014)(2011)(2000)(1998)(1962)(2015)(2006)(1971)(2006)(2009)(2020)(2016)(2019)(1969)(1943)(1959)(1981)(1976)(2011)(1964)(2012)(1947)(2005)(2020)(2000)(2015)(2019)(1993)(2015)(1954)(1974)(2013)(1978)(1978)(2002)(1974)(1990)(1983)(1977)(1956)(2003)(1972)(2001)(1975)(1982)(2002)(1980)(1975)(2004)(2003)(2004)(2020)(2019)(1974)(2020)(2016)(1997)(2005)(2016)(1980)(2006)(1975)(2003)(1997)(2003)(2015)(1979)(1959)(2014)(2010)(2020)(2005)(1989)(2010)(2020)(2013)(2016)(2015)(1963)(2012)(2019)(2015)(2009)(1960)(1978)(2018)(2008)(2006)(2020)(1981)(1988)(2013)(2017)(2019)(2002)(1974)(1986)(2021)(2008)(2020)(2009)(1983)(1995)(1991)(2020)(2006)(1992)(2014)(2020)(2000)(2015)(2011)(2016)(2014)(1994)(2010)(2016)(1992)(2011)(2019)(2005)(2021)(1997)(1966)(1953)(1952)(1973)(2002)(1999)(1975)(1964)(2012)(1973)(1996)(2005)(2018)(1981)(1989)(1997)(2019)(2014)(1998)(2010)(2018)(2010)(2012)(2019)(1987)(2000)(1979)(1999)(1987)(1980)(2017)(2009)(2017)(1975)(2015)(1998)(1950)(1999)(2007)(1986)(1981)(1988)(1987)(1955)(1978)(1977)(2000)(1987)(2000)(1966)(1991)(2000)(2001)(1993)(2011)(1978)(2011)(2001)(1993)(1985)(1989)(2003)(1987)(1997)(1995)(1991)(1998)(2016)(2005)(2002)(2012)(2019)(2005)(2018)(1996)(1987)(1964)(2020)(2020)(1947)(1981)(1982)(1983)(1977)(2005)(1988)(2019)(2019)(2007)(1977)(1997)(2003)(2006)(1949)(1970)(1993)(2014)(1941)(1978)(2002)(2006)(2020)(2008)(2018)(1972)(1996)(1970)(1950)(1991)(2008)(2001)(1997)(2001)(1982)(1983)(1992)(1989)(2013)(1975)(1988)(2017)(2016)(2013)(2009)(2019)(2008)(2016)(2006)(2016)(2017)(2018)(2014)(2016)(1987)(2014)(1992)(1951)(1982)(2001)(1976)(1975)(1952)(1992)(1998)(2013)(1997)(1990)(1987)(2000)(1991)(2005)(2002)(2007)(2013)(2009)(1957)(2014)(1985)(2018)(2011)(2011)(2012)(2009)(2007)(2012)(2012)(1978)(2007)(2002)(1980)(2008)(1989)(1982)(1991)(2011)(2014)(1958)(2015)(2009)(2004)(1955)(2009)(2005)(1966)(1958)(1978)(2002)(1936)(1955)(1970)(2002)(2019)(2001)(2006)(2004)(2019)(2019)(1956)(1998)(2018)(2000)(1997)(1998)(2018)(2000)(2006)(2007)(1973)(2005)(1980)(2007)(1993)(1981)(2008)(2016)(1982)(1991)(1975)(1991)(2015)(1988)(1977)(1988)(1992)(2002)(1972)(1986)(1984)(1973)(1997)(1935)(1975)(1961)(1970)(2011)(1969)(1950)(1993)(1983)(2020)(2017)(2001)(2020)(2010)(2007)(2007)(1951)(1979)(1959)(2004)(2006)(2013)(2008)(1985)(1953)(1998)(2009)(2003)(1935)(1977)(1975)(1983)(1989)(1981)(2002)(1973)(2003)(2019)(1982)(1940)(2012)(1959)(1989)(1991)(1990)(1992)(1960)(1978)(1968)(2020)(2004)(2014)(1960)(2009)(2001)(1972)(1959)(2015)(1974)(1966)(2006)(2007)(1963)(1993)(1991)(2002)(1982)(1963)(1992)(2005)(2017)(2018)(1995)(1992)(1972)(2003)(1982)(2014)(1979)(2008)(1997)(2005)(1993)(1973)(1997)(1999)(1989)(2004)(2004)(2001)(1966)(1967)(2003)(2000)(2016)(1978)(2006)(1998)(1993)(1962)(1996)(1997)(2011)(2016)(1987)(2002)(1982)(1994)(1977)(1982)(1953)(1979)(1987)(1996)(1947)(1978)(1999)(1966)(1958)(2015)(1950)(1986)(1994)(2015)(1995)(1980)(1992)(2016)(2015)(1982)(1990)(2014)(2016)(2002)(1984)(2005)(1993)(2003)(1967)(1995)(1976)(1957)(1997)(1980)(1966)(1959)(1969)(1994)(1953)(1971)(1977)(2015)(1966)(1981)(2010)(1985)(1982)(2010)(1968)(1994)(1972)(1935)(1983)(1979)(1975)(1975)(1968)(1948)(2009)(1979)(2016)(1991)(1978)(1974)(1998)(2009)(1958)(1974)(1980)(1989)(1969)(1971)(1997)(1957)(1979)(1977)(1951)(1975)(1959)(1982)(1988)(1972)(2014)(2018)(2017)(2004)(1940)(2021)(1969)(1998)(2015)(2019)(2019)(2006)(1978)(2011)(2008)(2016)(2006)(1990)(1964)(2017)(1964)(1971)(1964)(2020)(1979)(1977)(1983)(1974)(2006)(2007)(1944)(1974)(1989)(1989)(1964)(1946)(1986)(2019)(1993)(2005)(2011)(1972)(2005)(2011)(2018)(2015)(2014)(1947)(1962)(1999)(2013)(1931)(2014)(1977)(2019)(2009)(2013)(1990)(2015)(2019)(1994)(1992)(2011)(2005)(2003)(1994)(1943)(2004)(1994)(2015)(1949)(1982)(1964)(2010)(1974)(1958)(1999)(2016)(1967)(2000)(1977)(1998)(2003)(2016)(2015)(2011)(2000)(2007)(1968)(1984)(1960)(1974)(1979)(1937)(1959)(1957)(1977)(2015)(2010)(1998)(2002)(1973)(1983)(2002)(1985)(1986)(2020)(1956)(1997)(2007)(1966)(1976)(2010)(1998)(1990)(1938)(1957)(1991)(1981)(1996)(1992)(2002)(1995)(1984)(1971)(1986)(1973)(2009)(2019)(1998)(2014)(2012)(2001)(2019)(1994)(1982)(1989)(2001)(1970)(2006)(2019)(1946)(2007)(2010)(2018)(1987)(1972)(2005)(2000)(2003)(1996)(1981)(2001)(1986)(2002)(1978)(1983)(1980)(1980)(1972)(2020)(1972)(1986)(2007)(2002)(1985)(1987)(1985)(1963)(2003)(1989)(1983)(1945)(2011)(1980)(1990)(1981)(1957)(1991)(1987)(1980)(2017)(1972)(2004)(1981)(1988)(1977)(1993)(2003)(1992)(1983)(1957)(1982)(1968)(1960)(2005)(1972)(2007)(1973)(1992)(2019)(2001)(1975)(1986)(2012)(1962)(1973)(1984)(1970)(1973)(1971)(1984)(1988)(1972)(1990)(1971)(2015)(1986)(1960)(1969)(1968)(1997)(1968)(2004)(1963)(2013)(1957)(2020)(1965)(1985)(1976)(2004)(1985)(2009)(2006)(2010)(1956)(1969)(2000)(2015)(2018)(1996)(2012)(2013)(1949)(2009)(2008)(2009)(1956)(2012)(1994)(2018)(2014)(2007)(2019)(2019)(1994)(1971)(2005)(1947)(2017)(2008)(1984)(2005)(2002)(2013)(2020)(2012)(1991)(2003)(1974)(2001)(2007)(2018)(2001)(2020)(2015)(2015)(2007)(2011)(1985)(2019)(1988)(1995)(2013)(1976)(1988)(2019)(2019)(2006)(2017)(2016)(2006)(1975)(1965)(1983)(1996)(2005)(1958)(1968)(1977)(1991)(1967)(2001)(1982)(1989)(1957)(2008)(1959)(2009)(2019)(1933)(1943)(1991)(2012)(2010)(1995)(2021)(1963)(2007)(1994)(2016)(2012)(1954)(2016)(2004)(1981)(2006)(2002)(1983)(2005)(2012)(2019)(2004)(2014)(2008)(2017)(1996)(2013)(2021)(2010)(2013)(2015)(1991)(1990)(2016)(2000)(2014)(2017)(2021)(2016)(2007)(2008)(2007)(1953)(2020)(2003)(2011)(2016)(2013)(1959)(2007)(1959)(2015)(2012)(2009)(2019)(2016)(2016)(2006)(2014)(2018)(1980)(2008)(2012)(2007)(2009)(2018)(2016)(2014)(2013)(2020)(2017)(1960)(2005)(1956)(2012)(2017)(1973)(1966)(2015)(2007)(2001)(1973)(1995)(2006)(1999)(1989)(2000)(2004)(2012)(1989)(2001)(2009)(2021)(1978)(2004)(1971)(1995)(1993)(2011)(2007)(2017)(2017)(2018)(1979)(1982)(2011)(2007)(2016)(2016)(1986)(2008)(2000)(2014)(2016)(2006)(1994)(1980)(1992)(2012)(1991)(1998)(1964)(1978)(1983)(1971)(1988)(1988)(2003)(1937)(2002)(2013)(2007)(2012)(1994)(2006)(1984)(1970)(2018)(1972)(1945)(1991)(2005)(1955)(2004)(1980)(1972)(2005)(2018)(1993)(1989)(2009)(1974)(1957)(2011)(2014)(2021)(1943)(1968)(2007)(2016)(1979)(2002)(1967)(1989)(2004)(1970)(1992)(1975)(1964)(1974)(1993)(1963)(1996)(1980)(1973)(2002)(2002)(1986)(2018)(1989)(1985)(2000)(2002)(2008)(1981)(2013)(1978)(1993)(1963)(1998)(1985)(1984)(1988)(1970)(2004)(1990)(1992)(1989)(1967)(1987)(1948)(1994)(1960)(1996)(1988)(1991)(2021)(1986)(1958)(1961)(1989)(1977)(1998)(1988)(1976)(2017)(1996)(2008)(1995)(1990)(2016)(1988)(1982)(1992)(2019)(2020)(1997)(2012)(2019)(2020)(2020)(1998)(1973)(1956)(1997)(1985)(1960)(1983)(1981)(2007)(1984)(1976)(2020)(2013)(1991)(1960)(2004)(1962)(2000)(2016)(2007)(2013)(1968)(1995)(2019)(2007)(2008)(1963)(1983)(1999)(1966)(1985)(1989)(2018)(1968)(2010)(2010)(2017)(2008)(2006)(1972)(2019)(2007)(2008)(2019)(2008)(2014)(1989)(1974)(1959)(2013)(1938)(1979)(1994)(1970)(1994)(1982)(1948)(1972)(1987)(2013)(2015)(1993)(2017)(2001)(1984)(1963)(2013)(2016)(1991)(2012)(1979)(2019)(2017)(1971)(1995)(2015)(2015)(1997)(1997)(1959)(1980)(2017)(1965)(2020)(2020)(2014)(2009)(2012)(1990)(2020)(2019)(2019)(1965)(2008)(2019)(2001)(2001)(1963)(1976)(1993)(1982)(1993)(2002)(1970)(1967)(1990)(1988)(1969)(1998)(1992)(1995)(2014)(1980)(1995)(1982)(1961)(2020)(2020)(2019)(1997)(2016)(1989)(1980)(2003)(2007)(1979)(2002)(1988)(2010)(1981)(1993)(1969)(2015)(2010)(1962)(1983)(2008)(2002)(1940)(1972)(1990)(2003)(2011)(1974)(2002)(1971)(1982)(1995)(1986)(1990)(1979)(2020)(2000)(2001)(1991)(1998)(2014)(2016)(2015)(1999)(1991)(2014)(2011)(1984)(1977)(1988)(2020)(1956)(2017)(2021)(1962)(2018)(2008)(1996)(1956)(1978)(2000)(1988)(1985)(2018)(1979)(2015)(1943)(1982)(1950)(1961)(1997)(2018)(1954)(1967)(1963)(1944)(1974)(2004)(1979)(2012)(2019)(1994)(1984)(1973)(2005)(2017)(1974)(2018)(2019)(2016)(2014)(2020)(2011)(2014)(2018)(1964)(1985)(1995)(1991)(2000)(1979)(1974)(1950)(2018)(2015)(2020)(1967)(1971)(1976)(1982)(2004)(2008)(2000)(1963)(1962)(1981)(2005)(2014)(2018)(1999)(1968)(1971)(1996)(1993)(2012)(2014)(2015)(2018)(1967)(1989)(2002)(1956)(2007)(1988)(2004)(1977)(1998)(1991)(2011)(2020)(2004)(1985)(2003)(2014)(2015)(1987)(1974)(2004)(2003)(1968)(1998)(2003)(2013)(2014)(1956)(1970)(1992)(1973)(1999)(1959)(1973)(1978)(1979)(1982)(2018)(2008)(1999)(2021)(2010)(2010)(2016)(2010)(2010)(1991)(1976)(2000)(1964)(1983)(2015)(1998)(1988)(1997)(2008)(2012)(2014)(2015)(2000)(2018)(2007)(2018)(2010)(1987)(2018)(2014)(2007)(2004)(2008)(1957)(1965)(1997)(1975)(1970)(1996)(1987)(1996)(1983)(1998)(2013)(2017)(2017)(1973)(2002)(2015)(1984)(1977)(1987)(1989)(2010)(2015)(1988)(2005)(2004)(2015)(1999)(1985)(1970)(2006)(1963)(2014)(2003)(2005)(2020)(1973)(1992)(2007)(2018)(2009)(2017)(2013)(1985)(2011)(2006)(1999)(1981)(2017)(2018)(2018)(2016)(2019)(1991)(1955)(2021)(2000)(2009)(2010)(2012)(2016)(2019)(1958)(1999)(1987)(1951)(1995)(1971)(2004)(2008)(1991)(1999)(1994)(1948)(1989)(2019)(1999)(2011)(1984)(1985)(1961)(1995)(2005)(1946)(1988)(2013)(2014)(1994)(1993)(1994)(1984)(2002)(1993)(1960)(2001)(1989)(2004)(2002)(1977)(1951)(1980)(1985)(1980)(1957)(2003)(2009)(2002)(1984)(1999)(1995)(1965)(1981)(1983)(1990)(2008)(1979)(1988)(2000)(2004)(2010)(2005)(1971)(2015)(1999)(2011)(2002)(1945)(2019)(2003)(1970)(1980)(2006)(2006)(1992)(2007)(2014)(2002)(1953)(1968)(1998)(1983)(1992)(1974)(2014)(1971)(2003)(2007)(2015)(2018)(1966)(2001)(1998)(2004)(2006)(2019)(2004)(2010)(2010)(2019)(2010)(2015)(2020)(2015)(2018)(2019)(2005)(2013)(2010)(2020)(2015)(1992)(2006)(2011)(2013)(2012)(2018)(2014)(2010)(2017)(1994)(1989)(2018)(1986)(1954)(2007)(1974)(1987)(1977)(2011)(1994)(1974)(2010)(1994)(2012)(2017)(2015)(2003)(1987)(1999)(2007)(2001)(2003)(2018)(2015)(2015)(2019)(1996)(2020)(2021)(1991)(1958)(1932)(1989)(2017)(2007)(1977)(2013)(1984)(1935)(1987)(1966)(1994)(1984)(1986)(1992)(1985)(1997)(2004)(1982)(1970)(1992)(1959)(1974)(1969)(1980)(1987)(2005)(1994)(1955)(1993)(1987)(2012)(1957)(1991)(1991)(1979)(2018)(1988)(1969)(1984)(2003)(1992)(1988)(2001)(2004)(1974)(1999)(1973)(2002)(2005)(1979)(2006)(1991)(2017)(2001)(1996)(2019)(1964)(2008)(2012)(2013)(1974)(2013)(1997)(2016)(2004)(2017)(2015)(1994)(2015)(1970)(2004)(2018)(2003)(2015)(2018)(2010)(1992)(2010)(2017)(2017)(1998)(2015)(2013)(1962)(2003)(2010)(1987)(1997)(1981)(2007)(2014)(2012)(1969)(2001)(2017)(1937)(1968)(1952)(1991)(1993)(1990)(2017)(1989)(1984)(2004)(1993)(1952)(1986)(1967)(1969)(2003)(1960)(1999)(1996)(1987)(1975)(1985)(1990)(2001)(1991)(1992)(1992)(2011)(2006)(1992)(1999)(1979)(1983)(2006)(1998)(2010)(2018)(2008)(1971)(1979)(1983)(1976)(2006)(1983)(1979)(2002)(2015)(2012)(1985)(1999)(1982)(1972)(1989)(1974)(2017)(1965)(1961)(1991)(1963)(2012)(2016)(2007)(1967)(2019)(2018)(2013)(2019)(1951)(1974)(1986)(1977)(1977)(1978)(2017)(1975)(2004)(1996)(1984)(2001)(1955)(1964)(2007)(1969)(1999)(1971)(2011)(2019)(1961)(1993)(1996)(2001)(2016)(1948)(2014)(2015)(2007)(2015)(1992)(1994)(1994)(1951)(1976)(1997)(2020)(1975)(2006)(1990)(2004)(2009)(1995)(2009)(1947)(1981)(1958)(1973)(1989)(1977)(2003)(2013)(1971)(1980)(2018)(1995)(2000)(1977)(2012)(1973)(1987)(2005)(1990)(2005)(2021)(1950)(1988)(1957)(1995)(1994)(2006)(2003)(1994)(1986)(1972)(2016)(2012)(1936)(1949)(2012)(2018)(2008)(1979)(1965)(1985)(2009)(2017)(1985)(1984)(2020)(1970)(1942)(1995)(1955)(1968)(1987)(1971)(1972)(2006)(1989)(1959)(1986)(1990)(2013)(1955)(2015)(1994)(1980)(2012)(2017)(1992)(1995)(2002)(1991)(1979)(1990)(1981)(1969)(1984)(2005)(1982)(1997)(1996)(1949)(1972)(1983)(1988)(2001)(1986)(1991)(1982)(1990)(1976)(1993)(1970)(1935)(1936)(1974)(1997)(1953)(1967)(2018)(2019)(1955)(1986)(2003)(1953)(2012)(1973)(2019)(1941)(1962)(2007)(1979)(1998)(2010)(2019)(1985)(1991)(1961)(1984)(1964)(2017)(1938)(1949)(2014)(1991)(1969)(2006)(2017)(2008)(2000)(1960)(2003)(2012)(1989)(1998)(1981)(2005)(2011)(2011)(1992)(2008)(1999)(2012)(2003)(2001)(1950)(2003)(2005)(1967)(1966)(1971)(1965)(2013)(1984)(1980)(2007)(1957)(1982)(1970)(1984)(2012)(2013)(2017)(1972)(2000)(2019)(2000)(1981)(2001)(1973)(1989)(2007)(2004)(2007)(1994)(1968)(1997)(1980)(1997)(2019)(1997)(2017)(2009)(2016)(1973)(1947)(1975)(2004)(2017)(1986)(2019)(2021)(1996)(2000)(1968)(1989)(2000)(1991)(2002)(1988)(1936)(2001)(1998)(1961)(2019)(2017)(1979)(1992)(2002)(2016)(1990)(2005)(1979)(1996)(1989)(2019)(2007)(1973)(1983)(2000)(1981)(1971)(1980)(2000)(1944)(1973)(2019)(1969)(1981)(1980)(2017)(2002)(2021)(1987)(1990)(2007)(2013)(2021)(2015)(1959)(2017)(1975)(1965)(2005)(1988)(2018)(1978)(2000)(1979)(1999)(1975)(2018)(2020)(2000)(2000)(1981)(1997)(2010)(2004)(1975)(1987)(2008)(1982)(1984)(1986)(2014)(2020)(1989)(2002)(1990)(1987)(2015)(2009)(2003)(2018)(1988)(1970)(2021)(2016)(1976)(1985)(2006)(1994)(2001)(1998)(1999)(1976)(2002)(2019)(1963)(1988)(2000)(2006)(1961)(1988)(2011)(1977)(1999)(1982)(2006)(2019)(1981)(2017)(1976)(1996)(1998)(2019)(2017)(1990)(2003)(2012)(2016)(2008)(1989)(2003)(1986)(1981)(1981)(1973)(1973)(1999)(1968)(1968)(2014)(1963)(2000)(1975)(1984)(2013)(1999)(2007)(1964)(2003)(1993)(2013)(2010)(2013)(2012)(1971)(1959)(2016)(2003)(1992)(2009)(2005)(1960)(1989)(1960)(1993)(1986)(1939)(1958)(1980)(1985)(1983)(1977)(1993)(1979)(2019)(1990)(1951)(1980)(2002)(1959)(2018)(1976)(1998)(1931)(1983)(1996)(1960)(1948)(1997)(1981)(2005)(1987)(1995)(2001)(2012)(2013)(2009)(2009)(1984)(1989)(1992)(1997)(1963)(1999)(1961)(2019)(1949)(1959)(1971)(1959)(1981)(1994)(2000)(1960)(1994)(1989)(1988)(1990)(1984)(1984)(2019)(1988)(1968)(2017)(2013)(2016)(2005)(1993)(1986)(1994)(1995)(2014)(1983)(1998)(2018)(1990)(1985)(1984)(2014)(1977)(1986)(2009)(2008)(1978)(1980)(1992)(1985)(2000)(1936)(1995)(1979)(2010)(1999)(2014)(1978)(2018)(1982)(1980)(1991)(2002)(2008)(2019)(1992)(2005)(1988)(2001)(1981)(1977)(1984)(1989)(2001)(1993)(1989)(1974)(1991)(2003)(1973)(2018)(1964)(1983)(1990)(1978)(2001)(2019)(1980)(1957)(1983)(2018)(1971)(1970)(1981)(2013)(2006)(2015)(1963)(2004)(1987)(1991)(2015)(1987)(1997)(1997)(1999)(1983)(1954)(1959)(1983)(1993)(2018)(1973)(1998)(2020)(2002)(2016)(2019)(2012)(2020)(1976)(1984)(2018)(2004)(1993)(1976)(2007)(2008)(2019)(1993)(2004)(2019)(1986)(2017)(2005)(1970)(2019)(1996)(2015)(2006)(1942)(1979)(2019)(1965)(1984)(1980)(2003)(2007)(2011)(2009)(1990)(1991)(1988)(2001)(1978)(2010)(2000)(1989)(1987)(1958)(1941)(2018)(1992)(1950)(2003)(1975)(1977)(1986)(2016)(2008)(2010)(2010)(1991)(1992)(2000)(2012)(1997)(1996)(1968)(1996)(1970)(1995)(1998)(1971)(1989)(2017)(2012)(1989)(1999)(2014)(1981)(1985)(1988)(1978)(1991)(1981)(1980)(1973)(1974)(1978)(1996)(1977)(1999)(1988)(2000)(1987)(1989)(1991)(1991)(1999)(2006)(1958)(1974)(1998)(2015)(2007)(1980)(1992)(2020)(1983)(1981)(2010)(1994)(1982)(1994)(1987)(1964)(1956)(1992)(1989)(2005)(1975)(2008)(2003)(1997)(2014)(1980)(2020)(2003)(2016)(2014)(2013)(2014)(2014)(2015)(2008)(2014)(1992)(1977)(1963)(2002)(1962)(1993)(2014)(2008)(1986)(2019)(1995)(2004)(2015)(2017)(2009)(1974)(1937)(1990)(1969)(1995)(2004)(2008)(1992)(1943)(1980)(1956)(2012)(1986)(2005)(2004)(1978)(2009)(2019)(1983)(1977)(2010)(1957)(2002)(2006)(2003)(2010)(2012)(1989)(1960)(1993)(1964)(1991)(1999)(2005)(2003)(2021)(1976)(1997)(2005)(2002)(2021)(2003)(2014)(1986)(1978)(1974)(2020)(1972)(2015)(2001)(2020)(1977)(2014)(1997)(1981)(2002)(1994)(1997)(1994)(2010)(2008)(2018)(2017)(1993)(1996)(1997)(2012)(2004)(1946)(2020)(1990)(2000)(1981)(1961)(2006)(2013)(1993)(2011)(2011)(2003)(2014)(2018)(2007)(2001)(1998)(2015)(2003)(2018)(2004)(2002)(2018)(2010)(2005)(2006)(1981)(1998)(1987)(1985)(2014)(2017)(1955)(1993)(2000)(1974)(2007)(1991)(2009)(1943)(2000)(1977)(2008)(2010)(2018)(2014)(2000)(2007)(2011)(2002)(2002)(2005)(2016)(2012)(2001)(2005)(2003)(2004)(1994)(2001)(2011)(2007)(1963)(2005)(2019)(1991)(2016)(1996)(2019)(2017)(1998)(1992)(1981)(1999)(1966)(1989)(2014)(1997)(1981)(2006)(2011)(1966)(1979)(1953)(1971)(1966)(1946)(1990)(1975)(2010)(1976)(2001)(1971)(2006)(2013)(2017)(1997)(1949)(2010)(2021)(1979)(1991)(1980)(1984)(2005)(1953)(2018)(2020)(2001)(1958)(2014)(2004)(2013)(1979)(1984)(1971)(1991)(1982)(2014)(2004)(1999)(1966)(2015)(1944)(1978)(1954)(1971)(1960)(2002)(2012)(1983)(1972)(1985)(1992)(2010)(1991)(2016)(2011)(1917)(1981)(1989)(2018)(2019)(2013)(2018)(1988)(1967)(1997)(1985)(2010)(1993)(1967)(2020)(2000)(2012)(2012)(2017)(1964)(1939)(2008)(2018)(2014)(1990)(2016)(2002)(2004)(2009)(2004)(2017)(2013)(1988)(2017)(2010)(2007)(2014)(2017)(2012)(2007)(2019)(2018)(2012)(1939)(2012)(2019)(2007)(2014)(2016)(2016)(2013)(2019)(2006)(2001)(2020)(2014)(1999)(1996)(1973)(2003)(1986)(2015)(1982)(2012)(1999)(1987)(1997)(2019)(2007)(1979)(2005)(2009)(2020)(2009)(2012)(2014)(2017)(2011)(2020)(2013)(1965)(1993)(1980)(1984)(2019)(2009)(1991)(1986)(2020)(2009)(2016)(2017)(2003)(1997)(2011)(2016)(2015)(2011)(2009)(2016)(2008)(1983)(2009)(2006)(2004)(1960)(1984)(1966)(2009)(2006)(2016)(2001)(2009)(1989)(1984)(1959)(2018)(2020)(2012)(2016)(2018)(2021)(1981)(2008)(2018)(2014)(2011)(2018)(2017)(2001)(2019)(2012)(2018)(1985)(1983)(2016)(2008)(2010)(2019)(2009)(2009)(2015)(2017)(2014)(2005)(2020)(2019)(2018)(2018)(2011)(2017)(2012)(2015)(2012)(2019)(2014)(2014)(2014)(2016)(1962)(1992)(1957)(1976)(1970)(1960)(1986)(1985)(1999)(1959)(1996)(2003)(2002)(1996)(1996)(1964)(2018)(1972)(1980)(1979)(2008)(1981)(1984)(1986)(1984)(1995)(1992)(2018)(1984)(2017)(2013)(2021)(2014)(2017)(2016)(2016)(1987)(2021)(1994)(1959)(2019)(2010)(2009)(1974)(1951)(1994)(2004)(2006)(1950)(1958)(2016)(2009)(2015)(2013)(2004)(1996)(1998)(1979)(1977)(1976)(1985)(1994)(1989)(1983)(1997)(1981)(1965)(2013)(2013)(1985)(2019)(2001)(1949)(1989)(1970)(1987)(1998)(1970)(1946)(2012)(2008)(1944)(1990)(1967)(2009)(1988)(2016)(2007)(2015)(1959)(1969)(2013)(1957)(1995)(2005)(2015)(1981)(2014)(1987)(1983)(1989)(1986)(1962)(1987)(2003)(2004)(2004)(2015)(1982)(1994)(2013)(2003)(2021)(1959)(1998)(2003)(2007)(1962)(1998)(1964)(1971)(1989)(2014)(1988)(1999)(1978)(2017)(1966)(2019)(1988)(2005)(2002)(1982)(2005)(2017)(1987)(2017)(1989)(1964)(1991)(1967)(2021)(1998)(2001)(2019)(2019)(2006)(2020)(1951)(2010)(1998)(2010)(1977)(1989)(1994)(1966)(1969)(1970)(1971)(2004)(2005)(2005)(1980)(2004)(1972)(1999)(1973)(1983)(1977)(1983)(2005)(2013)(1981)(2007)(2019)(2015)(2014)(1976)(1962)(1954)(1980)(2007)(1974)(2000)(2012)(2018)(2017)(1960)(1979)(1974)(2003)(1984)(1988)(1985)(1998)(1987)(2018)(2014)(2019)(1983)(1988)(2009)(2014)(2007)(1955)(2019)(2003)(2002)(2020)(2019)(2017)(2012)(2002)(1987)(2016)(2019)(2009)(2014)(1971)(2015)(2017)(2014)(2002)(1950)(1984)(2005)(1992)(2020)(2009)(1983)(1960)(1996)(1986)(1999)(1991)(2005)(1954)(1970)(2001)(1985)(2004)(2011)(2017)(2016)(2013)(2020)(1985)(2013)(2003)(1975)(2011)(2018)(1998)(1982)(2003)(1989)(1983)(2005)(2002)(2012)(2001)(1993)(1961)(1958)(1972)(1932)(1975)(1976)(1976)(1954)(2005)(1975)(1934)(1983)(1976)(1986)(2009)(2018)(2020)(2010)(1950)(1991)(1981)(1942)(2004)(1981)(1979)(1947)(1992)(2008)(2016)(2015)(1991)(1985)(2018)(1996)(1945)(1991)(1993)(1982)(1971)(1992)(1954)(1976)(2008)(2020)(1960)(1973)(1998)(1958)(1983)(1962)(1982)(1967)(2018)(2014)(1948)(1971)(2000)(1997)(1956)(1961)(1964)(2010)(1971)(2006)(2011)(2013)(1985)(1995)(1973)(1986)(1976)(2006)(1992)(1984)(2005)(1989)(1971)(1986)(1985)(1985)(1987)(1987)(1968)(1970)(1989)(1990)(1964)(1978)(2020)(1985)(1966)(1988)(1977)(1987)(1984)(1985)(2000)(1971)(1988)(2008)(1972)(2011)(2013)(1998)(2012)(2015)(1968)(2013)(1970)(1968)(1972)(2006)(2009)(1966)(1963)(2018)(1986)(1992)(1975)(1965)(1997)(2002)(1993)(2005)(1981)(1984)(2001)(2005)(1944)(1969)(2004)(1979)(2003)(1985)(2000)(1990)(2009)(2006)(1995)(2018)(2009)(2002)(2001)(2017)(1963)(1989)(2005)(2013)(2011)(2013)(2012)(2015)(2014)(1989)(1967)(1995)(1967)(2019)(1955)(1972)(2010)(2020)(2011)(1975)(1998)(1998)(2011)(1999)(2010)(1986)(2004)(2017)(1954)(2017)(1947)(1957)(2016)(2001)(1985)(1935)(1949)(1998)(1936)(1957)(2003)(2012)(1954)(1935)(1957)(1989)(2015)(2016)(2005)(2018)(2016)(1991)(2008)(2000)(2019)(2004)(2016)(2005)(2008)(1987)(2008)(2002)(2018)(2010)(2001)(1989)(2018)(2006)(1996)(2016)(2014)(2011)(1961)(2016)(1989)(1985)(1997)(1998)(1965)(1988)(1997)(1994)(1986)(1991)(1966)(2000)(2015)(1947)(1984)(2014)(2009)(2016)(1994)(1987)(2019)(2001)(2013)(2017)(1972)(2016)(2008)(2011)(2015)(2013)(2001)(2015)(1970)(2021)(1980)(2004)(2009)(2021)(2020)(1999)(1957)(1938)(2016)(1995)(1975)(2018)(2007)(2014)(2004)(2005)(2005)(1955)(1997)(2006)(1994)(1996)(1992)(2007)(1987)(1961)(2017)(1979)(1996)(1974)(1952)(2010)(2008)(1957)(1987)(2015)(1964)(2017)(1977)(1997)(1997)(2015)(2020)(2015)(2016)(2015)(2017)(2017)(2012)(1960)(2019)(2018)(2003)(1986)(2009)(1983)(1963)(2001)(2001)(1983)(1992)(2011)(2004)(1989)(1958)(2008)(2017)(1988)(1977)(2002)(2018)(1988)(2016)(2014)(2015)(2016)(2008)(2014)(2005)(2011)(2003)(2008)(2013)(2021)(2007)(2003)(2005)(2012)(2011)(2011)(1955)(1972)(2003)(2014)(2017)(1975)(1999)(1942)(1979)(1993)(1996)(1996)(1978)(1990)(1987)(1978)(2016)(1985)(2004)(2011)(2013)(2010)(1957)(1986)(2004)(2019)(2019)(2020)(2004)(1992)(2017)(2010)(1993)(1996)(1995)(2017)(2015)(2019)(2010)(2018)(2005)(2020)(2013)(2021)(1984)(2006)(2016)(2007)(2008)(2010)(2011)(2017)(2010)(1970)(2008)(2010)(2005)(2012)(2018)(2004)(2015)(2010)(2011)(2002)(1971)(2004)(1992)(1976)(1986)(2003)(1957)(1972)(1991)(1995)(1990)(1979)(1986)(2005)(2016)(1987)(2017)(1991)(1977)(1994)(2013)(1955)(1989)(1991)(1951)(1971)(1968)(1982)(1948)(1973)(1989)(2016)(2000)(1954)(1976)(1979)(1986)(1951)(1945)(1946)(1967)(1965)(2021)(1973)(2005)(1989)(1979)(1943)(1981)(2019)(1962)(2006)(2010)(2004)(2009)(1996)(1982)(1973)(2018)(2007)(2018)(1982)(1994)(2010)(1949)(1988)(2020)(2014)(1998)(1981)(2007)(1980)(1969)(2018)(2007)(1955)(1989)(1981)(1991)(2017)(1946)(1957)(1963)(1940)(1978)(1981)(1997)(1986)(1992)(2013)(2016)(1986)(1986)(1985)(1983)(1954)(1975)(1969)(2015)(1991)(1952)(1957)(2011)(1962)(2006)(1951)(1947)(1983)(1999)(1955)(1979)(1978)(1953)(1967)(1957)(2013)(2005)(1935)(2004)(1959)(2018)(1956)(1979)(1957)(1978)(1974)(2007)(1984)(1965)(1990)(1973)(1971)(2001)(2003)(1990)(2005)(1995)(1996)(1961)(1987)(1980)(2021)(2005)(1946)(1947)(1968)(1957)(1965)(2003)(1962)(1966)(2016)(1980)(1976)(2007)(1990)(2014)(2004)(2005)(1966)(1956)(1986)(2009)(2017)(2015)(2000)(1989)(2005)(2017)(1958)(1967)(2015)(1950)(1996)(1993)(2007)(1950)(1996)(1941)(1973)(2018)(1974)(2019)(1938)(1997)(2019)(2011)(1983)(2007)(1965)(1949)(1950)(1980)(1995)(1989)(1975)(1992)(1977)(2005)(2020)(2011)(2010)(2007)(2018)(2021)(2017)(1965)(1979)(1967)(2011)(2019)(2011)(2019)(2018)(1991)(1990)(1999)(2020)(2014)(2012)(2008)(2002)(2018)(2019)(2017)(2001)(2019)(2006)(1980)(1995)(2008)(2017)(2007)(2003)(1986)(1988)(2002)(2007)(2017)(2012)(2006)(2020)(2018)(2015)(2010)(2013)(2001)(2014)(2009)(1971)(2019)(2004)(2012)(2018)(2016)(2008)(2017)(1999)(1989)(1985)(1965)(2013)(2013)(2003)(1961)(1968)(2020)(2005)(2014)(1977)(1985)(2003)(2015)(2003)(2012)(2008)(2015)(2019)(2009)(2001)(2018)(2012)(2003)(1988)(1989)(1981)(1995)(2003)(1974)(1989)(1991)(1988)(1990)(1988)(1977)(2013)(1984)(1995)(1984)(2010)(1992)(1985)(2018)(1973)(1985)(2018)(2005)(1968)(1941)(1988)(2019)(2014)(2018)(2005)(2021)(1970)(2020)(2019)(1977)(2005)(1959)(2019)(1983)(2018)(1956)(2004)(1969)(1985)(1974)(1984)(2018)(2019)(2009)(1986)(1967)(1977)(2018)(1992)(1974)(2018)(2010)(2008)(2008)(1958)(2017)(1986)(2013)(2000)(1992)(1992)(1977)(1992)(2020)(2019)(2010)(1996)(2000)(1993)(1953)(1996)(2010)(2015)(1987)(1995)(1994)(1993)(1986)(2014)(1949)(1971)(1963)(2003)(1971)(1989)(1988)(1944)(2015)(1952)(1972)(1992)(1971)(1997)(1950)(1957)(1970)(1993)(1998)(2020)(2018)(2018)(1972)(1989)(1989)(2005)(1987)(1956)(1968)(2018)(1978)(1985)(2007)(1984)(1958)(1977)(1971)(1947)(2003)(1993)(2005)(1983)(1961)(2018)(1985)(1993)(1960)(2011)(1971)(1949)(2017)(1962)(1990)(1994)(1985)(1990)(1966)(1990)(1978)(2019)(2014)(2011)(1953)(1980)(1965)(2004)(2013)(2003)(1974)(2000)(1985)(1991)(1967)(1970)(1961)(1957)(1980)(1968)(1939)(2010)(1957)(2009)(2008)(1995)(2012)(1986)(2010)(1993)(2005)(1970)(1950)(1981)(1993)(1994)(2012)(1944)(1955)(2008)(2019)(2020)(2017)(1999)(1987)(1988)(1984)(1978)(1985)(1958)(1973)(2018)(1978)(2015)(2010)(2013)(2011)(2017)(2017)(1985)(2000)(2006)(1974)(2008)(2004)(2018)(1958)(2008)(1993)(1963)(1980)(2016)(1945)(1993)(1999)(1993)(1991)(1966)(1963)(1991)(1978)(1993)(1964)(2008)(2010)(2013)(2019)(2017)(2019)(1984)(1966)(2013)(1985)(2016)(2015)(2003)(1972)(1966)(2016)(2016)(2017)(2017)(2008)(1991)(2002)(1994)(2021)(1972)(1958)(1985)(1961)(1934)(2014)(2014)(2018)(2014)(2004)(1993)(2018)(2012)(1981)(2019)(2015)(1956)(1974)(1958)(1992)(2004)(1989)(1995)(1992)(1990)(1993)(2013)(1995)(1975)(2004)(1964)(1981)(1965)(2017)(2004)(1958)(2017)(2019)(1973)(2014)(2013)(1991)(2017)(2003)(1974)(2019)(2008)(2004)(2019)(1993)(2006)(2002)(1990)(2020)(1993)(1975)(1987)(1991)(1991)(1945)(2010)(1981)(1994)(1971)(1966)(1971)(1995)(1998)(1979)(1992)(1992)(1981)(1991)(1985)(2010)(1937)(1975)(1974)(1973)(1962)(1989)(1970)(1991)(2015)(1982)(1994)(1974)(1983)(1979)(1994)(1992)(1998)(2001)(1996)(1997)(2004)(1969)(2010)(2011)(1978)(1997)(1943)(1997)(1962)(1970)(2019)(1994)(2005)(1978)(1973)(1962)(1994)(1981)(2016)(2018)(2016)(2003)(1983)(1983)(1964)(1986)(2009)(1970)(1933)(1984)(1978)(1989)(2014)(1998)(1970)(2018)(1965)(2017)(1970)(1972)(2002)(2010)(2001)(2011)(2015)(1973)(1961)(1991)(1986)(1993)(1987)(2019)(2006)(2003)(1998)(1963)(1999)(1999)(2005)(1988)(2019)(1998)(2001)(2014)(2001)(1982)(1980)(1982)(1957)(2002)(2003)(1981)(2003)(1988)(2003)(1983)(1950)(1991)(1969)(1986)(1992)(1985)(1963)(1990)(1990)(1988)(1969)(1994)(1969)(1991)(1986)(1987)(1990)(1951)(2002)(1987)(1971)(1961)(1986)(1966)(1966)(1993)(1982)(2006)(1985)(1990)(1984)(1998)(1998)(1969)(2017)(1997)(1975)(1992)(1984)(2017)(2012)(2005)(1988)(2001)(2001)(2004)(1986)(1964)(1983)(1990)(1988)(2003)(1998)(2013)(2021)(2011)(2009)(1980)(1991)(2000)(2013)(2011)(2017)(1979)(2017)(1958)(1987)(2019)(1984)(1975)(1989)(2007)(1976)(1972)(2013)(1995)(1972)(1982)(1992)(2020)(1967)(2021)(2009)(1987)(1959)(2000)(1970)(1984)(2010)(1967)(1981)(2002)(2012)(2016)(2009)(2018)(2008)(2013)(2008)(2013)(2018)(1983)(2018)(1992)(1954)(2021)(1932)(2009)(2017)(1990)(2008)(2006)(1975)(2009)(2014)(2003)(2017)(2003)(1995)(2011)(2014)(2015)(2017)(1969)(1953)(1985)(1978)(2001)(2018)(1953)(2016)(1955)(2019)(2005)(2015)(2004)(1956)(1982)(1959)(1995)(2018)(1984)(1996)(1968)(1994)(2005)(2003)(1952)(1979)(1996)(1972)(1974)(2000)(1997)(2000)(1999)(2014)(1973)(1978)(1969)(1995)(1999)(2013)(2013)(1996)(1964)(2018)(2010)(1974)(1992)(1982)(1951)(1936)(1992)(2000)(2013)(1962)(1972)(2004)(2010)(2010)(2012)(1971)(1989)(1994)(2019)(1981)(1977)(1996)(1984)(1994)(2017)(1967)(1996)(1980)(1948)(1977)(2007)(1995)(1978)(1992)(1984)(2019)(1989)(1961)(2008)(1943)(2017)(1995)(2020)(1984)(1985)(1985)(1988)(2008)(2010)(2017)(2013)(1988)(2010)(1991)(2005)(1985)(2001)(2013)(1982)(2017)(2019)(1993)(1944)(2015)(1961)(1996)(1991)(2015)(1991)(2017)(1993)(1983)(2006)(1982)(1975)(1991)(1996)(2012)(1995)(1996)(2019)(2013)(1976)(1956)(2017)(2013)(1975)(1993)(1995)(1972)(1959)(2019)(2010)(2015)(2015)(1986)(2007)(2013)(2012)(2015)(2011)(2018)(1944)(1951)(1979)(2004)(1995)(1999)(1961)(2011)(2018)(2016)(2009)(2013)(1980)(2007)(2007)(2017)(2018)(2021)(2000)(2020)(2006)(2001)(2005)(2007)(2019)(1962)(2019)(1974)(1971)(2002)(1990)(1961)(2007)(1996)(1960)(1988)(2006)(2018)(2005)(2001)(2014)(2016)(2017)(1973)(1986)(2010)(1988)(1979)(2013)(1983)(1965)(2002)(2007)(2019)(2014)(1972)(2012)(2014)(2021)(2002)(2003)(2009)(2009)(2008)(2019)(2014)(1995)(2016)(2008)(2009)(1999)(2011)(1981)(2006)(2016)(2005)(2004)(2010)(1988)(1983)(2019)(2017)(1991)(2021)(1981)(2015)(1961)(1993)(1972)(1970)(2018)(1974)(1942)(1974)(1990)(2016)(2001)(1992)(2012)(2015)(2008)(1993)(2004)(1989)(1997)(2017)(1988)(1991)(2003)(2004)(2013)(2015)(2020)(1962)(2017)(2009)(2017)(1991)(2012)(1982)(2016)(1966)(1967)(1963)(1965)(1964)(1994)(2019)(2009)(1985)(1985)(1991)(1978)(1996)(1994)(1995)(1981)(1980)(2016)(2000)(1979)(2019)(2017)(2008)(2016)(1984)(2013)(2015)(2008)(1970)(1969)(1998)(2010)(2016)(1982)(1968)(1991)(2002)(1992)(2015)(2006)(2007)(1989)(2003)(1966)(1988)(1975)(1998)(2005)(2020)(2015)(1980)(1994)(2017)(2000)(1995)(1976)(1972)(2002)(2003)(1979)(1989)(1970)(1969)(1989)(1989)(2017)(2006)(1986)(1991)(2020)(1987)(2012)(1958)(1993)(2012)(1968)(1991)(2010)(1983)(1970)(1999)(1977)(1978)(1966)(1951)(1988)(1974)(1943)(1958)(1996)(2013)(2011)(2018)(2013)(1992)(1965)(1981)(2011)(1977)(1962)(1993)(2001)(1956)(1990)(2021)(1993)(2002)(1951)(1969)(1997)(1976)(1986)(1982)(1998)(1975)(2007)(1988)(1979)(2005)(2017)(2007)(1994)(1989)(2017)(1997)(1980)(1950)(1972)(1970)(1998)(1999)(1959)(1986)(2003)(1969)(2003)(2017)(1981)(1973)(1979)(1983)(1961)(1982)(2009)(2014)(1958)(1964)(1999)(1986)(1956)(1951)(1997)(1991)(1995)(2009)(2016)(1982)(2009)(2016)(2005)(2021)(2003)(2006)(1964)(1952)(1994)(1989)(1992)(1962)(1999)(1993)(1976)(1950)(1993)(1995)(2018)(1964)(1943)(1961)(1972)(1985)(2018)(2009)(2009)(1976)(1981)(1981)(1971)(1987)(1996)(1940)(1940)(1964)(1982)(1983)(1937)(2016)(1993)(1989)(2002)(1975)(1999)(1992)(1961)(1991)(1968)(1996)(1952)(1999)(1999)(1998)(1969)(2018)(1936)(1961)(1966)(1968)(2016)(2016)(1993)(1967)(1955)(2021)(1996)(1972)(1985)(1999)(1979)(1950)(2017)(1960)(2006)(1995)(2005)(2005)(2017)(2008)(1979)(1992)(1986)(1961)(1984)(1980)(2019)(2008)(1977)(1983)(1964)(2011)(2003)(1959)(1982)(1998)(2013)(2007)(2013)(1982)(1969)(1978)(1987)(2000)(2018)(2016)(1991)(1980)(2004)(1989)(1995)(1973)(1991)(1991)(2001)(1999)(1962)(1996)(1958)(1986)(1982)(1970)(1966)(1979)(2007)(2012)(2020)(1951)(1972)(1981)(2004)(1999)(1958)(2020)(2019)(2006)(2021)(2019)(2015)(2012)(2020)(2017)(2021)(2008)(2019)(2018)(2017)(1971)(1955)(1984)(1934)(1972)(2010)(1994)(2005)(1963)(1996)(2020)(2019)(1975)(1962)(2017)(2004)(2006)(1972)(2019)(2014)(2017)(2005)(2006)(2018)(2021)(1980)(2015)(2010)(1979)(1954)(2005)(1949)(1964)(2005)(2011)(2015)(1935)(2009)(1990)(1967)(2011)(1934)(1948)(1965)(1963)(2018)(1954)(2002)(1988)(1953)(2012)(1946)(2006)(2010)(1949)(1974)(2011)(1979)(1998)(2006)(1990)(1994)(2011)(2007)(2020)(1965)(1981)(2002)(1982)(1993)(1947)(2020)(1978)(1998)(1981)(1961)(1954)(2015)(1989)(1974)(1990)(2012)(1976)(1977)(1966)(1976)(1991)(1991)(1984)(1997)(1976)(1984)(1964)(1957)(1970)(1976)(2015)(1984)(1959)(1972)(2002)(1942)(1981)(1997)(1973)(2019)(1971)(1969)(1954)(1986)(2004)(1996)(1993)(1956)(1969)(1986)(1982)(2016)(2008)(2004)(1950)(1986)(2005)(1984)(2011)(1964)(1964)(1947)(2020)(1989)(1972)(1956)(2017)(1990)(1998)(1987)(1999)(1990)(1985)(1997)(1988)(1957)(1990)(1996)(2004)(2000)(1968)(2020)(2000)(1963)(1991)(1953)(2005)(1979)(2020)(2012)(1977)(2001)(1956)(2012)(1982)(1991)(1989)(2006)(1991)(1985)(1988)(2016)(2004)(2012)(1981)(1996)(2018)(1961)(1992)(2002)(1975)(1953)(1999)(2006)(1988)(2007)(2013)(1972)(2010)(2016)(2016)(2013)(2016)(2009)(2013)(2007)(1981)(1984)(2013)(1955)(1962)(1971)(1965)(2017)(1993)(1965)(1954)(1985)(1971)(1943)(2007)(1960)(1982)(1968)(1952)(2013)(1983)(2017)(2020)(2020)(2013)(2017)(2012)(2011)(2020)(2004)(2014)(2019)(2020)(2011)(1990)(2013)(2009)(2009)(1965)(1999)(1989)(2004)(2015)(2021)(2005)(1981)(1999)(2018)(2002)(1969)(2018)(2017)(1952)(1965)(2019)(1987)(1949)(1960)(2015)(2008)(2013)(2011)(2019)(2014)(1986)(2016)(2005)(2018)(1993)(2007)(2008)(2005)(1976)(1982)(2005)(1985)(1987)(1980)(1999)(1958)(2007)(2006)(2016)(2013)(2012)(1988)(1992)(2020)(2021)(1973)(1996)(1966)(2000)(1999)(2013)(2000)(2002)(2010)(2005)(2011)(1948)(1985)(1958)(2014)(1998)(1969)(1958)(1979)(1956)(2009)(1964)(1962)(2012)(1958)(2019)(2013)(2014)(2011)(2019)(1978)(1958)(1992)(1988)(2018)(2012)(2018)(1983)(2013)(2020)(1962)(2018)(1988)(1999)(2008)(2015)(2013)(2014)(2010)(2011)(2008)(1983)(1989)(2006)(1982)(2014)(2013)(2007)(2010)(1999)(1968)(1975)(2004)(1986)(1960)(2020)(2003)(2005)(2012)(2011)(2011)(1982)(1989)(2018)(2014)(1956)(2007)(2012)(2010)(1991)(2004)(2009)(2007)(2020)(1961)(2018)(2020)(1995)(2009)(1938)(2010)(2014)(2006)(2012)(2019)(2003)(1994)(2001)(1972)(1954)(1983)(1971)(1966)(2005)(2005)(2005)(2000)(1979)(1994)(1968)(1961)(1954)(1986)(1964)(1970)(2018)(1960)(2014)(2004)(2000)(2016)(1972)(1982)(1982)(2008)(2018)(1983)(1982)(2006)(1979)(2008)(1993)(1975)(1949)(1968)(2013)(1963)(2017)(1984)(2009)(2004)(2005)(2016)(1976)(2003)(2014)(2019)(2016)(2016)(2016)(2013)(2014)(1994)(1960)(1987)(2008)(2008)(2002)(1990)(1985)(1982)(1966)(1997)(1973)(2020)(1979)(1995)(2014)(1985)(2004)(1989)(1992)(1987)(1987)(1957)(2004)(2010)(1977)(2007)(2012)(1982)(1955)(2003)(1986)(1990)(1991)(1978)(1945)(1991)(1986)(1991)(1980)(1973)(1983)(2017)(2021)(2018)(2007)(1999)(2020)(2001)(1982)(1995)(1989)(2004)(1999)(2013)(2003)(1990)(1993)(1992)(1986)(1993)(2020)(1956)(2003)(2005)(1981)(2015)(2019)(1995)(1980)(1958)(2012)(2003)(1996)(1969)(1935)(2009)(2009)(2020)(2015)(1988)(2014)(1969)(1998)(1952)(2015)(2001)(1986)(1972)(1955)(2005)(2020)(2021)(1943)(2011)(2015)(1976)(2000)(1983)(1967)(1982)(2002)(1990)(1995)(2019)(2013)(1979)(1951)(1984)(1997)(1995)(1984)(2000)(1995)(2019)(1970)(1965)(1966)(1965)(2002)(2008)(1966)(2008)(2006)(2004)(2017)(1985)(1980)(1954)(1973)(1944)(2006)(1977)(2016)(2009)(1968)(1953)(1973)(1965)(1980)(2010)(1965)(1938)(2016)(2011)(1995)(2010)(1965)(1994)(1986)(1982)(2006)(1966)(1966)(2003)(1990)(1994)(1961)(1985)(2011)(2005)(2019)(2017)(2000)(2009)(2001)(2015)(2016)(2010)(2016)(1989)(1963)(2010)(2001)(1984)(2011)(1971)(1996)(2012)(1978)(2009)(1984)(2018)(2014)(2020)(1982)(1982)(1985)(2012)(1993)(1990)(2016)(2018)(2015)(1988)(2012)(2019)(1999)(1966)(2002)(1990)(1983)(1982)(2011)(2009)(2020)(2010)(1951)(2016)(2001)(1979)(2019)(2005)(2015)(1989)(2014)(2011)(2013)(2016)(2012)(2021)(2005)(2016)(2019)(2017)(2013)(1980)(2020)(2010)(1997)(1974)(1977)(1976)(2016)(1970)(1941)(2007)(2018)(1988)(2019)(2014)(2011)(2013)(1995)(2017)(2019)(2020)(2009)(1953)(2005)(2010)(2010)(2017)(2008)(2015)(2009)(1994)(2017)(2021)(2014)(1984)(2013)(1979)(2007)(2019)(2011)(2017)(2017)(2020)(2014)(2003)(2020)(2019)(2017)(2010)(2017)(2020)(2014)(2017)(2011)(2010)(2018)(2017)(2018)(2020)(2016)(2006)(2012)(2019)(2014)(2016)(2014)(2002)(2008)(2019)(1931)(2013)(2014)(2012)(2015)(2013)(1994)(1995)(2011)(2001)(1980)(1970)(2013)(2007)(2016)(2018)(2015)(2019)(2021)(2009)(2000)(1935)(2020)(2017)(2012)(2020)(2000)(2012)(2014)(1975)(1952)(2015)(1992)(2013)(2014)(2020)(2019)(2015)(2015)(1968)(2019)(2017)(2015)(1996)(2009)(2017)(2019)(1960)(1969)(2015)(1980)(1970)(2011)(2007)(2017)(2002)(2017)(2013)(2010)(2014)(2015)(2010)(2001)(2002)(2009)(2021)(2021)(2018)(2017)(2013)(2015)(2014)(2017)(1967)(2019)(1981)(1977)(1987)(2016)(1992)(2012)(2015)(2008)(2004)(1990)(2008)(2017)(1980)(1953)(1974)(2004)(1983)(2018)(2015)(2009)(1990)(1978)(2018)(2007)(1969)(2016)(2017)(2014)(2017)(1992)(2015)(2005)(2021)(2019)(1977)(1959)(1992)(1998)(2018)(2014)(2014)(2016)(2000)(2018)(2010)(1984)(1988)(2017)(2006)(2014)(2018)(1989)(1975)(1956)(1937)(2010)(1978)(1994)(2016)(2005)(2020)(2009)(2019)(2014)(2019)(1989)(1962)(2016)(2007)(2015)(2015)(1998)(2016)(2011)(2021)(1989)(1985)(1986)(1980)(1974)(1995)(1991)(2014)(1988)(1999)(1978)(2011)(1978)(1985)(1994)(2010)(2020)(2003)(1996)(1965)(1989)(1960)(2017)(2021)(2003)(1989)(2015)(2018)(1941)(1971)(2008)(1954)(2016)(2001)(1970)(2011)(2011)(2002)(1993)(1990)(2009)(2010)(2002)(2005)(2004)(2018)(1975)(1982)(1978)(1978)(2017)(2002)(1957)(2004)(1969)(2000)(1996)(2011)(2018)(2018)(2017)(2016)(2012)(2005)(2013)(1977)(1992)(2017)(2008)(2011)(2005)(2017)(1997)(2010)(2018)(1949)(1994)(2021)(1976)(2016)(1997)(2013)(2008)(2016)(1959)(1974)(2019)(1994)(1975)(2001)(1985)(2019)(1970)(2006)(1992)(1975)(1982)(1962)(2014)(2006)(2015)(1990)(2015)(2007)(1980)(2014)(2014)(1996)(2017)(2011)(2020)(2018)(2019)(2006)(2020)(1971)(2019)(1971)(1967)(2019)(1955)(2018)(2019)(1970)(1960)(1974)(1989)(1982)(1963)(1998)(2015)(1984)(2011)(1987)(2006)(2004)(2015)(2000)(2020)(2005)(2009)(1994)(2005)(1968)(1999)(2004)(1955)(1974)(2018)(2002)(2018)(1988)(1995)(1982)(2003)(2012)(1962)(2006)(1946)(2000)(1975)(2021)(2021)(1992)(1975)(1989)(2004)(1991)(2001)(1982)(2011)(1995)(2010)(1970)(1977)(2005)(1986)(1949)(1970)(1945)(2001)(2008)(1994)(2009)(2010)(2017)(1988)(2016)(2018)(2018)(2016)(1995)(2019)(1993)(1990)(1975)(2004)(2011)(2011)(2019)(1989)(2008)(2017)(1989)(2012)(1972)(2007)(2017)(2009)(1977)(1982)(2006)(1990)(1986)(1948)(1952)(2018)(2005)(2009)(1988)(1994)(1982)(1996)(2011)(1986)(1986)(1991)(2004)(1986)(2009)(2020)(2020)(1998)(2017)(2021)(1997)(2020)(1992)(2005)(2008)(1991)(1991)(2011)(1978)(2013)(2018)(1969)(1977)(1996)(1992)(1997)(2006)(1998)(2018)(2010)(2014)(2002)(1986)(1988)(1972)(2008)(1985)(2016)(1967)(1987)(2015)(2016)(2004)(1998)(2013)(2009)(2017)(1955)(2009)(1984)(2020)(1969)(1965)(1993)(1992)(1987)(1982)(1988)(1981)(1984)(2005)(1982)(2019)(2002)(2013)(1981)(1969)(1954)(2013)(1975)(1961)(2016)(1987)(2005)(2018)(2016)(2010)(2006)(2017)(2015)(2007)(2015)(2015)(2020)(2018)(2020)(2012)(2018)(2008)(2009)(2019)(2006)(2013)(2009)(2013)(2008)(1989)(2018)(1998)(2017)(2016)(2004)(2018)(2011)(2019)(2012)(2018)(2003)(2020)(2006)(2004)(1983)(1983)(1964)(1967)(2006)(1974)(1988)(2004)(1989)(1986)(2013)(2008)(2009)(2007)(2021)(2003)(2019)(2020)(2015)(2003)(2008)(2014)(1992)(2001)(1970)(1984)(1990)(1984)(2014)(1994)(1985)(1972)(2008)(2020)(1991)(2015)(1981)(2014)(1977)(1985)(2015)(2020)(1984)(1958)(1969)(2005)(2018)(2012)(1992)(2014)(2001)(2013)(2018)(1998)(1995)(1980)(1996)(2015)(1975)(1955)(1935)(1988)(2006)(1952)(1973)(2011)(2016)(1991)(2020)(1984)(2003)(2002)(1963)(2014)(1994)(2011)(2011)(1972)(2014)(2003)(2017)(2002)(2016)(2009)(1999)(2001)(1984)(2015)(2013)(2012)(1980)(2018)(2002)(2012)(2002)(2004)(1996)(2002)(1982)(2001)(1992)(1966)(1963)(1981)(2019)(2011)(2019)(1982)(1982)(1987)(2001)(1966)(2005)(1977)(2005)(1997)(1997)(1991)(2002)(2016)(2014)(1949)(2001)(2018)(2016)(1985)(2021)(1993)(1998)(1994)(2004)(1979)(2008)(1994)(1962)(1985)(2008)(2001)(1990)(1998)(1989)(1975)(1982)(1988)(1994)(1993)(1984)(2001)(1995)(1990)(1993)(2017)(1980)(1941)(1952)(1988)(1995)(1977)(1981)(1985)(1994)(1939)(1987)(2003)(1972)(1984)(1960)(1975)(2005)(1997)(1943)(1977)(1973)(1998)(2013)(1993)(2013)(1983)(1972)(2014)(1945)(2005)(1974)(2018)(1987)(1945)(1994)(2014)(1964)(1997)(1948)(2013)(1958)(1960)(1990)(2006)(1975)(1986)(1986)(2006)(1964)(1940)(1976)(2000)(2013)(1961)(1965)(1992)(1988)(2013)(1984)(2002)(2011)(2012)(2019)(1958)(2000)(1972)(2011)(2018)(2009)(1998)(1996)(1975)(2015)(2001)(1985)(1992)(1989)(1988)(1999)(1998) to numeric",
     "output_type": "error",
     "traceback": [
      "\u001b[0;31m---------------------------------------------------------------------------\u001b[0m",
      "\u001b[0;31mValueError\u001b[0m                                Traceback (most recent call last)",
      "File \u001b[0;32m~/anaconda3/lib/python3.11/site-packages/pandas/core/nanops.py:1692\u001b[0m, in \u001b[0;36m_ensure_numeric\u001b[0;34m(x)\u001b[0m\n\u001b[1;32m   1691\u001b[0m \u001b[38;5;28;01mtry\u001b[39;00m:\n\u001b[0;32m-> 1692\u001b[0m     x \u001b[38;5;241m=\u001b[39m \u001b[38;5;28mfloat\u001b[39m(x)\n\u001b[1;32m   1693\u001b[0m \u001b[38;5;28;01mexcept\u001b[39;00m (\u001b[38;5;167;01mTypeError\u001b[39;00m, \u001b[38;5;167;01mValueError\u001b[39;00m):\n\u001b[1;32m   1694\u001b[0m     \u001b[38;5;66;03m# e.g. \"1+1j\" or \"foo\"\u001b[39;00m\n",
      "\u001b[0;31mValueError\u001b[0m: could not convert string to float: '(2019)(2019)(1997)(2005)(2012)(2014)(2004)(2016)(1991)(2012)(2018)(2010)(1958)(2021)(2017)(2009)(2005)(1993)(2002)(2014)(1946)(2004)(2008)(2016)(2012)(2018)(1994)(2007)(2019)(2017)(2014)(2013)(2012)(2003)(2014)(2018)(1998)(2017)(2018)(1979)(2019)(2002)(1951)(1956)(2008)(1974)(2014)(2012)(2003)(2019)(2009)(2009)(2018)(2015)(2004)(2016)(2015)(2009)(2006)(1981)(1974)(2020)(2019)(1985)(2013)(2019)(2011)(2016)(2009)(2012)(2012)(1974)(2007)(2011)(1967)(2014)(2007)(2005)(1988)(1995)(2016)(2006)(2011)(1987)(2019)(2019)(2009)(2021)(2003)(2017)(2009)(2019)(2005)(2016)(2017)(2016)(2015)(2005)(2010)(2016)(2020)(2017)(2019)(2013)(1996)(2013)(2020)(2016)(2011)(2005)(2017)(2019)(2002)(2008)(1999)(2018)(2009)(1973)(1994)(2017)(2016)(1999)(2004)(1968)(1943)(1953)(1943)(1986)(2018)(1982)(1977)(2019)(1982)(2013)(1991)(1950)(1968)(1993)(1991)(1969)(1993)(2009)(1977)(2016)(1977)(1948)(1967)(1994)(1994)(1994)(1970)(1986)(1987)(1990)(1990)(1993)(1988)(1991)(1989)(2011)(1947)(1988)(2001)(2009)(2000)(1982)(1953)(1971)(1978)(1993)(1977)(1944)(1987)(1947)(1963)(1935)(2003)(1990)(1985)(1993)(1992)(2001)(2006)(2006)(1976)(2000)(2000)(1991)(1976)(1984)(1988)(1990)(1985)(1984)(1973)(1993)(1993)(2007)(1968)(1994)(2000)(1985)(1986)(1988)(1989)(1989)(1991)(1975)(1978)(1958)(1989)(1977)(1980)(2002)(1979)(1966)(1990)(1997)(1975)(1980)(2010)(1998)(2012)(2001)(2007)(2018)(2001)(2008)(1967)(1982)(2009)(1984)(1972)(1956)(1970)(2004)(2003)(1980)(1960)(1968)(1975)(1964)(1985)(1952)(1990)(1959)(1979)(2019)(1972)(2004)(1993)(1950)(2002)(1972)(1970)(1964)(1994)(2009)(1971)(1976)(1980)(1986)(1974)(1977)(2006)(1964)(2002)(1980)(2009)(1981)(2003)(1992)(1985)(1997)(2011)(1951)(1957)(1974)(1954)(1962)(2007)(1999)(1953)(1961)(1981)(1957)(1980)(2010)(1986)(1993)(1962)(2001)(2005)(1977)(1995)(1990)(2013)(2011)(1968)(2014)(2018)(2009)(1984)(1965)(1992)(1993)(1966)(1997)(1996)(1995)(2006)(1979)(1994)(2006)(2013)(1998)(1974)(1956)(1990)(1964)(1999)(1966)(2011)(1995)(1984)(1957)(2012)(1995)(2002)(1977)(1989)(2004)(2015)(1994)(2004)(2004)(2013)(1980)(1933)(1955)(1995)(1977)(1968)(1957)(1973)(1980)(1991)(1989)(1970)(1986)(2011)(1984)(1943)(2010)(1973)(1998)(1983)(1936)(2009)(2019)(2014)(2010)(1948)(2010)(1958)(1976)(1989)(1992)(2006)(1965)(1954)(1986)(1971)(2001)(2007)(2010)(1983)(1955)(1990)(2010)(2017)(1983)(2019)(1978)(1980)(1985)(2011)(2016)(2004)(1997)(1986)(1966)(1951)(2001)(1991)(1950)(2014)(1983)(1977)(1972)(1977)(2012)(2007)(1985)(1988)(1997)(1990)(1990)(2012)(1997)(2004)(1981)(1973)(1996)(1997)(2000)(2002)(1957)(1980)(2009)(2019)(1995)(1979)(1981)(2006)(1979)(2016)(2006)(1986)(2015)(2003)(2010)(1996)(2009)(1985)(2004)(2018)(2012)(2012)(2009)(2017)(1974)(1996)(2021)(1992)(1989)(1958)(2017)(2001)(1998)(1991)(1991)(2004)(2020)(2013)(1984)(1966)(1988)(1965)(1991)(1979)(2014)(1995)(1999)(1963)(2002)(1989)(2001)(2006)(2017)(1977)(1952)(2009)(1985)(2006)(2019)(1975)(1973)(1979)(2001)(1951)(1971)(1980)(2019)(2019)(1966)(1940)(1954)(2004)(1932)(1977)(2017)(1933)(1953)(2015)(2015)(2020)(1984)(2009)(2010)(1997)(1986)(2015)(2009)(2011)(1977)(1994)(1967)(2016)(1955)(1975)(1954)(1958)(1979)(2005)(1936)(1948)(1960)(1972)(2020)(1961)(1978)(1977)(2019)(1990)(1990)(1980)(1952)(1985)(2013)(1985)(2001)(1974)(2016)(1990)(2014)(2002)(1986)(2001)(2021)(2001)(1966)(1986)(2005)(2018)(1967)(1968)(2016)(1992)(2017)(1973)(2008)(1971)(1984)(1952)(1977)(1985)(1959)(1993)(1975)(1999)(1953)(2016)(2003)(1984)(1949)(1971)(1994)(1994)(1990)(1993)(1985)(1983)(1987)(2018)(1990)(1975)(1994)(1986)(1984)(1995)(1992)(2002)(1996)(1998)(1986)(1954)(2011)(1982)(2005)(1995)(2020)(2015)(2014)(1960)(1952)(1973)(1967)(1968)(1978)(1987)(1994)(2007)(2005)(1974)(1969)(2010)(2000)(2005)(1969)(1978)(2003)(2009)(1985)(2006)(1962)(1968)(2013)(1997)(2013)(1974)(1986)(1993)(1946)(1969)(1982)(1978)(2016)(2016)(1972)(1971)(1992)(2002)(1975)(1995)(1989)(1982)(1972)(1972)(2000)(1948)(1986)(2006)(1948)(1973)(1972)(1968)(1962)(1978)(2002)(1969)(2008)(1991)(2021)(1994)(2006)(1993)(1971)(1986)(2009)(2003)(1966)(1972)(1960)(2006)(1977)(2007)(2015)(1985)(1993)(2005)(2010)(1982)(1990)(2007)(2001)(1982)(1962)(1972)(1989)(1960)(1960)(1978)(2006)(1977)(2007)(1987)(1996)(1975)(1964)(1980)(1975)(1972)(1992)(1949)(1974)(2000)(1957)(1982)(1964)(2012)(1946)(1969)(1994)(2004)(1974)(1983)(1959)(1985)(2001)(1976)(1999)(2019)(2012)(1953)(2003)(1981)(1996)(2010)(1967)(1983)(1957)(1982)(2019)(1978)(1988)(2006)(1950)(1965)(2004)(1984)(2012)(2018)(2009)(1984)(1993)(1982)(1952)(1943)(2017)(2010)(2018)(2001)(2011)(1993)(1991)(1986)(1962)(1989)(2000)(2020)(1992)(2009)(2012)(2018)(2020)(2005)(2007)(1990)(1978)(2020)(2010)(2020)(1979)(2013)(1990)(2012)(1987)(1968)(1993)(1998)(1991)(1996)(1979)(2007)(2013)(1940)(1953)(1967)(1996)(1984)(1988)(1998)(2016)(2010)(1997)(1978)(1987)(2011)(2001)(1986)(2017)(1983)(1951)(1990)(1984)(1985)(1964)(2002)(1990)(2007)(2020)(2016)(2019)(1969)(1982)(1964)(1991)(2000)(2001)(1991)(1955)(1978)(1990)(1940)(1974)(2016)(2017)(2012)(2017)(2021)(2018)(2009)(2006)(1985)(1954)(1999)(2017)(2000)(2016)(2018)(2020)(1993)(1990)(2001)(2017)(2019)(1973)(1994)(2015)(1954)(2003)(1990)(1955)(2016)(2017)(1957)(1993)(2018)(2012)(1986)(2013)(1962)(1982)(1953)(1992)(2003)(2018)(1951)(1968)(1984)(1995)(1993)(1972)(2017)(1960)(1951)(2014)(1985)(1950)(1986)(1972)(1985)(2017)(2015)(2008)(2010)(2009)(2005)(2008)(1970)(1963)(2017)(1984)(2003)(2009)(1961)(1957)(1998)(1973)(1951)(1966)(2000)(1978)(1983)(1999)(1989)(1998)(2018)(2002)(1974)(1987)(1993)(1969)(1945)(1986)(1974)(2019)(1980)(2015)(2014)(1982)(2010)(1998)(2002)(2016)(2015)(2020)(2019)(1991)(1971)(1971)(2017)(1954)(2013)(1989)(1982)(1938)(2003)(1952)(1956)(2019)(1979)(1990)(1951)(1966)(1967)(1968)(2019)(1941)(1955)(1967)(1965)(1985)(1964)(1989)(1954)(2020)(1952)(2021)(1976)(2013)(2015)(1956)(1976)(2015)(1996)(2009)(2015)(2017)(1956)(1982)(2019)(1975)(1985)(1971)(1976)(2012)(2017)(1993)(1968)(1992)(2014)(1996)(1980)(1968)(2020)(2006)(2009)(1997)(1973)(1962)(2010)(1990)(1956)(1998)(1969)(1985)(1983)(1973)(1992)(1957)(1978)(1963)(1996)(1955)(1980)(1994)(2013)(2014)(2015)(1991)(2016)(2017)(1971)(1972)(2021)(1950)(1960)(1955)(2009)(2005)(2004)(2015)(2012)(1949)(1959)(1973)(2015)(1976)(1998)(2019)(1949)(1995)(1981)(1960)(1998)(2006)(2001)(2000)(2003)(1942)(1960)(1956)(1992)(1981)(2003)(2019)(1979)(2019)(2018)(1989)(1961)(2000)(1972)(1950)(2021)(1985)(1949)(1982)(2014)(2004)(1954)(1983)(2020)(1979)(2011)(1993)(1965)(1959)(1993)(2019)(2013)(1962)(1989)(1972)(2016)(1963)(2017)(1991)(2017)(2005)(1946)(1971)(2016)(1972)(1983)(1992)(2002)(2012)(1982)(1974)(1999)(1991)(1964)(2001)(2010)(2010)(1985)(1996)(1950)(1980)(1980)(1981)(1978)(2013)(1992)(1994)(1983)(1997)(1994)(1969)(1964)(2000)(2014)(1952)(1995)(2005)(1985)(1992)(2017)(2014)(1960)(2013)(2015)(2013)(2017)(1982)(2015)(2015)(2013)(2018)(2014)(1991)(1957)(1961)(2018)(1938)(2013)(1956)(2006)(1978)(2002)(2001)(2005)(2005)(1985)(2001)(1986)(1970)(1985)(1994)(1997)(1969)(1970)(1997)(1972)(2000)(1959)(1956)(2001)(1994)(1996)(1961)(1947)(1932)(1980)(1979)(1976)(1989)(2001)(2017)(2017)(2017)(2020)(1976)(2017)(2019)(2002)(1942)(1932)(1963)(1981)(2017)(1985)(2018)(1984)(2010)(1981)(2018)(1998)(1988)(2003)(2000)(1982)(1965)(1973)(2007)(2011)(2017)(1935)(2011)(1996)(2016)(2012)(1978)(2004)(2018)(1984)(2001)(1958)(1993)(1978)(1984)(2007)(1933)(2017)(2003)(2010)(1997)(1965)(1999)(2003)(2000)(2012)(2020)(2014)(2008)(1963)(2000)(1999)(2014)(2011)(2018)(2016)(2008)(1989)(2011)(1977)(1969)(2000)(1974)(1937)(2007)(1987)(2012)(1971)(2008)(1989)(2000)(1982)(1989)(2009)(2018)(1963)(2011)(1980)(2013)(1979)(1999)(1972)(1984)(2001)(1960)(2017)(1966)(1954)(2010)(1950)(1983)(2017)(2019)(2012)(1966)(1988)(1999)(2000)(1981)(2005)(2008)(1959)(1981)(2004)(2015)(1971)(2021)(2020)(2019)(1973)(2005)(2018)(2019)(2012)(2015)(2013)(2009)(2017)(2009)(2013)(1963)(2005)(1973)(2014)(2005)(2011)(2010)(2017)(2012)(1992)(2006)(2016)(2016)(2014)(2011)(2009)(2011)(1993)(1960)(2019)(1980)(1998)(1981)(1962)(1992)(2019)(2013)(2008)(1972)(2015)(1985)(2001)(2003)(2001)(1967)(1954)(1997)(2003)(2002)(2021)(2013)(2021)(1965)(1984)(1961)(1993)(2018)(2013)(1994)(1968)(1991)(2010)(2011)(2015)(2020)(2004)(2016)(2018)(2015)(2001)(2011)(2017)(2016)(2007)(1971)(2017)(2016)(1966)(2000)(2020)(2018)(2014)(2013)(1976)(2005)(2013)(1993)(1981)(2012)(2010)(2015)(1976)(1972)(2020)(2005)(1962)(1951)(2005)(2020)(2019)(2008)(2005)(1956)(1990)(1967)(2019)(2013)(2003)(2015)(2000)(2017)(1974)(2007)(1984)(1986)(1991)(2020)(1986)(1971)(2009)(2019)(2011)(2007)(2009)(2015)(2012)(2001)(1964)(1996)(2005)(1989)(2003)(2012)(1977)(1989)(1994)(1977)(2012)(1985)(2016)(2014)(1977)(1959)(1997)(1971)(1993)(2019)(2004)(2007)(1975)(2007)(2005)(1977)(1981)(2013)(2012)(2012)(1978)(1958)(2014)(2009)(2009)(2015)(2000)(2012)(1977)(2011)(1973)(1969)(2003)(2016)(2012)(2011)(2002)(2011)(2005)(1977)(2003)(1976)(1940)(1958)(1982)(2020)(1992)(1982)(1980)(1979)(2003)(1986)(2008)(1957)(2000)(2000)(2019)(2005)(2010)(2008)(1959)(1965)(2005)(2006)(1967)(2005)(1969)(1998)(1999)(1967)(1975)(1977)(1934)(1989)(2001)(1954)(1948)(1993)(2007)(1935)(1947)(1984)(2002)(1957)(1980)(2016)(1964)(1961)(1955)(1977)(1975)(1988)(1976)(2004)(2011)(1973)(1974)(2015)(2010)(2013)(1981)(1983)(1988)(1961)(1974)(2011)(2017)(1994)(2014)(2018)(2007)(2008)(2021)(1994)(2017)(2015)(1999)(2005)(1981)(1992)(2013)(1965)(2013)(1970)(2005)(1981)(1977)(1987)(2002)(2020)(1960)(1973)(2020)(2019)(1952)(1961)(1943)(2019)(2012)(2007)(1956)(2019)(1966)(2012)(2013)(2016)(2013)(2019)(2015)(1998)(1996)(1961)(1974)(1996)(1959)(1994)(1971)(1965)(1976)(1967)(1973)(2001)(2016)(2019)(2005)(2018)(2016)(2008)(2014)(2011)(2000)(1998)(1962)(2015)(2006)(1971)(2006)(2009)(2020)(2016)(2019)(1969)(1943)(1959)(1981)(1976)(2011)(1964)(2012)(1947)(2005)(2020)(2000)(2015)(2019)(1993)(2015)(1954)(1974)(2013)(1978)(1978)(2002)(1974)(1990)(1983)(1977)(1956)(2003)(1972)(2001)(1975)(1982)(2002)(1980)(1975)(2004)(2003)(2004)(2020)(2019)(1974)(2020)(2016)(1997)(2005)(2016)(1980)(2006)(1975)(2003)(1997)(2003)(2015)(1979)(1959)(2014)(2010)(2020)(2005)(1989)(2010)(2020)(2013)(2016)(2015)(1963)(2012)(2019)(2015)(2009)(1960)(1978)(2018)(2008)(2006)(2020)(1981)(1988)(2013)(2017)(2019)(2002)(1974)(1986)(2021)(2008)(2020)(2009)(1983)(1995)(1991)(2020)(2006)(1992)(2014)(2020)(2000)(2015)(2011)(2016)(2014)(1994)(2010)(2016)(1992)(2011)(2019)(2005)(2021)(1997)(1966)(1953)(1952)(1973)(2002)(1999)(1975)(1964)(2012)(1973)(1996)(2005)(2018)(1981)(1989)(1997)(2019)(2014)(1998)(2010)(2018)(2010)(2012)(2019)(1987)(2000)(1979)(1999)(1987)(1980)(2017)(2009)(2017)(1975)(2015)(1998)(1950)(1999)(2007)(1986)(1981)(1988)(1987)(1955)(1978)(1977)(2000)(1987)(2000)(1966)(1991)(2000)(2001)(1993)(2011)(1978)(2011)(2001)(1993)(1985)(1989)(2003)(1987)(1997)(1995)(1991)(1998)(2016)(2005)(2002)(2012)(2019)(2005)(2018)(1996)(1987)(1964)(2020)(2020)(1947)(1981)(1982)(1983)(1977)(2005)(1988)(2019)(2019)(2007)(1977)(1997)(2003)(2006)(1949)(1970)(1993)(2014)(1941)(1978)(2002)(2006)(2020)(2008)(2018)(1972)(1996)(1970)(1950)(1991)(2008)(2001)(1997)(2001)(1982)(1983)(1992)(1989)(2013)(1975)(1988)(2017)(2016)(2013)(2009)(2019)(2008)(2016)(2006)(2016)(2017)(2018)(2014)(2016)(1987)(2014)(1992)(1951)(1982)(2001)(1976)(1975)(1952)(1992)(1998)(2013)(1997)(1990)(1987)(2000)(1991)(2005)(2002)(2007)(2013)(2009)(1957)(2014)(1985)(2018)(2011)(2011)(2012)(2009)(2007)(2012)(2012)(1978)(2007)(2002)(1980)(2008)(1989)(1982)(1991)(2011)(2014)(1958)(2015)(2009)(2004)(1955)(2009)(2005)(1966)(1958)(1978)(2002)(1936)(1955)(1970)(2002)(2019)(2001)(2006)(2004)(2019)(2019)(1956)(1998)(2018)(2000)(1997)(1998)(2018)(2000)(2006)(2007)(1973)(2005)(1980)(2007)(1993)(1981)(2008)(2016)(1982)(1991)(1975)(1991)(2015)(1988)(1977)(1988)(1992)(2002)(1972)(1986)(1984)(1973)(1997)(1935)(1975)(1961)(1970)(2011)(1969)(1950)(1993)(1983)(2020)(2017)(2001)(2020)(2010)(2007)(2007)(1951)(1979)(1959)(2004)(2006)(2013)(2008)(1985)(1953)(1998)(2009)(2003)(1935)(1977)(1975)(1983)(1989)(1981)(2002)(1973)(2003)(2019)(1982)(1940)(2012)(1959)(1989)(1991)(1990)(1992)(1960)(1978)(1968)(2020)(2004)(2014)(1960)(2009)(2001)(1972)(1959)(2015)(1974)(1966)(2006)(2007)(1963)(1993)(1991)(2002)(1982)(1963)(1992)(2005)(2017)(2018)(1995)(1992)(1972)(2003)(1982)(2014)(1979)(2008)(1997)(2005)(1993)(1973)(1997)(1999)(1989)(2004)(2004)(2001)(1966)(1967)(2003)(2000)(2016)(1978)(2006)(1998)(1993)(1962)(1996)(1997)(2011)(2016)(1987)(2002)(1982)(1994)(1977)(1982)(1953)(1979)(1987)(1996)(1947)(1978)(1999)(1966)(1958)(2015)(1950)(1986)(1994)(2015)(1995)(1980)(1992)(2016)(2015)(1982)(1990)(2014)(2016)(2002)(1984)(2005)(1993)(2003)(1967)(1995)(1976)(1957)(1997)(1980)(1966)(1959)(1969)(1994)(1953)(1971)(1977)(2015)(1966)(1981)(2010)(1985)(1982)(2010)(1968)(1994)(1972)(1935)(1983)(1979)(1975)(1975)(1968)(1948)(2009)(1979)(2016)(1991)(1978)(1974)(1998)(2009)(1958)(1974)(1980)(1989)(1969)(1971)(1997)(1957)(1979)(1977)(1951)(1975)(1959)(1982)(1988)(1972)(2014)(2018)(2017)(2004)(1940)(2021)(1969)(1998)(2015)(2019)(2019)(2006)(1978)(2011)(2008)(2016)(2006)(1990)(1964)(2017)(1964)(1971)(1964)(2020)(1979)(1977)(1983)(1974)(2006)(2007)(1944)(1974)(1989)(1989)(1964)(1946)(1986)(2019)(1993)(2005)(2011)(1972)(2005)(2011)(2018)(2015)(2014)(1947)(1962)(1999)(2013)(1931)(2014)(1977)(2019)(2009)(2013)(1990)(2015)(2019)(1994)(1992)(2011)(2005)(2003)(1994)(1943)(2004)(1994)(2015)(1949)(1982)(1964)(2010)(1974)(1958)(1999)(2016)(1967)(2000)(1977)(1998)(2003)(2016)(2015)(2011)(2000)(2007)(1968)(1984)(1960)(1974)(1979)(1937)(1959)(1957)(1977)(2015)(2010)(1998)(2002)(1973)(1983)(2002)(1985)(1986)(2020)(1956)(1997)(2007)(1966)(1976)(2010)(1998)(1990)(1938)(1957)(1991)(1981)(1996)(1992)(2002)(1995)(1984)(1971)(1986)(1973)(2009)(2019)(1998)(2014)(2012)(2001)(2019)(1994)(1982)(1989)(2001)(1970)(2006)(2019)(1946)(2007)(2010)(2018)(1987)(1972)(2005)(2000)(2003)(1996)(1981)(2001)(1986)(2002)(1978)(1983)(1980)(1980)(1972)(2020)(1972)(1986)(2007)(2002)(1985)(1987)(1985)(1963)(2003)(1989)(1983)(1945)(2011)(1980)(1990)(1981)(1957)(1991)(1987)(1980)(2017)(1972)(2004)(1981)(1988)(1977)(1993)(2003)(1992)(1983)(1957)(1982)(1968)(1960)(2005)(1972)(2007)(1973)(1992)(2019)(2001)(1975)(1986)(2012)(1962)(1973)(1984)(1970)(1973)(1971)(1984)(1988)(1972)(1990)(1971)(2015)(1986)(1960)(1969)(1968)(1997)(1968)(2004)(1963)(2013)(1957)(2020)(1965)(1985)(1976)(2004)(1985)(2009)(2006)(2010)(1956)(1969)(2000)(2015)(2018)(1996)(2012)(2013)(1949)(2009)(2008)(2009)(1956)(2012)(1994)(2018)(2014)(2007)(2019)(2019)(1994)(1971)(2005)(1947)(2017)(2008)(1984)(2005)(2002)(2013)(2020)(2012)(1991)(2003)(1974)(2001)(2007)(2018)(2001)(2020)(2015)(2015)(2007)(2011)(1985)(2019)(1988)(1995)(2013)(1976)(1988)(2019)(2019)(2006)(2017)(2016)(2006)(1975)(1965)(1983)(1996)(2005)(1958)(1968)(1977)(1991)(1967)(2001)(1982)(1989)(1957)(2008)(1959)(2009)(2019)(1933)(1943)(1991)(2012)(2010)(1995)(2021)(1963)(2007)(1994)(2016)(2012)(1954)(2016)(2004)(1981)(2006)(2002)(1983)(2005)(2012)(2019)(2004)(2014)(2008)(2017)(1996)(2013)(2021)(2010)(2013)(2015)(1991)(1990)(2016)(2000)(2014)(2017)(2021)(2016)(2007)(2008)(2007)(1953)(2020)(2003)(2011)(2016)(2013)(1959)(2007)(1959)(2015)(2012)(2009)(2019)(2016)(2016)(2006)(2014)(2018)(1980)(2008)(2012)(2007)(2009)(2018)(2016)(2014)(2013)(2020)(2017)(1960)(2005)(1956)(2012)(2017)(1973)(1966)(2015)(2007)(2001)(1973)(1995)(2006)(1999)(1989)(2000)(2004)(2012)(1989)(2001)(2009)(2021)(1978)(2004)(1971)(1995)(1993)(2011)(2007)(2017)(2017)(2018)(1979)(1982)(2011)(2007)(2016)(2016)(1986)(2008)(2000)(2014)(2016)(2006)(1994)(1980)(1992)(2012)(1991)(1998)(1964)(1978)(1983)(1971)(1988)(1988)(2003)(1937)(2002)(2013)(2007)(2012)(1994)(2006)(1984)(1970)(2018)(1972)(1945)(1991)(2005)(1955)(2004)(1980)(1972)(2005)(2018)(1993)(1989)(2009)(1974)(1957)(2011)(2014)(2021)(1943)(1968)(2007)(2016)(1979)(2002)(1967)(1989)(2004)(1970)(1992)(1975)(1964)(1974)(1993)(1963)(1996)(1980)(1973)(2002)(2002)(1986)(2018)(1989)(1985)(2000)(2002)(2008)(1981)(2013)(1978)(1993)(1963)(1998)(1985)(1984)(1988)(1970)(2004)(1990)(1992)(1989)(1967)(1987)(1948)(1994)(1960)(1996)(1988)(1991)(2021)(1986)(1958)(1961)(1989)(1977)(1998)(1988)(1976)(2017)(1996)(2008)(1995)(1990)(2016)(1988)(1982)(1992)(2019)(2020)(1997)(2012)(2019)(2020)(2020)(1998)(1973)(1956)(1997)(1985)(1960)(1983)(1981)(2007)(1984)(1976)(2020)(2013)(1991)(1960)(2004)(1962)(2000)(2016)(2007)(2013)(1968)(1995)(2019)(2007)(2008)(1963)(1983)(1999)(1966)(1985)(1989)(2018)(1968)(2010)(2010)(2017)(2008)(2006)(1972)(2019)(2007)(2008)(2019)(2008)(2014)(1989)(1974)(1959)(2013)(1938)(1979)(1994)(1970)(1994)(1982)(1948)(1972)(1987)(2013)(2015)(1993)(2017)(2001)(1984)(1963)(2013)(2016)(1991)(2012)(1979)(2019)(2017)(1971)(1995)(2015)(2015)(1997)(1997)(1959)(1980)(2017)(1965)(2020)(2020)(2014)(2009)(2012)(1990)(2020)(2019)(2019)(1965)(2008)(2019)(2001)(2001)(1963)(1976)(1993)(1982)(1993)(2002)(1970)(1967)(1990)(1988)(1969)(1998)(1992)(1995)(2014)(1980)(1995)(1982)(1961)(2020)(2020)(2019)(1997)(2016)(1989)(1980)(2003)(2007)(1979)(2002)(1988)(2010)(1981)(1993)(1969)(2015)(2010)(1962)(1983)(2008)(2002)(1940)(1972)(1990)(2003)(2011)(1974)(2002)(1971)(1982)(1995)(1986)(1990)(1979)(2020)(2000)(2001)(1991)(1998)(2014)(2016)(2015)(1999)(1991)(2014)(2011)(1984)(1977)(1988)(2020)(1956)(2017)(2021)(1962)(2018)(2008)(1996)(1956)(1978)(2000)(1988)(1985)(2018)(1979)(2015)(1943)(1982)(1950)(1961)(1997)(2018)(1954)(1967)(1963)(1944)(1974)(2004)(1979)(2012)(2019)(1994)(1984)(1973)(2005)(2017)(1974)(2018)(2019)(2016)(2014)(2020)(2011)(2014)(2018)(1964)(1985)(1995)(1991)(2000)(1979)(1974)(1950)(2018)(2015)(2020)(1967)(1971)(1976)(1982)(2004)(2008)(2000)(1963)(1962)(1981)(2005)(2014)(2018)(1999)(1968)(1971)(1996)(1993)(2012)(2014)(2015)(2018)(1967)(1989)(2002)(1956)(2007)(1988)(2004)(1977)(1998)(1991)(2011)(2020)(2004)(1985)(2003)(2014)(2015)(1987)(1974)(2004)(2003)(1968)(1998)(2003)(2013)(2014)(1956)(1970)(1992)(1973)(1999)(1959)(1973)(1978)(1979)(1982)(2018)(2008)(1999)(2021)(2010)(2010)(2016)(2010)(2010)(1991)(1976)(2000)(1964)(1983)(2015)(1998)(1988)(1997)(2008)(2012)(2014)(2015)(2000)(2018)(2007)(2018)(2010)(1987)(2018)(2014)(2007)(2004)(2008)(1957)(1965)(1997)(1975)(1970)(1996)(1987)(1996)(1983)(1998)(2013)(2017)(2017)(1973)(2002)(2015)(1984)(1977)(1987)(1989)(2010)(2015)(1988)(2005)(2004)(2015)(1999)(1985)(1970)(2006)(1963)(2014)(2003)(2005)(2020)(1973)(1992)(2007)(2018)(2009)(2017)(2013)(1985)(2011)(2006)(1999)(1981)(2017)(2018)(2018)(2016)(2019)(1991)(1955)(2021)(2000)(2009)(2010)(2012)(2016)(2019)(1958)(1999)(1987)(1951)(1995)(1971)(2004)(2008)(1991)(1999)(1994)(1948)(1989)(2019)(1999)(2011)(1984)(1985)(1961)(1995)(2005)(1946)(1988)(2013)(2014)(1994)(1993)(1994)(1984)(2002)(1993)(1960)(2001)(1989)(2004)(2002)(1977)(1951)(1980)(1985)(1980)(1957)(2003)(2009)(2002)(1984)(1999)(1995)(1965)(1981)(1983)(1990)(2008)(1979)(1988)(2000)(2004)(2010)(2005)(1971)(2015)(1999)(2011)(2002)(1945)(2019)(2003)(1970)(1980)(2006)(2006)(1992)(2007)(2014)(2002)(1953)(1968)(1998)(1983)(1992)(1974)(2014)(1971)(2003)(2007)(2015)(2018)(1966)(2001)(1998)(2004)(2006)(2019)(2004)(2010)(2010)(2019)(2010)(2015)(2020)(2015)(2018)(2019)(2005)(2013)(2010)(2020)(2015)(1992)(2006)(2011)(2013)(2012)(2018)(2014)(2010)(2017)(1994)(1989)(2018)(1986)(1954)(2007)(1974)(1987)(1977)(2011)(1994)(1974)(2010)(1994)(2012)(2017)(2015)(2003)(1987)(1999)(2007)(2001)(2003)(2018)(2015)(2015)(2019)(1996)(2020)(2021)(1991)(1958)(1932)(1989)(2017)(2007)(1977)(2013)(1984)(1935)(1987)(1966)(1994)(1984)(1986)(1992)(1985)(1997)(2004)(1982)(1970)(1992)(1959)(1974)(1969)(1980)(1987)(2005)(1994)(1955)(1993)(1987)(2012)(1957)(1991)(1991)(1979)(2018)(1988)(1969)(1984)(2003)(1992)(1988)(2001)(2004)(1974)(1999)(1973)(2002)(2005)(1979)(2006)(1991)(2017)(2001)(1996)(2019)(1964)(2008)(2012)(2013)(1974)(2013)(1997)(2016)(2004)(2017)(2015)(1994)(2015)(1970)(2004)(2018)(2003)(2015)(2018)(2010)(1992)(2010)(2017)(2017)(1998)(2015)(2013)(1962)(2003)(2010)(1987)(1997)(1981)(2007)(2014)(2012)(1969)(2001)(2017)(1937)(1968)(1952)(1991)(1993)(1990)(2017)(1989)(1984)(2004)(1993)(1952)(1986)(1967)(1969)(2003)(1960)(1999)(1996)(1987)(1975)(1985)(1990)(2001)(1991)(1992)(1992)(2011)(2006)(1992)(1999)(1979)(1983)(2006)(1998)(2010)(2018)(2008)(1971)(1979)(1983)(1976)(2006)(1983)(1979)(2002)(2015)(2012)(1985)(1999)(1982)(1972)(1989)(1974)(2017)(1965)(1961)(1991)(1963)(2012)(2016)(2007)(1967)(2019)(2018)(2013)(2019)(1951)(1974)(1986)(1977)(1977)(1978)(2017)(1975)(2004)(1996)(1984)(2001)(1955)(1964)(2007)(1969)(1999)(1971)(2011)(2019)(1961)(1993)(1996)(2001)(2016)(1948)(2014)(2015)(2007)(2015)(1992)(1994)(1994)(1951)(1976)(1997)(2020)(1975)(2006)(1990)(2004)(2009)(1995)(2009)(1947)(1981)(1958)(1973)(1989)(1977)(2003)(2013)(1971)(1980)(2018)(1995)(2000)(1977)(2012)(1973)(1987)(2005)(1990)(2005)(2021)(1950)(1988)(1957)(1995)(1994)(2006)(2003)(1994)(1986)(1972)(2016)(2012)(1936)(1949)(2012)(2018)(2008)(1979)(1965)(1985)(2009)(2017)(1985)(1984)(2020)(1970)(1942)(1995)(1955)(1968)(1987)(1971)(1972)(2006)(1989)(1959)(1986)(1990)(2013)(1955)(2015)(1994)(1980)(2012)(2017)(1992)(1995)(2002)(1991)(1979)(1990)(1981)(1969)(1984)(2005)(1982)(1997)(1996)(1949)(1972)(1983)(1988)(2001)(1986)(1991)(1982)(1990)(1976)(1993)(1970)(1935)(1936)(1974)(1997)(1953)(1967)(2018)(2019)(1955)(1986)(2003)(1953)(2012)(1973)(2019)(1941)(1962)(2007)(1979)(1998)(2010)(2019)(1985)(1991)(1961)(1984)(1964)(2017)(1938)(1949)(2014)(1991)(1969)(2006)(2017)(2008)(2000)(1960)(2003)(2012)(1989)(1998)(1981)(2005)(2011)(2011)(1992)(2008)(1999)(2012)(2003)(2001)(1950)(2003)(2005)(1967)(1966)(1971)(1965)(2013)(1984)(1980)(2007)(1957)(1982)(1970)(1984)(2012)(2013)(2017)(1972)(2000)(2019)(2000)(1981)(2001)(1973)(1989)(2007)(2004)(2007)(1994)(1968)(1997)(1980)(1997)(2019)(1997)(2017)(2009)(2016)(1973)(1947)(1975)(2004)(2017)(1986)(2019)(2021)(1996)(2000)(1968)(1989)(2000)(1991)(2002)(1988)(1936)(2001)(1998)(1961)(2019)(2017)(1979)(1992)(2002)(2016)(1990)(2005)(1979)(1996)(1989)(2019)(2007)(1973)(1983)(2000)(1981)(1971)(1980)(2000)(1944)(1973)(2019)(1969)(1981)(1980)(2017)(2002)(2021)(1987)(1990)(2007)(2013)(2021)(2015)(1959)(2017)(1975)(1965)(2005)(1988)(2018)(1978)(2000)(1979)(1999)(1975)(2018)(2020)(2000)(2000)(1981)(1997)(2010)(2004)(1975)(1987)(2008)(1982)(1984)(1986)(2014)(2020)(1989)(2002)(1990)(1987)(2015)(2009)(2003)(2018)(1988)(1970)(2021)(2016)(1976)(1985)(2006)(1994)(2001)(1998)(1999)(1976)(2002)(2019)(1963)(1988)(2000)(2006)(1961)(1988)(2011)(1977)(1999)(1982)(2006)(2019)(1981)(2017)(1976)(1996)(1998)(2019)(2017)(1990)(2003)(2012)(2016)(2008)(1989)(2003)(1986)(1981)(1981)(1973)(1973)(1999)(1968)(1968)(2014)(1963)(2000)(1975)(1984)(2013)(1999)(2007)(1964)(2003)(1993)(2013)(2010)(2013)(2012)(1971)(1959)(2016)(2003)(1992)(2009)(2005)(1960)(1989)(1960)(1993)(1986)(1939)(1958)(1980)(1985)(1983)(1977)(1993)(1979)(2019)(1990)(1951)(1980)(2002)(1959)(2018)(1976)(1998)(1931)(1983)(1996)(1960)(1948)(1997)(1981)(2005)(1987)(1995)(2001)(2012)(2013)(2009)(2009)(1984)(1989)(1992)(1997)(1963)(1999)(1961)(2019)(1949)(1959)(1971)(1959)(1981)(1994)(2000)(1960)(1994)(1989)(1988)(1990)(1984)(1984)(2019)(1988)(1968)(2017)(2013)(2016)(2005)(1993)(1986)(1994)(1995)(2014)(1983)(1998)(2018)(1990)(1985)(1984)(2014)(1977)(1986)(2009)(2008)(1978)(1980)(1992)(1985)(2000)(1936)(1995)(1979)(2010)(1999)(2014)(1978)(2018)(1982)(1980)(1991)(2002)(2008)(2019)(1992)(2005)(1988)(2001)(1981)(1977)(1984)(1989)(2001)(1993)(1989)(1974)(1991)(2003)(1973)(2018)(1964)(1983)(1990)(1978)(2001)(2019)(1980)(1957)(1983)(2018)(1971)(1970)(1981)(2013)(2006)(2015)(1963)(2004)(1987)(1991)(2015)(1987)(1997)(1997)(1999)(1983)(1954)(1959)(1983)(1993)(2018)(1973)(1998)(2020)(2002)(2016)(2019)(2012)(2020)(1976)(1984)(2018)(2004)(1993)(1976)(2007)(2008)(2019)(1993)(2004)(2019)(1986)(2017)(2005)(1970)(2019)(1996)(2015)(2006)(1942)(1979)(2019)(1965)(1984)(1980)(2003)(2007)(2011)(2009)(1990)(1991)(1988)(2001)(1978)(2010)(2000)(1989)(1987)(1958)(1941)(2018)(1992)(1950)(2003)(1975)(1977)(1986)(2016)(2008)(2010)(2010)(1991)(1992)(2000)(2012)(1997)(1996)(1968)(1996)(1970)(1995)(1998)(1971)(1989)(2017)(2012)(1989)(1999)(2014)(1981)(1985)(1988)(1978)(1991)(1981)(1980)(1973)(1974)(1978)(1996)(1977)(1999)(1988)(2000)(1987)(1989)(1991)(1991)(1999)(2006)(1958)(1974)(1998)(2015)(2007)(1980)(1992)(2020)(1983)(1981)(2010)(1994)(1982)(1994)(1987)(1964)(1956)(1992)(1989)(2005)(1975)(2008)(2003)(1997)(2014)(1980)(2020)(2003)(2016)(2014)(2013)(2014)(2014)(2015)(2008)(2014)(1992)(1977)(1963)(2002)(1962)(1993)(2014)(2008)(1986)(2019)(1995)(2004)(2015)(2017)(2009)(1974)(1937)(1990)(1969)(1995)(2004)(2008)(1992)(1943)(1980)(1956)(2012)(1986)(2005)(2004)(1978)(2009)(2019)(1983)(1977)(2010)(1957)(2002)(2006)(2003)(2010)(2012)(1989)(1960)(1993)(1964)(1991)(1999)(2005)(2003)(2021)(1976)(1997)(2005)(2002)(2021)(2003)(2014)(1986)(1978)(1974)(2020)(1972)(2015)(2001)(2020)(1977)(2014)(1997)(1981)(2002)(1994)(1997)(1994)(2010)(2008)(2018)(2017)(1993)(1996)(1997)(2012)(2004)(1946)(2020)(1990)(2000)(1981)(1961)(2006)(2013)(1993)(2011)(2011)(2003)(2014)(2018)(2007)(2001)(1998)(2015)(2003)(2018)(2004)(2002)(2018)(2010)(2005)(2006)(1981)(1998)(1987)(1985)(2014)(2017)(1955)(1993)(2000)(1974)(2007)(1991)(2009)(1943)(2000)(1977)(2008)(2010)(2018)(2014)(2000)(2007)(2011)(2002)(2002)(2005)(2016)(2012)(2001)(2005)(2003)(2004)(1994)(2001)(2011)(2007)(1963)(2005)(2019)(1991)(2016)(1996)(2019)(2017)(1998)(1992)(1981)(1999)(1966)(1989)(2014)(1997)(1981)(2006)(2011)(1966)(1979)(1953)(1971)(1966)(1946)(1990)(1975)(2010)(1976)(2001)(1971)(2006)(2013)(2017)(1997)(1949)(2010)(2021)(1979)(1991)(1980)(1984)(2005)(1953)(2018)(2020)(2001)(1958)(2014)(2004)(2013)(1979)(1984)(1971)(1991)(1982)(2014)(2004)(1999)(1966)(2015)(1944)(1978)(1954)(1971)(1960)(2002)(2012)(1983)(1972)(1985)(1992)(2010)(1991)(2016)(2011)(1917)(1981)(1989)(2018)(2019)(2013)(2018)(1988)(1967)(1997)(1985)(2010)(1993)(1967)(2020)(2000)(2012)(2012)(2017)(1964)(1939)(2008)(2018)(2014)(1990)(2016)(2002)(2004)(2009)(2004)(2017)(2013)(1988)(2017)(2010)(2007)(2014)(2017)(2012)(2007)(2019)(2018)(2012)(1939)(2012)(2019)(2007)(2014)(2016)(2016)(2013)(2019)(2006)(2001)(2020)(2014)(1999)(1996)(1973)(2003)(1986)(2015)(1982)(2012)(1999)(1987)(1997)(2019)(2007)(1979)(2005)(2009)(2020)(2009)(2012)(2014)(2017)(2011)(2020)(2013)(1965)(1993)(1980)(1984)(2019)(2009)(1991)(1986)(2020)(2009)(2016)(2017)(2003)(1997)(2011)(2016)(2015)(2011)(2009)(2016)(2008)(1983)(2009)(2006)(2004)(1960)(1984)(1966)(2009)(2006)(2016)(2001)(2009)(1989)(1984)(1959)(2018)(2020)(2012)(2016)(2018)(2021)(1981)(2008)(2018)(2014)(2011)(2018)(2017)(2001)(2019)(2012)(2018)(1985)(1983)(2016)(2008)(2010)(2019)(2009)(2009)(2015)(2017)(2014)(2005)(2020)(2019)(2018)(2018)(2011)(2017)(2012)(2015)(2012)(2019)(2014)(2014)(2014)(2016)(1962)(1992)(1957)(1976)(1970)(1960)(1986)(1985)(1999)(1959)(1996)(2003)(2002)(1996)(1996)(1964)(2018)(1972)(1980)(1979)(2008)(1981)(1984)(1986)(1984)(1995)(1992)(2018)(1984)(2017)(2013)(2021)(2014)(2017)(2016)(2016)(1987)(2021)(1994)(1959)(2019)(2010)(2009)(1974)(1951)(1994)(2004)(2006)(1950)(1958)(2016)(2009)(2015)(2013)(2004)(1996)(1998)(1979)(1977)(1976)(1985)(1994)(1989)(1983)(1997)(1981)(1965)(2013)(2013)(1985)(2019)(2001)(1949)(1989)(1970)(1987)(1998)(1970)(1946)(2012)(2008)(1944)(1990)(1967)(2009)(1988)(2016)(2007)(2015)(1959)(1969)(2013)(1957)(1995)(2005)(2015)(1981)(2014)(1987)(1983)(1989)(1986)(1962)(1987)(2003)(2004)(2004)(2015)(1982)(1994)(2013)(2003)(2021)(1959)(1998)(2003)(2007)(1962)(1998)(1964)(1971)(1989)(2014)(1988)(1999)(1978)(2017)(1966)(2019)(1988)(2005)(2002)(1982)(2005)(2017)(1987)(2017)(1989)(1964)(1991)(1967)(2021)(1998)(2001)(2019)(2019)(2006)(2020)(1951)(2010)(1998)(2010)(1977)(1989)(1994)(1966)(1969)(1970)(1971)(2004)(2005)(2005)(1980)(2004)(1972)(1999)(1973)(1983)(1977)(1983)(2005)(2013)(1981)(2007)(2019)(2015)(2014)(1976)(1962)(1954)(1980)(2007)(1974)(2000)(2012)(2018)(2017)(1960)(1979)(1974)(2003)(1984)(1988)(1985)(1998)(1987)(2018)(2014)(2019)(1983)(1988)(2009)(2014)(2007)(1955)(2019)(2003)(2002)(2020)(2019)(2017)(2012)(2002)(1987)(2016)(2019)(2009)(2014)(1971)(2015)(2017)(2014)(2002)(1950)(1984)(2005)(1992)(2020)(2009)(1983)(1960)(1996)(1986)(1999)(1991)(2005)(1954)(1970)(2001)(1985)(2004)(2011)(2017)(2016)(2013)(2020)(1985)(2013)(2003)(1975)(2011)(2018)(1998)(1982)(2003)(1989)(1983)(2005)(2002)(2012)(2001)(1993)(1961)(1958)(1972)(1932)(1975)(1976)(1976)(1954)(2005)(1975)(1934)(1983)(1976)(1986)(2009)(2018)(2020)(2010)(1950)(1991)(1981)(1942)(2004)(1981)(1979)(1947)(1992)(2008)(2016)(2015)(1991)(1985)(2018)(1996)(1945)(1991)(1993)(1982)(1971)(1992)(1954)(1976)(2008)(2020)(1960)(1973)(1998)(1958)(1983)(1962)(1982)(1967)(2018)(2014)(1948)(1971)(2000)(1997)(1956)(1961)(1964)(2010)(1971)(2006)(2011)(2013)(1985)(1995)(1973)(1986)(1976)(2006)(1992)(1984)(2005)(1989)(1971)(1986)(1985)(1985)(1987)(1987)(1968)(1970)(1989)(1990)(1964)(1978)(2020)(1985)(1966)(1988)(1977)(1987)(1984)(1985)(2000)(1971)(1988)(2008)(1972)(2011)(2013)(1998)(2012)(2015)(1968)(2013)(1970)(1968)(1972)(2006)(2009)(1966)(1963)(2018)(1986)(1992)(1975)(1965)(1997)(2002)(1993)(2005)(1981)(1984)(2001)(2005)(1944)(1969)(2004)(1979)(2003)(1985)(2000)(1990)(2009)(2006)(1995)(2018)(2009)(2002)(2001)(2017)(1963)(1989)(2005)(2013)(2011)(2013)(2012)(2015)(2014)(1989)(1967)(1995)(1967)(2019)(1955)(1972)(2010)(2020)(2011)(1975)(1998)(1998)(2011)(1999)(2010)(1986)(2004)(2017)(1954)(2017)(1947)(1957)(2016)(2001)(1985)(1935)(1949)(1998)(1936)(1957)(2003)(2012)(1954)(1935)(1957)(1989)(2015)(2016)(2005)(2018)(2016)(1991)(2008)(2000)(2019)(2004)(2016)(2005)(2008)(1987)(2008)(2002)(2018)(2010)(2001)(1989)(2018)(2006)(1996)(2016)(2014)(2011)(1961)(2016)(1989)(1985)(1997)(1998)(1965)(1988)(1997)(1994)(1986)(1991)(1966)(2000)(2015)(1947)(1984)(2014)(2009)(2016)(1994)(1987)(2019)(2001)(2013)(2017)(1972)(2016)(2008)(2011)(2015)(2013)(2001)(2015)(1970)(2021)(1980)(2004)(2009)(2021)(2020)(1999)(1957)(1938)(2016)(1995)(1975)(2018)(2007)(2014)(2004)(2005)(2005)(1955)(1997)(2006)(1994)(1996)(1992)(2007)(1987)(1961)(2017)(1979)(1996)(1974)(1952)(2010)(2008)(1957)(1987)(2015)(1964)(2017)(1977)(1997)(1997)(2015)(2020)(2015)(2016)(2015)(2017)(2017)(2012)(1960)(2019)(2018)(2003)(1986)(2009)(1983)(1963)(2001)(2001)(1983)(1992)(2011)(2004)(1989)(1958)(2008)(2017)(1988)(1977)(2002)(2018)(1988)(2016)(2014)(2015)(2016)(2008)(2014)(2005)(2011)(2003)(2008)(2013)(2021)(2007)(2003)(2005)(2012)(2011)(2011)(1955)(1972)(2003)(2014)(2017)(1975)(1999)(1942)(1979)(1993)(1996)(1996)(1978)(1990)(1987)(1978)(2016)(1985)(2004)(2011)(2013)(2010)(1957)(1986)(2004)(2019)(2019)(2020)(2004)(1992)(2017)(2010)(1993)(1996)(1995)(2017)(2015)(2019)(2010)(2018)(2005)(2020)(2013)(2021)(1984)(2006)(2016)(2007)(2008)(2010)(2011)(2017)(2010)(1970)(2008)(2010)(2005)(2012)(2018)(2004)(2015)(2010)(2011)(2002)(1971)(2004)(1992)(1976)(1986)(2003)(1957)(1972)(1991)(1995)(1990)(1979)(1986)(2005)(2016)(1987)(2017)(1991)(1977)(1994)(2013)(1955)(1989)(1991)(1951)(1971)(1968)(1982)(1948)(1973)(1989)(2016)(2000)(1954)(1976)(1979)(1986)(1951)(1945)(1946)(1967)(1965)(2021)(1973)(2005)(1989)(1979)(1943)(1981)(2019)(1962)(2006)(2010)(2004)(2009)(1996)(1982)(1973)(2018)(2007)(2018)(1982)(1994)(2010)(1949)(1988)(2020)(2014)(1998)(1981)(2007)(1980)(1969)(2018)(2007)(1955)(1989)(1981)(1991)(2017)(1946)(1957)(1963)(1940)(1978)(1981)(1997)(1986)(1992)(2013)(2016)(1986)(1986)(1985)(1983)(1954)(1975)(1969)(2015)(1991)(1952)(1957)(2011)(1962)(2006)(1951)(1947)(1983)(1999)(1955)(1979)(1978)(1953)(1967)(1957)(2013)(2005)(1935)(2004)(1959)(2018)(1956)(1979)(1957)(1978)(1974)(2007)(1984)(1965)(1990)(1973)(1971)(2001)(2003)(1990)(2005)(1995)(1996)(1961)(1987)(1980)(2021)(2005)(1946)(1947)(1968)(1957)(1965)(2003)(1962)(1966)(2016)(1980)(1976)(2007)(1990)(2014)(2004)(2005)(1966)(1956)(1986)(2009)(2017)(2015)(2000)(1989)(2005)(2017)(1958)(1967)(2015)(1950)(1996)(1993)(2007)(1950)(1996)(1941)(1973)(2018)(1974)(2019)(1938)(1997)(2019)(2011)(1983)(2007)(1965)(1949)(1950)(1980)(1995)(1989)(1975)(1992)(1977)(2005)(2020)(2011)(2010)(2007)(2018)(2021)(2017)(1965)(1979)(1967)(2011)(2019)(2011)(2019)(2018)(1991)(1990)(1999)(2020)(2014)(2012)(2008)(2002)(2018)(2019)(2017)(2001)(2019)(2006)(1980)(1995)(2008)(2017)(2007)(2003)(1986)(1988)(2002)(2007)(2017)(2012)(2006)(2020)(2018)(2015)(2010)(2013)(2001)(2014)(2009)(1971)(2019)(2004)(2012)(2018)(2016)(2008)(2017)(1999)(1989)(1985)(1965)(2013)(2013)(2003)(1961)(1968)(2020)(2005)(2014)(1977)(1985)(2003)(2015)(2003)(2012)(2008)(2015)(2019)(2009)(2001)(2018)(2012)(2003)(1988)(1989)(1981)(1995)(2003)(1974)(1989)(1991)(1988)(1990)(1988)(1977)(2013)(1984)(1995)(1984)(2010)(1992)(1985)(2018)(1973)(1985)(2018)(2005)(1968)(1941)(1988)(2019)(2014)(2018)(2005)(2021)(1970)(2020)(2019)(1977)(2005)(1959)(2019)(1983)(2018)(1956)(2004)(1969)(1985)(1974)(1984)(2018)(2019)(2009)(1986)(1967)(1977)(2018)(1992)(1974)(2018)(2010)(2008)(2008)(1958)(2017)(1986)(2013)(2000)(1992)(1992)(1977)(1992)(2020)(2019)(2010)(1996)(2000)(1993)(1953)(1996)(2010)(2015)(1987)(1995)(1994)(1993)(1986)(2014)(1949)(1971)(1963)(2003)(1971)(1989)(1988)(1944)(2015)(1952)(1972)(1992)(1971)(1997)(1950)(1957)(1970)(1993)(1998)(2020)(2018)(2018)(1972)(1989)(1989)(2005)(1987)(1956)(1968)(2018)(1978)(1985)(2007)(1984)(1958)(1977)(1971)(1947)(2003)(1993)(2005)(1983)(1961)(2018)(1985)(1993)(1960)(2011)(1971)(1949)(2017)(1962)(1990)(1994)(1985)(1990)(1966)(1990)(1978)(2019)(2014)(2011)(1953)(1980)(1965)(2004)(2013)(2003)(1974)(2000)(1985)(1991)(1967)(1970)(1961)(1957)(1980)(1968)(1939)(2010)(1957)(2009)(2008)(1995)(2012)(1986)(2010)(1993)(2005)(1970)(1950)(1981)(1993)(1994)(2012)(1944)(1955)(2008)(2019)(2020)(2017)(1999)(1987)(1988)(1984)(1978)(1985)(1958)(1973)(2018)(1978)(2015)(2010)(2013)(2011)(2017)(2017)(1985)(2000)(2006)(1974)(2008)(2004)(2018)(1958)(2008)(1993)(1963)(1980)(2016)(1945)(1993)(1999)(1993)(1991)(1966)(1963)(1991)(1978)(1993)(1964)(2008)(2010)(2013)(2019)(2017)(2019)(1984)(1966)(2013)(1985)(2016)(2015)(2003)(1972)(1966)(2016)(2016)(2017)(2017)(2008)(1991)(2002)(1994)(2021)(1972)(1958)(1985)(1961)(1934)(2014)(2014)(2018)(2014)(2004)(1993)(2018)(2012)(1981)(2019)(2015)(1956)(1974)(1958)(1992)(2004)(1989)(1995)(1992)(1990)(1993)(2013)(1995)(1975)(2004)(1964)(1981)(1965)(2017)(2004)(1958)(2017)(2019)(1973)(2014)(2013)(1991)(2017)(2003)(1974)(2019)(2008)(2004)(2019)(1993)(2006)(2002)(1990)(2020)(1993)(1975)(1987)(1991)(1991)(1945)(2010)(1981)(1994)(1971)(1966)(1971)(1995)(1998)(1979)(1992)(1992)(1981)(1991)(1985)(2010)(1937)(1975)(1974)(1973)(1962)(1989)(1970)(1991)(2015)(1982)(1994)(1974)(1983)(1979)(1994)(1992)(1998)(2001)(1996)(1997)(2004)(1969)(2010)(2011)(1978)(1997)(1943)(1997)(1962)(1970)(2019)(1994)(2005)(1978)(1973)(1962)(1994)(1981)(2016)(2018)(2016)(2003)(1983)(1983)(1964)(1986)(2009)(1970)(1933)(1984)(1978)(1989)(2014)(1998)(1970)(2018)(1965)(2017)(1970)(1972)(2002)(2010)(2001)(2011)(2015)(1973)(1961)(1991)(1986)(1993)(1987)(2019)(2006)(2003)(1998)(1963)(1999)(1999)(2005)(1988)(2019)(1998)(2001)(2014)(2001)(1982)(1980)(1982)(1957)(2002)(2003)(1981)(2003)(1988)(2003)(1983)(1950)(1991)(1969)(1986)(1992)(1985)(1963)(1990)(1990)(1988)(1969)(1994)(1969)(1991)(1986)(1987)(1990)(1951)(2002)(1987)(1971)(1961)(1986)(1966)(1966)(1993)(1982)(2006)(1985)(1990)(1984)(1998)(1998)(1969)(2017)(1997)(1975)(1992)(1984)(2017)(2012)(2005)(1988)(2001)(2001)(2004)(1986)(1964)(1983)(1990)(1988)(2003)(1998)(2013)(2021)(2011)(2009)(1980)(1991)(2000)(2013)(2011)(2017)(1979)(2017)(1958)(1987)(2019)(1984)(1975)(1989)(2007)(1976)(1972)(2013)(1995)(1972)(1982)(1992)(2020)(1967)(2021)(2009)(1987)(1959)(2000)(1970)(1984)(2010)(1967)(1981)(2002)(2012)(2016)(2009)(2018)(2008)(2013)(2008)(2013)(2018)(1983)(2018)(1992)(1954)(2021)(1932)(2009)(2017)(1990)(2008)(2006)(1975)(2009)(2014)(2003)(2017)(2003)(1995)(2011)(2014)(2015)(2017)(1969)(1953)(1985)(1978)(2001)(2018)(1953)(2016)(1955)(2019)(2005)(2015)(2004)(1956)(1982)(1959)(1995)(2018)(1984)(1996)(1968)(1994)(2005)(2003)(1952)(1979)(1996)(1972)(1974)(2000)(1997)(2000)(1999)(2014)(1973)(1978)(1969)(1995)(1999)(2013)(2013)(1996)(1964)(2018)(2010)(1974)(1992)(1982)(1951)(1936)(1992)(2000)(2013)(1962)(1972)(2004)(2010)(2010)(2012)(1971)(1989)(1994)(2019)(1981)(1977)(1996)(1984)(1994)(2017)(1967)(1996)(1980)(1948)(1977)(2007)(1995)(1978)(1992)(1984)(2019)(1989)(1961)(2008)(1943)(2017)(1995)(2020)(1984)(1985)(1985)(1988)(2008)(2010)(2017)(2013)(1988)(2010)(1991)(2005)(1985)(2001)(2013)(1982)(2017)(2019)(1993)(1944)(2015)(1961)(1996)(1991)(2015)(1991)(2017)(1993)(1983)(2006)(1982)(1975)(1991)(1996)(2012)(1995)(1996)(2019)(2013)(1976)(1956)(2017)(2013)(1975)(1993)(1995)(1972)(1959)(2019)(2010)(2015)(2015)(1986)(2007)(2013)(2012)(2015)(2011)(2018)(1944)(1951)(1979)(2004)(1995)(1999)(1961)(2011)(2018)(2016)(2009)(2013)(1980)(2007)(2007)(2017)(2018)(2021)(2000)(2020)(2006)(2001)(2005)(2007)(2019)(1962)(2019)(1974)(1971)(2002)(1990)(1961)(2007)(1996)(1960)(1988)(2006)(2018)(2005)(2001)(2014)(2016)(2017)(1973)(1986)(2010)(1988)(1979)(2013)(1983)(1965)(2002)(2007)(2019)(2014)(1972)(2012)(2014)(2021)(2002)(2003)(2009)(2009)(2008)(2019)(2014)(1995)(2016)(2008)(2009)(1999)(2011)(1981)(2006)(2016)(2005)(2004)(2010)(1988)(1983)(2019)(2017)(1991)(2021)(1981)(2015)(1961)(1993)(1972)(1970)(2018)(1974)(1942)(1974)(1990)(2016)(2001)(1992)(2012)(2015)(2008)(1993)(2004)(1989)(1997)(2017)(1988)(1991)(2003)(2004)(2013)(2015)(2020)(1962)(2017)(2009)(2017)(1991)(2012)(1982)(2016)(1966)(1967)(1963)(1965)(1964)(1994)(2019)(2009)(1985)(1985)(1991)(1978)(1996)(1994)(1995)(1981)(1980)(2016)(2000)(1979)(2019)(2017)(2008)(2016)(1984)(2013)(2015)(2008)(1970)(1969)(1998)(2010)(2016)(1982)(1968)(1991)(2002)(1992)(2015)(2006)(2007)(1989)(2003)(1966)(1988)(1975)(1998)(2005)(2020)(2015)(1980)(1994)(2017)(2000)(1995)(1976)(1972)(2002)(2003)(1979)(1989)(1970)(1969)(1989)(1989)(2017)(2006)(1986)(1991)(2020)(1987)(2012)(1958)(1993)(2012)(1968)(1991)(2010)(1983)(1970)(1999)(1977)(1978)(1966)(1951)(1988)(1974)(1943)(1958)(1996)(2013)(2011)(2018)(2013)(1992)(1965)(1981)(2011)(1977)(1962)(1993)(2001)(1956)(1990)(2021)(1993)(2002)(1951)(1969)(1997)(1976)(1986)(1982)(1998)(1975)(2007)(1988)(1979)(2005)(2017)(2007)(1994)(1989)(2017)(1997)(1980)(1950)(1972)(1970)(1998)(1999)(1959)(1986)(2003)(1969)(2003)(2017)(1981)(1973)(1979)(1983)(1961)(1982)(2009)(2014)(1958)(1964)(1999)(1986)(1956)(1951)(1997)(1991)(1995)(2009)(2016)(1982)(2009)(2016)(2005)(2021)(2003)(2006)(1964)(1952)(1994)(1989)(1992)(1962)(1999)(1993)(1976)(1950)(1993)(1995)(2018)(1964)(1943)(1961)(1972)(1985)(2018)(2009)(2009)(1976)(1981)(1981)(1971)(1987)(1996)(1940)(1940)(1964)(1982)(1983)(1937)(2016)(1993)(1989)(2002)(1975)(1999)(1992)(1961)(1991)(1968)(1996)(1952)(1999)(1999)(1998)(1969)(2018)(1936)(1961)(1966)(1968)(2016)(2016)(1993)(1967)(1955)(2021)(1996)(1972)(1985)(1999)(1979)(1950)(2017)(1960)(2006)(1995)(2005)(2005)(2017)(2008)(1979)(1992)(1986)(1961)(1984)(1980)(2019)(2008)(1977)(1983)(1964)(2011)(2003)(1959)(1982)(1998)(2013)(2007)(2013)(1982)(1969)(1978)(1987)(2000)(2018)(2016)(1991)(1980)(2004)(1989)(1995)(1973)(1991)(1991)(2001)(1999)(1962)(1996)(1958)(1986)(1982)(1970)(1966)(1979)(2007)(2012)(2020)(1951)(1972)(1981)(2004)(1999)(1958)(2020)(2019)(2006)(2021)(2019)(2015)(2012)(2020)(2017)(2021)(2008)(2019)(2018)(2017)(1971)(1955)(1984)(1934)(1972)(2010)(1994)(2005)(1963)(1996)(2020)(2019)(1975)(1962)(2017)(2004)(2006)(1972)(2019)(2014)(2017)(2005)(2006)(2018)(2021)(1980)(2015)(2010)(1979)(1954)(2005)(1949)(1964)(2005)(2011)(2015)(1935)(2009)(1990)(1967)(2011)(1934)(1948)(1965)(1963)(2018)(1954)(2002)(1988)(1953)(2012)(1946)(2006)(2010)(1949)(1974)(2011)(1979)(1998)(2006)(1990)(1994)(2011)(2007)(2020)(1965)(1981)(2002)(1982)(1993)(1947)(2020)(1978)(1998)(1981)(1961)(1954)(2015)(1989)(1974)(1990)(2012)(1976)(1977)(1966)(1976)(1991)(1991)(1984)(1997)(1976)(1984)(1964)(1957)(1970)(1976)(2015)(1984)(1959)(1972)(2002)(1942)(1981)(1997)(1973)(2019)(1971)(1969)(1954)(1986)(2004)(1996)(1993)(1956)(1969)(1986)(1982)(2016)(2008)(2004)(1950)(1986)(2005)(1984)(2011)(1964)(1964)(1947)(2020)(1989)(1972)(1956)(2017)(1990)(1998)(1987)(1999)(1990)(1985)(1997)(1988)(1957)(1990)(1996)(2004)(2000)(1968)(2020)(2000)(1963)(1991)(1953)(2005)(1979)(2020)(2012)(1977)(2001)(1956)(2012)(1982)(1991)(1989)(2006)(1991)(1985)(1988)(2016)(2004)(2012)(1981)(1996)(2018)(1961)(1992)(2002)(1975)(1953)(1999)(2006)(1988)(2007)(2013)(1972)(2010)(2016)(2016)(2013)(2016)(2009)(2013)(2007)(1981)(1984)(2013)(1955)(1962)(1971)(1965)(2017)(1993)(1965)(1954)(1985)(1971)(1943)(2007)(1960)(1982)(1968)(1952)(2013)(1983)(2017)(2020)(2020)(2013)(2017)(2012)(2011)(2020)(2004)(2014)(2019)(2020)(2011)(1990)(2013)(2009)(2009)(1965)(1999)(1989)(2004)(2015)(2021)(2005)(1981)(1999)(2018)(2002)(1969)(2018)(2017)(1952)(1965)(2019)(1987)(1949)(1960)(2015)(2008)(2013)(2011)(2019)(2014)(1986)(2016)(2005)(2018)(1993)(2007)(2008)(2005)(1976)(1982)(2005)(1985)(1987)(1980)(1999)(1958)(2007)(2006)(2016)(2013)(2012)(1988)(1992)(2020)(2021)(1973)(1996)(1966)(2000)(1999)(2013)(2000)(2002)(2010)(2005)(2011)(1948)(1985)(1958)(2014)(1998)(1969)(1958)(1979)(1956)(2009)(1964)(1962)(2012)(1958)(2019)(2013)(2014)(2011)(2019)(1978)(1958)(1992)(1988)(2018)(2012)(2018)(1983)(2013)(2020)(1962)(2018)(1988)(1999)(2008)(2015)(2013)(2014)(2010)(2011)(2008)(1983)(1989)(2006)(1982)(2014)(2013)(2007)(2010)(1999)(1968)(1975)(2004)(1986)(1960)(2020)(2003)(2005)(2012)(2011)(2011)(1982)(1989)(2018)(2014)(1956)(2007)(2012)(2010)(1991)(2004)(2009)(2007)(2020)(1961)(2018)(2020)(1995)(2009)(1938)(2010)(2014)(2006)(2012)(2019)(2003)(1994)(2001)(1972)(1954)(1983)(1971)(1966)(2005)(2005)(2005)(2000)(1979)(1994)(1968)(1961)(1954)(1986)(1964)(1970)(2018)(1960)(2014)(2004)(2000)(2016)(1972)(1982)(1982)(2008)(2018)(1983)(1982)(2006)(1979)(2008)(1993)(1975)(1949)(1968)(2013)(1963)(2017)(1984)(2009)(2004)(2005)(2016)(1976)(2003)(2014)(2019)(2016)(2016)(2016)(2013)(2014)(1994)(1960)(1987)(2008)(2008)(2002)(1990)(1985)(1982)(1966)(1997)(1973)(2020)(1979)(1995)(2014)(1985)(2004)(1989)(1992)(1987)(1987)(1957)(2004)(2010)(1977)(2007)(2012)(1982)(1955)(2003)(1986)(1990)(1991)(1978)(1945)(1991)(1986)(1991)(1980)(1973)(1983)(2017)(2021)(2018)(2007)(1999)(2020)(2001)(1982)(1995)(1989)(2004)(1999)(2013)(2003)(1990)(1993)(1992)(1986)(1993)(2020)(1956)(2003)(2005)(1981)(2015)(2019)(1995)(1980)(1958)(2012)(2003)(1996)(1969)(1935)(2009)(2009)(2020)(2015)(1988)(2014)(1969)(1998)(1952)(2015)(2001)(1986)(1972)(1955)(2005)(2020)(2021)(1943)(2011)(2015)(1976)(2000)(1983)(1967)(1982)(2002)(1990)(1995)(2019)(2013)(1979)(1951)(1984)(1997)(1995)(1984)(2000)(1995)(2019)(1970)(1965)(1966)(1965)(2002)(2008)(1966)(2008)(2006)(2004)(2017)(1985)(1980)(1954)(1973)(1944)(2006)(1977)(2016)(2009)(1968)(1953)(1973)(1965)(1980)(2010)(1965)(1938)(2016)(2011)(1995)(2010)(1965)(1994)(1986)(1982)(2006)(1966)(1966)(2003)(1990)(1994)(1961)(1985)(2011)(2005)(2019)(2017)(2000)(2009)(2001)(2015)(2016)(2010)(2016)(1989)(1963)(2010)(2001)(1984)(2011)(1971)(1996)(2012)(1978)(2009)(1984)(2018)(2014)(2020)(1982)(1982)(1985)(2012)(1993)(1990)(2016)(2018)(2015)(1988)(2012)(2019)(1999)(1966)(2002)(1990)(1983)(1982)(2011)(2009)(2020)(2010)(1951)(2016)(2001)(1979)(2019)(2005)(2015)(1989)(2014)(2011)(2013)(2016)(2012)(2021)(2005)(2016)(2019)(2017)(2013)(1980)(2020)(2010)(1997)(1974)(1977)(1976)(2016)(1970)(1941)(2007)(2018)(1988)(2019)(2014)(2011)(2013)(1995)(2017)(2019)(2020)(2009)(1953)(2005)(2010)(2010)(2017)(2008)(2015)(2009)(1994)(2017)(2021)(2014)(1984)(2013)(1979)(2007)(2019)(2011)(2017)(2017)(2020)(2014)(2003)(2020)(2019)(2017)(2010)(2017)(2020)(2014)(2017)(2011)(2010)(2018)(2017)(2018)(2020)(2016)(2006)(2012)(2019)(2014)(2016)(2014)(2002)(2008)(2019)(1931)(2013)(2014)(2012)(2015)(2013)(1994)(1995)(2011)(2001)(1980)(1970)(2013)(2007)(2016)(2018)(2015)(2019)(2021)(2009)(2000)(1935)(2020)(2017)(2012)(2020)(2000)(2012)(2014)(1975)(1952)(2015)(1992)(2013)(2014)(2020)(2019)(2015)(2015)(1968)(2019)(2017)(2015)(1996)(2009)(2017)(2019)(1960)(1969)(2015)(1980)(1970)(2011)(2007)(2017)(2002)(2017)(2013)(2010)(2014)(2015)(2010)(2001)(2002)(2009)(2021)(2021)(2018)(2017)(2013)(2015)(2014)(2017)(1967)(2019)(1981)(1977)(1987)(2016)(1992)(2012)(2015)(2008)(2004)(1990)(2008)(2017)(1980)(1953)(1974)(2004)(1983)(2018)(2015)(2009)(1990)(1978)(2018)(2007)(1969)(2016)(2017)(2014)(2017)(1992)(2015)(2005)(2021)(2019)(1977)(1959)(1992)(1998)(2018)(2014)(2014)(2016)(2000)(2018)(2010)(1984)(1988)(2017)(2006)(2014)(2018)(1989)(1975)(1956)(1937)(2010)(1978)(1994)(2016)(2005)(2020)(2009)(2019)(2014)(2019)(1989)(1962)(2016)(2007)(2015)(2015)(1998)(2016)(2011)(2021)(1989)(1985)(1986)(1980)(1974)(1995)(1991)(2014)(1988)(1999)(1978)(2011)(1978)(1985)(1994)(2010)(2020)(2003)(1996)(1965)(1989)(1960)(2017)(2021)(2003)(1989)(2015)(2018)(1941)(1971)(2008)(1954)(2016)(2001)(1970)(2011)(2011)(2002)(1993)(1990)(2009)(2010)(2002)(2005)(2004)(2018)(1975)(1982)(1978)(1978)(2017)(2002)(1957)(2004)(1969)(2000)(1996)(2011)(2018)(2018)(2017)(2016)(2012)(2005)(2013)(1977)(1992)(2017)(2008)(2011)(2005)(2017)(1997)(2010)(2018)(1949)(1994)(2021)(1976)(2016)(1997)(2013)(2008)(2016)(1959)(1974)(2019)(1994)(1975)(2001)(1985)(2019)(1970)(2006)(1992)(1975)(1982)(1962)(2014)(2006)(2015)(1990)(2015)(2007)(1980)(2014)(2014)(1996)(2017)(2011)(2020)(2018)(2019)(2006)(2020)(1971)(2019)(1971)(1967)(2019)(1955)(2018)(2019)(1970)(1960)(1974)(1989)(1982)(1963)(1998)(2015)(1984)(2011)(1987)(2006)(2004)(2015)(2000)(2020)(2005)(2009)(1994)(2005)(1968)(1999)(2004)(1955)(1974)(2018)(2002)(2018)(1988)(1995)(1982)(2003)(2012)(1962)(2006)(1946)(2000)(1975)(2021)(2021)(1992)(1975)(1989)(2004)(1991)(2001)(1982)(2011)(1995)(2010)(1970)(1977)(2005)(1986)(1949)(1970)(1945)(2001)(2008)(1994)(2009)(2010)(2017)(1988)(2016)(2018)(2018)(2016)(1995)(2019)(1993)(1990)(1975)(2004)(2011)(2011)(2019)(1989)(2008)(2017)(1989)(2012)(1972)(2007)(2017)(2009)(1977)(1982)(2006)(1990)(1986)(1948)(1952)(2018)(2005)(2009)(1988)(1994)(1982)(1996)(2011)(1986)(1986)(1991)(2004)(1986)(2009)(2020)(2020)(1998)(2017)(2021)(1997)(2020)(1992)(2005)(2008)(1991)(1991)(2011)(1978)(2013)(2018)(1969)(1977)(1996)(1992)(1997)(2006)(1998)(2018)(2010)(2014)(2002)(1986)(1988)(1972)(2008)(1985)(2016)(1967)(1987)(2015)(2016)(2004)(1998)(2013)(2009)(2017)(1955)(2009)(1984)(2020)(1969)(1965)(1993)(1992)(1987)(1982)(1988)(1981)(1984)(2005)(1982)(2019)(2002)(2013)(1981)(1969)(1954)(2013)(1975)(1961)(2016)(1987)(2005)(2018)(2016)(2010)(2006)(2017)(2015)(2007)(2015)(2015)(2020)(2018)(2020)(2012)(2018)(2008)(2009)(2019)(2006)(2013)(2009)(2013)(2008)(1989)(2018)(1998)(2017)(2016)(2004)(2018)(2011)(2019)(2012)(2018)(2003)(2020)(2006)(2004)(1983)(1983)(1964)(1967)(2006)(1974)(1988)(2004)(1989)(1986)(2013)(2008)(2009)(2007)(2021)(2003)(2019)(2020)(2015)(2003)(2008)(2014)(1992)(2001)(1970)(1984)(1990)(1984)(2014)(1994)(1985)(1972)(2008)(2020)(1991)(2015)(1981)(2014)(1977)(1985)(2015)(2020)(1984)(1958)(1969)(2005)(2018)(2012)(1992)(2014)(2001)(2013)(2018)(1998)(1995)(1980)(1996)(2015)(1975)(1955)(1935)(1988)(2006)(1952)(1973)(2011)(2016)(1991)(2020)(1984)(2003)(2002)(1963)(2014)(1994)(2011)(2011)(1972)(2014)(2003)(2017)(2002)(2016)(2009)(1999)(2001)(1984)(2015)(2013)(2012)(1980)(2018)(2002)(2012)(2002)(2004)(1996)(2002)(1982)(2001)(1992)(1966)(1963)(1981)(2019)(2011)(2019)(1982)(1982)(1987)(2001)(1966)(2005)(1977)(2005)(1997)(1997)(1991)(2002)(2016)(2014)(1949)(2001)(2018)(2016)(1985)(2021)(1993)(1998)(1994)(2004)(1979)(2008)(1994)(1962)(1985)(2008)(2001)(1990)(1998)(1989)(1975)(1982)(1988)(1994)(1993)(1984)(2001)(1995)(1990)(1993)(2017)(1980)(1941)(1952)(1988)(1995)(1977)(1981)(1985)(1994)(1939)(1987)(2003)(1972)(1984)(1960)(1975)(2005)(1997)(1943)(1977)(1973)(1998)(2013)(1993)(2013)(1983)(1972)(2014)(1945)(2005)(1974)(2018)(1987)(1945)(1994)(2014)(1964)(1997)(1948)(2013)(1958)(1960)(1990)(2006)(1975)(1986)(1986)(2006)(1964)(1940)(1976)(2000)(2013)(1961)(1965)(1992)(1988)(2013)(1984)(2002)(2011)(2012)(2019)(1958)(2000)(1972)(2011)(2018)(2009)(1998)(1996)(1975)(2015)(2001)(1985)(1992)(1989)(1988)(1999)(1998)'",
      "\nDuring handling of the above exception, another exception occurred:\n",
      "\u001b[0;31mValueError\u001b[0m                                Traceback (most recent call last)",
      "File \u001b[0;32m~/anaconda3/lib/python3.11/site-packages/pandas/core/nanops.py:1696\u001b[0m, in \u001b[0;36m_ensure_numeric\u001b[0;34m(x)\u001b[0m\n\u001b[1;32m   1695\u001b[0m \u001b[38;5;28;01mtry\u001b[39;00m:\n\u001b[0;32m-> 1696\u001b[0m     x \u001b[38;5;241m=\u001b[39m \u001b[38;5;28mcomplex\u001b[39m(x)\n\u001b[1;32m   1697\u001b[0m \u001b[38;5;28;01mexcept\u001b[39;00m \u001b[38;5;167;01mValueError\u001b[39;00m \u001b[38;5;28;01mas\u001b[39;00m err:\n\u001b[1;32m   1698\u001b[0m     \u001b[38;5;66;03m# e.g. \"foo\"\u001b[39;00m\n",
      "\u001b[0;31mValueError\u001b[0m: complex() arg is a malformed string",
      "\nThe above exception was the direct cause of the following exception:\n",
      "\u001b[0;31mTypeError\u001b[0m                                 Traceback (most recent call last)",
      "Cell \u001b[0;32mIn[12], line 10\u001b[0m\n\u001b[1;32m      8\u001b[0m         \u001b[38;5;66;03m# print(f' Column {a} filled successfuly')\u001b[39;00m\n\u001b[1;32m      9\u001b[0m     \u001b[38;5;28;01mreturn\u001b[39;00m dataset\n\u001b[0;32m---> 10\u001b[0m missing(df)\n",
      "Cell \u001b[0;32mIn[12], line 7\u001b[0m, in \u001b[0;36mmissing\u001b[0;34m(dataset1)\u001b[0m\n\u001b[1;32m      3\u001b[0m columns \u001b[38;5;241m=\u001b[39m [\u001b[38;5;124m'\u001b[39m\u001b[38;5;124mYear\u001b[39m\u001b[38;5;124m'\u001b[39m,\u001b[38;5;124m'\u001b[39m\u001b[38;5;124mDuration\u001b[39m\u001b[38;5;124m'\u001b[39m,\u001b[38;5;124m'\u001b[39m\u001b[38;5;124mRating\u001b[39m\u001b[38;5;124m'\u001b[39m,\u001b[38;5;124m'\u001b[39m\u001b[38;5;124mVotes\u001b[39m\u001b[38;5;124m'\u001b[39m]\n\u001b[1;32m      6\u001b[0m \u001b[38;5;28;01mfor\u001b[39;00m a \u001b[38;5;129;01min\u001b[39;00m columns:\n\u001b[0;32m----> 7\u001b[0m     dataset[a]\u001b[38;5;241m.\u001b[39mfillna(\u001b[38;5;28mround\u001b[39m(dataset[a]\u001b[38;5;241m.\u001b[39mmean(), \u001b[38;5;241m2\u001b[39m), inplace \u001b[38;5;241m=\u001b[39m \u001b[38;5;28;01mTrue\u001b[39;00m)\n\u001b[1;32m      8\u001b[0m     \u001b[38;5;66;03m# print(f' Column {a} filled successfuly')\u001b[39;00m\n\u001b[1;32m      9\u001b[0m \u001b[38;5;28;01mreturn\u001b[39;00m dataset\n",
      "File \u001b[0;32m~/anaconda3/lib/python3.11/site-packages/pandas/core/generic.py:11556\u001b[0m, in \u001b[0;36mNDFrame._add_numeric_operations.<locals>.mean\u001b[0;34m(self, axis, skipna, numeric_only, **kwargs)\u001b[0m\n\u001b[1;32m  11539\u001b[0m \u001b[38;5;129m@doc\u001b[39m(\n\u001b[1;32m  11540\u001b[0m     _num_doc,\n\u001b[1;32m  11541\u001b[0m     desc\u001b[38;5;241m=\u001b[39m\u001b[38;5;124m\"\u001b[39m\u001b[38;5;124mReturn the mean of the values over the requested axis.\u001b[39m\u001b[38;5;124m\"\u001b[39m,\n\u001b[0;32m   (...)\u001b[0m\n\u001b[1;32m  11554\u001b[0m     \u001b[38;5;241m*\u001b[39m\u001b[38;5;241m*\u001b[39mkwargs,\n\u001b[1;32m  11555\u001b[0m ):\n\u001b[0;32m> 11556\u001b[0m     \u001b[38;5;28;01mreturn\u001b[39;00m NDFrame\u001b[38;5;241m.\u001b[39mmean(\u001b[38;5;28mself\u001b[39m, axis, skipna, numeric_only, \u001b[38;5;241m*\u001b[39m\u001b[38;5;241m*\u001b[39mkwargs)\n",
      "File \u001b[0;32m~/anaconda3/lib/python3.11/site-packages/pandas/core/generic.py:11201\u001b[0m, in \u001b[0;36mNDFrame.mean\u001b[0;34m(self, axis, skipna, numeric_only, **kwargs)\u001b[0m\n\u001b[1;32m  11194\u001b[0m \u001b[38;5;28;01mdef\u001b[39;00m \u001b[38;5;21mmean\u001b[39m(\n\u001b[1;32m  11195\u001b[0m     \u001b[38;5;28mself\u001b[39m,\n\u001b[1;32m  11196\u001b[0m     axis: Axis \u001b[38;5;241m|\u001b[39m \u001b[38;5;28;01mNone\u001b[39;00m \u001b[38;5;241m=\u001b[39m \u001b[38;5;241m0\u001b[39m,\n\u001b[0;32m   (...)\u001b[0m\n\u001b[1;32m  11199\u001b[0m     \u001b[38;5;241m*\u001b[39m\u001b[38;5;241m*\u001b[39mkwargs,\n\u001b[1;32m  11200\u001b[0m ) \u001b[38;5;241m-\u001b[39m\u001b[38;5;241m>\u001b[39m Series \u001b[38;5;241m|\u001b[39m \u001b[38;5;28mfloat\u001b[39m:\n\u001b[0;32m> 11201\u001b[0m     \u001b[38;5;28;01mreturn\u001b[39;00m \u001b[38;5;28mself\u001b[39m\u001b[38;5;241m.\u001b[39m_stat_function(\n\u001b[1;32m  11202\u001b[0m         \u001b[38;5;124m\"\u001b[39m\u001b[38;5;124mmean\u001b[39m\u001b[38;5;124m\"\u001b[39m, nanops\u001b[38;5;241m.\u001b[39mnanmean, axis, skipna, numeric_only, \u001b[38;5;241m*\u001b[39m\u001b[38;5;241m*\u001b[39mkwargs\n\u001b[1;32m  11203\u001b[0m     )\n",
      "File \u001b[0;32m~/anaconda3/lib/python3.11/site-packages/pandas/core/generic.py:11158\u001b[0m, in \u001b[0;36mNDFrame._stat_function\u001b[0;34m(self, name, func, axis, skipna, numeric_only, **kwargs)\u001b[0m\n\u001b[1;32m  11154\u001b[0m     nv\u001b[38;5;241m.\u001b[39mvalidate_stat_func((), kwargs, fname\u001b[38;5;241m=\u001b[39mname)\n\u001b[1;32m  11156\u001b[0m validate_bool_kwarg(skipna, \u001b[38;5;124m\"\u001b[39m\u001b[38;5;124mskipna\u001b[39m\u001b[38;5;124m\"\u001b[39m, none_allowed\u001b[38;5;241m=\u001b[39m\u001b[38;5;28;01mFalse\u001b[39;00m)\n\u001b[0;32m> 11158\u001b[0m \u001b[38;5;28;01mreturn\u001b[39;00m \u001b[38;5;28mself\u001b[39m\u001b[38;5;241m.\u001b[39m_reduce(\n\u001b[1;32m  11159\u001b[0m     func, name\u001b[38;5;241m=\u001b[39mname, axis\u001b[38;5;241m=\u001b[39maxis, skipna\u001b[38;5;241m=\u001b[39mskipna, numeric_only\u001b[38;5;241m=\u001b[39mnumeric_only\n\u001b[1;32m  11160\u001b[0m )\n",
      "File \u001b[0;32m~/anaconda3/lib/python3.11/site-packages/pandas/core/series.py:4670\u001b[0m, in \u001b[0;36mSeries._reduce\u001b[0;34m(self, op, name, axis, skipna, numeric_only, filter_type, **kwds)\u001b[0m\n\u001b[1;32m   4665\u001b[0m     \u001b[38;5;28;01mraise\u001b[39;00m \u001b[38;5;167;01mTypeError\u001b[39;00m(\n\u001b[1;32m   4666\u001b[0m         \u001b[38;5;124mf\u001b[39m\u001b[38;5;124m\"\u001b[39m\u001b[38;5;124mSeries.\u001b[39m\u001b[38;5;132;01m{\u001b[39;00mname\u001b[38;5;132;01m}\u001b[39;00m\u001b[38;5;124m does not allow \u001b[39m\u001b[38;5;132;01m{\u001b[39;00mkwd_name\u001b[38;5;132;01m}\u001b[39;00m\u001b[38;5;124m=\u001b[39m\u001b[38;5;132;01m{\u001b[39;00mnumeric_only\u001b[38;5;132;01m}\u001b[39;00m\u001b[38;5;124m \u001b[39m\u001b[38;5;124m\"\u001b[39m\n\u001b[1;32m   4667\u001b[0m         \u001b[38;5;124m\"\u001b[39m\u001b[38;5;124mwith non-numeric dtypes.\u001b[39m\u001b[38;5;124m\"\u001b[39m\n\u001b[1;32m   4668\u001b[0m     )\n\u001b[1;32m   4669\u001b[0m \u001b[38;5;28;01mwith\u001b[39;00m np\u001b[38;5;241m.\u001b[39merrstate(\u001b[38;5;28mall\u001b[39m\u001b[38;5;241m=\u001b[39m\u001b[38;5;124m\"\u001b[39m\u001b[38;5;124mignore\u001b[39m\u001b[38;5;124m\"\u001b[39m):\n\u001b[0;32m-> 4670\u001b[0m     \u001b[38;5;28;01mreturn\u001b[39;00m op(delegate, skipna\u001b[38;5;241m=\u001b[39mskipna, \u001b[38;5;241m*\u001b[39m\u001b[38;5;241m*\u001b[39mkwds)\n",
      "File \u001b[0;32m~/anaconda3/lib/python3.11/site-packages/pandas/core/nanops.py:96\u001b[0m, in \u001b[0;36mdisallow.__call__.<locals>._f\u001b[0;34m(*args, **kwargs)\u001b[0m\n\u001b[1;32m     94\u001b[0m \u001b[38;5;28;01mtry\u001b[39;00m:\n\u001b[1;32m     95\u001b[0m     \u001b[38;5;28;01mwith\u001b[39;00m np\u001b[38;5;241m.\u001b[39merrstate(invalid\u001b[38;5;241m=\u001b[39m\u001b[38;5;124m\"\u001b[39m\u001b[38;5;124mignore\u001b[39m\u001b[38;5;124m\"\u001b[39m):\n\u001b[0;32m---> 96\u001b[0m         \u001b[38;5;28;01mreturn\u001b[39;00m f(\u001b[38;5;241m*\u001b[39margs, \u001b[38;5;241m*\u001b[39m\u001b[38;5;241m*\u001b[39mkwargs)\n\u001b[1;32m     97\u001b[0m \u001b[38;5;28;01mexcept\u001b[39;00m \u001b[38;5;167;01mValueError\u001b[39;00m \u001b[38;5;28;01mas\u001b[39;00m e:\n\u001b[1;32m     98\u001b[0m     \u001b[38;5;66;03m# we want to transform an object array\u001b[39;00m\n\u001b[1;32m     99\u001b[0m     \u001b[38;5;66;03m# ValueError message to the more typical TypeError\u001b[39;00m\n\u001b[1;32m    100\u001b[0m     \u001b[38;5;66;03m# e.g. this is normally a disallowed function on\u001b[39;00m\n\u001b[1;32m    101\u001b[0m     \u001b[38;5;66;03m# object arrays that contain strings\u001b[39;00m\n\u001b[1;32m    102\u001b[0m     \u001b[38;5;28;01mif\u001b[39;00m is_object_dtype(args[\u001b[38;5;241m0\u001b[39m]):\n",
      "File \u001b[0;32m~/anaconda3/lib/python3.11/site-packages/pandas/core/nanops.py:158\u001b[0m, in \u001b[0;36mbottleneck_switch.__call__.<locals>.f\u001b[0;34m(values, axis, skipna, **kwds)\u001b[0m\n\u001b[1;32m    156\u001b[0m         result \u001b[38;5;241m=\u001b[39m alt(values, axis\u001b[38;5;241m=\u001b[39maxis, skipna\u001b[38;5;241m=\u001b[39mskipna, \u001b[38;5;241m*\u001b[39m\u001b[38;5;241m*\u001b[39mkwds)\n\u001b[1;32m    157\u001b[0m \u001b[38;5;28;01melse\u001b[39;00m:\n\u001b[0;32m--> 158\u001b[0m     result \u001b[38;5;241m=\u001b[39m alt(values, axis\u001b[38;5;241m=\u001b[39maxis, skipna\u001b[38;5;241m=\u001b[39mskipna, \u001b[38;5;241m*\u001b[39m\u001b[38;5;241m*\u001b[39mkwds)\n\u001b[1;32m    160\u001b[0m \u001b[38;5;28;01mreturn\u001b[39;00m result\n",
      "File \u001b[0;32m~/anaconda3/lib/python3.11/site-packages/pandas/core/nanops.py:421\u001b[0m, in \u001b[0;36m_datetimelike_compat.<locals>.new_func\u001b[0;34m(values, axis, skipna, mask, **kwargs)\u001b[0m\n\u001b[1;32m    418\u001b[0m \u001b[38;5;28;01mif\u001b[39;00m datetimelike \u001b[38;5;129;01mand\u001b[39;00m mask \u001b[38;5;129;01mis\u001b[39;00m \u001b[38;5;28;01mNone\u001b[39;00m:\n\u001b[1;32m    419\u001b[0m     mask \u001b[38;5;241m=\u001b[39m isna(values)\n\u001b[0;32m--> 421\u001b[0m result \u001b[38;5;241m=\u001b[39m func(values, axis\u001b[38;5;241m=\u001b[39maxis, skipna\u001b[38;5;241m=\u001b[39mskipna, mask\u001b[38;5;241m=\u001b[39mmask, \u001b[38;5;241m*\u001b[39m\u001b[38;5;241m*\u001b[39mkwargs)\n\u001b[1;32m    423\u001b[0m \u001b[38;5;28;01mif\u001b[39;00m datetimelike:\n\u001b[1;32m    424\u001b[0m     result \u001b[38;5;241m=\u001b[39m _wrap_results(result, orig_values\u001b[38;5;241m.\u001b[39mdtype, fill_value\u001b[38;5;241m=\u001b[39miNaT)\n",
      "File \u001b[0;32m~/anaconda3/lib/python3.11/site-packages/pandas/core/nanops.py:727\u001b[0m, in \u001b[0;36mnanmean\u001b[0;34m(values, axis, skipna, mask)\u001b[0m\n\u001b[1;32m    724\u001b[0m     dtype_count \u001b[38;5;241m=\u001b[39m dtype\n\u001b[1;32m    726\u001b[0m count \u001b[38;5;241m=\u001b[39m _get_counts(values\u001b[38;5;241m.\u001b[39mshape, mask, axis, dtype\u001b[38;5;241m=\u001b[39mdtype_count)\n\u001b[0;32m--> 727\u001b[0m the_sum \u001b[38;5;241m=\u001b[39m _ensure_numeric(values\u001b[38;5;241m.\u001b[39msum(axis, dtype\u001b[38;5;241m=\u001b[39mdtype_sum))\n\u001b[1;32m    729\u001b[0m \u001b[38;5;28;01mif\u001b[39;00m axis \u001b[38;5;129;01mis\u001b[39;00m \u001b[38;5;129;01mnot\u001b[39;00m \u001b[38;5;28;01mNone\u001b[39;00m \u001b[38;5;129;01mand\u001b[39;00m \u001b[38;5;28mgetattr\u001b[39m(the_sum, \u001b[38;5;124m\"\u001b[39m\u001b[38;5;124mndim\u001b[39m\u001b[38;5;124m\"\u001b[39m, \u001b[38;5;28;01mFalse\u001b[39;00m):\n\u001b[1;32m    730\u001b[0m     count \u001b[38;5;241m=\u001b[39m cast(np\u001b[38;5;241m.\u001b[39mndarray, count)\n",
      "File \u001b[0;32m~/anaconda3/lib/python3.11/site-packages/pandas/core/nanops.py:1699\u001b[0m, in \u001b[0;36m_ensure_numeric\u001b[0;34m(x)\u001b[0m\n\u001b[1;32m   1696\u001b[0m             x \u001b[38;5;241m=\u001b[39m \u001b[38;5;28mcomplex\u001b[39m(x)\n\u001b[1;32m   1697\u001b[0m         \u001b[38;5;28;01mexcept\u001b[39;00m \u001b[38;5;167;01mValueError\u001b[39;00m \u001b[38;5;28;01mas\u001b[39;00m err:\n\u001b[1;32m   1698\u001b[0m             \u001b[38;5;66;03m# e.g. \"foo\"\u001b[39;00m\n\u001b[0;32m-> 1699\u001b[0m             \u001b[38;5;28;01mraise\u001b[39;00m \u001b[38;5;167;01mTypeError\u001b[39;00m(\u001b[38;5;124mf\u001b[39m\u001b[38;5;124m\"\u001b[39m\u001b[38;5;124mCould not convert \u001b[39m\u001b[38;5;132;01m{\u001b[39;00mx\u001b[38;5;132;01m}\u001b[39;00m\u001b[38;5;124m to numeric\u001b[39m\u001b[38;5;124m\"\u001b[39m) \u001b[38;5;28;01mfrom\u001b[39;00m \u001b[38;5;21;01merr\u001b[39;00m\n\u001b[1;32m   1700\u001b[0m \u001b[38;5;28;01mreturn\u001b[39;00m x\n",
      "\u001b[0;31mTypeError\u001b[0m: Could not convert (2019)(2019)(1997)(2005)(2012)(2014)(2004)(2016)(1991)(2012)(2018)(2010)(1958)(2021)(2017)(2009)(2005)(1993)(2002)(2014)(1946)(2004)(2008)(2016)(2012)(2018)(1994)(2007)(2019)(2017)(2014)(2013)(2012)(2003)(2014)(2018)(1998)(2017)(2018)(1979)(2019)(2002)(1951)(1956)(2008)(1974)(2014)(2012)(2003)(2019)(2009)(2009)(2018)(2015)(2004)(2016)(2015)(2009)(2006)(1981)(1974)(2020)(2019)(1985)(2013)(2019)(2011)(2016)(2009)(2012)(2012)(1974)(2007)(2011)(1967)(2014)(2007)(2005)(1988)(1995)(2016)(2006)(2011)(1987)(2019)(2019)(2009)(2021)(2003)(2017)(2009)(2019)(2005)(2016)(2017)(2016)(2015)(2005)(2010)(2016)(2020)(2017)(2019)(2013)(1996)(2013)(2020)(2016)(2011)(2005)(2017)(2019)(2002)(2008)(1999)(2018)(2009)(1973)(1994)(2017)(2016)(1999)(2004)(1968)(1943)(1953)(1943)(1986)(2018)(1982)(1977)(2019)(1982)(2013)(1991)(1950)(1968)(1993)(1991)(1969)(1993)(2009)(1977)(2016)(1977)(1948)(1967)(1994)(1994)(1994)(1970)(1986)(1987)(1990)(1990)(1993)(1988)(1991)(1989)(2011)(1947)(1988)(2001)(2009)(2000)(1982)(1953)(1971)(1978)(1993)(1977)(1944)(1987)(1947)(1963)(1935)(2003)(1990)(1985)(1993)(1992)(2001)(2006)(2006)(1976)(2000)(2000)(1991)(1976)(1984)(1988)(1990)(1985)(1984)(1973)(1993)(1993)(2007)(1968)(1994)(2000)(1985)(1986)(1988)(1989)(1989)(1991)(1975)(1978)(1958)(1989)(1977)(1980)(2002)(1979)(1966)(1990)(1997)(1975)(1980)(2010)(1998)(2012)(2001)(2007)(2018)(2001)(2008)(1967)(1982)(2009)(1984)(1972)(1956)(1970)(2004)(2003)(1980)(1960)(1968)(1975)(1964)(1985)(1952)(1990)(1959)(1979)(2019)(1972)(2004)(1993)(1950)(2002)(1972)(1970)(1964)(1994)(2009)(1971)(1976)(1980)(1986)(1974)(1977)(2006)(1964)(2002)(1980)(2009)(1981)(2003)(1992)(1985)(1997)(2011)(1951)(1957)(1974)(1954)(1962)(2007)(1999)(1953)(1961)(1981)(1957)(1980)(2010)(1986)(1993)(1962)(2001)(2005)(1977)(1995)(1990)(2013)(2011)(1968)(2014)(2018)(2009)(1984)(1965)(1992)(1993)(1966)(1997)(1996)(1995)(2006)(1979)(1994)(2006)(2013)(1998)(1974)(1956)(1990)(1964)(1999)(1966)(2011)(1995)(1984)(1957)(2012)(1995)(2002)(1977)(1989)(2004)(2015)(1994)(2004)(2004)(2013)(1980)(1933)(1955)(1995)(1977)(1968)(1957)(1973)(1980)(1991)(1989)(1970)(1986)(2011)(1984)(1943)(2010)(1973)(1998)(1983)(1936)(2009)(2019)(2014)(2010)(1948)(2010)(1958)(1976)(1989)(1992)(2006)(1965)(1954)(1986)(1971)(2001)(2007)(2010)(1983)(1955)(1990)(2010)(2017)(1983)(2019)(1978)(1980)(1985)(2011)(2016)(2004)(1997)(1986)(1966)(1951)(2001)(1991)(1950)(2014)(1983)(1977)(1972)(1977)(2012)(2007)(1985)(1988)(1997)(1990)(1990)(2012)(1997)(2004)(1981)(1973)(1996)(1997)(2000)(2002)(1957)(1980)(2009)(2019)(1995)(1979)(1981)(2006)(1979)(2016)(2006)(1986)(2015)(2003)(2010)(1996)(2009)(1985)(2004)(2018)(2012)(2012)(2009)(2017)(1974)(1996)(2021)(1992)(1989)(1958)(2017)(2001)(1998)(1991)(1991)(2004)(2020)(2013)(1984)(1966)(1988)(1965)(1991)(1979)(2014)(1995)(1999)(1963)(2002)(1989)(2001)(2006)(2017)(1977)(1952)(2009)(1985)(2006)(2019)(1975)(1973)(1979)(2001)(1951)(1971)(1980)(2019)(2019)(1966)(1940)(1954)(2004)(1932)(1977)(2017)(1933)(1953)(2015)(2015)(2020)(1984)(2009)(2010)(1997)(1986)(2015)(2009)(2011)(1977)(1994)(1967)(2016)(1955)(1975)(1954)(1958)(1979)(2005)(1936)(1948)(1960)(1972)(2020)(1961)(1978)(1977)(2019)(1990)(1990)(1980)(1952)(1985)(2013)(1985)(2001)(1974)(2016)(1990)(2014)(2002)(1986)(2001)(2021)(2001)(1966)(1986)(2005)(2018)(1967)(1968)(2016)(1992)(2017)(1973)(2008)(1971)(1984)(1952)(1977)(1985)(1959)(1993)(1975)(1999)(1953)(2016)(2003)(1984)(1949)(1971)(1994)(1994)(1990)(1993)(1985)(1983)(1987)(2018)(1990)(1975)(1994)(1986)(1984)(1995)(1992)(2002)(1996)(1998)(1986)(1954)(2011)(1982)(2005)(1995)(2020)(2015)(2014)(1960)(1952)(1973)(1967)(1968)(1978)(1987)(1994)(2007)(2005)(1974)(1969)(2010)(2000)(2005)(1969)(1978)(2003)(2009)(1985)(2006)(1962)(1968)(2013)(1997)(2013)(1974)(1986)(1993)(1946)(1969)(1982)(1978)(2016)(2016)(1972)(1971)(1992)(2002)(1975)(1995)(1989)(1982)(1972)(1972)(2000)(1948)(1986)(2006)(1948)(1973)(1972)(1968)(1962)(1978)(2002)(1969)(2008)(1991)(2021)(1994)(2006)(1993)(1971)(1986)(2009)(2003)(1966)(1972)(1960)(2006)(1977)(2007)(2015)(1985)(1993)(2005)(2010)(1982)(1990)(2007)(2001)(1982)(1962)(1972)(1989)(1960)(1960)(1978)(2006)(1977)(2007)(1987)(1996)(1975)(1964)(1980)(1975)(1972)(1992)(1949)(1974)(2000)(1957)(1982)(1964)(2012)(1946)(1969)(1994)(2004)(1974)(1983)(1959)(1985)(2001)(1976)(1999)(2019)(2012)(1953)(2003)(1981)(1996)(2010)(1967)(1983)(1957)(1982)(2019)(1978)(1988)(2006)(1950)(1965)(2004)(1984)(2012)(2018)(2009)(1984)(1993)(1982)(1952)(1943)(2017)(2010)(2018)(2001)(2011)(1993)(1991)(1986)(1962)(1989)(2000)(2020)(1992)(2009)(2012)(2018)(2020)(2005)(2007)(1990)(1978)(2020)(2010)(2020)(1979)(2013)(1990)(2012)(1987)(1968)(1993)(1998)(1991)(1996)(1979)(2007)(2013)(1940)(1953)(1967)(1996)(1984)(1988)(1998)(2016)(2010)(1997)(1978)(1987)(2011)(2001)(1986)(2017)(1983)(1951)(1990)(1984)(1985)(1964)(2002)(1990)(2007)(2020)(2016)(2019)(1969)(1982)(1964)(1991)(2000)(2001)(1991)(1955)(1978)(1990)(1940)(1974)(2016)(2017)(2012)(2017)(2021)(2018)(2009)(2006)(1985)(1954)(1999)(2017)(2000)(2016)(2018)(2020)(1993)(1990)(2001)(2017)(2019)(1973)(1994)(2015)(1954)(2003)(1990)(1955)(2016)(2017)(1957)(1993)(2018)(2012)(1986)(2013)(1962)(1982)(1953)(1992)(2003)(2018)(1951)(1968)(1984)(1995)(1993)(1972)(2017)(1960)(1951)(2014)(1985)(1950)(1986)(1972)(1985)(2017)(2015)(2008)(2010)(2009)(2005)(2008)(1970)(1963)(2017)(1984)(2003)(2009)(1961)(1957)(1998)(1973)(1951)(1966)(2000)(1978)(1983)(1999)(1989)(1998)(2018)(2002)(1974)(1987)(1993)(1969)(1945)(1986)(1974)(2019)(1980)(2015)(2014)(1982)(2010)(1998)(2002)(2016)(2015)(2020)(2019)(1991)(1971)(1971)(2017)(1954)(2013)(1989)(1982)(1938)(2003)(1952)(1956)(2019)(1979)(1990)(1951)(1966)(1967)(1968)(2019)(1941)(1955)(1967)(1965)(1985)(1964)(1989)(1954)(2020)(1952)(2021)(1976)(2013)(2015)(1956)(1976)(2015)(1996)(2009)(2015)(2017)(1956)(1982)(2019)(1975)(1985)(1971)(1976)(2012)(2017)(1993)(1968)(1992)(2014)(1996)(1980)(1968)(2020)(2006)(2009)(1997)(1973)(1962)(2010)(1990)(1956)(1998)(1969)(1985)(1983)(1973)(1992)(1957)(1978)(1963)(1996)(1955)(1980)(1994)(2013)(2014)(2015)(1991)(2016)(2017)(1971)(1972)(2021)(1950)(1960)(1955)(2009)(2005)(2004)(2015)(2012)(1949)(1959)(1973)(2015)(1976)(1998)(2019)(1949)(1995)(1981)(1960)(1998)(2006)(2001)(2000)(2003)(1942)(1960)(1956)(1992)(1981)(2003)(2019)(1979)(2019)(2018)(1989)(1961)(2000)(1972)(1950)(2021)(1985)(1949)(1982)(2014)(2004)(1954)(1983)(2020)(1979)(2011)(1993)(1965)(1959)(1993)(2019)(2013)(1962)(1989)(1972)(2016)(1963)(2017)(1991)(2017)(2005)(1946)(1971)(2016)(1972)(1983)(1992)(2002)(2012)(1982)(1974)(1999)(1991)(1964)(2001)(2010)(2010)(1985)(1996)(1950)(1980)(1980)(1981)(1978)(2013)(1992)(1994)(1983)(1997)(1994)(1969)(1964)(2000)(2014)(1952)(1995)(2005)(1985)(1992)(2017)(2014)(1960)(2013)(2015)(2013)(2017)(1982)(2015)(2015)(2013)(2018)(2014)(1991)(1957)(1961)(2018)(1938)(2013)(1956)(2006)(1978)(2002)(2001)(2005)(2005)(1985)(2001)(1986)(1970)(1985)(1994)(1997)(1969)(1970)(1997)(1972)(2000)(1959)(1956)(2001)(1994)(1996)(1961)(1947)(1932)(1980)(1979)(1976)(1989)(2001)(2017)(2017)(2017)(2020)(1976)(2017)(2019)(2002)(1942)(1932)(1963)(1981)(2017)(1985)(2018)(1984)(2010)(1981)(2018)(1998)(1988)(2003)(2000)(1982)(1965)(1973)(2007)(2011)(2017)(1935)(2011)(1996)(2016)(2012)(1978)(2004)(2018)(1984)(2001)(1958)(1993)(1978)(1984)(2007)(1933)(2017)(2003)(2010)(1997)(1965)(1999)(2003)(2000)(2012)(2020)(2014)(2008)(1963)(2000)(1999)(2014)(2011)(2018)(2016)(2008)(1989)(2011)(1977)(1969)(2000)(1974)(1937)(2007)(1987)(2012)(1971)(2008)(1989)(2000)(1982)(1989)(2009)(2018)(1963)(2011)(1980)(2013)(1979)(1999)(1972)(1984)(2001)(1960)(2017)(1966)(1954)(2010)(1950)(1983)(2017)(2019)(2012)(1966)(1988)(1999)(2000)(1981)(2005)(2008)(1959)(1981)(2004)(2015)(1971)(2021)(2020)(2019)(1973)(2005)(2018)(2019)(2012)(2015)(2013)(2009)(2017)(2009)(2013)(1963)(2005)(1973)(2014)(2005)(2011)(2010)(2017)(2012)(1992)(2006)(2016)(2016)(2014)(2011)(2009)(2011)(1993)(1960)(2019)(1980)(1998)(1981)(1962)(1992)(2019)(2013)(2008)(1972)(2015)(1985)(2001)(2003)(2001)(1967)(1954)(1997)(2003)(2002)(2021)(2013)(2021)(1965)(1984)(1961)(1993)(2018)(2013)(1994)(1968)(1991)(2010)(2011)(2015)(2020)(2004)(2016)(2018)(2015)(2001)(2011)(2017)(2016)(2007)(1971)(2017)(2016)(1966)(2000)(2020)(2018)(2014)(2013)(1976)(2005)(2013)(1993)(1981)(2012)(2010)(2015)(1976)(1972)(2020)(2005)(1962)(1951)(2005)(2020)(2019)(2008)(2005)(1956)(1990)(1967)(2019)(2013)(2003)(2015)(2000)(2017)(1974)(2007)(1984)(1986)(1991)(2020)(1986)(1971)(2009)(2019)(2011)(2007)(2009)(2015)(2012)(2001)(1964)(1996)(2005)(1989)(2003)(2012)(1977)(1989)(1994)(1977)(2012)(1985)(2016)(2014)(1977)(1959)(1997)(1971)(1993)(2019)(2004)(2007)(1975)(2007)(2005)(1977)(1981)(2013)(2012)(2012)(1978)(1958)(2014)(2009)(2009)(2015)(2000)(2012)(1977)(2011)(1973)(1969)(2003)(2016)(2012)(2011)(2002)(2011)(2005)(1977)(2003)(1976)(1940)(1958)(1982)(2020)(1992)(1982)(1980)(1979)(2003)(1986)(2008)(1957)(2000)(2000)(2019)(2005)(2010)(2008)(1959)(1965)(2005)(2006)(1967)(2005)(1969)(1998)(1999)(1967)(1975)(1977)(1934)(1989)(2001)(1954)(1948)(1993)(2007)(1935)(1947)(1984)(2002)(1957)(1980)(2016)(1964)(1961)(1955)(1977)(1975)(1988)(1976)(2004)(2011)(1973)(1974)(2015)(2010)(2013)(1981)(1983)(1988)(1961)(1974)(2011)(2017)(1994)(2014)(2018)(2007)(2008)(2021)(1994)(2017)(2015)(1999)(2005)(1981)(1992)(2013)(1965)(2013)(1970)(2005)(1981)(1977)(1987)(2002)(2020)(1960)(1973)(2020)(2019)(1952)(1961)(1943)(2019)(2012)(2007)(1956)(2019)(1966)(2012)(2013)(2016)(2013)(2019)(2015)(1998)(1996)(1961)(1974)(1996)(1959)(1994)(1971)(1965)(1976)(1967)(1973)(2001)(2016)(2019)(2005)(2018)(2016)(2008)(2014)(2011)(2000)(1998)(1962)(2015)(2006)(1971)(2006)(2009)(2020)(2016)(2019)(1969)(1943)(1959)(1981)(1976)(2011)(1964)(2012)(1947)(2005)(2020)(2000)(2015)(2019)(1993)(2015)(1954)(1974)(2013)(1978)(1978)(2002)(1974)(1990)(1983)(1977)(1956)(2003)(1972)(2001)(1975)(1982)(2002)(1980)(1975)(2004)(2003)(2004)(2020)(2019)(1974)(2020)(2016)(1997)(2005)(2016)(1980)(2006)(1975)(2003)(1997)(2003)(2015)(1979)(1959)(2014)(2010)(2020)(2005)(1989)(2010)(2020)(2013)(2016)(2015)(1963)(2012)(2019)(2015)(2009)(1960)(1978)(2018)(2008)(2006)(2020)(1981)(1988)(2013)(2017)(2019)(2002)(1974)(1986)(2021)(2008)(2020)(2009)(1983)(1995)(1991)(2020)(2006)(1992)(2014)(2020)(2000)(2015)(2011)(2016)(2014)(1994)(2010)(2016)(1992)(2011)(2019)(2005)(2021)(1997)(1966)(1953)(1952)(1973)(2002)(1999)(1975)(1964)(2012)(1973)(1996)(2005)(2018)(1981)(1989)(1997)(2019)(2014)(1998)(2010)(2018)(2010)(2012)(2019)(1987)(2000)(1979)(1999)(1987)(1980)(2017)(2009)(2017)(1975)(2015)(1998)(1950)(1999)(2007)(1986)(1981)(1988)(1987)(1955)(1978)(1977)(2000)(1987)(2000)(1966)(1991)(2000)(2001)(1993)(2011)(1978)(2011)(2001)(1993)(1985)(1989)(2003)(1987)(1997)(1995)(1991)(1998)(2016)(2005)(2002)(2012)(2019)(2005)(2018)(1996)(1987)(1964)(2020)(2020)(1947)(1981)(1982)(1983)(1977)(2005)(1988)(2019)(2019)(2007)(1977)(1997)(2003)(2006)(1949)(1970)(1993)(2014)(1941)(1978)(2002)(2006)(2020)(2008)(2018)(1972)(1996)(1970)(1950)(1991)(2008)(2001)(1997)(2001)(1982)(1983)(1992)(1989)(2013)(1975)(1988)(2017)(2016)(2013)(2009)(2019)(2008)(2016)(2006)(2016)(2017)(2018)(2014)(2016)(1987)(2014)(1992)(1951)(1982)(2001)(1976)(1975)(1952)(1992)(1998)(2013)(1997)(1990)(1987)(2000)(1991)(2005)(2002)(2007)(2013)(2009)(1957)(2014)(1985)(2018)(2011)(2011)(2012)(2009)(2007)(2012)(2012)(1978)(2007)(2002)(1980)(2008)(1989)(1982)(1991)(2011)(2014)(1958)(2015)(2009)(2004)(1955)(2009)(2005)(1966)(1958)(1978)(2002)(1936)(1955)(1970)(2002)(2019)(2001)(2006)(2004)(2019)(2019)(1956)(1998)(2018)(2000)(1997)(1998)(2018)(2000)(2006)(2007)(1973)(2005)(1980)(2007)(1993)(1981)(2008)(2016)(1982)(1991)(1975)(1991)(2015)(1988)(1977)(1988)(1992)(2002)(1972)(1986)(1984)(1973)(1997)(1935)(1975)(1961)(1970)(2011)(1969)(1950)(1993)(1983)(2020)(2017)(2001)(2020)(2010)(2007)(2007)(1951)(1979)(1959)(2004)(2006)(2013)(2008)(1985)(1953)(1998)(2009)(2003)(1935)(1977)(1975)(1983)(1989)(1981)(2002)(1973)(2003)(2019)(1982)(1940)(2012)(1959)(1989)(1991)(1990)(1992)(1960)(1978)(1968)(2020)(2004)(2014)(1960)(2009)(2001)(1972)(1959)(2015)(1974)(1966)(2006)(2007)(1963)(1993)(1991)(2002)(1982)(1963)(1992)(2005)(2017)(2018)(1995)(1992)(1972)(2003)(1982)(2014)(1979)(2008)(1997)(2005)(1993)(1973)(1997)(1999)(1989)(2004)(2004)(2001)(1966)(1967)(2003)(2000)(2016)(1978)(2006)(1998)(1993)(1962)(1996)(1997)(2011)(2016)(1987)(2002)(1982)(1994)(1977)(1982)(1953)(1979)(1987)(1996)(1947)(1978)(1999)(1966)(1958)(2015)(1950)(1986)(1994)(2015)(1995)(1980)(1992)(2016)(2015)(1982)(1990)(2014)(2016)(2002)(1984)(2005)(1993)(2003)(1967)(1995)(1976)(1957)(1997)(1980)(1966)(1959)(1969)(1994)(1953)(1971)(1977)(2015)(1966)(1981)(2010)(1985)(1982)(2010)(1968)(1994)(1972)(1935)(1983)(1979)(1975)(1975)(1968)(1948)(2009)(1979)(2016)(1991)(1978)(1974)(1998)(2009)(1958)(1974)(1980)(1989)(1969)(1971)(1997)(1957)(1979)(1977)(1951)(1975)(1959)(1982)(1988)(1972)(2014)(2018)(2017)(2004)(1940)(2021)(1969)(1998)(2015)(2019)(2019)(2006)(1978)(2011)(2008)(2016)(2006)(1990)(1964)(2017)(1964)(1971)(1964)(2020)(1979)(1977)(1983)(1974)(2006)(2007)(1944)(1974)(1989)(1989)(1964)(1946)(1986)(2019)(1993)(2005)(2011)(1972)(2005)(2011)(2018)(2015)(2014)(1947)(1962)(1999)(2013)(1931)(2014)(1977)(2019)(2009)(2013)(1990)(2015)(2019)(1994)(1992)(2011)(2005)(2003)(1994)(1943)(2004)(1994)(2015)(1949)(1982)(1964)(2010)(1974)(1958)(1999)(2016)(1967)(2000)(1977)(1998)(2003)(2016)(2015)(2011)(2000)(2007)(1968)(1984)(1960)(1974)(1979)(1937)(1959)(1957)(1977)(2015)(2010)(1998)(2002)(1973)(1983)(2002)(1985)(1986)(2020)(1956)(1997)(2007)(1966)(1976)(2010)(1998)(1990)(1938)(1957)(1991)(1981)(1996)(1992)(2002)(1995)(1984)(1971)(1986)(1973)(2009)(2019)(1998)(2014)(2012)(2001)(2019)(1994)(1982)(1989)(2001)(1970)(2006)(2019)(1946)(2007)(2010)(2018)(1987)(1972)(2005)(2000)(2003)(1996)(1981)(2001)(1986)(2002)(1978)(1983)(1980)(1980)(1972)(2020)(1972)(1986)(2007)(2002)(1985)(1987)(1985)(1963)(2003)(1989)(1983)(1945)(2011)(1980)(1990)(1981)(1957)(1991)(1987)(1980)(2017)(1972)(2004)(1981)(1988)(1977)(1993)(2003)(1992)(1983)(1957)(1982)(1968)(1960)(2005)(1972)(2007)(1973)(1992)(2019)(2001)(1975)(1986)(2012)(1962)(1973)(1984)(1970)(1973)(1971)(1984)(1988)(1972)(1990)(1971)(2015)(1986)(1960)(1969)(1968)(1997)(1968)(2004)(1963)(2013)(1957)(2020)(1965)(1985)(1976)(2004)(1985)(2009)(2006)(2010)(1956)(1969)(2000)(2015)(2018)(1996)(2012)(2013)(1949)(2009)(2008)(2009)(1956)(2012)(1994)(2018)(2014)(2007)(2019)(2019)(1994)(1971)(2005)(1947)(2017)(2008)(1984)(2005)(2002)(2013)(2020)(2012)(1991)(2003)(1974)(2001)(2007)(2018)(2001)(2020)(2015)(2015)(2007)(2011)(1985)(2019)(1988)(1995)(2013)(1976)(1988)(2019)(2019)(2006)(2017)(2016)(2006)(1975)(1965)(1983)(1996)(2005)(1958)(1968)(1977)(1991)(1967)(2001)(1982)(1989)(1957)(2008)(1959)(2009)(2019)(1933)(1943)(1991)(2012)(2010)(1995)(2021)(1963)(2007)(1994)(2016)(2012)(1954)(2016)(2004)(1981)(2006)(2002)(1983)(2005)(2012)(2019)(2004)(2014)(2008)(2017)(1996)(2013)(2021)(2010)(2013)(2015)(1991)(1990)(2016)(2000)(2014)(2017)(2021)(2016)(2007)(2008)(2007)(1953)(2020)(2003)(2011)(2016)(2013)(1959)(2007)(1959)(2015)(2012)(2009)(2019)(2016)(2016)(2006)(2014)(2018)(1980)(2008)(2012)(2007)(2009)(2018)(2016)(2014)(2013)(2020)(2017)(1960)(2005)(1956)(2012)(2017)(1973)(1966)(2015)(2007)(2001)(1973)(1995)(2006)(1999)(1989)(2000)(2004)(2012)(1989)(2001)(2009)(2021)(1978)(2004)(1971)(1995)(1993)(2011)(2007)(2017)(2017)(2018)(1979)(1982)(2011)(2007)(2016)(2016)(1986)(2008)(2000)(2014)(2016)(2006)(1994)(1980)(1992)(2012)(1991)(1998)(1964)(1978)(1983)(1971)(1988)(1988)(2003)(1937)(2002)(2013)(2007)(2012)(1994)(2006)(1984)(1970)(2018)(1972)(1945)(1991)(2005)(1955)(2004)(1980)(1972)(2005)(2018)(1993)(1989)(2009)(1974)(1957)(2011)(2014)(2021)(1943)(1968)(2007)(2016)(1979)(2002)(1967)(1989)(2004)(1970)(1992)(1975)(1964)(1974)(1993)(1963)(1996)(1980)(1973)(2002)(2002)(1986)(2018)(1989)(1985)(2000)(2002)(2008)(1981)(2013)(1978)(1993)(1963)(1998)(1985)(1984)(1988)(1970)(2004)(1990)(1992)(1989)(1967)(1987)(1948)(1994)(1960)(1996)(1988)(1991)(2021)(1986)(1958)(1961)(1989)(1977)(1998)(1988)(1976)(2017)(1996)(2008)(1995)(1990)(2016)(1988)(1982)(1992)(2019)(2020)(1997)(2012)(2019)(2020)(2020)(1998)(1973)(1956)(1997)(1985)(1960)(1983)(1981)(2007)(1984)(1976)(2020)(2013)(1991)(1960)(2004)(1962)(2000)(2016)(2007)(2013)(1968)(1995)(2019)(2007)(2008)(1963)(1983)(1999)(1966)(1985)(1989)(2018)(1968)(2010)(2010)(2017)(2008)(2006)(1972)(2019)(2007)(2008)(2019)(2008)(2014)(1989)(1974)(1959)(2013)(1938)(1979)(1994)(1970)(1994)(1982)(1948)(1972)(1987)(2013)(2015)(1993)(2017)(2001)(1984)(1963)(2013)(2016)(1991)(2012)(1979)(2019)(2017)(1971)(1995)(2015)(2015)(1997)(1997)(1959)(1980)(2017)(1965)(2020)(2020)(2014)(2009)(2012)(1990)(2020)(2019)(2019)(1965)(2008)(2019)(2001)(2001)(1963)(1976)(1993)(1982)(1993)(2002)(1970)(1967)(1990)(1988)(1969)(1998)(1992)(1995)(2014)(1980)(1995)(1982)(1961)(2020)(2020)(2019)(1997)(2016)(1989)(1980)(2003)(2007)(1979)(2002)(1988)(2010)(1981)(1993)(1969)(2015)(2010)(1962)(1983)(2008)(2002)(1940)(1972)(1990)(2003)(2011)(1974)(2002)(1971)(1982)(1995)(1986)(1990)(1979)(2020)(2000)(2001)(1991)(1998)(2014)(2016)(2015)(1999)(1991)(2014)(2011)(1984)(1977)(1988)(2020)(1956)(2017)(2021)(1962)(2018)(2008)(1996)(1956)(1978)(2000)(1988)(1985)(2018)(1979)(2015)(1943)(1982)(1950)(1961)(1997)(2018)(1954)(1967)(1963)(1944)(1974)(2004)(1979)(2012)(2019)(1994)(1984)(1973)(2005)(2017)(1974)(2018)(2019)(2016)(2014)(2020)(2011)(2014)(2018)(1964)(1985)(1995)(1991)(2000)(1979)(1974)(1950)(2018)(2015)(2020)(1967)(1971)(1976)(1982)(2004)(2008)(2000)(1963)(1962)(1981)(2005)(2014)(2018)(1999)(1968)(1971)(1996)(1993)(2012)(2014)(2015)(2018)(1967)(1989)(2002)(1956)(2007)(1988)(2004)(1977)(1998)(1991)(2011)(2020)(2004)(1985)(2003)(2014)(2015)(1987)(1974)(2004)(2003)(1968)(1998)(2003)(2013)(2014)(1956)(1970)(1992)(1973)(1999)(1959)(1973)(1978)(1979)(1982)(2018)(2008)(1999)(2021)(2010)(2010)(2016)(2010)(2010)(1991)(1976)(2000)(1964)(1983)(2015)(1998)(1988)(1997)(2008)(2012)(2014)(2015)(2000)(2018)(2007)(2018)(2010)(1987)(2018)(2014)(2007)(2004)(2008)(1957)(1965)(1997)(1975)(1970)(1996)(1987)(1996)(1983)(1998)(2013)(2017)(2017)(1973)(2002)(2015)(1984)(1977)(1987)(1989)(2010)(2015)(1988)(2005)(2004)(2015)(1999)(1985)(1970)(2006)(1963)(2014)(2003)(2005)(2020)(1973)(1992)(2007)(2018)(2009)(2017)(2013)(1985)(2011)(2006)(1999)(1981)(2017)(2018)(2018)(2016)(2019)(1991)(1955)(2021)(2000)(2009)(2010)(2012)(2016)(2019)(1958)(1999)(1987)(1951)(1995)(1971)(2004)(2008)(1991)(1999)(1994)(1948)(1989)(2019)(1999)(2011)(1984)(1985)(1961)(1995)(2005)(1946)(1988)(2013)(2014)(1994)(1993)(1994)(1984)(2002)(1993)(1960)(2001)(1989)(2004)(2002)(1977)(1951)(1980)(1985)(1980)(1957)(2003)(2009)(2002)(1984)(1999)(1995)(1965)(1981)(1983)(1990)(2008)(1979)(1988)(2000)(2004)(2010)(2005)(1971)(2015)(1999)(2011)(2002)(1945)(2019)(2003)(1970)(1980)(2006)(2006)(1992)(2007)(2014)(2002)(1953)(1968)(1998)(1983)(1992)(1974)(2014)(1971)(2003)(2007)(2015)(2018)(1966)(2001)(1998)(2004)(2006)(2019)(2004)(2010)(2010)(2019)(2010)(2015)(2020)(2015)(2018)(2019)(2005)(2013)(2010)(2020)(2015)(1992)(2006)(2011)(2013)(2012)(2018)(2014)(2010)(2017)(1994)(1989)(2018)(1986)(1954)(2007)(1974)(1987)(1977)(2011)(1994)(1974)(2010)(1994)(2012)(2017)(2015)(2003)(1987)(1999)(2007)(2001)(2003)(2018)(2015)(2015)(2019)(1996)(2020)(2021)(1991)(1958)(1932)(1989)(2017)(2007)(1977)(2013)(1984)(1935)(1987)(1966)(1994)(1984)(1986)(1992)(1985)(1997)(2004)(1982)(1970)(1992)(1959)(1974)(1969)(1980)(1987)(2005)(1994)(1955)(1993)(1987)(2012)(1957)(1991)(1991)(1979)(2018)(1988)(1969)(1984)(2003)(1992)(1988)(2001)(2004)(1974)(1999)(1973)(2002)(2005)(1979)(2006)(1991)(2017)(2001)(1996)(2019)(1964)(2008)(2012)(2013)(1974)(2013)(1997)(2016)(2004)(2017)(2015)(1994)(2015)(1970)(2004)(2018)(2003)(2015)(2018)(2010)(1992)(2010)(2017)(2017)(1998)(2015)(2013)(1962)(2003)(2010)(1987)(1997)(1981)(2007)(2014)(2012)(1969)(2001)(2017)(1937)(1968)(1952)(1991)(1993)(1990)(2017)(1989)(1984)(2004)(1993)(1952)(1986)(1967)(1969)(2003)(1960)(1999)(1996)(1987)(1975)(1985)(1990)(2001)(1991)(1992)(1992)(2011)(2006)(1992)(1999)(1979)(1983)(2006)(1998)(2010)(2018)(2008)(1971)(1979)(1983)(1976)(2006)(1983)(1979)(2002)(2015)(2012)(1985)(1999)(1982)(1972)(1989)(1974)(2017)(1965)(1961)(1991)(1963)(2012)(2016)(2007)(1967)(2019)(2018)(2013)(2019)(1951)(1974)(1986)(1977)(1977)(1978)(2017)(1975)(2004)(1996)(1984)(2001)(1955)(1964)(2007)(1969)(1999)(1971)(2011)(2019)(1961)(1993)(1996)(2001)(2016)(1948)(2014)(2015)(2007)(2015)(1992)(1994)(1994)(1951)(1976)(1997)(2020)(1975)(2006)(1990)(2004)(2009)(1995)(2009)(1947)(1981)(1958)(1973)(1989)(1977)(2003)(2013)(1971)(1980)(2018)(1995)(2000)(1977)(2012)(1973)(1987)(2005)(1990)(2005)(2021)(1950)(1988)(1957)(1995)(1994)(2006)(2003)(1994)(1986)(1972)(2016)(2012)(1936)(1949)(2012)(2018)(2008)(1979)(1965)(1985)(2009)(2017)(1985)(1984)(2020)(1970)(1942)(1995)(1955)(1968)(1987)(1971)(1972)(2006)(1989)(1959)(1986)(1990)(2013)(1955)(2015)(1994)(1980)(2012)(2017)(1992)(1995)(2002)(1991)(1979)(1990)(1981)(1969)(1984)(2005)(1982)(1997)(1996)(1949)(1972)(1983)(1988)(2001)(1986)(1991)(1982)(1990)(1976)(1993)(1970)(1935)(1936)(1974)(1997)(1953)(1967)(2018)(2019)(1955)(1986)(2003)(1953)(2012)(1973)(2019)(1941)(1962)(2007)(1979)(1998)(2010)(2019)(1985)(1991)(1961)(1984)(1964)(2017)(1938)(1949)(2014)(1991)(1969)(2006)(2017)(2008)(2000)(1960)(2003)(2012)(1989)(1998)(1981)(2005)(2011)(2011)(1992)(2008)(1999)(2012)(2003)(2001)(1950)(2003)(2005)(1967)(1966)(1971)(1965)(2013)(1984)(1980)(2007)(1957)(1982)(1970)(1984)(2012)(2013)(2017)(1972)(2000)(2019)(2000)(1981)(2001)(1973)(1989)(2007)(2004)(2007)(1994)(1968)(1997)(1980)(1997)(2019)(1997)(2017)(2009)(2016)(1973)(1947)(1975)(2004)(2017)(1986)(2019)(2021)(1996)(2000)(1968)(1989)(2000)(1991)(2002)(1988)(1936)(2001)(1998)(1961)(2019)(2017)(1979)(1992)(2002)(2016)(1990)(2005)(1979)(1996)(1989)(2019)(2007)(1973)(1983)(2000)(1981)(1971)(1980)(2000)(1944)(1973)(2019)(1969)(1981)(1980)(2017)(2002)(2021)(1987)(1990)(2007)(2013)(2021)(2015)(1959)(2017)(1975)(1965)(2005)(1988)(2018)(1978)(2000)(1979)(1999)(1975)(2018)(2020)(2000)(2000)(1981)(1997)(2010)(2004)(1975)(1987)(2008)(1982)(1984)(1986)(2014)(2020)(1989)(2002)(1990)(1987)(2015)(2009)(2003)(2018)(1988)(1970)(2021)(2016)(1976)(1985)(2006)(1994)(2001)(1998)(1999)(1976)(2002)(2019)(1963)(1988)(2000)(2006)(1961)(1988)(2011)(1977)(1999)(1982)(2006)(2019)(1981)(2017)(1976)(1996)(1998)(2019)(2017)(1990)(2003)(2012)(2016)(2008)(1989)(2003)(1986)(1981)(1981)(1973)(1973)(1999)(1968)(1968)(2014)(1963)(2000)(1975)(1984)(2013)(1999)(2007)(1964)(2003)(1993)(2013)(2010)(2013)(2012)(1971)(1959)(2016)(2003)(1992)(2009)(2005)(1960)(1989)(1960)(1993)(1986)(1939)(1958)(1980)(1985)(1983)(1977)(1993)(1979)(2019)(1990)(1951)(1980)(2002)(1959)(2018)(1976)(1998)(1931)(1983)(1996)(1960)(1948)(1997)(1981)(2005)(1987)(1995)(2001)(2012)(2013)(2009)(2009)(1984)(1989)(1992)(1997)(1963)(1999)(1961)(2019)(1949)(1959)(1971)(1959)(1981)(1994)(2000)(1960)(1994)(1989)(1988)(1990)(1984)(1984)(2019)(1988)(1968)(2017)(2013)(2016)(2005)(1993)(1986)(1994)(1995)(2014)(1983)(1998)(2018)(1990)(1985)(1984)(2014)(1977)(1986)(2009)(2008)(1978)(1980)(1992)(1985)(2000)(1936)(1995)(1979)(2010)(1999)(2014)(1978)(2018)(1982)(1980)(1991)(2002)(2008)(2019)(1992)(2005)(1988)(2001)(1981)(1977)(1984)(1989)(2001)(1993)(1989)(1974)(1991)(2003)(1973)(2018)(1964)(1983)(1990)(1978)(2001)(2019)(1980)(1957)(1983)(2018)(1971)(1970)(1981)(2013)(2006)(2015)(1963)(2004)(1987)(1991)(2015)(1987)(1997)(1997)(1999)(1983)(1954)(1959)(1983)(1993)(2018)(1973)(1998)(2020)(2002)(2016)(2019)(2012)(2020)(1976)(1984)(2018)(2004)(1993)(1976)(2007)(2008)(2019)(1993)(2004)(2019)(1986)(2017)(2005)(1970)(2019)(1996)(2015)(2006)(1942)(1979)(2019)(1965)(1984)(1980)(2003)(2007)(2011)(2009)(1990)(1991)(1988)(2001)(1978)(2010)(2000)(1989)(1987)(1958)(1941)(2018)(1992)(1950)(2003)(1975)(1977)(1986)(2016)(2008)(2010)(2010)(1991)(1992)(2000)(2012)(1997)(1996)(1968)(1996)(1970)(1995)(1998)(1971)(1989)(2017)(2012)(1989)(1999)(2014)(1981)(1985)(1988)(1978)(1991)(1981)(1980)(1973)(1974)(1978)(1996)(1977)(1999)(1988)(2000)(1987)(1989)(1991)(1991)(1999)(2006)(1958)(1974)(1998)(2015)(2007)(1980)(1992)(2020)(1983)(1981)(2010)(1994)(1982)(1994)(1987)(1964)(1956)(1992)(1989)(2005)(1975)(2008)(2003)(1997)(2014)(1980)(2020)(2003)(2016)(2014)(2013)(2014)(2014)(2015)(2008)(2014)(1992)(1977)(1963)(2002)(1962)(1993)(2014)(2008)(1986)(2019)(1995)(2004)(2015)(2017)(2009)(1974)(1937)(1990)(1969)(1995)(2004)(2008)(1992)(1943)(1980)(1956)(2012)(1986)(2005)(2004)(1978)(2009)(2019)(1983)(1977)(2010)(1957)(2002)(2006)(2003)(2010)(2012)(1989)(1960)(1993)(1964)(1991)(1999)(2005)(2003)(2021)(1976)(1997)(2005)(2002)(2021)(2003)(2014)(1986)(1978)(1974)(2020)(1972)(2015)(2001)(2020)(1977)(2014)(1997)(1981)(2002)(1994)(1997)(1994)(2010)(2008)(2018)(2017)(1993)(1996)(1997)(2012)(2004)(1946)(2020)(1990)(2000)(1981)(1961)(2006)(2013)(1993)(2011)(2011)(2003)(2014)(2018)(2007)(2001)(1998)(2015)(2003)(2018)(2004)(2002)(2018)(2010)(2005)(2006)(1981)(1998)(1987)(1985)(2014)(2017)(1955)(1993)(2000)(1974)(2007)(1991)(2009)(1943)(2000)(1977)(2008)(2010)(2018)(2014)(2000)(2007)(2011)(2002)(2002)(2005)(2016)(2012)(2001)(2005)(2003)(2004)(1994)(2001)(2011)(2007)(1963)(2005)(2019)(1991)(2016)(1996)(2019)(2017)(1998)(1992)(1981)(1999)(1966)(1989)(2014)(1997)(1981)(2006)(2011)(1966)(1979)(1953)(1971)(1966)(1946)(1990)(1975)(2010)(1976)(2001)(1971)(2006)(2013)(2017)(1997)(1949)(2010)(2021)(1979)(1991)(1980)(1984)(2005)(1953)(2018)(2020)(2001)(1958)(2014)(2004)(2013)(1979)(1984)(1971)(1991)(1982)(2014)(2004)(1999)(1966)(2015)(1944)(1978)(1954)(1971)(1960)(2002)(2012)(1983)(1972)(1985)(1992)(2010)(1991)(2016)(2011)(1917)(1981)(1989)(2018)(2019)(2013)(2018)(1988)(1967)(1997)(1985)(2010)(1993)(1967)(2020)(2000)(2012)(2012)(2017)(1964)(1939)(2008)(2018)(2014)(1990)(2016)(2002)(2004)(2009)(2004)(2017)(2013)(1988)(2017)(2010)(2007)(2014)(2017)(2012)(2007)(2019)(2018)(2012)(1939)(2012)(2019)(2007)(2014)(2016)(2016)(2013)(2019)(2006)(2001)(2020)(2014)(1999)(1996)(1973)(2003)(1986)(2015)(1982)(2012)(1999)(1987)(1997)(2019)(2007)(1979)(2005)(2009)(2020)(2009)(2012)(2014)(2017)(2011)(2020)(2013)(1965)(1993)(1980)(1984)(2019)(2009)(1991)(1986)(2020)(2009)(2016)(2017)(2003)(1997)(2011)(2016)(2015)(2011)(2009)(2016)(2008)(1983)(2009)(2006)(2004)(1960)(1984)(1966)(2009)(2006)(2016)(2001)(2009)(1989)(1984)(1959)(2018)(2020)(2012)(2016)(2018)(2021)(1981)(2008)(2018)(2014)(2011)(2018)(2017)(2001)(2019)(2012)(2018)(1985)(1983)(2016)(2008)(2010)(2019)(2009)(2009)(2015)(2017)(2014)(2005)(2020)(2019)(2018)(2018)(2011)(2017)(2012)(2015)(2012)(2019)(2014)(2014)(2014)(2016)(1962)(1992)(1957)(1976)(1970)(1960)(1986)(1985)(1999)(1959)(1996)(2003)(2002)(1996)(1996)(1964)(2018)(1972)(1980)(1979)(2008)(1981)(1984)(1986)(1984)(1995)(1992)(2018)(1984)(2017)(2013)(2021)(2014)(2017)(2016)(2016)(1987)(2021)(1994)(1959)(2019)(2010)(2009)(1974)(1951)(1994)(2004)(2006)(1950)(1958)(2016)(2009)(2015)(2013)(2004)(1996)(1998)(1979)(1977)(1976)(1985)(1994)(1989)(1983)(1997)(1981)(1965)(2013)(2013)(1985)(2019)(2001)(1949)(1989)(1970)(1987)(1998)(1970)(1946)(2012)(2008)(1944)(1990)(1967)(2009)(1988)(2016)(2007)(2015)(1959)(1969)(2013)(1957)(1995)(2005)(2015)(1981)(2014)(1987)(1983)(1989)(1986)(1962)(1987)(2003)(2004)(2004)(2015)(1982)(1994)(2013)(2003)(2021)(1959)(1998)(2003)(2007)(1962)(1998)(1964)(1971)(1989)(2014)(1988)(1999)(1978)(2017)(1966)(2019)(1988)(2005)(2002)(1982)(2005)(2017)(1987)(2017)(1989)(1964)(1991)(1967)(2021)(1998)(2001)(2019)(2019)(2006)(2020)(1951)(2010)(1998)(2010)(1977)(1989)(1994)(1966)(1969)(1970)(1971)(2004)(2005)(2005)(1980)(2004)(1972)(1999)(1973)(1983)(1977)(1983)(2005)(2013)(1981)(2007)(2019)(2015)(2014)(1976)(1962)(1954)(1980)(2007)(1974)(2000)(2012)(2018)(2017)(1960)(1979)(1974)(2003)(1984)(1988)(1985)(1998)(1987)(2018)(2014)(2019)(1983)(1988)(2009)(2014)(2007)(1955)(2019)(2003)(2002)(2020)(2019)(2017)(2012)(2002)(1987)(2016)(2019)(2009)(2014)(1971)(2015)(2017)(2014)(2002)(1950)(1984)(2005)(1992)(2020)(2009)(1983)(1960)(1996)(1986)(1999)(1991)(2005)(1954)(1970)(2001)(1985)(2004)(2011)(2017)(2016)(2013)(2020)(1985)(2013)(2003)(1975)(2011)(2018)(1998)(1982)(2003)(1989)(1983)(2005)(2002)(2012)(2001)(1993)(1961)(1958)(1972)(1932)(1975)(1976)(1976)(1954)(2005)(1975)(1934)(1983)(1976)(1986)(2009)(2018)(2020)(2010)(1950)(1991)(1981)(1942)(2004)(1981)(1979)(1947)(1992)(2008)(2016)(2015)(1991)(1985)(2018)(1996)(1945)(1991)(1993)(1982)(1971)(1992)(1954)(1976)(2008)(2020)(1960)(1973)(1998)(1958)(1983)(1962)(1982)(1967)(2018)(2014)(1948)(1971)(2000)(1997)(1956)(1961)(1964)(2010)(1971)(2006)(2011)(2013)(1985)(1995)(1973)(1986)(1976)(2006)(1992)(1984)(2005)(1989)(1971)(1986)(1985)(1985)(1987)(1987)(1968)(1970)(1989)(1990)(1964)(1978)(2020)(1985)(1966)(1988)(1977)(1987)(1984)(1985)(2000)(1971)(1988)(2008)(1972)(2011)(2013)(1998)(2012)(2015)(1968)(2013)(1970)(1968)(1972)(2006)(2009)(1966)(1963)(2018)(1986)(1992)(1975)(1965)(1997)(2002)(1993)(2005)(1981)(1984)(2001)(2005)(1944)(1969)(2004)(1979)(2003)(1985)(2000)(1990)(2009)(2006)(1995)(2018)(2009)(2002)(2001)(2017)(1963)(1989)(2005)(2013)(2011)(2013)(2012)(2015)(2014)(1989)(1967)(1995)(1967)(2019)(1955)(1972)(2010)(2020)(2011)(1975)(1998)(1998)(2011)(1999)(2010)(1986)(2004)(2017)(1954)(2017)(1947)(1957)(2016)(2001)(1985)(1935)(1949)(1998)(1936)(1957)(2003)(2012)(1954)(1935)(1957)(1989)(2015)(2016)(2005)(2018)(2016)(1991)(2008)(2000)(2019)(2004)(2016)(2005)(2008)(1987)(2008)(2002)(2018)(2010)(2001)(1989)(2018)(2006)(1996)(2016)(2014)(2011)(1961)(2016)(1989)(1985)(1997)(1998)(1965)(1988)(1997)(1994)(1986)(1991)(1966)(2000)(2015)(1947)(1984)(2014)(2009)(2016)(1994)(1987)(2019)(2001)(2013)(2017)(1972)(2016)(2008)(2011)(2015)(2013)(2001)(2015)(1970)(2021)(1980)(2004)(2009)(2021)(2020)(1999)(1957)(1938)(2016)(1995)(1975)(2018)(2007)(2014)(2004)(2005)(2005)(1955)(1997)(2006)(1994)(1996)(1992)(2007)(1987)(1961)(2017)(1979)(1996)(1974)(1952)(2010)(2008)(1957)(1987)(2015)(1964)(2017)(1977)(1997)(1997)(2015)(2020)(2015)(2016)(2015)(2017)(2017)(2012)(1960)(2019)(2018)(2003)(1986)(2009)(1983)(1963)(2001)(2001)(1983)(1992)(2011)(2004)(1989)(1958)(2008)(2017)(1988)(1977)(2002)(2018)(1988)(2016)(2014)(2015)(2016)(2008)(2014)(2005)(2011)(2003)(2008)(2013)(2021)(2007)(2003)(2005)(2012)(2011)(2011)(1955)(1972)(2003)(2014)(2017)(1975)(1999)(1942)(1979)(1993)(1996)(1996)(1978)(1990)(1987)(1978)(2016)(1985)(2004)(2011)(2013)(2010)(1957)(1986)(2004)(2019)(2019)(2020)(2004)(1992)(2017)(2010)(1993)(1996)(1995)(2017)(2015)(2019)(2010)(2018)(2005)(2020)(2013)(2021)(1984)(2006)(2016)(2007)(2008)(2010)(2011)(2017)(2010)(1970)(2008)(2010)(2005)(2012)(2018)(2004)(2015)(2010)(2011)(2002)(1971)(2004)(1992)(1976)(1986)(2003)(1957)(1972)(1991)(1995)(1990)(1979)(1986)(2005)(2016)(1987)(2017)(1991)(1977)(1994)(2013)(1955)(1989)(1991)(1951)(1971)(1968)(1982)(1948)(1973)(1989)(2016)(2000)(1954)(1976)(1979)(1986)(1951)(1945)(1946)(1967)(1965)(2021)(1973)(2005)(1989)(1979)(1943)(1981)(2019)(1962)(2006)(2010)(2004)(2009)(1996)(1982)(1973)(2018)(2007)(2018)(1982)(1994)(2010)(1949)(1988)(2020)(2014)(1998)(1981)(2007)(1980)(1969)(2018)(2007)(1955)(1989)(1981)(1991)(2017)(1946)(1957)(1963)(1940)(1978)(1981)(1997)(1986)(1992)(2013)(2016)(1986)(1986)(1985)(1983)(1954)(1975)(1969)(2015)(1991)(1952)(1957)(2011)(1962)(2006)(1951)(1947)(1983)(1999)(1955)(1979)(1978)(1953)(1967)(1957)(2013)(2005)(1935)(2004)(1959)(2018)(1956)(1979)(1957)(1978)(1974)(2007)(1984)(1965)(1990)(1973)(1971)(2001)(2003)(1990)(2005)(1995)(1996)(1961)(1987)(1980)(2021)(2005)(1946)(1947)(1968)(1957)(1965)(2003)(1962)(1966)(2016)(1980)(1976)(2007)(1990)(2014)(2004)(2005)(1966)(1956)(1986)(2009)(2017)(2015)(2000)(1989)(2005)(2017)(1958)(1967)(2015)(1950)(1996)(1993)(2007)(1950)(1996)(1941)(1973)(2018)(1974)(2019)(1938)(1997)(2019)(2011)(1983)(2007)(1965)(1949)(1950)(1980)(1995)(1989)(1975)(1992)(1977)(2005)(2020)(2011)(2010)(2007)(2018)(2021)(2017)(1965)(1979)(1967)(2011)(2019)(2011)(2019)(2018)(1991)(1990)(1999)(2020)(2014)(2012)(2008)(2002)(2018)(2019)(2017)(2001)(2019)(2006)(1980)(1995)(2008)(2017)(2007)(2003)(1986)(1988)(2002)(2007)(2017)(2012)(2006)(2020)(2018)(2015)(2010)(2013)(2001)(2014)(2009)(1971)(2019)(2004)(2012)(2018)(2016)(2008)(2017)(1999)(1989)(1985)(1965)(2013)(2013)(2003)(1961)(1968)(2020)(2005)(2014)(1977)(1985)(2003)(2015)(2003)(2012)(2008)(2015)(2019)(2009)(2001)(2018)(2012)(2003)(1988)(1989)(1981)(1995)(2003)(1974)(1989)(1991)(1988)(1990)(1988)(1977)(2013)(1984)(1995)(1984)(2010)(1992)(1985)(2018)(1973)(1985)(2018)(2005)(1968)(1941)(1988)(2019)(2014)(2018)(2005)(2021)(1970)(2020)(2019)(1977)(2005)(1959)(2019)(1983)(2018)(1956)(2004)(1969)(1985)(1974)(1984)(2018)(2019)(2009)(1986)(1967)(1977)(2018)(1992)(1974)(2018)(2010)(2008)(2008)(1958)(2017)(1986)(2013)(2000)(1992)(1992)(1977)(1992)(2020)(2019)(2010)(1996)(2000)(1993)(1953)(1996)(2010)(2015)(1987)(1995)(1994)(1993)(1986)(2014)(1949)(1971)(1963)(2003)(1971)(1989)(1988)(1944)(2015)(1952)(1972)(1992)(1971)(1997)(1950)(1957)(1970)(1993)(1998)(2020)(2018)(2018)(1972)(1989)(1989)(2005)(1987)(1956)(1968)(2018)(1978)(1985)(2007)(1984)(1958)(1977)(1971)(1947)(2003)(1993)(2005)(1983)(1961)(2018)(1985)(1993)(1960)(2011)(1971)(1949)(2017)(1962)(1990)(1994)(1985)(1990)(1966)(1990)(1978)(2019)(2014)(2011)(1953)(1980)(1965)(2004)(2013)(2003)(1974)(2000)(1985)(1991)(1967)(1970)(1961)(1957)(1980)(1968)(1939)(2010)(1957)(2009)(2008)(1995)(2012)(1986)(2010)(1993)(2005)(1970)(1950)(1981)(1993)(1994)(2012)(1944)(1955)(2008)(2019)(2020)(2017)(1999)(1987)(1988)(1984)(1978)(1985)(1958)(1973)(2018)(1978)(2015)(2010)(2013)(2011)(2017)(2017)(1985)(2000)(2006)(1974)(2008)(2004)(2018)(1958)(2008)(1993)(1963)(1980)(2016)(1945)(1993)(1999)(1993)(1991)(1966)(1963)(1991)(1978)(1993)(1964)(2008)(2010)(2013)(2019)(2017)(2019)(1984)(1966)(2013)(1985)(2016)(2015)(2003)(1972)(1966)(2016)(2016)(2017)(2017)(2008)(1991)(2002)(1994)(2021)(1972)(1958)(1985)(1961)(1934)(2014)(2014)(2018)(2014)(2004)(1993)(2018)(2012)(1981)(2019)(2015)(1956)(1974)(1958)(1992)(2004)(1989)(1995)(1992)(1990)(1993)(2013)(1995)(1975)(2004)(1964)(1981)(1965)(2017)(2004)(1958)(2017)(2019)(1973)(2014)(2013)(1991)(2017)(2003)(1974)(2019)(2008)(2004)(2019)(1993)(2006)(2002)(1990)(2020)(1993)(1975)(1987)(1991)(1991)(1945)(2010)(1981)(1994)(1971)(1966)(1971)(1995)(1998)(1979)(1992)(1992)(1981)(1991)(1985)(2010)(1937)(1975)(1974)(1973)(1962)(1989)(1970)(1991)(2015)(1982)(1994)(1974)(1983)(1979)(1994)(1992)(1998)(2001)(1996)(1997)(2004)(1969)(2010)(2011)(1978)(1997)(1943)(1997)(1962)(1970)(2019)(1994)(2005)(1978)(1973)(1962)(1994)(1981)(2016)(2018)(2016)(2003)(1983)(1983)(1964)(1986)(2009)(1970)(1933)(1984)(1978)(1989)(2014)(1998)(1970)(2018)(1965)(2017)(1970)(1972)(2002)(2010)(2001)(2011)(2015)(1973)(1961)(1991)(1986)(1993)(1987)(2019)(2006)(2003)(1998)(1963)(1999)(1999)(2005)(1988)(2019)(1998)(2001)(2014)(2001)(1982)(1980)(1982)(1957)(2002)(2003)(1981)(2003)(1988)(2003)(1983)(1950)(1991)(1969)(1986)(1992)(1985)(1963)(1990)(1990)(1988)(1969)(1994)(1969)(1991)(1986)(1987)(1990)(1951)(2002)(1987)(1971)(1961)(1986)(1966)(1966)(1993)(1982)(2006)(1985)(1990)(1984)(1998)(1998)(1969)(2017)(1997)(1975)(1992)(1984)(2017)(2012)(2005)(1988)(2001)(2001)(2004)(1986)(1964)(1983)(1990)(1988)(2003)(1998)(2013)(2021)(2011)(2009)(1980)(1991)(2000)(2013)(2011)(2017)(1979)(2017)(1958)(1987)(2019)(1984)(1975)(1989)(2007)(1976)(1972)(2013)(1995)(1972)(1982)(1992)(2020)(1967)(2021)(2009)(1987)(1959)(2000)(1970)(1984)(2010)(1967)(1981)(2002)(2012)(2016)(2009)(2018)(2008)(2013)(2008)(2013)(2018)(1983)(2018)(1992)(1954)(2021)(1932)(2009)(2017)(1990)(2008)(2006)(1975)(2009)(2014)(2003)(2017)(2003)(1995)(2011)(2014)(2015)(2017)(1969)(1953)(1985)(1978)(2001)(2018)(1953)(2016)(1955)(2019)(2005)(2015)(2004)(1956)(1982)(1959)(1995)(2018)(1984)(1996)(1968)(1994)(2005)(2003)(1952)(1979)(1996)(1972)(1974)(2000)(1997)(2000)(1999)(2014)(1973)(1978)(1969)(1995)(1999)(2013)(2013)(1996)(1964)(2018)(2010)(1974)(1992)(1982)(1951)(1936)(1992)(2000)(2013)(1962)(1972)(2004)(2010)(2010)(2012)(1971)(1989)(1994)(2019)(1981)(1977)(1996)(1984)(1994)(2017)(1967)(1996)(1980)(1948)(1977)(2007)(1995)(1978)(1992)(1984)(2019)(1989)(1961)(2008)(1943)(2017)(1995)(2020)(1984)(1985)(1985)(1988)(2008)(2010)(2017)(2013)(1988)(2010)(1991)(2005)(1985)(2001)(2013)(1982)(2017)(2019)(1993)(1944)(2015)(1961)(1996)(1991)(2015)(1991)(2017)(1993)(1983)(2006)(1982)(1975)(1991)(1996)(2012)(1995)(1996)(2019)(2013)(1976)(1956)(2017)(2013)(1975)(1993)(1995)(1972)(1959)(2019)(2010)(2015)(2015)(1986)(2007)(2013)(2012)(2015)(2011)(2018)(1944)(1951)(1979)(2004)(1995)(1999)(1961)(2011)(2018)(2016)(2009)(2013)(1980)(2007)(2007)(2017)(2018)(2021)(2000)(2020)(2006)(2001)(2005)(2007)(2019)(1962)(2019)(1974)(1971)(2002)(1990)(1961)(2007)(1996)(1960)(1988)(2006)(2018)(2005)(2001)(2014)(2016)(2017)(1973)(1986)(2010)(1988)(1979)(2013)(1983)(1965)(2002)(2007)(2019)(2014)(1972)(2012)(2014)(2021)(2002)(2003)(2009)(2009)(2008)(2019)(2014)(1995)(2016)(2008)(2009)(1999)(2011)(1981)(2006)(2016)(2005)(2004)(2010)(1988)(1983)(2019)(2017)(1991)(2021)(1981)(2015)(1961)(1993)(1972)(1970)(2018)(1974)(1942)(1974)(1990)(2016)(2001)(1992)(2012)(2015)(2008)(1993)(2004)(1989)(1997)(2017)(1988)(1991)(2003)(2004)(2013)(2015)(2020)(1962)(2017)(2009)(2017)(1991)(2012)(1982)(2016)(1966)(1967)(1963)(1965)(1964)(1994)(2019)(2009)(1985)(1985)(1991)(1978)(1996)(1994)(1995)(1981)(1980)(2016)(2000)(1979)(2019)(2017)(2008)(2016)(1984)(2013)(2015)(2008)(1970)(1969)(1998)(2010)(2016)(1982)(1968)(1991)(2002)(1992)(2015)(2006)(2007)(1989)(2003)(1966)(1988)(1975)(1998)(2005)(2020)(2015)(1980)(1994)(2017)(2000)(1995)(1976)(1972)(2002)(2003)(1979)(1989)(1970)(1969)(1989)(1989)(2017)(2006)(1986)(1991)(2020)(1987)(2012)(1958)(1993)(2012)(1968)(1991)(2010)(1983)(1970)(1999)(1977)(1978)(1966)(1951)(1988)(1974)(1943)(1958)(1996)(2013)(2011)(2018)(2013)(1992)(1965)(1981)(2011)(1977)(1962)(1993)(2001)(1956)(1990)(2021)(1993)(2002)(1951)(1969)(1997)(1976)(1986)(1982)(1998)(1975)(2007)(1988)(1979)(2005)(2017)(2007)(1994)(1989)(2017)(1997)(1980)(1950)(1972)(1970)(1998)(1999)(1959)(1986)(2003)(1969)(2003)(2017)(1981)(1973)(1979)(1983)(1961)(1982)(2009)(2014)(1958)(1964)(1999)(1986)(1956)(1951)(1997)(1991)(1995)(2009)(2016)(1982)(2009)(2016)(2005)(2021)(2003)(2006)(1964)(1952)(1994)(1989)(1992)(1962)(1999)(1993)(1976)(1950)(1993)(1995)(2018)(1964)(1943)(1961)(1972)(1985)(2018)(2009)(2009)(1976)(1981)(1981)(1971)(1987)(1996)(1940)(1940)(1964)(1982)(1983)(1937)(2016)(1993)(1989)(2002)(1975)(1999)(1992)(1961)(1991)(1968)(1996)(1952)(1999)(1999)(1998)(1969)(2018)(1936)(1961)(1966)(1968)(2016)(2016)(1993)(1967)(1955)(2021)(1996)(1972)(1985)(1999)(1979)(1950)(2017)(1960)(2006)(1995)(2005)(2005)(2017)(2008)(1979)(1992)(1986)(1961)(1984)(1980)(2019)(2008)(1977)(1983)(1964)(2011)(2003)(1959)(1982)(1998)(2013)(2007)(2013)(1982)(1969)(1978)(1987)(2000)(2018)(2016)(1991)(1980)(2004)(1989)(1995)(1973)(1991)(1991)(2001)(1999)(1962)(1996)(1958)(1986)(1982)(1970)(1966)(1979)(2007)(2012)(2020)(1951)(1972)(1981)(2004)(1999)(1958)(2020)(2019)(2006)(2021)(2019)(2015)(2012)(2020)(2017)(2021)(2008)(2019)(2018)(2017)(1971)(1955)(1984)(1934)(1972)(2010)(1994)(2005)(1963)(1996)(2020)(2019)(1975)(1962)(2017)(2004)(2006)(1972)(2019)(2014)(2017)(2005)(2006)(2018)(2021)(1980)(2015)(2010)(1979)(1954)(2005)(1949)(1964)(2005)(2011)(2015)(1935)(2009)(1990)(1967)(2011)(1934)(1948)(1965)(1963)(2018)(1954)(2002)(1988)(1953)(2012)(1946)(2006)(2010)(1949)(1974)(2011)(1979)(1998)(2006)(1990)(1994)(2011)(2007)(2020)(1965)(1981)(2002)(1982)(1993)(1947)(2020)(1978)(1998)(1981)(1961)(1954)(2015)(1989)(1974)(1990)(2012)(1976)(1977)(1966)(1976)(1991)(1991)(1984)(1997)(1976)(1984)(1964)(1957)(1970)(1976)(2015)(1984)(1959)(1972)(2002)(1942)(1981)(1997)(1973)(2019)(1971)(1969)(1954)(1986)(2004)(1996)(1993)(1956)(1969)(1986)(1982)(2016)(2008)(2004)(1950)(1986)(2005)(1984)(2011)(1964)(1964)(1947)(2020)(1989)(1972)(1956)(2017)(1990)(1998)(1987)(1999)(1990)(1985)(1997)(1988)(1957)(1990)(1996)(2004)(2000)(1968)(2020)(2000)(1963)(1991)(1953)(2005)(1979)(2020)(2012)(1977)(2001)(1956)(2012)(1982)(1991)(1989)(2006)(1991)(1985)(1988)(2016)(2004)(2012)(1981)(1996)(2018)(1961)(1992)(2002)(1975)(1953)(1999)(2006)(1988)(2007)(2013)(1972)(2010)(2016)(2016)(2013)(2016)(2009)(2013)(2007)(1981)(1984)(2013)(1955)(1962)(1971)(1965)(2017)(1993)(1965)(1954)(1985)(1971)(1943)(2007)(1960)(1982)(1968)(1952)(2013)(1983)(2017)(2020)(2020)(2013)(2017)(2012)(2011)(2020)(2004)(2014)(2019)(2020)(2011)(1990)(2013)(2009)(2009)(1965)(1999)(1989)(2004)(2015)(2021)(2005)(1981)(1999)(2018)(2002)(1969)(2018)(2017)(1952)(1965)(2019)(1987)(1949)(1960)(2015)(2008)(2013)(2011)(2019)(2014)(1986)(2016)(2005)(2018)(1993)(2007)(2008)(2005)(1976)(1982)(2005)(1985)(1987)(1980)(1999)(1958)(2007)(2006)(2016)(2013)(2012)(1988)(1992)(2020)(2021)(1973)(1996)(1966)(2000)(1999)(2013)(2000)(2002)(2010)(2005)(2011)(1948)(1985)(1958)(2014)(1998)(1969)(1958)(1979)(1956)(2009)(1964)(1962)(2012)(1958)(2019)(2013)(2014)(2011)(2019)(1978)(1958)(1992)(1988)(2018)(2012)(2018)(1983)(2013)(2020)(1962)(2018)(1988)(1999)(2008)(2015)(2013)(2014)(2010)(2011)(2008)(1983)(1989)(2006)(1982)(2014)(2013)(2007)(2010)(1999)(1968)(1975)(2004)(1986)(1960)(2020)(2003)(2005)(2012)(2011)(2011)(1982)(1989)(2018)(2014)(1956)(2007)(2012)(2010)(1991)(2004)(2009)(2007)(2020)(1961)(2018)(2020)(1995)(2009)(1938)(2010)(2014)(2006)(2012)(2019)(2003)(1994)(2001)(1972)(1954)(1983)(1971)(1966)(2005)(2005)(2005)(2000)(1979)(1994)(1968)(1961)(1954)(1986)(1964)(1970)(2018)(1960)(2014)(2004)(2000)(2016)(1972)(1982)(1982)(2008)(2018)(1983)(1982)(2006)(1979)(2008)(1993)(1975)(1949)(1968)(2013)(1963)(2017)(1984)(2009)(2004)(2005)(2016)(1976)(2003)(2014)(2019)(2016)(2016)(2016)(2013)(2014)(1994)(1960)(1987)(2008)(2008)(2002)(1990)(1985)(1982)(1966)(1997)(1973)(2020)(1979)(1995)(2014)(1985)(2004)(1989)(1992)(1987)(1987)(1957)(2004)(2010)(1977)(2007)(2012)(1982)(1955)(2003)(1986)(1990)(1991)(1978)(1945)(1991)(1986)(1991)(1980)(1973)(1983)(2017)(2021)(2018)(2007)(1999)(2020)(2001)(1982)(1995)(1989)(2004)(1999)(2013)(2003)(1990)(1993)(1992)(1986)(1993)(2020)(1956)(2003)(2005)(1981)(2015)(2019)(1995)(1980)(1958)(2012)(2003)(1996)(1969)(1935)(2009)(2009)(2020)(2015)(1988)(2014)(1969)(1998)(1952)(2015)(2001)(1986)(1972)(1955)(2005)(2020)(2021)(1943)(2011)(2015)(1976)(2000)(1983)(1967)(1982)(2002)(1990)(1995)(2019)(2013)(1979)(1951)(1984)(1997)(1995)(1984)(2000)(1995)(2019)(1970)(1965)(1966)(1965)(2002)(2008)(1966)(2008)(2006)(2004)(2017)(1985)(1980)(1954)(1973)(1944)(2006)(1977)(2016)(2009)(1968)(1953)(1973)(1965)(1980)(2010)(1965)(1938)(2016)(2011)(1995)(2010)(1965)(1994)(1986)(1982)(2006)(1966)(1966)(2003)(1990)(1994)(1961)(1985)(2011)(2005)(2019)(2017)(2000)(2009)(2001)(2015)(2016)(2010)(2016)(1989)(1963)(2010)(2001)(1984)(2011)(1971)(1996)(2012)(1978)(2009)(1984)(2018)(2014)(2020)(1982)(1982)(1985)(2012)(1993)(1990)(2016)(2018)(2015)(1988)(2012)(2019)(1999)(1966)(2002)(1990)(1983)(1982)(2011)(2009)(2020)(2010)(1951)(2016)(2001)(1979)(2019)(2005)(2015)(1989)(2014)(2011)(2013)(2016)(2012)(2021)(2005)(2016)(2019)(2017)(2013)(1980)(2020)(2010)(1997)(1974)(1977)(1976)(2016)(1970)(1941)(2007)(2018)(1988)(2019)(2014)(2011)(2013)(1995)(2017)(2019)(2020)(2009)(1953)(2005)(2010)(2010)(2017)(2008)(2015)(2009)(1994)(2017)(2021)(2014)(1984)(2013)(1979)(2007)(2019)(2011)(2017)(2017)(2020)(2014)(2003)(2020)(2019)(2017)(2010)(2017)(2020)(2014)(2017)(2011)(2010)(2018)(2017)(2018)(2020)(2016)(2006)(2012)(2019)(2014)(2016)(2014)(2002)(2008)(2019)(1931)(2013)(2014)(2012)(2015)(2013)(1994)(1995)(2011)(2001)(1980)(1970)(2013)(2007)(2016)(2018)(2015)(2019)(2021)(2009)(2000)(1935)(2020)(2017)(2012)(2020)(2000)(2012)(2014)(1975)(1952)(2015)(1992)(2013)(2014)(2020)(2019)(2015)(2015)(1968)(2019)(2017)(2015)(1996)(2009)(2017)(2019)(1960)(1969)(2015)(1980)(1970)(2011)(2007)(2017)(2002)(2017)(2013)(2010)(2014)(2015)(2010)(2001)(2002)(2009)(2021)(2021)(2018)(2017)(2013)(2015)(2014)(2017)(1967)(2019)(1981)(1977)(1987)(2016)(1992)(2012)(2015)(2008)(2004)(1990)(2008)(2017)(1980)(1953)(1974)(2004)(1983)(2018)(2015)(2009)(1990)(1978)(2018)(2007)(1969)(2016)(2017)(2014)(2017)(1992)(2015)(2005)(2021)(2019)(1977)(1959)(1992)(1998)(2018)(2014)(2014)(2016)(2000)(2018)(2010)(1984)(1988)(2017)(2006)(2014)(2018)(1989)(1975)(1956)(1937)(2010)(1978)(1994)(2016)(2005)(2020)(2009)(2019)(2014)(2019)(1989)(1962)(2016)(2007)(2015)(2015)(1998)(2016)(2011)(2021)(1989)(1985)(1986)(1980)(1974)(1995)(1991)(2014)(1988)(1999)(1978)(2011)(1978)(1985)(1994)(2010)(2020)(2003)(1996)(1965)(1989)(1960)(2017)(2021)(2003)(1989)(2015)(2018)(1941)(1971)(2008)(1954)(2016)(2001)(1970)(2011)(2011)(2002)(1993)(1990)(2009)(2010)(2002)(2005)(2004)(2018)(1975)(1982)(1978)(1978)(2017)(2002)(1957)(2004)(1969)(2000)(1996)(2011)(2018)(2018)(2017)(2016)(2012)(2005)(2013)(1977)(1992)(2017)(2008)(2011)(2005)(2017)(1997)(2010)(2018)(1949)(1994)(2021)(1976)(2016)(1997)(2013)(2008)(2016)(1959)(1974)(2019)(1994)(1975)(2001)(1985)(2019)(1970)(2006)(1992)(1975)(1982)(1962)(2014)(2006)(2015)(1990)(2015)(2007)(1980)(2014)(2014)(1996)(2017)(2011)(2020)(2018)(2019)(2006)(2020)(1971)(2019)(1971)(1967)(2019)(1955)(2018)(2019)(1970)(1960)(1974)(1989)(1982)(1963)(1998)(2015)(1984)(2011)(1987)(2006)(2004)(2015)(2000)(2020)(2005)(2009)(1994)(2005)(1968)(1999)(2004)(1955)(1974)(2018)(2002)(2018)(1988)(1995)(1982)(2003)(2012)(1962)(2006)(1946)(2000)(1975)(2021)(2021)(1992)(1975)(1989)(2004)(1991)(2001)(1982)(2011)(1995)(2010)(1970)(1977)(2005)(1986)(1949)(1970)(1945)(2001)(2008)(1994)(2009)(2010)(2017)(1988)(2016)(2018)(2018)(2016)(1995)(2019)(1993)(1990)(1975)(2004)(2011)(2011)(2019)(1989)(2008)(2017)(1989)(2012)(1972)(2007)(2017)(2009)(1977)(1982)(2006)(1990)(1986)(1948)(1952)(2018)(2005)(2009)(1988)(1994)(1982)(1996)(2011)(1986)(1986)(1991)(2004)(1986)(2009)(2020)(2020)(1998)(2017)(2021)(1997)(2020)(1992)(2005)(2008)(1991)(1991)(2011)(1978)(2013)(2018)(1969)(1977)(1996)(1992)(1997)(2006)(1998)(2018)(2010)(2014)(2002)(1986)(1988)(1972)(2008)(1985)(2016)(1967)(1987)(2015)(2016)(2004)(1998)(2013)(2009)(2017)(1955)(2009)(1984)(2020)(1969)(1965)(1993)(1992)(1987)(1982)(1988)(1981)(1984)(2005)(1982)(2019)(2002)(2013)(1981)(1969)(1954)(2013)(1975)(1961)(2016)(1987)(2005)(2018)(2016)(2010)(2006)(2017)(2015)(2007)(2015)(2015)(2020)(2018)(2020)(2012)(2018)(2008)(2009)(2019)(2006)(2013)(2009)(2013)(2008)(1989)(2018)(1998)(2017)(2016)(2004)(2018)(2011)(2019)(2012)(2018)(2003)(2020)(2006)(2004)(1983)(1983)(1964)(1967)(2006)(1974)(1988)(2004)(1989)(1986)(2013)(2008)(2009)(2007)(2021)(2003)(2019)(2020)(2015)(2003)(2008)(2014)(1992)(2001)(1970)(1984)(1990)(1984)(2014)(1994)(1985)(1972)(2008)(2020)(1991)(2015)(1981)(2014)(1977)(1985)(2015)(2020)(1984)(1958)(1969)(2005)(2018)(2012)(1992)(2014)(2001)(2013)(2018)(1998)(1995)(1980)(1996)(2015)(1975)(1955)(1935)(1988)(2006)(1952)(1973)(2011)(2016)(1991)(2020)(1984)(2003)(2002)(1963)(2014)(1994)(2011)(2011)(1972)(2014)(2003)(2017)(2002)(2016)(2009)(1999)(2001)(1984)(2015)(2013)(2012)(1980)(2018)(2002)(2012)(2002)(2004)(1996)(2002)(1982)(2001)(1992)(1966)(1963)(1981)(2019)(2011)(2019)(1982)(1982)(1987)(2001)(1966)(2005)(1977)(2005)(1997)(1997)(1991)(2002)(2016)(2014)(1949)(2001)(2018)(2016)(1985)(2021)(1993)(1998)(1994)(2004)(1979)(2008)(1994)(1962)(1985)(2008)(2001)(1990)(1998)(1989)(1975)(1982)(1988)(1994)(1993)(1984)(2001)(1995)(1990)(1993)(2017)(1980)(1941)(1952)(1988)(1995)(1977)(1981)(1985)(1994)(1939)(1987)(2003)(1972)(1984)(1960)(1975)(2005)(1997)(1943)(1977)(1973)(1998)(2013)(1993)(2013)(1983)(1972)(2014)(1945)(2005)(1974)(2018)(1987)(1945)(1994)(2014)(1964)(1997)(1948)(2013)(1958)(1960)(1990)(2006)(1975)(1986)(1986)(2006)(1964)(1940)(1976)(2000)(2013)(1961)(1965)(1992)(1988)(2013)(1984)(2002)(2011)(2012)(2019)(1958)(2000)(1972)(2011)(2018)(2009)(1998)(1996)(1975)(2015)(2001)(1985)(1992)(1989)(1988)(1999)(1998) to numeric"
     ]
    }
   ],
   "source": [
    "def missing(dataset1):\n",
    "    dataset = dataset1.copy()\n",
    "    columns = ['Year','Duration','Rating','Votes']\n",
    "    \n",
    "    \n",
    "    for a in columns:\n",
    "        dataset[a].fillna(round(dataset[a].mean(), 2), inplace = True)\n",
    "        # print(f' Column {a} filled successfuly')\n",
    "    return dataset\n",
    "missing(df)\n",
    "\n"
   ]
  },
  {
   "cell_type": "code",
   "execution_count": null,
   "id": "5cbe3cd7-d9f8-4797-a5ba-5e9efa6177f3",
   "metadata": {},
   "outputs": [],
   "source": []
  },
  {
   "cell_type": "code",
   "execution_count": null,
   "id": "bbe973c1-c723-4c1b-82dc-217cf2cf5b01",
   "metadata": {},
   "outputs": [],
   "source": []
  },
  {
   "cell_type": "code",
   "execution_count": null,
   "id": "973498a4-0bec-4539-8cfa-68ab50df135b",
   "metadata": {},
   "outputs": [],
   "source": []
  },
  {
   "cell_type": "code",
   "execution_count": null,
   "id": "d470f636-52a6-4d4b-9ab9-6fcabd4461cf",
   "metadata": {},
   "outputs": [],
   "source": []
  },
  {
   "cell_type": "code",
   "execution_count": null,
   "id": "64bb3292-0060-44a1-aed0-29c17aa727e3",
   "metadata": {},
   "outputs": [],
   "source": []
  },
  {
   "cell_type": "code",
   "execution_count": null,
   "id": "f058345b-e218-4e66-9ef4-c387b50d1397",
   "metadata": {},
   "outputs": [],
   "source": []
  },
  {
   "cell_type": "code",
   "execution_count": null,
   "id": "56153851-c1f3-4c31-aa6e-00f5f7146570",
   "metadata": {},
   "outputs": [],
   "source": []
  },
  {
   "cell_type": "code",
   "execution_count": null,
   "id": "c66b4cfe-5f69-4f44-bde3-c7a79da6dbf5",
   "metadata": {
    "tags": []
   },
   "outputs": [],
   "source": [
    "df1 = df.copy()\n",
    "def missing_values():\n",
    "    col = ['Duration', 'Rating']\n",
    "    for a in col:\n",
    "        df1.dropna(subset = a, axis = 0 , inplace = True)\n",
    "    \n"
   ]
  },
  {
   "cell_type": "markdown",
   "id": "085352e0-05d8-484e-9b39-5a67398f6af4",
   "metadata": {},
   "source": [
    "<h3>Data's Format</h3>"
   ]
  },
  {
   "cell_type": "code",
   "execution_count": null,
   "id": "a6165341-20c9-4ec4-a2c3-de04ca5eb9f5",
   "metadata": {
    "tags": []
   },
   "outputs": [],
   "source": [
    "for a in df1.columns:\n",
    "    column_format = df1[a].apply(lambda x: type(x)).unique()\n",
    "\n",
    "    if len(column_format) == 1:\n",
    "        print(f\"All values in the '{a}' column have the same format: {column_format[0]}\")\n",
    "    else:\n",
    "        print(f\"Values in the '{a}' column have different formats: {column_format}\")"
   ]
  },
  {
   "cell_type": "code",
   "execution_count": null,
   "id": "23cf6d2d-e416-4261-adee-946b34524df3",
   "metadata": {},
   "outputs": [],
   "source": []
  }
 ],
 "metadata": {
  "kernelspec": {
   "display_name": "Python 3 (ipykernel)",
   "language": "python",
   "name": "python3"
  },
  "language_info": {
   "codemirror_mode": {
    "name": "ipython",
    "version": 3
   },
   "file_extension": ".py",
   "mimetype": "text/x-python",
   "name": "python",
   "nbconvert_exporter": "python",
   "pygments_lexer": "ipython3",
   "version": "3.11.5"
  }
 },
 "nbformat": 4,
 "nbformat_minor": 5
}
