{
 "cells": [
  {
   "cell_type": "markdown",
   "id": "6cd49687-83c6-4d81-8f4d-868177dde11c",
   "metadata": {},
   "source": [
    "<h1 style= \"text-align : center;border: 1px solid purple; border-radius : 20px; padding :20px; \">Iris flower classification</h1>"
   ]
  },
  {
   "cell_type": "markdown",
   "id": "01695683-d204-4e5a-a697-f7842a3a9029",
   "metadata": {},
   "source": [
    "# Importing libraries"
   ]
  },
  {
   "cell_type": "code",
   "execution_count": 1,
   "id": "5140bd56-4404-4c98-b40a-1a3b56b7e127",
   "metadata": {
    "tags": []
   },
   "outputs": [],
   "source": [
    "import numpy as np\n",
    "import pandas as pd\n",
    "import seaborn as sns\n",
    "import matplotlib.pyplot as plt \n",
    "\n",
    "import warnings\n",
    "warnings.filterwarnings('ignore')"
   ]
  },
  {
   "cell_type": "code",
   "execution_count": 2,
   "id": "87bc2790-e68e-4301-a988-f11218fb174c",
   "metadata": {
    "tags": []
   },
   "outputs": [
    {
     "name": "stdout",
     "output_type": "stream",
     "text": [
      "Pandas version:  2.0.3\n",
      "NumPy version:  1.24.3\n",
      "Seaborn version: 0.12.2\n",
      "Matplotlib version:  3.7.2\n"
     ]
    }
   ],
   "source": [
    "print('Pandas version: ',pd.__version__)\n",
    "print('NumPy version: ',np.__version__)\n",
    "print(\"Seaborn version:\", sns.__version__)\n",
    "print(\"Matplotlib version: \", plt.matplotlib.__version__)\n"
   ]
  },
  {
   "cell_type": "markdown",
   "id": "ee33aca8-b839-463e-ae22-88357398b168",
   "metadata": {
    "tags": []
   },
   "source": [
    "# Projects Settings"
   ]
  },
  {
   "cell_type": "code",
   "execution_count": 7,
   "id": "71d6403d-ea4b-4628-9315-af597b33042f",
   "metadata": {
    "tags": []
   },
   "outputs": [],
   "source": [
    "pd.set_option('display.max_rows', 100)\n",
    "pd.set_option('display.max_columns', 100)\n",
    "palettes = ['viridis', 'magma', 'plasma', 'inferno', 'twilight', 'twilight_shifted', 'cool', 'coolwarm', 'cividis', 'spring',\n",
    "            'summer', 'autumn', 'winter', 'bone', 'copper', 'pink', 'spring_r', 'summer_r', 'autumn_r', 'winter_r',\n",
    "            'PuBu', 'PuBuGn', 'BuPu', 'RdPu', 'PuRd', 'Oranges', 'YlOrBr', 'YlOrRd', 'OrRd', 'RdOrYl', 'YlGn', 'YlGnBu',\n",
    "            'GnBu', 'BuGn', 'PuOr', 'BrBG', 'PRGn', 'PiYG', 'RdGy', 'RdBu', 'RdYlBu', 'RdYlGn', 'Spectral', 'cubehelix',\n",
    "            'husl', 'husl_r', 'hls', 'hls_r', 'gist_ncar', 'gist_ncar_r']\n",
    "colors = ['#003049', '#D62828', '#F77F00', '#FCBF49', '#EAE2B7']"
   ]
  },
  {
   "cell_type": "markdown",
   "id": "907c476c-5e53-4120-965c-7c9c8ed95188",
   "metadata": {},
   "source": [
    "# Exploring the dataset"
   ]
  },
  {
   "cell_type": "markdown",
   "id": "9869a4e2-0d73-469e-aa60-7b1f00958677",
   "metadata": {
    "tags": []
   },
   "source": [
    "## Loading the data"
   ]
  },
  {
   "cell_type": "code",
   "execution_count": 9,
   "id": "07f8649d-e035-41d3-a4d4-4522627e4f01",
   "metadata": {
    "tags": []
   },
   "outputs": [],
   "source": [
    "iris = pd.read_csv('IRIS.csv')"
   ]
  },
  {
   "cell_type": "code",
   "execution_count": 10,
   "id": "f6587162-faa7-40aa-ae18-01c02656359d",
   "metadata": {
    "tags": []
   },
   "outputs": [
    {
     "data": {
      "text/html": [
       "<div>\n",
       "<style scoped>\n",
       "    .dataframe tbody tr th:only-of-type {\n",
       "        vertical-align: middle;\n",
       "    }\n",
       "\n",
       "    .dataframe tbody tr th {\n",
       "        vertical-align: top;\n",
       "    }\n",
       "\n",
       "    .dataframe thead th {\n",
       "        text-align: right;\n",
       "    }\n",
       "</style>\n",
       "<table border=\"1\" class=\"dataframe\">\n",
       "  <thead>\n",
       "    <tr style=\"text-align: right;\">\n",
       "      <th></th>\n",
       "      <th>sepal_length</th>\n",
       "      <th>sepal_width</th>\n",
       "      <th>petal_length</th>\n",
       "      <th>petal_width</th>\n",
       "      <th>species</th>\n",
       "    </tr>\n",
       "  </thead>\n",
       "  <tbody>\n",
       "    <tr>\n",
       "      <th>51</th>\n",
       "      <td>6.4</td>\n",
       "      <td>3.2</td>\n",
       "      <td>4.5</td>\n",
       "      <td>1.5</td>\n",
       "      <td>Iris-versicolor</td>\n",
       "    </tr>\n",
       "  </tbody>\n",
       "</table>\n",
       "</div>"
      ],
      "text/plain": [
       "    sepal_length  sepal_width  petal_length  petal_width          species\n",
       "51           6.4          3.2           4.5          1.5  Iris-versicolor"
      ]
     },
     "execution_count": 10,
     "metadata": {},
     "output_type": "execute_result"
    }
   ],
   "source": [
    "iris.sample()"
   ]
  },
  {
   "cell_type": "markdown",
   "id": "5db226b4-66db-4956-bf4c-42ee5b569c58",
   "metadata": {
    "tags": []
   },
   "source": [
    "## Understanding the data"
   ]
  },
  {
   "cell_type": "code",
   "execution_count": 12,
   "id": "8b1c14c2-a49a-46db-afa7-a07a6f4ddd7d",
   "metadata": {
    "tags": []
   },
   "outputs": [
    {
     "data": {
      "text/html": [
       "<div>\n",
       "<style scoped>\n",
       "    .dataframe tbody tr th:only-of-type {\n",
       "        vertical-align: middle;\n",
       "    }\n",
       "\n",
       "    .dataframe tbody tr th {\n",
       "        vertical-align: top;\n",
       "    }\n",
       "\n",
       "    .dataframe thead th {\n",
       "        text-align: right;\n",
       "    }\n",
       "</style>\n",
       "<table border=\"1\" class=\"dataframe\">\n",
       "  <thead>\n",
       "    <tr style=\"text-align: right;\">\n",
       "      <th></th>\n",
       "      <th>sepal_length</th>\n",
       "      <th>sepal_width</th>\n",
       "      <th>petal_length</th>\n",
       "      <th>petal_width</th>\n",
       "      <th>species</th>\n",
       "    </tr>\n",
       "  </thead>\n",
       "  <tbody>\n",
       "    <tr>\n",
       "      <th>0</th>\n",
       "      <td>5.1</td>\n",
       "      <td>3.5</td>\n",
       "      <td>1.4</td>\n",
       "      <td>0.2</td>\n",
       "      <td>Iris-setosa</td>\n",
       "    </tr>\n",
       "    <tr>\n",
       "      <th>1</th>\n",
       "      <td>4.9</td>\n",
       "      <td>3.0</td>\n",
       "      <td>1.4</td>\n",
       "      <td>0.2</td>\n",
       "      <td>Iris-setosa</td>\n",
       "    </tr>\n",
       "    <tr>\n",
       "      <th>2</th>\n",
       "      <td>4.7</td>\n",
       "      <td>3.2</td>\n",
       "      <td>1.3</td>\n",
       "      <td>0.2</td>\n",
       "      <td>Iris-setosa</td>\n",
       "    </tr>\n",
       "    <tr>\n",
       "      <th>3</th>\n",
       "      <td>4.6</td>\n",
       "      <td>3.1</td>\n",
       "      <td>1.5</td>\n",
       "      <td>0.2</td>\n",
       "      <td>Iris-setosa</td>\n",
       "    </tr>\n",
       "    <tr>\n",
       "      <th>4</th>\n",
       "      <td>5.0</td>\n",
       "      <td>3.6</td>\n",
       "      <td>1.4</td>\n",
       "      <td>0.2</td>\n",
       "      <td>Iris-setosa</td>\n",
       "    </tr>\n",
       "  </tbody>\n",
       "</table>\n",
       "</div>"
      ],
      "text/plain": [
       "   sepal_length  sepal_width  petal_length  petal_width      species\n",
       "0           5.1          3.5           1.4          0.2  Iris-setosa\n",
       "1           4.9          3.0           1.4          0.2  Iris-setosa\n",
       "2           4.7          3.2           1.3          0.2  Iris-setosa\n",
       "3           4.6          3.1           1.5          0.2  Iris-setosa\n",
       "4           5.0          3.6           1.4          0.2  Iris-setosa"
      ]
     },
     "execution_count": 12,
     "metadata": {},
     "output_type": "execute_result"
    }
   ],
   "source": [
    "iris.head()"
   ]
  },
  {
   "cell_type": "markdown",
   "id": "65aaa6f5-806c-4de5-8cf4-20bf43998b8e",
   "metadata": {
    "tags": []
   },
   "source": [
    "we notice that our dataset consist of 4 features for the flower, and one column to determine the speacie or category of the flower.\n",
    "\n",
    "So that means we have labelled dataset on which we can use classification models."
   ]
  },
  {
   "cell_type": "code",
   "execution_count": 14,
   "id": "82b5a51b-bca7-4645-a561-1c2ac212bf75",
   "metadata": {
    "tags": []
   },
   "outputs": [
    {
     "name": "stdout",
     "output_type": "stream",
     "text": [
      "<class 'pandas.core.frame.DataFrame'>\n",
      "RangeIndex: 150 entries, 0 to 149\n",
      "Data columns (total 5 columns):\n",
      " #   Column        Non-Null Count  Dtype  \n",
      "---  ------        --------------  -----  \n",
      " 0   sepal_length  150 non-null    float64\n",
      " 1   sepal_width   150 non-null    float64\n",
      " 2   petal_length  150 non-null    float64\n",
      " 3   petal_width   150 non-null    float64\n",
      " 4   species       150 non-null    object \n",
      "dtypes: float64(4), object(1)\n",
      "memory usage: 6.0+ KB\n"
     ]
    }
   ],
   "source": [
    "iris.info()"
   ]
  },
  {
   "cell_type": "markdown",
   "id": "a5edfbb5-a375-4771-90d3-9a6b30ec481f",
   "metadata": {},
   "source": [
    "The `info()` method of a Pandas DataFrame tells us that the DataFrame has:\n",
    "\n",
    "* **150 rows:** This is the number of data points in your dataset.\n",
    "* **5 columns:** These columns likely represent features of your data.\n",
    "* **Data types:**\n",
    "    * The first four columns (sepal_length, sepal_width, petal_length, petal_width) are of type `float64`, which means they contain numerical data.\n",
    "    * The fifth column (species) is of type `object`, which means it contains categorical data (likely text labels).\n",
    "\n",
    "Overall, this output suggests we're working with a dataset of 150 samples, each described by four numerical features and a categorical label. "
   ]
  },
  {
   "cell_type": "code",
   "execution_count": 15,
   "id": "ac6291ca-53be-4b7c-a06e-36ed1670399a",
   "metadata": {
    "tags": []
   },
   "outputs": [
    {
     "data": {
      "text/html": [
       "<div>\n",
       "<style scoped>\n",
       "    .dataframe tbody tr th:only-of-type {\n",
       "        vertical-align: middle;\n",
       "    }\n",
       "\n",
       "    .dataframe tbody tr th {\n",
       "        vertical-align: top;\n",
       "    }\n",
       "\n",
       "    .dataframe thead th {\n",
       "        text-align: right;\n",
       "    }\n",
       "</style>\n",
       "<table border=\"1\" class=\"dataframe\">\n",
       "  <thead>\n",
       "    <tr style=\"text-align: right;\">\n",
       "      <th></th>\n",
       "      <th>sepal_length</th>\n",
       "      <th>sepal_width</th>\n",
       "      <th>petal_length</th>\n",
       "      <th>petal_width</th>\n",
       "    </tr>\n",
       "  </thead>\n",
       "  <tbody>\n",
       "    <tr>\n",
       "      <th>count</th>\n",
       "      <td>150.000000</td>\n",
       "      <td>150.000000</td>\n",
       "      <td>150.000000</td>\n",
       "      <td>150.000000</td>\n",
       "    </tr>\n",
       "    <tr>\n",
       "      <th>mean</th>\n",
       "      <td>5.843333</td>\n",
       "      <td>3.054000</td>\n",
       "      <td>3.758667</td>\n",
       "      <td>1.198667</td>\n",
       "    </tr>\n",
       "    <tr>\n",
       "      <th>std</th>\n",
       "      <td>0.828066</td>\n",
       "      <td>0.433594</td>\n",
       "      <td>1.764420</td>\n",
       "      <td>0.763161</td>\n",
       "    </tr>\n",
       "    <tr>\n",
       "      <th>min</th>\n",
       "      <td>4.300000</td>\n",
       "      <td>2.000000</td>\n",
       "      <td>1.000000</td>\n",
       "      <td>0.100000</td>\n",
       "    </tr>\n",
       "    <tr>\n",
       "      <th>25%</th>\n",
       "      <td>5.100000</td>\n",
       "      <td>2.800000</td>\n",
       "      <td>1.600000</td>\n",
       "      <td>0.300000</td>\n",
       "    </tr>\n",
       "    <tr>\n",
       "      <th>50%</th>\n",
       "      <td>5.800000</td>\n",
       "      <td>3.000000</td>\n",
       "      <td>4.350000</td>\n",
       "      <td>1.300000</td>\n",
       "    </tr>\n",
       "    <tr>\n",
       "      <th>75%</th>\n",
       "      <td>6.400000</td>\n",
       "      <td>3.300000</td>\n",
       "      <td>5.100000</td>\n",
       "      <td>1.800000</td>\n",
       "    </tr>\n",
       "    <tr>\n",
       "      <th>max</th>\n",
       "      <td>7.900000</td>\n",
       "      <td>4.400000</td>\n",
       "      <td>6.900000</td>\n",
       "      <td>2.500000</td>\n",
       "    </tr>\n",
       "  </tbody>\n",
       "</table>\n",
       "</div>"
      ],
      "text/plain": [
       "       sepal_length  sepal_width  petal_length  petal_width\n",
       "count    150.000000   150.000000    150.000000   150.000000\n",
       "mean       5.843333     3.054000      3.758667     1.198667\n",
       "std        0.828066     0.433594      1.764420     0.763161\n",
       "min        4.300000     2.000000      1.000000     0.100000\n",
       "25%        5.100000     2.800000      1.600000     0.300000\n",
       "50%        5.800000     3.000000      4.350000     1.300000\n",
       "75%        6.400000     3.300000      5.100000     1.800000\n",
       "max        7.900000     4.400000      6.900000     2.500000"
      ]
     },
     "execution_count": 15,
     "metadata": {},
     "output_type": "execute_result"
    }
   ],
   "source": [
    "iris.describe()"
   ]
  },
  {
   "cell_type": "markdown",
   "id": "98c504c8-ca71-4a98-a012-4fcb91f09bdc",
   "metadata": {},
   "source": [
    "1. **Sepal Length:** The Iris flowers in this dataset have an average sepal length of 5.84 cm. There's a decent spread in the data though, with a standard deviation of 0.83 cm. The smallest sepal measured 4.3 cm and the largest was 7.9 cm.\n",
    "\n",
    "2. **Sepal Width:** The average sepal width is slightly less than the length at 3.05 cm. Similar to the length, there's some variation with a standard deviation of 0.43 cm. Sepal widths range between 2.0 cm and 4.4 cm.\n",
    "\n",
    "3. **Petal Length:** Petal length shows a greater range compared to the sepals. The average petal is 3.76 cm long, but the standard deviation is 1.76 cm. The shortest petal measured 1.0 cm and the longest was 6.9 cm.\n",
    "\n",
    "4. **Petal Width:** The average petal width is the smallest at 1.20 cm. The data also has the highest standard deviation here at 0.76 cm. Petal widths range from a mere 0.1 cm to 2.5 cm."
   ]
  },
  {
   "cell_type": "markdown",
   "id": "08210a8f-62d1-450b-a7d8-14f0cd564721",
   "metadata": {
    "tags": []
   },
   "source": [
    "## Cleaning the dataset"
   ]
  },
  {
   "cell_type": "code",
   "execution_count": 20,
   "id": "16d7a739-39fc-4548-9a09-3677cbf2123f",
   "metadata": {
    "tags": []
   },
   "outputs": [
    {
     "data": {
      "text/plain": [
       "sepal_length    0\n",
       "sepal_width     0\n",
       "petal_length    0\n",
       "petal_width     0\n",
       "species         0\n",
       "dtype: int64"
      ]
     },
     "execution_count": 20,
     "metadata": {},
     "output_type": "execute_result"
    }
   ],
   "source": [
    "iris.isna().sum()"
   ]
  },
  {
   "cell_type": "markdown",
   "id": "2854ab0c-1f2d-423e-904e-ed20bc2d1861",
   "metadata": {
    "tags": []
   },
   "source": [
    "    No missing values!"
   ]
  },
  {
   "cell_type": "code",
   "execution_count": 21,
   "id": "50509c5a-6dca-4357-bbde-92ce47f9111c",
   "metadata": {
    "tags": []
   },
   "outputs": [
    {
     "data": {
      "text/plain": [
       "3"
      ]
     },
     "execution_count": 21,
     "metadata": {},
     "output_type": "execute_result"
    }
   ],
   "source": [
    "iris.duplicated().sum()"
   ]
  },
  {
   "cell_type": "markdown",
   "id": "acb4056e-2fa6-4c8e-8f52-e62e4757d09f",
   "metadata": {},
   "source": [
    "    Three rows are duplicated, we may need to drop those duplicated rows"
   ]
  },
  {
   "cell_type": "code",
   "execution_count": 22,
   "id": "7e25c4c9-4aa0-4caf-8766-9ab05e671153",
   "metadata": {
    "tags": []
   },
   "outputs": [],
   "source": [
    "iris.drop_duplicates(inplace = True)"
   ]
  },
  {
   "cell_type": "code",
   "execution_count": null,
   "id": "11a8c8dd-bc32-4b80-9851-7134a00d283f",
   "metadata": {
    "tags": []
   },
   "outputs": [],
   "source": []
  },
  {
   "cell_type": "code",
   "execution_count": 24,
   "id": "964ddd86-d16f-4a90-b3c0-c9efe08c8443",
   "metadata": {
    "tags": []
   },
   "outputs": [
    {
     "data": {
      "text/html": [
       "<div>\n",
       "<style scoped>\n",
       "    .dataframe tbody tr th:only-of-type {\n",
       "        vertical-align: middle;\n",
       "    }\n",
       "\n",
       "    .dataframe tbody tr th {\n",
       "        vertical-align: top;\n",
       "    }\n",
       "\n",
       "    .dataframe thead th {\n",
       "        text-align: right;\n",
       "    }\n",
       "</style>\n",
       "<table border=\"1\" class=\"dataframe\">\n",
       "  <thead>\n",
       "    <tr style=\"text-align: right;\">\n",
       "      <th></th>\n",
       "      <th>sepal_length</th>\n",
       "      <th>sepal_width</th>\n",
       "      <th>petal_length</th>\n",
       "      <th>petal_width</th>\n",
       "    </tr>\n",
       "  </thead>\n",
       "  <tbody>\n",
       "    <tr>\n",
       "      <th>count</th>\n",
       "      <td>147.000000</td>\n",
       "      <td>147.000000</td>\n",
       "      <td>147.000000</td>\n",
       "      <td>147.000000</td>\n",
       "    </tr>\n",
       "    <tr>\n",
       "      <th>mean</th>\n",
       "      <td>5.856463</td>\n",
       "      <td>3.055782</td>\n",
       "      <td>3.780272</td>\n",
       "      <td>1.208844</td>\n",
       "    </tr>\n",
       "    <tr>\n",
       "      <th>std</th>\n",
       "      <td>0.829100</td>\n",
       "      <td>0.437009</td>\n",
       "      <td>1.759111</td>\n",
       "      <td>0.757874</td>\n",
       "    </tr>\n",
       "    <tr>\n",
       "      <th>min</th>\n",
       "      <td>4.300000</td>\n",
       "      <td>2.000000</td>\n",
       "      <td>1.000000</td>\n",
       "      <td>0.100000</td>\n",
       "    </tr>\n",
       "    <tr>\n",
       "      <th>25%</th>\n",
       "      <td>5.100000</td>\n",
       "      <td>2.800000</td>\n",
       "      <td>1.600000</td>\n",
       "      <td>0.300000</td>\n",
       "    </tr>\n",
       "    <tr>\n",
       "      <th>50%</th>\n",
       "      <td>5.800000</td>\n",
       "      <td>3.000000</td>\n",
       "      <td>4.400000</td>\n",
       "      <td>1.300000</td>\n",
       "    </tr>\n",
       "    <tr>\n",
       "      <th>75%</th>\n",
       "      <td>6.400000</td>\n",
       "      <td>3.300000</td>\n",
       "      <td>5.100000</td>\n",
       "      <td>1.800000</td>\n",
       "    </tr>\n",
       "    <tr>\n",
       "      <th>max</th>\n",
       "      <td>7.900000</td>\n",
       "      <td>4.400000</td>\n",
       "      <td>6.900000</td>\n",
       "      <td>2.500000</td>\n",
       "    </tr>\n",
       "  </tbody>\n",
       "</table>\n",
       "</div>"
      ],
      "text/plain": [
       "       sepal_length  sepal_width  petal_length  petal_width\n",
       "count    147.000000   147.000000    147.000000   147.000000\n",
       "mean       5.856463     3.055782      3.780272     1.208844\n",
       "std        0.829100     0.437009      1.759111     0.757874\n",
       "min        4.300000     2.000000      1.000000     0.100000\n",
       "25%        5.100000     2.800000      1.600000     0.300000\n",
       "50%        5.800000     3.000000      4.400000     1.300000\n",
       "75%        6.400000     3.300000      5.100000     1.800000\n",
       "max        7.900000     4.400000      6.900000     2.500000"
      ]
     },
     "execution_count": 24,
     "metadata": {},
     "output_type": "execute_result"
    }
   ],
   "source": [
    "iris.describe()"
   ]
  },
  {
   "cell_type": "markdown",
   "id": "f910c8fa-5057-4efc-94f4-b7bbfa9f5023",
   "metadata": {
    "tags": []
   },
   "source": [
    "Now our dataset is reading for more exloratary data analysis, visualisation and classification"
   ]
  },
  {
   "cell_type": "markdown",
   "id": "2994009d-bfa4-431c-a715-eb25e4907c62",
   "metadata": {},
   "source": [
    "# Visualisation\n"
   ]
  },
  {
   "cell_type": "markdown",
   "id": "6b430cbc-af37-45f0-9937-54bdc1d96e32",
   "metadata": {},
   "source": [
    "## Distribution of iris species"
   ]
  },
  {
   "cell_type": "code",
   "execution_count": 83,
   "id": "127d3a5e-7fa1-469c-b96e-0ed48dcb73a8",
   "metadata": {
    "tags": []
   },
   "outputs": [
    {
     "data": {
      "image/png": "[encoded data removed]",
      "text/plain": [
       "<Figure size 1500x700 with 1 Axes>"
      ]
     },
     "metadata": {},
     "output_type": "display_data"
    }
   ],
   "source": [
    "plt.figure(figsize=(15, 7))\n",
    "\n",
    "# Plot the count of flowers in each category of species\n",
    "ax = sns.countplot(data=iris, x='species', palette='Set3', width=0.6)\n",
    "\n",
    "# Annotate each bar with its count value\n",
    "for p in ax.patches:\n",
    "    ax.annotate(format(p.get_height(), '.0f'), \n",
    "                (p.get_x() + p.get_width() / 2., p.get_height()), \n",
    "                ha = 'center', va = 'center', \n",
    "                xytext = (0, 9), \n",
    "                textcoords = 'offset points')\n",
    "\n",
    "plt.title('Count of Flowers in Each Species Category')\n",
    "plt.xlabel('Species')\n",
    "plt.ylabel('Count')\n",
    "plt.show()\n"
   ]
  },
  {
   "cell_type": "markdown",
   "id": "29bc5430-7ca9-4b9f-932a-bfc91ed5ad8d",
   "metadata": {
    "tags": []
   },
   "source": [
    "## Measured lengths and withds by the species"
   ]
  },
  {
   "cell_type": "code",
   "execution_count": 84,
   "id": "0f5dbaee-b788-4833-b408-d4a237d633d5",
   "metadata": {
    "tags": []
   },
   "outputs": [
    {
     "data": {
      "image/png": "[encoded data removed]",
      "text/plain": [
       "<Figure size 1500x500 with 1 Axes>"
      ]
     },
     "metadata": {},
     "output_type": "display_data"
    },
    {
     "data": {
      "image/png": "[encoded data removed]",
      "text/plain": [
       "<Figure size 1500x500 with 1 Axes>"
      ]
     },
     "metadata": {},
     "output_type": "display_data"
    },
    {
     "data": {
      "image/png": "[encoded data removed]",
      "text/plain": [
       "<Figure size 1500x500 with 1 Axes>"
      ]
     },
     "metadata": {},
     "output_type": "display_data"
    },
    {
     "data": {
      "image/png": "[encoded data removed]",
      "text/plain": [
       "<Figure size 1500x500 with 1 Axes>"
      ]
     },
     "metadata": {},
     "output_type": "display_data"
    }
   ],
   "source": [
    "columns = iris.columns\n",
    "\n",
    "for col in columns:\n",
    "    if col == 'species':\n",
    "        continue\n",
    "    plt.figure(figsize=(15, 5))\n",
    "    sns.barplot(data=iris, x=col, y=iris[col], palette=palettes[5], hue='species')\n",
    "    plt.title(f'Distribution of {col}')\n",
    "    plt.legend(loc='center left', bbox_to_anchor=(1, 0.5))\n",
    "plt.show()"
   ]
  },
  {
   "cell_type": "markdown",
   "id": "71fcae19-7df1-4661-a97f-fdfd6f4cf547",
   "metadata": {},
   "source": [
    "From the following graphes, we notice some intrestenting informations:\n",
    "- The setosa specie is caracterised with a small sepal_length, medium to high sepad_width, very low petal width and length\n",
    "- The versicolor specie is caraterised by a variation in the sepal_length, where the typically are concentrated are a medium length, same for the petal width. Concerning the petal, this specie mainly obtain a medium length and width, with some having more than average\n",
    "- The virginica specie is identifiable with it's medium to significantly high setal_length, with a lot of variation when it comes to the sepal_width. On the other hand, the petal length and width for this specie is siginifcantly higher than all the other species, with some precence in the medium range"
   ]
  },
  {
   "cell_type": "markdown",
   "id": "e2c34cc5-0954-434f-9eea-af32537c278b",
   "metadata": {},
   "source": [
    "# Data cleaning"
   ]
  },
  {
   "cell_type": "code",
   "execution_count": 85,
   "id": "a2885ddc-716c-4c1f-bc4c-9c1d366fe7eb",
   "metadata": {
    "tags": []
   },
   "outputs": [
    {
     "data": {
      "text/plain": [
       "sepal_length    0\n",
       "sepal_width     0\n",
       "petal_length    0\n",
       "petal_width     0\n",
       "species         0\n",
       "dtype: int64"
      ]
     },
     "execution_count": 85,
     "metadata": {},
     "output_type": "execute_result"
    }
   ],
   "source": [
    "iris.isna().sum()"
   ]
  },
  {
   "cell_type": "code",
   "execution_count": 86,
   "id": "4c0a10c7-4b2b-4543-a26c-97b1ce06af86",
   "metadata": {
    "tags": []
   },
   "outputs": [
    {
     "data": {
      "text/plain": [
       "0"
      ]
     },
     "execution_count": 86,
     "metadata": {},
     "output_type": "execute_result"
    }
   ],
   "source": [
    "iris.duplicated().sum()"
   ]
  },
  {
   "cell_type": "code",
   "execution_count": 88,
   "id": "86fed0a7-d0bf-45ef-bf57-d58a3d8c9219",
   "metadata": {
    "tags": []
   },
   "outputs": [
    {
     "name": "stdout",
     "output_type": "stream",
     "text": [
      "<class 'pandas.core.frame.DataFrame'>\n",
      "Index: 147 entries, 0 to 149\n",
      "Data columns (total 5 columns):\n",
      " #   Column        Non-Null Count  Dtype  \n",
      "---  ------        --------------  -----  \n",
      " 0   sepal_length  147 non-null    float64\n",
      " 1   sepal_width   147 non-null    float64\n",
      " 2   petal_length  147 non-null    float64\n",
      " 3   petal_width   147 non-null    float64\n",
      " 4   species       147 non-null    object \n",
      "dtypes: float64(4), object(1)\n",
      "memory usage: 6.9+ KB\n"
     ]
    }
   ],
   "source": [
    "iris.info()"
   ]
  },
  {
   "cell_type": "markdown",
   "id": "07b51822-fbac-4b0c-a0ea-74d02a777b81",
   "metadata": {
    "tags": []
   },
   "source": [
    "Since we have no missing values and no duplicated one either, we dont need to perform any additional data cleaning process. Also, we have no bad formatted entries as every piece of data is either float or a string values"
   ]
  },
  {
   "cell_type": "markdown",
   "id": "76c5eb3e-5a53-4ec1-a593-aac6abb335db",
   "metadata": {},
   "source": [
    "# Data Preprocessing"
   ]
  },
  {
   "cell_type": "markdown",
   "id": "65f5c8a2-5865-42cb-825b-184ad0446981",
   "metadata": {},
   "source": [
    "Here we can concetrate on different aspect like feature enginnering, normalisation and standerisation and many more"
   ]
  },
  {
   "cell_type": "code",
   "execution_count": 91,
   "id": "b18a3d7d-d6dd-44ad-899a-0f50c61db085",
   "metadata": {
    "tags": []
   },
   "outputs": [],
   "source": [
    "from sklearn.model_selection import train_test_split\n",
    "from sklearn.preprocessing import StandardScaler, MinMaxScaler, LabelEncoder"
   ]
  },
  {
   "cell_type": "markdown",
   "id": "e73911f0-6bb7-40b7-bb16-6a6e3e4b75ae",
   "metadata": {},
   "source": [
    "## Encoding data"
   ]
  },
  {
   "cell_type": "markdown",
   "id": "a8d8b899-88c5-4119-b3b3-12c7ef77f609",
   "metadata": {},
   "source": [
    "In order for our model to properly handle our dataset, we must encode our dataset, meaning we must transform those strings values into numerical values, thus called encoding "
   ]
  },
  {
   "cell_type": "code",
   "execution_count": 92,
   "id": "68624624-571c-40b2-aad9-7d30f5449a80",
   "metadata": {
    "tags": []
   },
   "outputs": [],
   "source": [
    "label_encoder = LabelEncoder()"
   ]
  },
  {
   "cell_type": "code",
   "execution_count": 93,
   "id": "8dd35d5e-c19a-4242-8e6f-64c2691d7b91",
   "metadata": {
    "tags": []
   },
   "outputs": [],
   "source": [
    "iris['species_encoded'] = label_encoder.fit_transform(iris['species'])"
   ]
  },
  {
   "cell_type": "code",
   "execution_count": 95,
   "id": "29de45ec-6007-45cd-9c95-1b95066a8152",
   "metadata": {
    "tags": []
   },
   "outputs": [
    {
     "data": {
      "text/plain": [
       "array(['Iris-setosa', 'Iris-versicolor', 'Iris-virginica'], dtype=object)"
      ]
     },
     "execution_count": 95,
     "metadata": {},
     "output_type": "execute_result"
    }
   ],
   "source": [
    "label_encoder.classes_"
   ]
  },
  {
   "cell_type": "markdown",
   "id": "c1c77ffa-f790-4f21-986e-3565497531dc",
   "metadata": {
    "tags": []
   },
   "source": [
    "The function `label_encoder` transformed our species column into a new column encoded with values ranging from 0 to 2, <br>representing in order the following array of species ['Iris-setosa' : 0, 'Iris-versicolor' : 1, 'Iris-virginica' : 2]"
   ]
  },
  {
   "cell_type": "markdown",
   "id": "9d72acc1-aa9a-4ab9-8d10-bdb822f4911c",
   "metadata": {
    "tags": []
   },
   "source": [
    "## Splitting the data"
   ]
  },
  {
   "cell_type": "markdown",
   "id": "f0adb2e2-5247-44d5-934c-9c5b09a800c3",
   "metadata": {
    "tags": []
   },
   "source": [
    "we need to split the data into 2 sub-dataset, one that contains only our target feature, and the other containing the other features with the target feature excluded"
   ]
  },
  {
   "cell_type": "code",
   "execution_count": 119,
   "id": "4a014f85-d2bf-48de-9957-403935fd8c4a",
   "metadata": {
    "tags": []
   },
   "outputs": [],
   "source": [
    "X = iris.drop(['species_encoded', 'species'], inplace = False, axis = 1)\n",
    "Y = iris['species_encoded']"
   ]
  },
  {
   "cell_type": "code",
   "execution_count": 120,
   "id": "011f1e65-ee1e-4887-8605-d3a8c48fa0bc",
   "metadata": {
    "tags": []
   },
   "outputs": [
    {
     "data": {
      "text/html": [
       "<div>\n",
       "<style scoped>\n",
       "    .dataframe tbody tr th:only-of-type {\n",
       "        vertical-align: middle;\n",
       "    }\n",
       "\n",
       "    .dataframe tbody tr th {\n",
       "        vertical-align: top;\n",
       "    }\n",
       "\n",
       "    .dataframe thead th {\n",
       "        text-align: right;\n",
       "    }\n",
       "</style>\n",
       "<table border=\"1\" class=\"dataframe\">\n",
       "  <thead>\n",
       "    <tr style=\"text-align: right;\">\n",
       "      <th></th>\n",
       "      <th>0</th>\n",
       "      <th>1</th>\n",
       "      <th>2</th>\n",
       "      <th>3</th>\n",
       "      <th>4</th>\n",
       "      <th>5</th>\n",
       "      <th>6</th>\n",
       "      <th>7</th>\n",
       "      <th>8</th>\n",
       "      <th>9</th>\n",
       "      <th>10</th>\n",
       "      <th>11</th>\n",
       "      <th>12</th>\n",
       "      <th>13</th>\n",
       "      <th>14</th>\n",
       "      <th>15</th>\n",
       "      <th>16</th>\n",
       "      <th>17</th>\n",
       "      <th>18</th>\n",
       "      <th>19</th>\n",
       "      <th>20</th>\n",
       "      <th>21</th>\n",
       "      <th>22</th>\n",
       "      <th>23</th>\n",
       "      <th>24</th>\n",
       "      <th>25</th>\n",
       "      <th>26</th>\n",
       "      <th>27</th>\n",
       "      <th>28</th>\n",
       "      <th>29</th>\n",
       "      <th>30</th>\n",
       "      <th>31</th>\n",
       "      <th>32</th>\n",
       "      <th>33</th>\n",
       "      <th>35</th>\n",
       "      <th>36</th>\n",
       "      <th>38</th>\n",
       "      <th>39</th>\n",
       "      <th>40</th>\n",
       "      <th>41</th>\n",
       "      <th>42</th>\n",
       "      <th>43</th>\n",
       "      <th>44</th>\n",
       "      <th>45</th>\n",
       "      <th>46</th>\n",
       "      <th>47</th>\n",
       "      <th>48</th>\n",
       "      <th>49</th>\n",
       "      <th>50</th>\n",
       "      <th>51</th>\n",
       "      <th>...</th>\n",
       "      <th>99</th>\n",
       "      <th>100</th>\n",
       "      <th>101</th>\n",
       "      <th>102</th>\n",
       "      <th>103</th>\n",
       "      <th>104</th>\n",
       "      <th>105</th>\n",
       "      <th>106</th>\n",
       "      <th>107</th>\n",
       "      <th>108</th>\n",
       "      <th>109</th>\n",
       "      <th>110</th>\n",
       "      <th>111</th>\n",
       "      <th>112</th>\n",
       "      <th>113</th>\n",
       "      <th>114</th>\n",
       "      <th>115</th>\n",
       "      <th>116</th>\n",
       "      <th>117</th>\n",
       "      <th>118</th>\n",
       "      <th>119</th>\n",
       "      <th>120</th>\n",
       "      <th>121</th>\n",
       "      <th>122</th>\n",
       "      <th>123</th>\n",
       "      <th>124</th>\n",
       "      <th>125</th>\n",
       "      <th>126</th>\n",
       "      <th>127</th>\n",
       "      <th>128</th>\n",
       "      <th>129</th>\n",
       "      <th>130</th>\n",
       "      <th>131</th>\n",
       "      <th>132</th>\n",
       "      <th>133</th>\n",
       "      <th>134</th>\n",
       "      <th>135</th>\n",
       "      <th>136</th>\n",
       "      <th>137</th>\n",
       "      <th>138</th>\n",
       "      <th>139</th>\n",
       "      <th>140</th>\n",
       "      <th>141</th>\n",
       "      <th>143</th>\n",
       "      <th>144</th>\n",
       "      <th>145</th>\n",
       "      <th>146</th>\n",
       "      <th>147</th>\n",
       "      <th>148</th>\n",
       "      <th>149</th>\n",
       "    </tr>\n",
       "  </thead>\n",
       "  <tbody>\n",
       "    <tr>\n",
       "      <th>sepal_length</th>\n",
       "      <td>5.1</td>\n",
       "      <td>4.9</td>\n",
       "      <td>4.7</td>\n",
       "      <td>4.6</td>\n",
       "      <td>5.0</td>\n",
       "      <td>5.4</td>\n",
       "      <td>4.6</td>\n",
       "      <td>5.0</td>\n",
       "      <td>4.4</td>\n",
       "      <td>4.9</td>\n",
       "      <td>5.4</td>\n",
       "      <td>4.8</td>\n",
       "      <td>4.8</td>\n",
       "      <td>4.3</td>\n",
       "      <td>5.8</td>\n",
       "      <td>5.7</td>\n",
       "      <td>5.4</td>\n",
       "      <td>5.1</td>\n",
       "      <td>5.7</td>\n",
       "      <td>5.1</td>\n",
       "      <td>5.4</td>\n",
       "      <td>5.1</td>\n",
       "      <td>4.6</td>\n",
       "      <td>5.1</td>\n",
       "      <td>4.8</td>\n",
       "      <td>5.0</td>\n",
       "      <td>5.0</td>\n",
       "      <td>5.2</td>\n",
       "      <td>5.2</td>\n",
       "      <td>4.7</td>\n",
       "      <td>4.8</td>\n",
       "      <td>5.4</td>\n",
       "      <td>5.2</td>\n",
       "      <td>5.5</td>\n",
       "      <td>5.0</td>\n",
       "      <td>5.5</td>\n",
       "      <td>4.4</td>\n",
       "      <td>5.1</td>\n",
       "      <td>5.0</td>\n",
       "      <td>4.5</td>\n",
       "      <td>4.4</td>\n",
       "      <td>5.0</td>\n",
       "      <td>5.1</td>\n",
       "      <td>4.8</td>\n",
       "      <td>5.1</td>\n",
       "      <td>4.6</td>\n",
       "      <td>5.3</td>\n",
       "      <td>5.0</td>\n",
       "      <td>7.0</td>\n",
       "      <td>6.4</td>\n",
       "      <td>...</td>\n",
       "      <td>5.7</td>\n",
       "      <td>6.3</td>\n",
       "      <td>5.8</td>\n",
       "      <td>7.1</td>\n",
       "      <td>6.3</td>\n",
       "      <td>6.5</td>\n",
       "      <td>7.6</td>\n",
       "      <td>4.9</td>\n",
       "      <td>7.3</td>\n",
       "      <td>6.7</td>\n",
       "      <td>7.2</td>\n",
       "      <td>6.5</td>\n",
       "      <td>6.4</td>\n",
       "      <td>6.8</td>\n",
       "      <td>5.7</td>\n",
       "      <td>5.8</td>\n",
       "      <td>6.4</td>\n",
       "      <td>6.5</td>\n",
       "      <td>7.7</td>\n",
       "      <td>7.7</td>\n",
       "      <td>6.0</td>\n",
       "      <td>6.9</td>\n",
       "      <td>5.6</td>\n",
       "      <td>7.7</td>\n",
       "      <td>6.3</td>\n",
       "      <td>6.7</td>\n",
       "      <td>7.2</td>\n",
       "      <td>6.2</td>\n",
       "      <td>6.1</td>\n",
       "      <td>6.4</td>\n",
       "      <td>7.2</td>\n",
       "      <td>7.4</td>\n",
       "      <td>7.9</td>\n",
       "      <td>6.4</td>\n",
       "      <td>6.3</td>\n",
       "      <td>6.1</td>\n",
       "      <td>7.7</td>\n",
       "      <td>6.3</td>\n",
       "      <td>6.4</td>\n",
       "      <td>6.0</td>\n",
       "      <td>6.9</td>\n",
       "      <td>6.7</td>\n",
       "      <td>6.9</td>\n",
       "      <td>6.8</td>\n",
       "      <td>6.7</td>\n",
       "      <td>6.7</td>\n",
       "      <td>6.3</td>\n",
       "      <td>6.5</td>\n",
       "      <td>6.2</td>\n",
       "      <td>5.9</td>\n",
       "    </tr>\n",
       "    <tr>\n",
       "      <th>sepal_width</th>\n",
       "      <td>3.5</td>\n",
       "      <td>3.0</td>\n",
       "      <td>3.2</td>\n",
       "      <td>3.1</td>\n",
       "      <td>3.6</td>\n",
       "      <td>3.9</td>\n",
       "      <td>3.4</td>\n",
       "      <td>3.4</td>\n",
       "      <td>2.9</td>\n",
       "      <td>3.1</td>\n",
       "      <td>3.7</td>\n",
       "      <td>3.4</td>\n",
       "      <td>3.0</td>\n",
       "      <td>3.0</td>\n",
       "      <td>4.0</td>\n",
       "      <td>4.4</td>\n",
       "      <td>3.9</td>\n",
       "      <td>3.5</td>\n",
       "      <td>3.8</td>\n",
       "      <td>3.8</td>\n",
       "      <td>3.4</td>\n",
       "      <td>3.7</td>\n",
       "      <td>3.6</td>\n",
       "      <td>3.3</td>\n",
       "      <td>3.4</td>\n",
       "      <td>3.0</td>\n",
       "      <td>3.4</td>\n",
       "      <td>3.5</td>\n",
       "      <td>3.4</td>\n",
       "      <td>3.2</td>\n",
       "      <td>3.1</td>\n",
       "      <td>3.4</td>\n",
       "      <td>4.1</td>\n",
       "      <td>4.2</td>\n",
       "      <td>3.2</td>\n",
       "      <td>3.5</td>\n",
       "      <td>3.0</td>\n",
       "      <td>3.4</td>\n",
       "      <td>3.5</td>\n",
       "      <td>2.3</td>\n",
       "      <td>3.2</td>\n",
       "      <td>3.5</td>\n",
       "      <td>3.8</td>\n",
       "      <td>3.0</td>\n",
       "      <td>3.8</td>\n",
       "      <td>3.2</td>\n",
       "      <td>3.7</td>\n",
       "      <td>3.3</td>\n",
       "      <td>3.2</td>\n",
       "      <td>3.2</td>\n",
       "      <td>...</td>\n",
       "      <td>2.8</td>\n",
       "      <td>3.3</td>\n",
       "      <td>2.7</td>\n",
       "      <td>3.0</td>\n",
       "      <td>2.9</td>\n",
       "      <td>3.0</td>\n",
       "      <td>3.0</td>\n",
       "      <td>2.5</td>\n",
       "      <td>2.9</td>\n",
       "      <td>2.5</td>\n",
       "      <td>3.6</td>\n",
       "      <td>3.2</td>\n",
       "      <td>2.7</td>\n",
       "      <td>3.0</td>\n",
       "      <td>2.5</td>\n",
       "      <td>2.8</td>\n",
       "      <td>3.2</td>\n",
       "      <td>3.0</td>\n",
       "      <td>3.8</td>\n",
       "      <td>2.6</td>\n",
       "      <td>2.2</td>\n",
       "      <td>3.2</td>\n",
       "      <td>2.8</td>\n",
       "      <td>2.8</td>\n",
       "      <td>2.7</td>\n",
       "      <td>3.3</td>\n",
       "      <td>3.2</td>\n",
       "      <td>2.8</td>\n",
       "      <td>3.0</td>\n",
       "      <td>2.8</td>\n",
       "      <td>3.0</td>\n",
       "      <td>2.8</td>\n",
       "      <td>3.8</td>\n",
       "      <td>2.8</td>\n",
       "      <td>2.8</td>\n",
       "      <td>2.6</td>\n",
       "      <td>3.0</td>\n",
       "      <td>3.4</td>\n",
       "      <td>3.1</td>\n",
       "      <td>3.0</td>\n",
       "      <td>3.1</td>\n",
       "      <td>3.1</td>\n",
       "      <td>3.1</td>\n",
       "      <td>3.2</td>\n",
       "      <td>3.3</td>\n",
       "      <td>3.0</td>\n",
       "      <td>2.5</td>\n",
       "      <td>3.0</td>\n",
       "      <td>3.4</td>\n",
       "      <td>3.0</td>\n",
       "    </tr>\n",
       "    <tr>\n",
       "      <th>petal_length</th>\n",
       "      <td>1.4</td>\n",
       "      <td>1.4</td>\n",
       "      <td>1.3</td>\n",
       "      <td>1.5</td>\n",
       "      <td>1.4</td>\n",
       "      <td>1.7</td>\n",
       "      <td>1.4</td>\n",
       "      <td>1.5</td>\n",
       "      <td>1.4</td>\n",
       "      <td>1.5</td>\n",
       "      <td>1.5</td>\n",
       "      <td>1.6</td>\n",
       "      <td>1.4</td>\n",
       "      <td>1.1</td>\n",
       "      <td>1.2</td>\n",
       "      <td>1.5</td>\n",
       "      <td>1.3</td>\n",
       "      <td>1.4</td>\n",
       "      <td>1.7</td>\n",
       "      <td>1.5</td>\n",
       "      <td>1.7</td>\n",
       "      <td>1.5</td>\n",
       "      <td>1.0</td>\n",
       "      <td>1.7</td>\n",
       "      <td>1.9</td>\n",
       "      <td>1.6</td>\n",
       "      <td>1.6</td>\n",
       "      <td>1.5</td>\n",
       "      <td>1.4</td>\n",
       "      <td>1.6</td>\n",
       "      <td>1.6</td>\n",
       "      <td>1.5</td>\n",
       "      <td>1.5</td>\n",
       "      <td>1.4</td>\n",
       "      <td>1.2</td>\n",
       "      <td>1.3</td>\n",
       "      <td>1.3</td>\n",
       "      <td>1.5</td>\n",
       "      <td>1.3</td>\n",
       "      <td>1.3</td>\n",
       "      <td>1.3</td>\n",
       "      <td>1.6</td>\n",
       "      <td>1.9</td>\n",
       "      <td>1.4</td>\n",
       "      <td>1.6</td>\n",
       "      <td>1.4</td>\n",
       "      <td>1.5</td>\n",
       "      <td>1.4</td>\n",
       "      <td>4.7</td>\n",
       "      <td>4.5</td>\n",
       "      <td>...</td>\n",
       "      <td>4.1</td>\n",
       "      <td>6.0</td>\n",
       "      <td>5.1</td>\n",
       "      <td>5.9</td>\n",
       "      <td>5.6</td>\n",
       "      <td>5.8</td>\n",
       "      <td>6.6</td>\n",
       "      <td>4.5</td>\n",
       "      <td>6.3</td>\n",
       "      <td>5.8</td>\n",
       "      <td>6.1</td>\n",
       "      <td>5.1</td>\n",
       "      <td>5.3</td>\n",
       "      <td>5.5</td>\n",
       "      <td>5.0</td>\n",
       "      <td>5.1</td>\n",
       "      <td>5.3</td>\n",
       "      <td>5.5</td>\n",
       "      <td>6.7</td>\n",
       "      <td>6.9</td>\n",
       "      <td>5.0</td>\n",
       "      <td>5.7</td>\n",
       "      <td>4.9</td>\n",
       "      <td>6.7</td>\n",
       "      <td>4.9</td>\n",
       "      <td>5.7</td>\n",
       "      <td>6.0</td>\n",
       "      <td>4.8</td>\n",
       "      <td>4.9</td>\n",
       "      <td>5.6</td>\n",
       "      <td>5.8</td>\n",
       "      <td>6.1</td>\n",
       "      <td>6.4</td>\n",
       "      <td>5.6</td>\n",
       "      <td>5.1</td>\n",
       "      <td>5.6</td>\n",
       "      <td>6.1</td>\n",
       "      <td>5.6</td>\n",
       "      <td>5.5</td>\n",
       "      <td>4.8</td>\n",
       "      <td>5.4</td>\n",
       "      <td>5.6</td>\n",
       "      <td>5.1</td>\n",
       "      <td>5.9</td>\n",
       "      <td>5.7</td>\n",
       "      <td>5.2</td>\n",
       "      <td>5.0</td>\n",
       "      <td>5.2</td>\n",
       "      <td>5.4</td>\n",
       "      <td>5.1</td>\n",
       "    </tr>\n",
       "    <tr>\n",
       "      <th>petal_width</th>\n",
       "      <td>0.2</td>\n",
       "      <td>0.2</td>\n",
       "      <td>0.2</td>\n",
       "      <td>0.2</td>\n",
       "      <td>0.2</td>\n",
       "      <td>0.4</td>\n",
       "      <td>0.3</td>\n",
       "      <td>0.2</td>\n",
       "      <td>0.2</td>\n",
       "      <td>0.1</td>\n",
       "      <td>0.2</td>\n",
       "      <td>0.2</td>\n",
       "      <td>0.1</td>\n",
       "      <td>0.1</td>\n",
       "      <td>0.2</td>\n",
       "      <td>0.4</td>\n",
       "      <td>0.4</td>\n",
       "      <td>0.3</td>\n",
       "      <td>0.3</td>\n",
       "      <td>0.3</td>\n",
       "      <td>0.2</td>\n",
       "      <td>0.4</td>\n",
       "      <td>0.2</td>\n",
       "      <td>0.5</td>\n",
       "      <td>0.2</td>\n",
       "      <td>0.2</td>\n",
       "      <td>0.4</td>\n",
       "      <td>0.2</td>\n",
       "      <td>0.2</td>\n",
       "      <td>0.2</td>\n",
       "      <td>0.2</td>\n",
       "      <td>0.4</td>\n",
       "      <td>0.1</td>\n",
       "      <td>0.2</td>\n",
       "      <td>0.2</td>\n",
       "      <td>0.2</td>\n",
       "      <td>0.2</td>\n",
       "      <td>0.2</td>\n",
       "      <td>0.3</td>\n",
       "      <td>0.3</td>\n",
       "      <td>0.2</td>\n",
       "      <td>0.6</td>\n",
       "      <td>0.4</td>\n",
       "      <td>0.3</td>\n",
       "      <td>0.2</td>\n",
       "      <td>0.2</td>\n",
       "      <td>0.2</td>\n",
       "      <td>0.2</td>\n",
       "      <td>1.4</td>\n",
       "      <td>1.5</td>\n",
       "      <td>...</td>\n",
       "      <td>1.3</td>\n",
       "      <td>2.5</td>\n",
       "      <td>1.9</td>\n",
       "      <td>2.1</td>\n",
       "      <td>1.8</td>\n",
       "      <td>2.2</td>\n",
       "      <td>2.1</td>\n",
       "      <td>1.7</td>\n",
       "      <td>1.8</td>\n",
       "      <td>1.8</td>\n",
       "      <td>2.5</td>\n",
       "      <td>2.0</td>\n",
       "      <td>1.9</td>\n",
       "      <td>2.1</td>\n",
       "      <td>2.0</td>\n",
       "      <td>2.4</td>\n",
       "      <td>2.3</td>\n",
       "      <td>1.8</td>\n",
       "      <td>2.2</td>\n",
       "      <td>2.3</td>\n",
       "      <td>1.5</td>\n",
       "      <td>2.3</td>\n",
       "      <td>2.0</td>\n",
       "      <td>2.0</td>\n",
       "      <td>1.8</td>\n",
       "      <td>2.1</td>\n",
       "      <td>1.8</td>\n",
       "      <td>1.8</td>\n",
       "      <td>1.8</td>\n",
       "      <td>2.1</td>\n",
       "      <td>1.6</td>\n",
       "      <td>1.9</td>\n",
       "      <td>2.0</td>\n",
       "      <td>2.2</td>\n",
       "      <td>1.5</td>\n",
       "      <td>1.4</td>\n",
       "      <td>2.3</td>\n",
       "      <td>2.4</td>\n",
       "      <td>1.8</td>\n",
       "      <td>1.8</td>\n",
       "      <td>2.1</td>\n",
       "      <td>2.4</td>\n",
       "      <td>2.3</td>\n",
       "      <td>2.3</td>\n",
       "      <td>2.5</td>\n",
       "      <td>2.3</td>\n",
       "      <td>1.9</td>\n",
       "      <td>2.0</td>\n",
       "      <td>2.3</td>\n",
       "      <td>1.8</td>\n",
       "    </tr>\n",
       "  </tbody>\n",
       "</table>\n",
       "<p>4 rows × 147 columns</p>\n",
       "</div>"
      ],
      "text/plain": [
       "              0    1    2    3    4    5    6    7    8    9    10   11   12   \\\n",
       "sepal_length  5.1  4.9  4.7  4.6  5.0  5.4  4.6  5.0  4.4  4.9  5.4  4.8  4.8   \n",
       "sepal_width   3.5  3.0  3.2  3.1  3.6  3.9  3.4  3.4  2.9  3.1  3.7  3.4  3.0   \n",
       "petal_length  1.4  1.4  1.3  1.5  1.4  1.7  1.4  1.5  1.4  1.5  1.5  1.6  1.4   \n",
       "petal_width   0.2  0.2  0.2  0.2  0.2  0.4  0.3  0.2  0.2  0.1  0.2  0.2  0.1   \n",
       "\n",
       "              13   14   15   16   17   18   19   20   21   22   23   24   25   \\\n",
       "sepal_length  4.3  5.8  5.7  5.4  5.1  5.7  5.1  5.4  5.1  4.6  5.1  4.8  5.0   \n",
       "sepal_width   3.0  4.0  4.4  3.9  3.5  3.8  3.8  3.4  3.7  3.6  3.3  3.4  3.0   \n",
       "petal_length  1.1  1.2  1.5  1.3  1.4  1.7  1.5  1.7  1.5  1.0  1.7  1.9  1.6   \n",
       "petal_width   0.1  0.2  0.4  0.4  0.3  0.3  0.3  0.2  0.4  0.2  0.5  0.2  0.2   \n",
       "\n",
       "              26   27   28   29   30   31   32   33   35   36   38   39   40   \\\n",
       "sepal_length  5.0  5.2  5.2  4.7  4.8  5.4  5.2  5.5  5.0  5.5  4.4  5.1  5.0   \n",
       "sepal_width   3.4  3.5  3.4  3.2  3.1  3.4  4.1  4.2  3.2  3.5  3.0  3.4  3.5   \n",
       "petal_length  1.6  1.5  1.4  1.6  1.6  1.5  1.5  1.4  1.2  1.3  1.3  1.5  1.3   \n",
       "petal_width   0.4  0.2  0.2  0.2  0.2  0.4  0.1  0.2  0.2  0.2  0.2  0.2  0.3   \n",
       "\n",
       "              41   42   43   44   45   46   47   48   49   50   51   ...  99   \\\n",
       "sepal_length  4.5  4.4  5.0  5.1  4.8  5.1  4.6  5.3  5.0  7.0  6.4  ...  5.7   \n",
       "sepal_width   2.3  3.2  3.5  3.8  3.0  3.8  3.2  3.7  3.3  3.2  3.2  ...  2.8   \n",
       "petal_length  1.3  1.3  1.6  1.9  1.4  1.6  1.4  1.5  1.4  4.7  4.5  ...  4.1   \n",
       "petal_width   0.3  0.2  0.6  0.4  0.3  0.2  0.2  0.2  0.2  1.4  1.5  ...  1.3   \n",
       "\n",
       "              100  101  102  103  104  105  106  107  108  109  110  111  112  \\\n",
       "sepal_length  6.3  5.8  7.1  6.3  6.5  7.6  4.9  7.3  6.7  7.2  6.5  6.4  6.8   \n",
       "sepal_width   3.3  2.7  3.0  2.9  3.0  3.0  2.5  2.9  2.5  3.6  3.2  2.7  3.0   \n",
       "petal_length  6.0  5.1  5.9  5.6  5.8  6.6  4.5  6.3  5.8  6.1  5.1  5.3  5.5   \n",
       "petal_width   2.5  1.9  2.1  1.8  2.2  2.1  1.7  1.8  1.8  2.5  2.0  1.9  2.1   \n",
       "\n",
       "              113  114  115  116  117  118  119  120  121  122  123  124  125  \\\n",
       "sepal_length  5.7  5.8  6.4  6.5  7.7  7.7  6.0  6.9  5.6  7.7  6.3  6.7  7.2   \n",
       "sepal_width   2.5  2.8  3.2  3.0  3.8  2.6  2.2  3.2  2.8  2.8  2.7  3.3  3.2   \n",
       "petal_length  5.0  5.1  5.3  5.5  6.7  6.9  5.0  5.7  4.9  6.7  4.9  5.7  6.0   \n",
       "petal_width   2.0  2.4  2.3  1.8  2.2  2.3  1.5  2.3  2.0  2.0  1.8  2.1  1.8   \n",
       "\n",
       "              126  127  128  129  130  131  132  133  134  135  136  137  138  \\\n",
       "sepal_length  6.2  6.1  6.4  7.2  7.4  7.9  6.4  6.3  6.1  7.7  6.3  6.4  6.0   \n",
       "sepal_width   2.8  3.0  2.8  3.0  2.8  3.8  2.8  2.8  2.6  3.0  3.4  3.1  3.0   \n",
       "petal_length  4.8  4.9  5.6  5.8  6.1  6.4  5.6  5.1  5.6  6.1  5.6  5.5  4.8   \n",
       "petal_width   1.8  1.8  2.1  1.6  1.9  2.0  2.2  1.5  1.4  2.3  2.4  1.8  1.8   \n",
       "\n",
       "              139  140  141  143  144  145  146  147  148  149  \n",
       "sepal_length  6.9  6.7  6.9  6.8  6.7  6.7  6.3  6.5  6.2  5.9  \n",
       "sepal_width   3.1  3.1  3.1  3.2  3.3  3.0  2.5  3.0  3.4  3.0  \n",
       "petal_length  5.4  5.6  5.1  5.9  5.7  5.2  5.0  5.2  5.4  5.1  \n",
       "petal_width   2.1  2.4  2.3  2.3  2.5  2.3  1.9  2.0  2.3  1.8  \n",
       "\n",
       "[4 rows x 147 columns]"
      ]
     },
     "execution_count": 120,
     "metadata": {},
     "output_type": "execute_result"
    }
   ],
   "source": [
    "X.T"
   ]
  },
  {
   "cell_type": "code",
   "execution_count": 121,
   "id": "1f48b04f-e63b-4058-85d0-87c3b4b3c34b",
   "metadata": {
    "tags": []
   },
   "outputs": [
    {
     "data": {
      "text/html": [
       "<div>\n",
       "<style scoped>\n",
       "    .dataframe tbody tr th:only-of-type {\n",
       "        vertical-align: middle;\n",
       "    }\n",
       "\n",
       "    .dataframe tbody tr th {\n",
       "        vertical-align: top;\n",
       "    }\n",
       "\n",
       "    .dataframe thead th {\n",
       "        text-align: right;\n",
       "    }\n",
       "</style>\n",
       "<table border=\"1\" class=\"dataframe\">\n",
       "  <thead>\n",
       "    <tr style=\"text-align: right;\">\n",
       "      <th></th>\n",
       "      <th>sepal_length</th>\n",
       "      <th>sepal_width</th>\n",
       "      <th>petal_length</th>\n",
       "      <th>petal_width</th>\n",
       "    </tr>\n",
       "  </thead>\n",
       "  <tbody>\n",
       "    <tr>\n",
       "      <th>count</th>\n",
       "      <td>147.000000</td>\n",
       "      <td>147.000000</td>\n",
       "      <td>147.000000</td>\n",
       "      <td>147.000000</td>\n",
       "    </tr>\n",
       "    <tr>\n",
       "      <th>mean</th>\n",
       "      <td>5.856463</td>\n",
       "      <td>3.055782</td>\n",
       "      <td>3.780272</td>\n",
       "      <td>1.208844</td>\n",
       "    </tr>\n",
       "    <tr>\n",
       "      <th>std</th>\n",
       "      <td>0.829100</td>\n",
       "      <td>0.437009</td>\n",
       "      <td>1.759111</td>\n",
       "      <td>0.757874</td>\n",
       "    </tr>\n",
       "    <tr>\n",
       "      <th>min</th>\n",
       "      <td>4.300000</td>\n",
       "      <td>2.000000</td>\n",
       "      <td>1.000000</td>\n",
       "      <td>0.100000</td>\n",
       "    </tr>\n",
       "    <tr>\n",
       "      <th>25%</th>\n",
       "      <td>5.100000</td>\n",
       "      <td>2.800000</td>\n",
       "      <td>1.600000</td>\n",
       "      <td>0.300000</td>\n",
       "    </tr>\n",
       "    <tr>\n",
       "      <th>50%</th>\n",
       "      <td>5.800000</td>\n",
       "      <td>3.000000</td>\n",
       "      <td>4.400000</td>\n",
       "      <td>1.300000</td>\n",
       "    </tr>\n",
       "    <tr>\n",
       "      <th>75%</th>\n",
       "      <td>6.400000</td>\n",
       "      <td>3.300000</td>\n",
       "      <td>5.100000</td>\n",
       "      <td>1.800000</td>\n",
       "    </tr>\n",
       "    <tr>\n",
       "      <th>max</th>\n",
       "      <td>7.900000</td>\n",
       "      <td>4.400000</td>\n",
       "      <td>6.900000</td>\n",
       "      <td>2.500000</td>\n",
       "    </tr>\n",
       "  </tbody>\n",
       "</table>\n",
       "</div>"
      ],
      "text/plain": [
       "       sepal_length  sepal_width  petal_length  petal_width\n",
       "count    147.000000   147.000000    147.000000   147.000000\n",
       "mean       5.856463     3.055782      3.780272     1.208844\n",
       "std        0.829100     0.437009      1.759111     0.757874\n",
       "min        4.300000     2.000000      1.000000     0.100000\n",
       "25%        5.100000     2.800000      1.600000     0.300000\n",
       "50%        5.800000     3.000000      4.400000     1.300000\n",
       "75%        6.400000     3.300000      5.100000     1.800000\n",
       "max        7.900000     4.400000      6.900000     2.500000"
      ]
     },
     "execution_count": 121,
     "metadata": {},
     "output_type": "execute_result"
    }
   ],
   "source": [
    "X.describe()"
   ]
  },
  {
   "cell_type": "code",
   "execution_count": 122,
   "id": "3196c64c-a979-44a5-b89d-4717e5fa0990",
   "metadata": {
    "tags": []
   },
   "outputs": [
    {
     "data": {
      "text/plain": [
       "0      0\n",
       "1      0\n",
       "2      0\n",
       "3      0\n",
       "4      0\n",
       "      ..\n",
       "145    2\n",
       "146    2\n",
       "147    2\n",
       "148    2\n",
       "149    2\n",
       "Name: species_encoded, Length: 147, dtype: int64"
      ]
     },
     "execution_count": 122,
     "metadata": {},
     "output_type": "execute_result"
    }
   ],
   "source": [
    "Y"
   ]
  },
  {
   "cell_type": "markdown",
   "id": "07117284-c21c-4c41-a88d-4783e3ab62e5",
   "metadata": {},
   "source": [
    "Now that we seperated our data into target and base feature, we may continue into defining the training and testing datasets"
   ]
  },
  {
   "cell_type": "code",
   "execution_count": 123,
   "id": "916a4211-6b2a-4ace-8eba-78fe6c3f09ef",
   "metadata": {
    "tags": []
   },
   "outputs": [],
   "source": [
    "X_train,X_test,Y_train,Y_test = train_test_split(X,Y, test_size=0.2, random_state=1, shuffle=True)"
   ]
  },
  {
   "cell_type": "markdown",
   "id": "936dc722-2e73-4fec-8def-684fe70ce237",
   "metadata": {},
   "source": [
    "## Normalisation and Standerisation"
   ]
  },
  {
   "cell_type": "code",
   "execution_count": 124,
   "id": "8fd16a2b-6904-466a-9929-7d34d4505c6d",
   "metadata": {
    "tags": []
   },
   "outputs": [],
   "source": [
    "stdscaler = StandardScaler()"
   ]
  },
  {
   "cell_type": "code",
   "execution_count": 125,
   "id": "65b19a48-fb59-45d5-8ef8-40554620b292",
   "metadata": {
    "tags": []
   },
   "outputs": [],
   "source": [
    "X_train = stdscaler.fit_transform(X_train)\n",
    "X_test = stdscaler.fit_transform(X_test)"
   ]
  },
  {
   "cell_type": "markdown",
   "id": "336c724e-0785-49c2-ad35-71d6c0682bd8",
   "metadata": {
    "tags": []
   },
   "source": [
    "# Classification models"
   ]
  },
  {
   "cell_type": "code",
   "execution_count": 129,
   "id": "9fa60b91-7881-4c05-865a-9c37197cf140",
   "metadata": {
    "tags": []
   },
   "outputs": [],
   "source": [
    "from sklearn.metrics import r2_score, roc_auc_score, roc_curve, precision_score, accuracy_score, confusion_matrix, classification_report\n",
    "from sklearn.model_selection import GridSearchCV"
   ]
  },
  {
   "cell_type": "markdown",
   "id": "21ee4632-19b1-4967-a79d-28abb2d20a8c",
   "metadata": {
    "tags": []
   },
   "source": [
    "## K-Nearest Neighbors (KNN) for Classification"
   ]
  },
  {
   "cell_type": "code",
   "execution_count": 131,
   "id": "79b86469-7a7d-4e73-837a-ed8a7f388768",
   "metadata": {
    "tags": []
   },
   "outputs": [],
   "source": [
    "from sklearn.neighbors import KNeighborsClassifier"
   ]
  },
  {
   "cell_type": "markdown",
   "id": "7530bb07-b0da-4736-b756-f5190484f993",
   "metadata": {
    "tags": []
   },
   "source": [
    "K-Nearest Neighbors (KNN) is a simple and versatile supervised machine learning algorithm for classification tasks. It classifies data points based on the similarity to their nearest neighbors in the feature space. Here's a breakdown of how it works:\n",
    "\n",
    "**1. Training:**\n",
    "\n",
    "* The KNN algorithm doesn't explicitly learn a model from the training data. Instead, it stores all the training data points.\n",
    "\n",
    "**2. Classification:**\n",
    "\n",
    "* When a new data point (unknown class) arrives, KNN calculates the distance between the new point and all the data points in the training set using a distance metric like Euclidean distance.\n",
    "* The algorithm then identifies the **k** nearest neighbors (most similar data points) to the new point based on the calculated distances.\n",
    "* KNN assigns the class label that is most frequent among these k nearest neighbors to the new data point.\n",
    "\n",
    "**Key aspects of KNN:**\n",
    "\n",
    "* **k**: This is a user-defined parameter that determines the number of nearest neighbors to consider during classification. Choosing the optimal k value is crucial for KNN's performance.\n",
    "* **Distance Metric**: This metric defines how to measure the similarity between data points. Euclidean distance is a common choice, but other options exist depending on the data.\n",
    "\n",
    "**Advantages of KNN:**\n",
    "\n",
    "* **Simple and easy to understand:** KNN is a conceptually straightforward algorithm, making it easy to implement and interpret.\n",
    "* **Effective for various data types:** KNN can work with various data types, including numerical and categorical data.\n",
    "* **No training needed in the traditional sense:** Since KNN stores the training data, it doesn't require complex model fitting procedures.\n",
    "\n",
    "**Disadvantages of KNN:**\n",
    "\n",
    "* **High memory usage:** Storing all the training data can be memory-intensive for large datasets.\n",
    "* **Sensitive to k**: Choosing the optimal k value can significantly impact performance. Experimentation is often needed.\n",
    "* **Computationally expensive for classification:** Classifying new data points involves calculating distances to all training points, which can be slow for large datasets."
   ]
  },
  {
   "cell_type": "markdown",
   "id": "cd4e6aac-ab63-4afb-bd1f-0220722329e5",
   "metadata": {
    "tags": []
   },
   "source": [
    "### a. Hyperparametres"
   ]
  },
  {
   "cell_type": "markdown",
   "id": "f95023a1-0637-48de-a5bf-e786238810d9",
   "metadata": {},
   "source": [
    "The first step in setting up a model, whether for classification, clustering or anything else, is to choose the optimal hyperparameters\n"
   ]
  },
  {
   "cell_type": "code",
   "execution_count": 143,
   "id": "d3d64fed-83fe-46b2-ba18-abda17c48877",
   "metadata": {
    "tags": []
   },
   "outputs": [],
   "source": [
    "neighbors = np.arange(1,11)\n",
    "\n",
    "train_accuracy = np.empty(len(neighbors))\n",
    "test_accuracy = np.empty(len(neighbors))"
   ]
  },
  {
   "cell_type": "code",
   "execution_count": 144,
   "id": "93864edf-8e28-47a1-9b65-9e3b04092f96",
   "metadata": {
    "tags": []
   },
   "outputs": [],
   "source": [
    "for index, i in enumerate(neighbors):\n",
    "    knn = KNeighborsClassifier(n_neighbors=i)\n",
    "    knn.fit(X_train, Y_train)\n",
    "    train_accuracy[index] = knn.score(X_train, Y_train)\n",
    "    test_accuracy[index] = knn.score(X_test, Y_test)\n",
    "    "
   ]
  },
  {
   "cell_type": "code",
   "execution_count": 145,
   "id": "fc12d219-f1de-4188-b249-31c970e35774",
   "metadata": {
    "tags": []
   },
   "outputs": [
    {
     "data": {
      "image/png": "[encoded data removed]",
      "text/plain": [
       "<Figure size 1500x500 with 1 Axes>"
      ]
     },
     "metadata": {},
     "output_type": "display_data"
    }
   ],
   "source": [
    "plt.figure(figsize = (15,5))\n",
    "\n",
    "sns.lineplot(x = neighbors, y = train_accuracy, label = 'train_accuracy')\n",
    "sns.lineplot(x = neighbors, y = test_accuracy, label = 'test_accuracy')\n",
    "\n",
    "plt.show()"
   ]
  },
  {
   "cell_type": "markdown",
   "id": "bb62c8d3-a699-4f89-9395-f677d463db57",
   "metadata": {},
   "source": [
    "    lets take for example k = 4, we'll se if this value is optimal later on in the optimisation chapter"
   ]
  },
  {
   "cell_type": "markdown",
   "id": "9cb00ce2-30f9-4474-a0ee-7b84f230a73e",
   "metadata": {},
   "source": [
    "### Testing the model with k = 4 "
   ]
  },
  {
   "cell_type": "code",
   "execution_count": 146,
   "id": "b4386f37-a51b-4e15-bce8-316c9d2f0eac",
   "metadata": {
    "tags": []
   },
   "outputs": [],
   "source": [
    "knn = KNeighborsClassifier(n_neighbors=4)"
   ]
  },
  {
   "cell_type": "code",
   "execution_count": 147,
   "id": "f76e5485-d1a0-429e-9f44-00d26d2a53f0",
   "metadata": {
    "tags": []
   },
   "outputs": [
    {
     "data": {
      "text/html": [
       "<style>#sk-container-id-1 {color: black;}#sk-container-id-1 pre{padding: 0;}#sk-container-id-1 div.sk-toggleable {background-color: white;}#sk-container-id-1 label.sk-toggleable__label {cursor: pointer;display: block;width: 100%;margin-bottom: 0;padding: 0.3em;box-sizing: border-box;text-align: center;}#sk-container-id-1 label.sk-toggleable__label-arrow:before {content: \"▸\";float: left;margin-right: 0.25em;color: #696969;}#sk-container-id-1 label.sk-toggleable__label-arrow:hover:before {color: black;}#sk-container-id-1 div.sk-estimator:hover label.sk-toggleable__label-arrow:before {color: black;}#sk-container-id-1 div.sk-toggleable__content {max-height: 0;max-width: 0;overflow: hidden;text-align: left;background-color: #f0f8ff;}#sk-container-id-1 div.sk-toggleable__content pre {margin: 0.2em;color: black;border-radius: 0.25em;background-color: #f0f8ff;}#sk-container-id-1 input.sk-toggleable__control:checked~div.sk-toggleable__content {max-height: 200px;max-width: 100%;overflow: auto;}#sk-container-id-1 input.sk-toggleable__control:checked~label.sk-toggleable__label-arrow:before {content: \"▾\";}#sk-container-id-1 div.sk-estimator input.sk-toggleable__control:checked~label.sk-toggleable__label {background-color: #d4ebff;}#sk-container-id-1 div.sk-label input.sk-toggleable__control:checked~label.sk-toggleable__label {background-color: #d4ebff;}#sk-container-id-1 input.sk-hidden--visually {border: 0;clip: rect(1px 1px 1px 1px);clip: rect(1px, 1px, 1px, 1px);height: 1px;margin: -1px;overflow: hidden;padding: 0;position: absolute;width: 1px;}#sk-container-id-1 div.sk-estimator {font-family: monospace;background-color: #f0f8ff;border: 1px dotted black;border-radius: 0.25em;box-sizing: border-box;margin-bottom: 0.5em;}#sk-container-id-1 div.sk-estimator:hover {background-color: #d4ebff;}#sk-container-id-1 div.sk-parallel-item::after {content: \"\";width: 100%;border-bottom: 1px solid gray;flex-grow: 1;}#sk-container-id-1 div.sk-label:hover label.sk-toggleable__label {background-color: #d4ebff;}#sk-container-id-1 div.sk-serial::before {content: \"\";position: absolute;border-left: 1px solid gray;box-sizing: border-box;top: 0;bottom: 0;left: 50%;z-index: 0;}#sk-container-id-1 div.sk-serial {display: flex;flex-direction: column;align-items: center;background-color: white;padding-right: 0.2em;padding-left: 0.2em;position: relative;}#sk-container-id-1 div.sk-item {position: relative;z-index: 1;}#sk-container-id-1 div.sk-parallel {display: flex;align-items: stretch;justify-content: center;background-color: white;position: relative;}#sk-container-id-1 div.sk-item::before, #sk-container-id-1 div.sk-parallel-item::before {content: \"\";position: absolute;border-left: 1px solid gray;box-sizing: border-box;top: 0;bottom: 0;left: 50%;z-index: -1;}#sk-container-id-1 div.sk-parallel-item {display: flex;flex-direction: column;z-index: 1;position: relative;background-color: white;}#sk-container-id-1 div.sk-parallel-item:first-child::after {align-self: flex-end;width: 50%;}#sk-container-id-1 div.sk-parallel-item:last-child::after {align-self: flex-start;width: 50%;}#sk-container-id-1 div.sk-parallel-item:only-child::after {width: 0;}#sk-container-id-1 div.sk-dashed-wrapped {border: 1px dashed gray;margin: 0 0.4em 0.5em 0.4em;box-sizing: border-box;padding-bottom: 0.4em;background-color: white;}#sk-container-id-1 div.sk-label label {font-family: monospace;font-weight: bold;display: inline-block;line-height: 1.2em;}#sk-container-id-1 div.sk-label-container {text-align: center;}#sk-container-id-1 div.sk-container {/* jupyter's `normalize.less` sets `[hidden] { display: none; }` but bootstrap.min.css set `[hidden] { display: none !important; }` so we also need the `!important` here to be able to override the default hidden behavior on the sphinx rendered scikit-learn.org. See: https://github.com/scikit-learn/scikit-learn/issues/21755 */display: inline-block !important;position: relative;}#sk-container-id-1 div.sk-text-repr-fallback {display: none;}</style><div id=\"sk-container-id-1\" class=\"sk-top-container\"><div class=\"sk-text-repr-fallback\"><pre>KNeighborsClassifier(n_neighbors=4)</pre><b>In a Jupyter environment, please rerun this cell to show the HTML representation or trust the notebook. <br />On GitHub, the HTML representation is unable to render, please try loading this page with nbviewer.org.</b></div><div class=\"sk-container\" hidden><div class=\"sk-item\"><div class=\"sk-estimator sk-toggleable\"><input class=\"sk-toggleable__control sk-hidden--visually\" id=\"sk-estimator-id-1\" type=\"checkbox\" checked><label for=\"sk-estimator-id-1\" class=\"sk-toggleable__label sk-toggleable__label-arrow\">KNeighborsClassifier</label><div class=\"sk-toggleable__content\"><pre>KNeighborsClassifier(n_neighbors=4)</pre></div></div></div></div></div>"
      ],
      "text/plain": [
       "KNeighborsClassifier(n_neighbors=4)"
      ]
     },
     "execution_count": 147,
     "metadata": {},
     "output_type": "execute_result"
    }
   ],
   "source": [
    "knn.fit(X_train, Y_train)"
   ]
  },
  {
   "cell_type": "code",
   "execution_count": null,
   "id": "973fff70-4fbc-4553-9535-87da4035b07a",
   "metadata": {},
   "outputs": [],
   "source": []
  },
  {
   "cell_type": "code",
   "execution_count": 148,
   "id": "77863735-4d0d-464f-a6fb-0dfc35da6d08",
   "metadata": {
    "tags": []
   },
   "outputs": [],
   "source": [
    "knn_pred = knn.predict(X_test)"
   ]
  },
  {
   "cell_type": "code",
   "execution_count": 158,
   "id": "56228cd2-e18d-454c-823d-b1e223cddd50",
   "metadata": {
    "tags": []
   },
   "outputs": [
    {
     "name": "stdout",
     "output_type": "stream",
     "text": [
      "The score of the model KNN with K = 4 is :  0.9333\n"
     ]
    }
   ],
   "source": [
    "print('The score of the model KNN with K = 4 is : ', round(knn.score(X_test, Y_test), 4))"
   ]
  },
  {
   "cell_type": "markdown",
   "id": "4e133e2a-b0ae-4567-a88c-b2d22ad1ddc5",
   "metadata": {},
   "source": [
    "### Confusion matrix "
   ]
  },
  {
   "cell_type": "code",
   "execution_count": 163,
   "id": "7a9d5ee5-4325-421c-937d-b58d69b1095b",
   "metadata": {
    "tags": []
   },
   "outputs": [
    {
     "data": {
      "image/png": "[encoded data removed]",
      "text/plain": [
       "<Figure size 1000x500 with 2 Axes>"
      ]
     },
     "metadata": {},
     "output_type": "display_data"
    }
   ],
   "source": [
    "plt.figure(figsize = (10,5))\n",
    "\n",
    "sns.heatmap(confusion_matrix(Y_test, knn_pred), annot = True, fmt = '.2f', cmap = palettes[8])\n",
    "plt.xlabel('Predicted values')\n",
    "plt.ylabel('Actual values')\n",
    "\n",
    "plt.title('Confusion matrix for the KNN (n_neighbors = 4, metric = minkowsi) model')\n",
    "plt.show()"
   ]
  },
  {
   "cell_type": "markdown",
   "id": "af210980-c99e-4f4a-a73e-9f184d76f624",
   "metadata": {
    "tags": []
   },
   "source": [
    "### ROC Curve"
   ]
  },
  {
   "cell_type": "markdown",
   "id": "e5711d70-cd91-4941-a338-7aba706fac27",
   "metadata": {
    "tags": []
   },
   "source": [
    "**The ROC (Receiver Operating Characteristic) curve illustrates the performance of a binary classification model as a function of different decision thresholds. It plots the true positive rate (sensitivity) against the false positive rate (1 - specificity) as the threshold for classifying positive instances varies.**\n",
    "\n",
    "**The main aspects of the ROC curve are as follows:**\n",
    "\n",
    "* **The curve illustrates the balance between correctly identifying positive instances (sensitivity) and correctly rejecting negative instances (specificity). Any improvement in sensitivity is generally accompanied by a decrease in specificity.**\n",
    "* **Accuracy assessment:** A well-performing model will have a curve that closely follows the upper and left boundaries of the ROC space. This indicates greater overall accuracy for different threshold levels.\n",
    "* **Comparison with the diagonal line:** The proximity of the curve to the 45-degree diagonal line, which represents chance, serves as an indicator of the model's discrimination ability. A closer proximity to this line indicates reduced accuracy, with the model's performance approaching that of a random guess.\n",
    "* **Area Under the Curve (AUC):** The AUC quantifies the overall accuracy of the model. A higher AUC value signifies better discrimination between positive and negative instances over different thresholds, with a perfect classifier yielding an AUC of 1.\n",
    "\n",
    "**In addition to the above, here are some other key points about ROC curves:**\n",
    "\n",
    "* The ROC curve is a graphical representation of the trade-off between sensitivity and specificity.\n",
    "* The AUC is a single-number summary of the ROC curve.\n",
    "* The AUC can be used to compare the performance of different models.\n",
    "* The ROC curve can be used to select a decision threshold that optimizes the performance of a model for a specific application."
   ]
  },
  {
   "cell_type": "code",
   "execution_count": null,
   "id": "2d0b52b3-e67e-489e-b761-de1aaad8c7ed",
   "metadata": {
    "tags": []
   },
   "outputs": [],
   "source": []
  },
  {
   "cell_type": "code",
   "execution_count": null,
   "id": "a81c1cba-f349-4bd9-98e2-4feace55b9ff",
   "metadata": {
    "tags": []
   },
   "outputs": [],
   "source": []
  },
  {
   "cell_type": "code",
   "execution_count": null,
   "id": "78dd8a7d-7ec9-494f-a565-c287f43b472f",
   "metadata": {
    "tags": []
   },
   "outputs": [],
   "source": []
  },
  {
   "cell_type": "code",
   "execution_count": null,
   "id": "0160da49-8294-43c9-9ee2-e8eefe10210e",
   "metadata": {},
   "outputs": [],
   "source": []
  }
 ],
 "metadata": {
  "kernelspec": {
   "display_name": "Python 3 (ipykernel)",
   "language": "python",
   "name": "python3"
  },
  "language_info": {
   "codemirror_mode": {
    "name": "ipython",
    "version": 3
   },
   "file_extension": ".py",
   "mimetype": "text/x-python",
   "name": "python",
   "nbconvert_exporter": "python",
   "pygments_lexer": "ipython3",
   "version": "3.11.5"
  }
 },
 "nbformat": 4,
 "nbformat_minor": 5
}
