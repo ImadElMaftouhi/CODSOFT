{
 "cells": [
  {
   "cell_type": "markdown",
   "metadata": {
    "tags": []
   },
   "source": [
    "# TITANIC SURIVAL PREDICTION\n",
    "## Data set:\n",
    "In the early hours of April 15, 1912, the RMS Titanic, a luxurious ocean liner hailed as \"unsinkable,\" met a tragic fate in the icy waters of the North Atlantic. On its maiden voyage from Southampton to New York City, the ship collided with an iceberg, tearing open its hull and sealing the fate of over 1,500 passengers and crew.\n",
    "\n",
    "Despite being equipped with advanced safety features, including watertight compartments and wireless telegraphy, the Titanic's catastrophic sinking shocked the world and sparked sweeping reforms in maritime safety standards. This iconic disaster serves as a stark reminder of the frailty of human endeavors in the face of nature's unyielding force.\n",
    "\n",
    "#### Data Set Source : https://www.kaggle.com/datasets/yasserh/titanic-dataset\n",
    "\n",
    "## Study's goal : \n",
    "    Determine if a passenger survived the horrible disaster or not based on feature like: Age, Genre, Social status...\n",
    "\n",
    "## Documentes structure:\n",
    "1. Data collection\n",
    "2. Data preprocessing/preparation\n",
    "3. Modele construction and implemention \n",
    "4. Evaluation of the modele and optimisation\n",
    "    \n",
    "    "
   ]
  },
  {
   "cell_type": "markdown",
   "metadata": {
    "tags": []
   },
   "source": [
    "# 1. Data Colletion\n",
    "## 1.1. Importing \n",
    "To handle the data set, we tend to use two famous libraries: \n",
    "\n",
    "    Pandas: A powerful Python library for data manipulation and analysis, offering data structures like DataFrame for easy handling of structured data.\n",
    "\n",
    "    NumPy: The fundamental package for numerical computing in Python, providing support for large, multi-dimensional arrays and matrices, along with a wide range of mathematical functions.\n",
    "    \n",
    "    Matplotlib.pyplot: A module within the Matplotlib library that provides a MATLAB-like interface for creating static, interactive, and publication-quality visualizations in Python, facilitating the creation of plots, charts, histograms, and more."
   ]
  },
  {
   "cell_type": "code",
   "execution_count": 2,
   "metadata": {
    "tags": []
   },
   "outputs": [
    {
     "name": "stderr",
     "output_type": "stream",
     "text": [
      "/tmp/ipykernel_38358/2151744951.py:1: DeprecationWarning: \n",
      "Pyarrow will become a required dependency of pandas in the next major release of pandas (pandas 3.0),\n",
      "(to allow more performant data types, such as the Arrow string type, and better interoperability with other libraries)\n",
      "but was not found to be installed on your system.\n",
      "If this would cause problems for you,\n",
      "please provide us feedback at https://github.com/pandas-dev/pandas/issues/54466\n",
      "        \n",
      "  import pandas as pd\n"
     ]
    }
   ],
   "source": [
    "import pandas as pd\n",
    "import numpy as np\n",
    "import matplotlib.pyplot as plt"
   ]
  },
  {
   "cell_type": "markdown",
   "metadata": {},
   "source": [
    "### showcase the version of the libraries imported\n"
   ]
  },
  {
   "cell_type": "code",
   "execution_count": 3,
   "metadata": {
    "tags": []
   },
   "outputs": [
    {
     "name": "stdout",
     "output_type": "stream",
     "text": [
      "Pandas version:  2.2.0\n",
      "NumPy version:  1.26.4\n",
      "Matplotlib version:  3.8.3\n"
     ]
    }
   ],
   "source": [
    "print('Pandas version: ',pd.__version__)\n",
    "print('NumPy version: ',np.__version__)\n",
    "print(\"Matplotlib version: \", plt.matplotlib.__version__)"
   ]
  },
  {
   "cell_type": "markdown",
   "metadata": {},
   "source": [
    "### Different methods of importing data using pandas library:\n",
    "    1. pandas.read_csv() ; to read .csv type files.\n",
    "    2. pandas.read_json() ; to read Jason type files.\n",
    "    3. pandas.read_excel() ; to read .xls/Excel speadcheet type of files.\n",
    "    4. pandas.read_html() ; to read html type of documents and files"
   ]
  },
  {
   "cell_type": "code",
   "execution_count": 5,
   "metadata": {},
   "outputs": [],
   "source": [
    "df = pd.read_csv(\"Titanic-Dataset.csv\")"
   ]
  },
  {
   "cell_type": "markdown",
   "metadata": {},
   "source": [
    "    This function make's it possible to import the data fromthe csv file and transform into a instances of class <DataFrame>\n",
    "    \n",
    "    Pandas DataFrame: In a Nutshell\n",
    "        1. Core structure for data in Pandas.\n",
    "\n",
    "        2. Think spreadsheet: rows & columns with labels.\n",
    "\n",
    "        3. Holds various data types: numbers, text, etc.\n",
    "\n",
    "        4. Efficient data manipulation & analysis.\n",
    "\n",
    "        5. Foundation for data science workflows.\n",
    "\n"
   ]
  },
  {
   "cell_type": "markdown",
   "metadata": {},
   "source": []
  }
 ],
 "metadata": {
  "kernelspec": {
   "display_name": "Python 3 (ipykernel)",
   "language": "python",
   "name": "python3"
  },
  "language_info": {
   "codemirror_mode": {
    "name": "ipython",
    "version": 3
   },
   "file_extension": ".py",
   "mimetype": "text/x-python",
   "name": "python",
   "nbconvert_exporter": "python",
   "pygments_lexer": "ipython3",
   "version": "3.10.12"
  }
 },
 "nbformat": 4,
 "nbformat_minor": 4
}
