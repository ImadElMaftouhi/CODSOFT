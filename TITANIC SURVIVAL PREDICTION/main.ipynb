{
 "cells": [
  {
   "cell_type": "markdown",
   "metadata": {
    "tags": []
   },
   "source": [
    "# TITANIC SURIVAL PREDICTION\n",
    "## Data set:\n",
    "In the early hours of April 15, 1912, the RMS Titanic, a luxurious ocean liner hailed as \"unsinkable,\" met a tragic fate in the icy waters of the North Atlantic. On its maiden voyage from Southampton to New York City, the ship collided with an iceberg, tearing open its hull and sealing the fate of over 1,500 passengers and crew.\n",
    "\n",
    "Despite being equipped with advanced safety features, including watertight compartments and wireless telegraphy, the Titanic's catastrophic sinking shocked the world and sparked sweeping reforms in maritime safety standards. This iconic disaster serves as a stark reminder of the frailty of human endeavors in the face of nature's unyielding force.\n",
    "\n",
    "#### Data Set Source : https://www.kaggle.com/datasets/yasserh/titanic-dataset\n",
    "\n",
    "## Study's goal : \n",
    "    Determine if a passenger survived the horrible disaster or not based on feature like: Age, Genre, Social status...\n",
    "\n",
    "## Documentes structure:\n",
    "1. Data collection\n",
    "2. Data preprocessing/preparation\n",
    "3. Modele construction and implemention \n",
    "4. Evaluation of the modele and optimisation\n",
    "    \n",
    "    "
   ]
  },
  {
   "cell_type": "markdown",
   "metadata": {
    "tags": []
   },
   "source": [
    "# 1. Data Colletion\n",
    "To handle the data set, we tend to use two famous libraries: \n",
    "\n",
    "    Pandas: A powerful Python library for data manipulation and analysis, offering data structures like DataFrame for easy handling of structured data.\n",
    "\n",
    "    NumPy: The fundamental package for numerical computing in Python, providing support for large, multi+dimensional arrays and matrices, along with a wide range of mathematical functions.\n",
    "    \n",
    "    Matplotlib.pyplot: A module within the Matplotlib library that provides a MATLAB+like interface for creating static, interactive, and publication+quality visualizations in Python, facilitating the creation of plots, charts, histograms, and more."
   ]
  },
  {
   "cell_type": "code",
   "execution_count": 11,
   "metadata": {
    "tags": []
   },
   "outputs": [],
   "source": [
    "import pandas as pd\n",
    "import numpy as np\n",
    "import matplotlib.pyplot as plt"
   ]
  },
  {
   "cell_type": "markdown",
   "metadata": {
    "tags": []
   },
   "source": [
    "### showcase the version of the libraries imported\n"
   ]
  },
  {
   "cell_type": "code",
   "execution_count": 12,
   "metadata": {
    "tags": []
   },
   "outputs": [
    {
     "name": "stdout",
     "output_type": "stream",
     "text": [
      "Pandas version:  2.0.3\n",
      "NumPy version:  1.24.3\n",
      "Matplotlib version:  3.7.2\n"
     ]
    }
   ],
   "source": [
    "print('Pandas version: ',pd.__version__)\n",
    "print('NumPy version: ',np.__version__)\n",
    "print(\"Matplotlib version: \", plt.matplotlib.__version__)"
   ]
  },
  {
   "cell_type": "markdown",
   "metadata": {},
   "source": [
    "### Different methods of importing data using pandas library:\n",
    "    1. pandas.read_csv() ; to read .csv type files.\n",
    "    2. pandas.read_json() ; to read Jason type files.\n",
    "    3. pandas.read_excel() ; to read .xls/Excel speadcheet type of files.\n",
    "    4. pandas.read_html() ; to read html type of documents and files"
   ]
  },
  {
   "cell_type": "code",
   "execution_count": 13,
   "metadata": {
    "tags": []
   },
   "outputs": [],
   "source": [
    "df = pd.read_csv(\"Titanic-Dataset.csv\")"
   ]
  },
  {
   "cell_type": "markdown",
   "metadata": {},
   "source": [
    "    The function pd.read_csv() makes it possible to import and convert type from .csv file into a instances of class <dataframe>\n",
    "    \n",
    "    Pandas DataFrame: In a Nutshell\n",
    "\n",
    "        Core structure for data in Pandas.\n",
    "\n",
    "        Think spreadsheet: rows & columns with labels.\n",
    "\n",
    "        Holds various data types: numbers, text, etc.\n",
    "\n",
    "        Efficient data manipulation & analysis.\n",
    "\n",
    "        Foundation for data science workflows.  "
   ]
  },
  {
   "cell_type": "markdown",
   "metadata": {},
   "source": [
    "# 2. Data visualization \n",
    "## 2.1 Brief description of the data set and a summary of its attributes : \n",
    "In this step, I'll try to explain the different dimensions and aspect of the dataset, including the different columns, number of entries, search for null values and much more.\n",
    "    "
   ]
  },
  {
   "cell_type": "markdown",
   "metadata": {
    "tags": []
   },
   "source": [
    "### The method `df.columns` select all the columns that exist in our database, then the method `to_list()` transforms those selected columns into a list to make them more preseantable "
   ]
  },
  {
   "cell_type": "code",
   "execution_count": 20,
   "metadata": {
    "tags": []
   },
   "outputs": [
    {
     "name": "stdout",
     "output_type": "stream",
     "text": [
      "\n",
      " The different columns of the set are : \n",
      "\n",
      " ['PassengerId', 'Survived', 'Pclass', 'Name', 'Sex', 'Age', 'SibSp', 'Parch', 'Ticket', 'Fare', 'Cabin', 'Embarked'] \n",
      "\n"
     ]
    }
   ],
   "source": [
    "print('\\n The different columns of the set are : \\n\\n', df.columns.to_list(), '\\n')"
   ]
  },
  {
   "cell_type": "markdown",
   "metadata": {},
   "source": [
    "## 2.3 Dataset variable and definitions: \n",
    "The titanic dataset gives you information about multiple people like their ages, sexes, sibling counts, embarkment points and whether or not they survived the disaster. Based on these features, we have to predict if an arbitrary passenger on Titanic would survive the sinking.\n",
    "Generally, we can divide the data into two main categories:\n",
    " + Numerical data : Which is basically data that is repsresented by number.\n",
    "     - Discret numerical data : Data is formed entirely by integer values, either positive or negative.\n",
    "     - Real values numerical data : Data is formed either from integer, of float/real values and possibly complexe numbers\n",
    " + descriptifs data : This is data that are presented as text or string values, like the color of the eyes ( Blue, Red, Black, ...), Gender of a person...  "
   ]
  },
  {
   "cell_type": "code",
   "execution_count": 21,
   "metadata": {
    "tags": []
   },
   "outputs": [
    {
     "name": "stdout",
     "output_type": "stream",
     "text": [
      "<class 'pandas.core.frame.DataFrame'>\n",
      "RangeIndex: 891 entries, 0 to 890\n",
      "Data columns (total 12 columns):\n",
      " #   Column       Non-Null Count  Dtype  \n",
      "---  ------       --------------  -----  \n",
      " 0   PassengerId  891 non-null    int64  \n",
      " 1   Survived     891 non-null    int64  \n",
      " 2   Pclass       891 non-null    int64  \n",
      " 3   Name         891 non-null    object \n",
      " 4   Sex          891 non-null    object \n",
      " 5   Age          714 non-null    float64\n",
      " 6   SibSp        891 non-null    int64  \n",
      " 7   Parch        891 non-null    int64  \n",
      " 8   Ticket       891 non-null    object \n",
      " 9   Fare         891 non-null    float64\n",
      " 10  Cabin        204 non-null    object \n",
      " 11  Embarked     889 non-null    object \n",
      "dtypes: float64(2), int64(5), object(5)\n",
      "memory usage: 83.7+ KB\n"
     ]
    }
   ],
   "source": [
    "df.info()"
   ]
  },
  {
   "cell_type": "markdown",
   "metadata": {},
   "source": []
  }
 ],
 "metadata": {
  "kernelspec": {
   "display_name": "Python 3 (ipykernel)",
   "language": "python",
   "name": "python3"
  },
  "language_info": {
   "codemirror_mode": {
    "name": "ipython",
    "version": 3
   },
   "file_extension": ".py",
   "mimetype": "text/x-python",
   "name": "python",
   "nbconvert_exporter": "python",
   "pygments_lexer": "ipython3",
   "version": "3.10.12"
  }
 },
 "nbformat": 4,
 "nbformat_minor": 4
}
